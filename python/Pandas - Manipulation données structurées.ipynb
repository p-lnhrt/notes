{
 "cells": [
  {
   "cell_type": "markdown",
   "metadata": {},
   "source": [
    "# ```pandas```"
   ]
  },
  {
   "cell_type": "markdown",
   "metadata": {},
   "source": [
    "### Voir : https://www.dataquest.io/blog/settingwithcopywarning/"
   ]
  },
  {
   "cell_type": "markdown",
   "metadata": {},
   "source": [
    "Les trois principales strucutres de données pandas (Series, DataFrame et Panel) sont subsettables à l'aide de leurs index. Subsetter un objet avec un seul élément d'index revoie un objet de la dimension inférieure : subsetter une Series renvoie un scalaire (une liste ? un array ?), subsetter un DataFrame renvoie une Series, etc. Sinon on reste sur le même type d'objet. \n",
    "\n",
    "Attention : \n",
    "```df.loc[:,'a']``` retourne une Series (single label)\n",
    "```df.loc[:,['a']]``` retourne un DataFrame (list of labels)\n",
    "\n",
    "Trois principales méthodes sont à la disposition de l'utilisateur. Chacune jusqu'à un indexer (appelé aussi *axe accessor*) par dimension en argument : \n",
    "* ```loc``` qui permet une sélection à l'aide de labels\n",
    "* ```iloc``` qui permet une sélection à l'aide d'entiers\n",
    "* ```[]``` qui correspond en fait à un alias pour ```__getitem__```. Comment se situe-t-il par rapport aux deux autres.\n",
    "\n",
    "On peut globalement passer aux deux premiers : soit un label simple ou une liste de labels (respectivement d'entiers), un objet slice de labels (respectivement d'entiers), un tableau de booléens ou depuis pandas 0.18, un objet callable prenant en argument l'objet qui l'appelle (le DataFrame, la Series, etc.) et retournant un des types d'objets précités.\n",
    "\n",
    "En particulier, la slice nulle ```:``` est très utilisée pour signifier qu'on souhaite garder l'ensemble d'une dimension. Ex : ```df.iloc[1,:]```\n",
    "\n",
    "Pour un DataFrame, le subsetting s'écrira : ```df[indexer, indexer]``` ou ```df.loc[indexer, indexer]``` ou ```df.iloc[indexer, indexer]```.\n",
    "\n",
    "Remarque : ```loc``` et ```iloc``` sont en fait des attributs de l'objet Series / DataFrame / Panel.\n",
    "\n",
    "Autres attributs utiles pour les DataFrames: \n",
    "* ```index``` : retourne les labels des lignes (l'index) (objet pandas.core.indexes.range.RangeIndex)\n",
    "* ```columns``` : retourne les labels des colonnes (objet pandas.core.indexes.range.RangeIndex). Si on veut juste la liste des noms de colonne, utiliser simplement ```list(df)```.\n",
    "* ```dtypes``` : retourne des colonnes du DataFrame sous la forme d'une Series indexée par les noms (labels) des colonnes.\n",
    "* ```shape``` : retourne un tuple rassemblant le nombre de lignes et de colonnes. \n",
    "* ```values``` : retourne une représentation numpy du DataFrame (numpy.ndarray)"
   ]
  },
  {
   "cell_type": "code",
   "execution_count": 1,
   "metadata": {
    "collapsed": true
   },
   "outputs": [],
   "source": [
    "import pandas as pd\n",
    "import numpy as np"
   ]
  },
  {
   "cell_type": "code",
   "execution_count": 2,
   "metadata": {
    "collapsed": false
   },
   "outputs": [
    {
     "data": {
      "text/html": [
       "<div>\n",
       "<style scoped>\n",
       "    .dataframe tbody tr th:only-of-type {\n",
       "        vertical-align: middle;\n",
       "    }\n",
       "\n",
       "    .dataframe tbody tr th {\n",
       "        vertical-align: top;\n",
       "    }\n",
       "\n",
       "    .dataframe thead th {\n",
       "        text-align: right;\n",
       "    }\n",
       "</style>\n",
       "<table border=\"1\" class=\"dataframe\">\n",
       "  <thead>\n",
       "    <tr style=\"text-align: right;\">\n",
       "      <th></th>\n",
       "      <th>a</th>\n",
       "      <th>b</th>\n",
       "      <th>c</th>\n",
       "    </tr>\n",
       "  </thead>\n",
       "  <tbody>\n",
       "    <tr>\n",
       "      <th>0</th>\n",
       "      <td>0</td>\n",
       "      <td>0.0</td>\n",
       "      <td>f</td>\n",
       "    </tr>\n",
       "    <tr>\n",
       "      <th>1</th>\n",
       "      <td>1</td>\n",
       "      <td>1.5</td>\n",
       "      <td>e</td>\n",
       "    </tr>\n",
       "    <tr>\n",
       "      <th>2</th>\n",
       "      <td>2</td>\n",
       "      <td>2.3</td>\n",
       "      <td>s</td>\n",
       "    </tr>\n",
       "    <tr>\n",
       "      <th>3</th>\n",
       "      <td>3</td>\n",
       "      <td>3.2</td>\n",
       "      <td>v</td>\n",
       "    </tr>\n",
       "  </tbody>\n",
       "</table>\n",
       "</div>"
      ],
      "text/plain": [
       "   a    b  c\n",
       "0  0  0.0  f\n",
       "1  1  1.5  e\n",
       "2  2  2.3  s\n",
       "3  3  3.2  v"
      ]
     },
     "execution_count": 2,
     "metadata": {},
     "output_type": "execute_result"
    }
   ],
   "source": [
    "df = pd.DataFrame({'a' : [0,1,2,3], 'b' : [0.0,1.5,2.3,3.2], 'c' : ['f','e','s','v']})\n",
    "df"
   ]
  },
  {
   "cell_type": "markdown",
   "metadata": {},
   "source": [
    "### Entier simple, liste d'entiers ou slice d'entiers"
   ]
  },
  {
   "cell_type": "code",
   "execution_count": 3,
   "metadata": {
    "collapsed": false
   },
   "outputs": [
    {
     "data": {
      "text/plain": [
       "0    0.0\n",
       "1    1.5\n",
       "2    2.3\n",
       "3    3.2\n",
       "Name: b, dtype: float64"
      ]
     },
     "execution_count": 3,
     "metadata": {},
     "output_type": "execute_result"
    }
   ],
   "source": [
    "df.iloc[:,1] # renvoie une (pandas.core.series.) Series"
   ]
  },
  {
   "cell_type": "code",
   "execution_count": 4,
   "metadata": {
    "collapsed": false,
    "scrolled": true
   },
   "outputs": [
    {
     "data": {
      "text/html": [
       "<div>\n",
       "<style scoped>\n",
       "    .dataframe tbody tr th:only-of-type {\n",
       "        vertical-align: middle;\n",
       "    }\n",
       "\n",
       "    .dataframe tbody tr th {\n",
       "        vertical-align: top;\n",
       "    }\n",
       "\n",
       "    .dataframe thead th {\n",
       "        text-align: right;\n",
       "    }\n",
       "</style>\n",
       "<table border=\"1\" class=\"dataframe\">\n",
       "  <thead>\n",
       "    <tr style=\"text-align: right;\">\n",
       "      <th></th>\n",
       "      <th>a</th>\n",
       "      <th>c</th>\n",
       "    </tr>\n",
       "  </thead>\n",
       "  <tbody>\n",
       "    <tr>\n",
       "      <th>0</th>\n",
       "      <td>0</td>\n",
       "      <td>f</td>\n",
       "    </tr>\n",
       "    <tr>\n",
       "      <th>1</th>\n",
       "      <td>1</td>\n",
       "      <td>e</td>\n",
       "    </tr>\n",
       "    <tr>\n",
       "      <th>2</th>\n",
       "      <td>2</td>\n",
       "      <td>s</td>\n",
       "    </tr>\n",
       "    <tr>\n",
       "      <th>3</th>\n",
       "      <td>3</td>\n",
       "      <td>v</td>\n",
       "    </tr>\n",
       "  </tbody>\n",
       "</table>\n",
       "</div>"
      ],
      "text/plain": [
       "   a  c\n",
       "0  0  f\n",
       "1  1  e\n",
       "2  2  s\n",
       "3  3  v"
      ]
     },
     "execution_count": 4,
     "metadata": {},
     "output_type": "execute_result"
    }
   ],
   "source": [
    "df.iloc[:,[0,2]] # renvoie un (pandas.core.frame) DataFrame\n",
    "# Attention / Rappel : l'indexation des lignes comme des colonnes commence à 0"
   ]
  },
  {
   "cell_type": "code",
   "execution_count": 23,
   "metadata": {
    "collapsed": false
   },
   "outputs": [
    {
     "data": {
      "text/plain": [
       "a      1\n",
       "b    1.5\n",
       "c      e\n",
       "Name: 1, dtype: object"
      ]
     },
     "execution_count": 23,
     "metadata": {},
     "output_type": "execute_result"
    }
   ],
   "source": [
    "df.iloc[1] # renvoie une (pandas.core.series.) Series\n",
    "# indentique à \n",
    "df.iloc[1,:]\n",
    "# df.iloc[,1] renvoie en revanche une erreur et n'est donc pas équivalent à df.iloc[:,1]\n",
    "# df.iloc[1,] est en revanche et de façon surprenante (on écrit jamais f(a,) pour ne rien passer au second argument,\n",
    "# on écrit simplement f(a)) valide et identique à df.iloc[1,:]"
   ]
  },
  {
   "cell_type": "code",
   "execution_count": 24,
   "metadata": {
    "collapsed": false
   },
   "outputs": [
    {
     "data": {
      "text/plain": [
       "str"
      ]
     },
     "execution_count": 24,
     "metadata": {},
     "output_type": "execute_result"
    }
   ],
   "source": [
    "df.iloc[1,2] # renvoie un type élémentaire : ce cas particulier correpond au subetting d'un DataFrame puis d'une Series"
   ]
  },
  {
   "cell_type": "code",
   "execution_count": 42,
   "metadata": {
    "collapsed": false
   },
   "outputs": [
    {
     "data": {
      "text/plain": [
       "a      1\n",
       "b    1.5\n",
       "c      e\n",
       "Name: 1, dtype: object"
      ]
     },
     "execution_count": 42,
     "metadata": {},
     "output_type": "execute_result"
    }
   ],
   "source": [
    "df.iloc[1,:]"
   ]
  },
  {
   "cell_type": "markdown",
   "metadata": {},
   "source": [
    "### Array de booléens"
   ]
  },
  {
   "cell_type": "code",
   "execution_count": 85,
   "metadata": {
    "collapsed": false
   },
   "outputs": [
    {
     "data": {
      "text/html": [
       "<div>\n",
       "<style scoped>\n",
       "    .dataframe tbody tr th:only-of-type {\n",
       "        vertical-align: middle;\n",
       "    }\n",
       "\n",
       "    .dataframe tbody tr th {\n",
       "        vertical-align: top;\n",
       "    }\n",
       "\n",
       "    .dataframe thead th {\n",
       "        text-align: right;\n",
       "    }\n",
       "</style>\n",
       "<table border=\"1\" class=\"dataframe\">\n",
       "  <thead>\n",
       "    <tr style=\"text-align: right;\">\n",
       "      <th></th>\n",
       "      <th>a</th>\n",
       "      <th>b</th>\n",
       "      <th>c</th>\n",
       "      <th>d</th>\n",
       "      <th>e</th>\n",
       "    </tr>\n",
       "  </thead>\n",
       "  <tbody>\n",
       "    <tr>\n",
       "      <th>2</th>\n",
       "      <td>12</td>\n",
       "      <td>2.3</td>\n",
       "      <td>s</td>\n",
       "      <td>2</td>\n",
       "      <td>s12</td>\n",
       "    </tr>\n",
       "    <tr>\n",
       "      <th>3</th>\n",
       "      <td>13</td>\n",
       "      <td>3.2</td>\n",
       "      <td>v</td>\n",
       "      <td>3</td>\n",
       "      <td>v13</td>\n",
       "    </tr>\n",
       "  </tbody>\n",
       "</table>\n",
       "</div>"
      ],
      "text/plain": [
       "    a    b  c  d    e\n",
       "2  12  2.3  s  2  s12\n",
       "3  13  3.2  v  3  v13"
      ]
     },
     "execution_count": 85,
     "metadata": {},
     "output_type": "execute_result"
    }
   ],
   "source": [
    "# df.iloc[df['a']>1] not ok car df.iloc[pd.Series([False, False, True, True])] not ok\n",
    "# df.iloc[[False, False, True, True]] ok\n",
    "# df[df['d']>1] ok\n",
    "# df.iloc[np.asarray([False, False, True, True])] ok\n",
    "# df.iloc[pd.Series([False, False, True, True]).values] ok\n",
    "# df.iloc[(df['d']>1).values] ok mais moche\n",
    "# df.loc[(df['d']>1)] ok mais pas pour iloc !!"
   ]
  },
  {
   "cell_type": "markdown",
   "metadata": {},
   "source": [
    "Dataframe : \n",
    "iloc\n",
    "* selections sur les lignes : integer, list of integers, integer slice, boolean array mais pas Series, callable\n",
    "* selection sur les colonnes : idem ci-dessus (à confirmer sur les booléens)\n",
    "\n",
    "loc \n",
    "* selections sur les lignes : label, list of labels, label slice, boolean array ou Series, callable\n",
    "* selections sur les colonnes : label, list of labels, label slice, boolean array ou Series, callable (à confirmer sur les booléens)\n",
    "[]\n",
    "\n",
    " "
   ]
  },
  {
   "cell_type": "code",
   "execution_count": 83,
   "metadata": {
    "collapsed": false
   },
   "outputs": [
    {
     "data": {
      "text/html": [
       "<div>\n",
       "<style scoped>\n",
       "    .dataframe tbody tr th:only-of-type {\n",
       "        vertical-align: middle;\n",
       "    }\n",
       "\n",
       "    .dataframe tbody tr th {\n",
       "        vertical-align: top;\n",
       "    }\n",
       "\n",
       "    .dataframe thead th {\n",
       "        text-align: right;\n",
       "    }\n",
       "</style>\n",
       "<table border=\"1\" class=\"dataframe\">\n",
       "  <thead>\n",
       "    <tr style=\"text-align: right;\">\n",
       "      <th></th>\n",
       "      <th>a</th>\n",
       "      <th>b</th>\n",
       "      <th>c</th>\n",
       "      <th>d</th>\n",
       "      <th>e</th>\n",
       "    </tr>\n",
       "  </thead>\n",
       "  <tbody>\n",
       "    <tr>\n",
       "      <th>0</th>\n",
       "      <td>10</td>\n",
       "      <td>0.0</td>\n",
       "      <td>f</td>\n",
       "      <td>0</td>\n",
       "      <td>f10</td>\n",
       "    </tr>\n",
       "    <tr>\n",
       "      <th>1</th>\n",
       "      <td>11</td>\n",
       "      <td>1.5</td>\n",
       "      <td>e</td>\n",
       "      <td>1</td>\n",
       "      <td>e11</td>\n",
       "    </tr>\n",
       "    <tr>\n",
       "      <th>2</th>\n",
       "      <td>12</td>\n",
       "      <td>2.3</td>\n",
       "      <td>s</td>\n",
       "      <td>2</td>\n",
       "      <td>s12</td>\n",
       "    </tr>\n",
       "    <tr>\n",
       "      <th>3</th>\n",
       "      <td>13</td>\n",
       "      <td>3.2</td>\n",
       "      <td>v</td>\n",
       "      <td>3</td>\n",
       "      <td>v13</td>\n",
       "    </tr>\n",
       "  </tbody>\n",
       "</table>\n",
       "</div>"
      ],
      "text/plain": [
       "    a    b  c  d    e\n",
       "0  10  0.0  f  0  f10\n",
       "1  11  1.5  e  1  e11\n",
       "2  12  2.3  s  2  s12\n",
       "3  13  3.2  v  3  v13"
      ]
     },
     "execution_count": 83,
     "metadata": {},
     "output_type": "execute_result"
    }
   ],
   "source": [
    "df['e'] = df['c'] + df['a'].astype(str)\n",
    "df"
   ]
  },
  {
   "cell_type": "markdown",
   "metadata": {},
   "source": [
    "### Indexes comme attributs\n",
    "S'il est un nom Python valide et qu'il ne rentre pas en conflit avec le nom d'autres attributs ou méthodes, le label d'un index d'une Serie ou le nom de colonne d'un DataFrame (ou le nom d'un item d'un Panel) est ajouté aux attributs de l'objet. On peut alors accéder directement à l'objet sous-jascent.\n",
    "\n",
    "Remarque : pour un DataFrame par exemple, les expressions suivantes renverront une erreur : ```df.1``` ou ```df.min``` car les noms de colonne '1' et 'min' ne consitue pas un identifiant Python valide et crée un conflit respectivement."
   ]
  },
  {
   "cell_type": "code",
   "execution_count": 45,
   "metadata": {
    "collapsed": false
   },
   "outputs": [
    {
     "data": {
      "text/html": [
       "<div>\n",
       "<style scoped>\n",
       "    .dataframe tbody tr th:only-of-type {\n",
       "        vertical-align: middle;\n",
       "    }\n",
       "\n",
       "    .dataframe tbody tr th {\n",
       "        vertical-align: top;\n",
       "    }\n",
       "\n",
       "    .dataframe thead th {\n",
       "        text-align: right;\n",
       "    }\n",
       "</style>\n",
       "<table border=\"1\" class=\"dataframe\">\n",
       "  <thead>\n",
       "    <tr style=\"text-align: right;\">\n",
       "      <th></th>\n",
       "      <th>a</th>\n",
       "      <th>b</th>\n",
       "      <th>c</th>\n",
       "    </tr>\n",
       "  </thead>\n",
       "  <tbody>\n",
       "    <tr>\n",
       "      <th>w</th>\n",
       "      <td>0</td>\n",
       "      <td>0.0</td>\n",
       "      <td>f</td>\n",
       "    </tr>\n",
       "    <tr>\n",
       "      <th>x</th>\n",
       "      <td>1</td>\n",
       "      <td>1.5</td>\n",
       "      <td>e</td>\n",
       "    </tr>\n",
       "    <tr>\n",
       "      <th>y</th>\n",
       "      <td>2</td>\n",
       "      <td>2.3</td>\n",
       "      <td>s</td>\n",
       "    </tr>\n",
       "    <tr>\n",
       "      <th>z</th>\n",
       "      <td>3</td>\n",
       "      <td>3.2</td>\n",
       "      <td>v</td>\n",
       "    </tr>\n",
       "  </tbody>\n",
       "</table>\n",
       "</div>"
      ],
      "text/plain": [
       "   a    b  c\n",
       "w  0  0.0  f\n",
       "x  1  1.5  e\n",
       "y  2  2.3  s\n",
       "z  3  3.2  v"
      ]
     },
     "execution_count": 45,
     "metadata": {},
     "output_type": "execute_result"
    }
   ],
   "source": [
    "dfp = pd.DataFrame({'a' : [0,1,2,3], 'b' : [0.0,1.5,2.3,3.2], 'c' : ['f','e','s','v']}, index = ['w', 'x', 'y', 'z'])\n",
    "dfp"
   ]
  },
  {
   "cell_type": "code",
   "execution_count": 48,
   "metadata": {
    "collapsed": false,
    "scrolled": true
   },
   "outputs": [
    {
     "data": {
      "text/plain": [
       "w    0\n",
       "x    1\n",
       "y    2\n",
       "z    3\n",
       "Name: a, dtype: int64"
      ]
     },
     "execution_count": 48,
     "metadata": {},
     "output_type": "execute_result"
    }
   ],
   "source": [
    "# dfp possède trois attributs supplémentaire permettant d'accéder à chacune de ses colonnes.\n",
    "dfp.a # renvoie une pandas.core.series.Series"
   ]
  },
  {
   "cell_type": "markdown",
   "metadata": {},
   "source": [
    "```dfp.w``` renvoie une erreur car w est un index de ligne et l'identifiant correspondant n'est pas ajouté aux attributs du DataFrame \n",
    "\n",
    "On peut utiliser ces nouveaux attributs pour accéder à et modifier une colonne existante mais pas pour en créer une nouvelle."
   ]
  },
  {
   "cell_type": "code",
   "execution_count": 58,
   "metadata": {
    "collapsed": false
   },
   "outputs": [
    {
     "data": {
      "text/html": [
       "<div>\n",
       "<style scoped>\n",
       "    .dataframe tbody tr th:only-of-type {\n",
       "        vertical-align: middle;\n",
       "    }\n",
       "\n",
       "    .dataframe tbody tr th {\n",
       "        vertical-align: top;\n",
       "    }\n",
       "\n",
       "    .dataframe thead th {\n",
       "        text-align: right;\n",
       "    }\n",
       "</style>\n",
       "<table border=\"1\" class=\"dataframe\">\n",
       "  <thead>\n",
       "    <tr style=\"text-align: right;\">\n",
       "      <th></th>\n",
       "      <th>a</th>\n",
       "      <th>b</th>\n",
       "      <th>c</th>\n",
       "      <th>d</th>\n",
       "    </tr>\n",
       "  </thead>\n",
       "  <tbody>\n",
       "    <tr>\n",
       "      <th>0</th>\n",
       "      <td>10</td>\n",
       "      <td>0.0</td>\n",
       "      <td>f</td>\n",
       "      <td>0</td>\n",
       "    </tr>\n",
       "    <tr>\n",
       "      <th>1</th>\n",
       "      <td>11</td>\n",
       "      <td>1.5</td>\n",
       "      <td>e</td>\n",
       "      <td>1</td>\n",
       "    </tr>\n",
       "    <tr>\n",
       "      <th>2</th>\n",
       "      <td>12</td>\n",
       "      <td>2.3</td>\n",
       "      <td>s</td>\n",
       "      <td>2</td>\n",
       "    </tr>\n",
       "    <tr>\n",
       "      <th>3</th>\n",
       "      <td>13</td>\n",
       "      <td>3.2</td>\n",
       "      <td>v</td>\n",
       "      <td>3</td>\n",
       "    </tr>\n",
       "  </tbody>\n",
       "</table>\n",
       "</div>"
      ],
      "text/plain": [
       "    a    b  c  d\n",
       "0  10  0.0  f  0\n",
       "1  11  1.5  e  1\n",
       "2  12  2.3  s  2\n",
       "3  13  3.2  v  3"
      ]
     },
     "execution_count": 58,
     "metadata": {},
     "output_type": "execute_result"
    }
   ],
   "source": [
    "df.a\n",
    "df.a = range(10,14)\n",
    "# mais df.d = range(3) par exemple va renvoyer une erreur car la colonne d n'existe pas encore, utiliser la forme suivante ou \n",
    "# des formes équivalentes \n",
    "df['d'] = range(4)\n",
    "df"
   ]
  },
  {
   "cell_type": "markdown",
   "metadata": {},
   "source": [
    "Remarque : il existe aussi ```.ix``` mais qui est dépréciée. "
   ]
  },
  {
   "cell_type": "markdown",
   "metadata": {},
   "source": [
    "## ```[ ]``` (alias de ```__getitem__```)\n",
    "\n",
    "Semble dédier à sélectionner une slice de dimension inférieure : \n",
    "* Pour une Series : serie[label] qui va retourner un type simple\n",
    "* Pour un DataFrame : frame[column] qui va retourner une Series\n",
    "* Pour un Panel : panel[item] qui va retourner un DataFrame\n",
    "\n",
    "Dans le cas des DataFrame, on peut lui passer un nom (label de colonne) ce qui nous retournera alors une Series, une liste de noms de colonnes qui nous retournera alors un Dataframe. ```[ ]``` accepte également un *callable* (prenant en arguement la Series ou le DataFrame) et retournant un des objets précédemment cités.\n",
    "\n",
    "```[ ]``` accepte également des slices mais portant uniquement sur l'index (on peut donc slicer avec des entiers mais sans doute aussi avec des datetime) : \n",
    "* Dans le cas d'une Series, on récupère une portion de la Series initiale\n",
    "* Dans le cas d'un DataFrame, on ne sélectionne que sur les lignes et récupère un DataFrame de même nombre de colonnes. Il ne semble pas possible de procéder simultanément à une sélection sur les lignes et les colonnes à l'aide de ```[ ]``` (qui ne semble prendre qu'un argument, à vérifier sur __getitem__). df[0:2, 'a'] renvoie une erreur. \n",
    "\n",
    "Contrairement à ```.loc``` et ```.iloc```, ```[ ]``` n'accepte **pas** comme arguments : \n",
    "* Des entiers seuls ou des listes d'entiers\n",
    "* Des arrays de booléens\n",
    "* Des slices\n",
    "\n",
    "Comment on sélectionne simultanément sur les colonnes et les lignes ? => loc au moins, pas possible avec []\n",
    "Application : Comment on filtre ?"
   ]
  },
  {
   "cell_type": "code",
   "execution_count": 46,
   "metadata": {
    "collapsed": false
   },
   "outputs": [
    {
     "data": {
      "text/html": [
       "<div>\n",
       "<style scoped>\n",
       "    .dataframe tbody tr th:only-of-type {\n",
       "        vertical-align: middle;\n",
       "    }\n",
       "\n",
       "    .dataframe tbody tr th {\n",
       "        vertical-align: top;\n",
       "    }\n",
       "\n",
       "    .dataframe thead th {\n",
       "        text-align: right;\n",
       "    }\n",
       "</style>\n",
       "<table border=\"1\" class=\"dataframe\">\n",
       "  <thead>\n",
       "    <tr style=\"text-align: right;\">\n",
       "      <th></th>\n",
       "      <th>a</th>\n",
       "    </tr>\n",
       "  </thead>\n",
       "  <tbody>\n",
       "    <tr>\n",
       "      <th>0</th>\n",
       "      <td>0</td>\n",
       "    </tr>\n",
       "    <tr>\n",
       "      <th>1</th>\n",
       "      <td>1</td>\n",
       "    </tr>\n",
       "    <tr>\n",
       "      <th>2</th>\n",
       "      <td>2</td>\n",
       "    </tr>\n",
       "    <tr>\n",
       "      <th>3</th>\n",
       "      <td>3</td>\n",
       "    </tr>\n",
       "  </tbody>\n",
       "</table>\n",
       "</div>"
      ],
      "text/plain": [
       "   a\n",
       "0  0\n",
       "1  1\n",
       "2  2\n",
       "3  3"
      ]
     },
     "execution_count": 46,
     "metadata": {},
     "output_type": "execute_result"
    }
   ],
   "source": [
    "ser = df['a']\n",
    "df[['a', 'a', 'b']]\n",
    "df[lambda x : ['a']]\n",
    "df[0:2]\n",
    "df.loc[df['a'] > 0, 'a']\n",
    "df[0:2]\n",
    "df.iloc[0:2]\n",
    "# df.loc['a'] ne marche pas (assignation positionnelle de l'argument à la première dimension et 'a' n'est pas un label de l'index)\n",
    "# pour bien lui faire comprendre qu'on veut la colonne : df.loc[:, 'a'] (si on veut une Series) ou df.loc[:, ['a']] si DF\n",
    "# Idem df['a'] retourne une Series, df[['a']] retourne un DataFrame "
   ]
  },
  {
   "cell_type": "code",
   "execution_count": null,
   "metadata": {
    "collapsed": true
   },
   "outputs": [],
   "source": []
  },
  {
   "cell_type": "markdown",
   "metadata": {},
   "source": [
    "# Slices\n",
    "Principe général\n",
    "Détailler suivant le type d'index : entiers, labels, datetime\n",
    "\n",
    "Pour simplifier, les exemples suivants sont donnés pour le cas d'un objet indexé par des entiers : \n",
    "* Forme générale ```a[start:end]``` : \n",
    "    * ```a[start:end]``` : retourne les valeurs des index start à end-1\n",
    "    * ```a[:end]``` : retourne toutes les valeurs du début de l'index à end-1\n",
    "    * ```a[start:]``` : retourne toutes les valeurs de start à la fin\n",
    "    * ```a[:]``` : copie l'objet ```a```\n",
    "* Les index peuvent aussi être négatifs, on part alors de la fin de l'objet : \n",
    "    * ```a[-2]``` : retourne l'avant-dernière valeur de la série\n",
    "    * ```a[-2:]``` : retourne toutes les valeurs de l'avant-dernière valeur (index -2) à la fin de l'objet\n",
    "    * ```a[:-2]``` : retourne toutes les valeurs du début de la série à l'avant avant-dernière (valeur d'index -2-1=-3) valeur\n",
    "* Forme générale ```a[start:end:step]```. Ex : a[::2] ne renvoie que les valeurs d'index pair.\n",
    "    * Les steps peuvent aussi être négatifs, la série étant en particulier parcourue de droite à gauche, des plus grands indices vers zéro. En particulier, a[::-1] inverse la série de données.\n",
    "\n",
    "Remarque : On peut aussi utiliser le constructeur ```slice```. \n",
    "Ex :  \n",
    "```python\n",
    "last_nine_slice = slice(-9, None)\n",
    "a[last_nine_slice]\n",
    "```\n",
    "\n",
    "Les index peuvent être d'autres types que les entiers. Les objets slice fonctionnent également, Python essayant de convertir les différents éléments définissant de la slice vers le type de l'index (notamment important si on est indexé par des dates ou des datetimes).\n",
    "\n",
    "https://towardsdatascience.com/basic-time-series-manipulation-with-pandas-4432afee64ea"
   ]
  },
  {
   "cell_type": "code",
   "execution_count": 44,
   "metadata": {
    "collapsed": false
   },
   "outputs": [
    {
     "data": {
      "text/plain": [
       "[10, 9, 8, 7, 6, 5, 4, 3, 2, 1]"
      ]
     },
     "execution_count": 44,
     "metadata": {},
     "output_type": "execute_result"
    }
   ],
   "source": [
    "a = range(1,11)\n",
    "a[-2]\n",
    "a[:-2]\n",
    "a[-2:]\n",
    "a[::2]\n",
    "a[::-1]"
   ]
  },
  {
   "cell_type": "code",
   "execution_count": 48,
   "metadata": {
    "collapsed": false
   },
   "outputs": [
    {
     "data": {
      "text/html": [
       "<div>\n",
       "<style scoped>\n",
       "    .dataframe tbody tr th:only-of-type {\n",
       "        vertical-align: middle;\n",
       "    }\n",
       "\n",
       "    .dataframe tbody tr th {\n",
       "        vertical-align: top;\n",
       "    }\n",
       "\n",
       "    .dataframe thead th {\n",
       "        text-align: right;\n",
       "    }\n",
       "</style>\n",
       "<table border=\"1\" class=\"dataframe\">\n",
       "  <thead>\n",
       "    <tr style=\"text-align: right;\">\n",
       "      <th></th>\n",
       "      <th>A</th>\n",
       "    </tr>\n",
       "  </thead>\n",
       "  <tbody>\n",
       "    <tr>\n",
       "      <th>2013-02-01 00:00:00</th>\n",
       "      <td>100000</td>\n",
       "    </tr>\n",
       "    <tr>\n",
       "      <th>2013-02-01 00:01:00</th>\n",
       "      <td>100000</td>\n",
       "    </tr>\n",
       "    <tr>\n",
       "      <th>2013-02-01 00:02:00</th>\n",
       "      <td>100000</td>\n",
       "    </tr>\n",
       "    <tr>\n",
       "      <th>2013-02-01 00:03:00</th>\n",
       "      <td>100000</td>\n",
       "    </tr>\n",
       "    <tr>\n",
       "      <th>2013-02-01 00:04:00</th>\n",
       "      <td>100000</td>\n",
       "    </tr>\n",
       "  </tbody>\n",
       "</table>\n",
       "</div>"
      ],
      "text/plain": [
       "                          A\n",
       "2013-02-01 00:00:00  100000\n",
       "2013-02-01 00:01:00  100000\n",
       "2013-02-01 00:02:00  100000\n",
       "2013-02-01 00:03:00  100000\n",
       "2013-02-01 00:04:00  100000"
      ]
     },
     "execution_count": 48,
     "metadata": {},
     "output_type": "execute_result"
    }
   ],
   "source": [
    "dft = pd.DataFrame(100000,\n",
    "                   columns=['A'],\n",
    "                   index=pd.date_range('20130101',periods=100000,freq='T'))\n",
    "\n",
    "# date_range fait pour ça : renvoie un objet DatetimeIndexDatetimeIndex\n",
    "\n",
    "dft['2013-2':'2013-3'].head()"
   ]
  },
  {
   "cell_type": "code",
   "execution_count": 61,
   "metadata": {
    "collapsed": false
   },
   "outputs": [
    {
     "ename": "TypeError",
     "evalue": "cannot do slice indexing on <class 'pandas.core.indexes.range.RangeIndex'> with these indexers [2013-1] of <type 'str'>",
     "output_type": "error",
     "traceback": [
      "\u001b[1;31m---------------------------------------------------------------------------\u001b[0m",
      "\u001b[1;31mTypeError\u001b[0m                                 Traceback (most recent call last)",
      "\u001b[1;32m<ipython-input-61-f468f5cf581b>\u001b[0m in \u001b[0;36m<module>\u001b[1;34m()\u001b[0m\n\u001b[0;32m      4\u001b[0m \u001b[1;31m# dfd.loc[dfd['time'] < '2018-01'] ne marche pas (dans cette version de pandas au moins) => il faut avoir un objet dt et non str\u001b[0m\u001b[1;33m\u001b[0m\u001b[1;33m\u001b[0m\u001b[0m\n\u001b[0;32m      5\u001b[0m \u001b[0mdfd\u001b[0m\u001b[1;33m.\u001b[0m\u001b[0mset_index\u001b[0m\u001b[1;33m(\u001b[0m\u001b[1;34m'time'\u001b[0m\u001b[1;33m)\u001b[0m\u001b[1;33m\u001b[0m\u001b[0m\n\u001b[1;32m----> 6\u001b[1;33m \u001b[0mdfd\u001b[0m\u001b[1;33m[\u001b[0m\u001b[1;34m'2013-1'\u001b[0m\u001b[1;33m:\u001b[0m\u001b[1;34m'2018-2'\u001b[0m\u001b[1;33m]\u001b[0m\u001b[1;33m\u001b[0m\u001b[0m\n\u001b[0m",
      "\u001b[1;32m/tech/local/anaconda/1/lib/python2.7/site-packages/pandas/core/frame.pyc\u001b[0m in \u001b[0;36m__getitem__\u001b[1;34m(self, key)\u001b[0m\n\u001b[0;32m   2671\u001b[0m \u001b[1;33m\u001b[0m\u001b[0m\n\u001b[0;32m   2672\u001b[0m         \u001b[1;31m# see if we can slice the rows\u001b[0m\u001b[1;33m\u001b[0m\u001b[1;33m\u001b[0m\u001b[0m\n\u001b[1;32m-> 2673\u001b[1;33m         \u001b[0mindexer\u001b[0m \u001b[1;33m=\u001b[0m \u001b[0mconvert_to_index_sliceable\u001b[0m\u001b[1;33m(\u001b[0m\u001b[0mself\u001b[0m\u001b[1;33m,\u001b[0m \u001b[0mkey\u001b[0m\u001b[1;33m)\u001b[0m\u001b[1;33m\u001b[0m\u001b[0m\n\u001b[0m\u001b[0;32m   2674\u001b[0m         \u001b[1;32mif\u001b[0m \u001b[0mindexer\u001b[0m \u001b[1;32mis\u001b[0m \u001b[1;32mnot\u001b[0m \u001b[0mNone\u001b[0m\u001b[1;33m:\u001b[0m\u001b[1;33m\u001b[0m\u001b[0m\n\u001b[0;32m   2675\u001b[0m             \u001b[1;32mreturn\u001b[0m \u001b[0mself\u001b[0m\u001b[1;33m.\u001b[0m\u001b[0m_getitem_slice\u001b[0m\u001b[1;33m(\u001b[0m\u001b[0mindexer\u001b[0m\u001b[1;33m)\u001b[0m\u001b[1;33m\u001b[0m\u001b[0m\n",
      "\u001b[1;32m/tech/local/anaconda/1/lib/python2.7/site-packages/pandas/core/indexing.pyc\u001b[0m in \u001b[0;36mconvert_to_index_sliceable\u001b[1;34m(obj, key)\u001b[0m\n\u001b[0;32m   2324\u001b[0m     \u001b[0midx\u001b[0m \u001b[1;33m=\u001b[0m \u001b[0mobj\u001b[0m\u001b[1;33m.\u001b[0m\u001b[0mindex\u001b[0m\u001b[1;33m\u001b[0m\u001b[0m\n\u001b[0;32m   2325\u001b[0m     \u001b[1;32mif\u001b[0m \u001b[0misinstance\u001b[0m\u001b[1;33m(\u001b[0m\u001b[0mkey\u001b[0m\u001b[1;33m,\u001b[0m \u001b[0mslice\u001b[0m\u001b[1;33m)\u001b[0m\u001b[1;33m:\u001b[0m\u001b[1;33m\u001b[0m\u001b[0m\n\u001b[1;32m-> 2326\u001b[1;33m         \u001b[1;32mreturn\u001b[0m \u001b[0midx\u001b[0m\u001b[1;33m.\u001b[0m\u001b[0m_convert_slice_indexer\u001b[0m\u001b[1;33m(\u001b[0m\u001b[0mkey\u001b[0m\u001b[1;33m,\u001b[0m \u001b[0mkind\u001b[0m\u001b[1;33m=\u001b[0m\u001b[1;34m'getitem'\u001b[0m\u001b[1;33m)\u001b[0m\u001b[1;33m\u001b[0m\u001b[0m\n\u001b[0m\u001b[0;32m   2327\u001b[0m \u001b[1;33m\u001b[0m\u001b[0m\n\u001b[0;32m   2328\u001b[0m     \u001b[1;32melif\u001b[0m \u001b[0misinstance\u001b[0m\u001b[1;33m(\u001b[0m\u001b[0mkey\u001b[0m\u001b[1;33m,\u001b[0m \u001b[0mcompat\u001b[0m\u001b[1;33m.\u001b[0m\u001b[0mstring_types\u001b[0m\u001b[1;33m)\u001b[0m\u001b[1;33m:\u001b[0m\u001b[1;33m\u001b[0m\u001b[0m\n",
      "\u001b[1;32m/tech/local/anaconda/1/lib/python2.7/site-packages/pandas/core/indexes/base.pyc\u001b[0m in \u001b[0;36m_convert_slice_indexer\u001b[1;34m(self, key, kind)\u001b[0m\n\u001b[0;32m   1709\u001b[0m             \"\"\"\n\u001b[0;32m   1710\u001b[0m             \u001b[1;32mif\u001b[0m \u001b[0mself\u001b[0m\u001b[1;33m.\u001b[0m\u001b[0mis_integer\u001b[0m\u001b[1;33m(\u001b[0m\u001b[1;33m)\u001b[0m \u001b[1;32mor\u001b[0m \u001b[0mis_index_slice\u001b[0m\u001b[1;33m:\u001b[0m\u001b[1;33m\u001b[0m\u001b[0m\n\u001b[1;32m-> 1711\u001b[1;33m                 return slice(self._validate_indexer('slice', key.start, kind),\n\u001b[0m\u001b[0;32m   1712\u001b[0m                              \u001b[0mself\u001b[0m\u001b[1;33m.\u001b[0m\u001b[0m_validate_indexer\u001b[0m\u001b[1;33m(\u001b[0m\u001b[1;34m'slice'\u001b[0m\u001b[1;33m,\u001b[0m \u001b[0mkey\u001b[0m\u001b[1;33m.\u001b[0m\u001b[0mstop\u001b[0m\u001b[1;33m,\u001b[0m \u001b[0mkind\u001b[0m\u001b[1;33m)\u001b[0m\u001b[1;33m,\u001b[0m\u001b[1;33m\u001b[0m\u001b[0m\n\u001b[0;32m   1713\u001b[0m                              self._validate_indexer('slice', key.step, kind))\n",
      "\u001b[1;32m/tech/local/anaconda/1/lib/python2.7/site-packages/pandas/core/indexes/base.pyc\u001b[0m in \u001b[0;36m_validate_indexer\u001b[1;34m(self, form, key, kind)\u001b[0m\n\u001b[0;32m   4126\u001b[0m             \u001b[1;32mpass\u001b[0m\u001b[1;33m\u001b[0m\u001b[0m\n\u001b[0;32m   4127\u001b[0m         \u001b[1;32melif\u001b[0m \u001b[0mkind\u001b[0m \u001b[1;32min\u001b[0m \u001b[1;33m[\u001b[0m\u001b[1;34m'iloc'\u001b[0m\u001b[1;33m,\u001b[0m \u001b[1;34m'getitem'\u001b[0m\u001b[1;33m]\u001b[0m\u001b[1;33m:\u001b[0m\u001b[1;33m\u001b[0m\u001b[0m\n\u001b[1;32m-> 4128\u001b[1;33m             \u001b[0mself\u001b[0m\u001b[1;33m.\u001b[0m\u001b[0m_invalid_indexer\u001b[0m\u001b[1;33m(\u001b[0m\u001b[0mform\u001b[0m\u001b[1;33m,\u001b[0m \u001b[0mkey\u001b[0m\u001b[1;33m)\u001b[0m\u001b[1;33m\u001b[0m\u001b[0m\n\u001b[0m\u001b[0;32m   4129\u001b[0m         \u001b[1;32mreturn\u001b[0m \u001b[0mkey\u001b[0m\u001b[1;33m\u001b[0m\u001b[0m\n\u001b[0;32m   4130\u001b[0m \u001b[1;33m\u001b[0m\u001b[0m\n",
      "\u001b[1;32m/tech/local/anaconda/1/lib/python2.7/site-packages/pandas/core/indexes/base.pyc\u001b[0m in \u001b[0;36m_invalid_indexer\u001b[1;34m(self, form, key)\u001b[0m\n\u001b[0;32m   1846\u001b[0m                         \"indexers [{key}] of {kind}\".format(\n\u001b[0;32m   1847\u001b[0m                             \u001b[0mform\u001b[0m\u001b[1;33m=\u001b[0m\u001b[0mform\u001b[0m\u001b[1;33m,\u001b[0m \u001b[0mklass\u001b[0m\u001b[1;33m=\u001b[0m\u001b[0mtype\u001b[0m\u001b[1;33m(\u001b[0m\u001b[0mself\u001b[0m\u001b[1;33m)\u001b[0m\u001b[1;33m,\u001b[0m \u001b[0mkey\u001b[0m\u001b[1;33m=\u001b[0m\u001b[0mkey\u001b[0m\u001b[1;33m,\u001b[0m\u001b[1;33m\u001b[0m\u001b[0m\n\u001b[1;32m-> 1848\u001b[1;33m                             kind=type(key)))\n\u001b[0m\u001b[0;32m   1849\u001b[0m \u001b[1;33m\u001b[0m\u001b[0m\n\u001b[0;32m   1850\u001b[0m     \u001b[1;32mdef\u001b[0m \u001b[0mget_duplicates\u001b[0m\u001b[1;33m(\u001b[0m\u001b[0mself\u001b[0m\u001b[1;33m)\u001b[0m\u001b[1;33m:\u001b[0m\u001b[1;33m\u001b[0m\u001b[0m\n",
      "\u001b[1;31mTypeError\u001b[0m: cannot do slice indexing on <class 'pandas.core.indexes.range.RangeIndex'> with these indexers [2013-1] of <type 'str'>"
     ]
    }
   ],
   "source": [
    "from datetime import timedelta, date\n",
    "\n",
    "dfd = pd.DataFrame({'time' : [date(2018, 1,1) + timedelta(days=i) for i in range(100)], 'value' : range(100)})\n",
    "# dfd.loc[dfd['time'] < '2018-01'] ne marche pas (dans cette version de pandas au moins) => il faut avoir un objet dt et non str\n",
    "dfd.set_index('time')\n",
    "# dfd['2013-1':'2018-2'] ne marche pas (cannot do slice indexing on <class 'pandas.core.indexes.range.RangeIndex'>)\n",
    "# Il faut surement un type particulier d'Index pour que ça marche (DatetimeIndexDatetimeIndex)"
   ]
  },
  {
   "cell_type": "markdown",
   "metadata": {},
   "source": [
    "#### Voir\n",
    "https://pandas.pydata.org/pandas-docs/stable/reference/api/pandas.DataFrame.at.html"
   ]
  }
 ],
 "metadata": {
  "kernelspec": {
   "display_name": "Python 3",
   "language": "python",
   "name": "python3"
  },
  "language_info": {
   "codemirror_mode": {
    "name": "ipython",
    "version": 3
   },
   "file_extension": ".py",
   "mimetype": "text/x-python",
   "name": "python",
   "nbconvert_exporter": "python",
   "pygments_lexer": "ipython3",
   "version": "3.5.2"
  }
 },
 "nbformat": 4,
 "nbformat_minor": 0
}
