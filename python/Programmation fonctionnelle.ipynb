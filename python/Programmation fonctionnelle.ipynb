{
 "cells": [
  {
   "cell_type": "markdown",
   "metadata": {},
   "source": [
    "# Programmation fonctionnelle\n",
    "https://www.vinta.com.br/blog/2015/functional-programming-python/\n",
    "Pour ce qu'il y a de FP en Python : \n",
    "https://codesachin.wordpress.com/2016/04/03/a-practical-introduction-to-functional-programming-for-python-coders/\n",
    "https://marcobonzanini.com/2015/06/08/functional-programming-in-python/\n",
    "Plus généralement sur le paradigme\n",
    "https://medium.com/@cscalfani/so-you-want-to-be-a-functional-programmer-part-1-1f15e387e536\n",
    "Les paradigmes de Python :\n",
    "https://blog.newrelic.com/engineering/python-programming-styles/\n",
    "\n",
    "\n",
    "Objet vs fonctionnel \n",
    "\n",
    "Dans un programme écrit en orienté-objet, on manipule des collections d'objets afin de décrire et résoudre notre problème. Chacun possède un état interne (internal state) et supporte des méthodes permettant d'accéder ou de modifier cet état interne. Java est un language orienté-objet. Python ou encore C++ ne sont pas fondamentalement des languages orientés-objet mais supportent le paradigme permettant ainsi au développeur de l'utiliser si cela est particulièrement adapté à son problème et surtout sans que cela lui soit imposé : on a pas obligatoirement à décire notre problème avec des objets si on souhaite utiliser ces languages.\n",
    "\n",
    "En programmation fonctionnelle, le problème à résoudre est décomposé en un ensemble de fonction où chacune prend des inputs et retourne des outputs et où idéalement, aucune ne possède d'état interne. La programmation fonctionnelle décourage en effet l'utilisation de fonctions à effets de bord (side effect) qui viennent modifier un état interne ou réalisent tout autre changement qui ne serait pas visible dans la valeur retournée.  \n",
    "\n",
    "Des langages comme C++ ou Python sont multi-paradigmes et permettent d'utiliser le bon paradigme au meilleur endroit. Dans de gros programmes, il est possible que différentes sections s'appuient sur différents paradigmes : une GUI sera développée en objet mais les traitements derrière peuvent l'être en fonctionnel.\n",
    "\n",
    "Une fonction sans effet de bord est appelée purement fonctionnelle ou pure (purely functional) : l'output de la fonction dépend uniquement des inputs qui lui sont donnés. Programmer sans effet de bord peut cependant être difficile car des opérations comme modifier des variables globales, écrire des données sur le disque ou en afficher à l'écran sont considérées comme des effets de bord (plus généralement toute I/O est un effet de bord). Certains languages sont tellement stricte quant à la pureté qu'ils ne possèdent pas de déclaration d'assignation comme ```a = 1```. On n'est pas obligé d'en venir à ces extrémités pour faire de la programmation fonctionnelle. On peut écrire du code en apparence fonctionnel mais qui en interne peut ne pas rigoureusement reposer sur ce paradigme. \n",
    "\n",
    "On comprend alors que la programmation fonctionnelle puisse être vue comme l'opposé de la programmation orienté-objet. Les objets peuvent en effet être vus comme de petites capsules chacune possédant un état interne sur lequel on peut agir à l'aide de la collection de méthode attachée à l'objet. Un programme objet va finalement consister à réaliser une séquence de modifications de ces états internes. En programmation fonctionnelle on souhaite au contraire éviter les modifications d'état interne et on ne vise qu'à représenter notre programme comme des données passées à une succession de fonctions. \n",
    "\n",
    "La programmation fonctionnelle a donc l'air assez contraignante. Pourquoi devrait-on alors se plier à ses contraintes et notamment éviter d'utiliser des objets et des effets de bord ?\n",
    "\n",
    "D'un point de vue théorique et pratique, la programmation fonctionnelle possède quelques avantages : \n",
    "* La \"prouvabilité formelle\" (formal provability) : D'un point de vue théorique, prouver mathématiquement qu'un programme est correct (qu'il retourne toujours le bon résultat quel que soit l'input - ce qui est différent des tests où on ne s'intéresse qu'à un petit échantillon d'inputs possibles mais jugés représentatifs) est beaucoup plus simple avec l'utilisation du paradigme fonctionnel.\n",
    "* La modularité (modularity) : C'est un avantage pratique de la programmation fonctionnelle. La modularité est d'autant plus forte que les fonctions sont pures (on a alors pas à s'inquiéter de ce que peut renvoyer leur combinaison). On peut aussi la voir comme une conséquence pratique du fait que ce paradigme pousse à décomposer la résolution d'un problème en une succession de petites fonctions plutôt que d'utiliser une grosse fonction compliquée. \n",
    "* La composabilité (composability) : l'idée de la programmation fonctionnelle est de chaîner les fonctions. Cela peut aussi avoir comme avantage pratique un code particulièrement compact et lisible.\n",
    "* La facilité avec laquelle on peut tester et débugger des programmes : Le problème étant décomposé l'action d'une multitude de fonctions simples, trouver et corriger celle responsable d'un bug est donc particulièrement rapide. Nos fonctions si pures sont également très faciles à tester car leur résultat ne dépend pas d'un état du système qu'il nous faudrait répliquer avant de lancer le test."
   ]
  },
  {
   "cell_type": "markdown",
   "metadata": {},
   "source": [
    "Programmation fonctionnelle en Python\n",
    "\n",
    "Un objet de base : l'iterator \n",
    "\n",
    "Un iterator représente un flux de données, c'est un objet qui retourne une valeur à la fois via l'appel de la méthode __next__() qui ne prend aucun argument et retourne toujours la valeur suivante du flux (stream). Un iterator n'a pas à comporter un nombre fini d'élément et peut très bien être infini. Quand on arrive au bout du flux, la méthode __next__() lève l'exception StopIteration. \n",
    "\n",
    "Remarque : foo.__next__() est équivalent à next(foo). (wrapper ?)\n",
    "\n",
    "Il existe une built-in function Python iter() qui essaye de retourner un objet iterator à partir de l'objet (arbitraire) qu'on lui passe. Si l'objet passé ne supporte pas l'itération, iter() lève l'exception TypeError. On dit d'un objet dont on peut retirer un iterator (et donc qui supporte l'itération) qu'il est itérable. Ex : les listes, les dictionnaires, les strings, etc.\n",
    "En fait, iter(foo) est équivalent à foo.__iter__(). N'est iterable qu'un objet implémentant la méthode __iter__().\n",
    "\n",
    "Remarque : grossièrement un iterator est un objet qui implémente une méthode __next__() et sans doute quelques autres\n",
    "\n",
    "Remarque : On ne peut progresser que dans un sens dans le flux de données de l'iterator, on ne peut pas revenir en arrière (sauf si l'objet implémente d'autres méthodes mais le protocole iterator n'impose qu'une méthode __next__() qui par définition ne progresse que dans un sens). Conséquences : \n",
    "* iterator vs generator\n",
    "* un iterator est-il en fait une coroutine ? Une fonction qu'on \"met sur pause\".\n",
    "\n",
    "Remarque : Un objet iterator peut être matérialisé, casté en un tuple ou une liste à l'aide des constructeurs tuple() ou list(). Cela permet entre autre de pouvoir passer directement des objets iterators à des built-in functions telles que min() ou max(). De même, l'unpacking est supporté par les iterators.\n",
    "\n",
    "List comprehension / generator expression \n",
    "\n",
    "Parmi les opérations les plus fréquente qu'on veuille effectuer sur un iterable, on trouve :\n",
    "* Appliquer une transformation sur chacun de ses éléments / à chaque output de l'iterator associé\n",
    "* Sélectionner un sous-ensemble de notre iterable \n",
    "\n",
    "Python propose une syntaxe consise permettant de réaliser l'une, l'autre ou les deux opérations précitées (la sélection étant assurée par la clause if) et de se voir retourner le résultat soit sous forme de liste (list comprehension) soit d'iterator (generator expression).\n",
    "\n",
    "Generators\n",
    "\n",
    "Un generator est une fonction \"spéciale\". Il s'agit de n'importe quelle fonction comportant le mot-clé yield au lieu de return (c'est comme ça que le bytecode compiler de Python les détecte).\n",
    "\n",
    "Remarque : un generator est un objet implémentant entre autres une méthode __next__() et est donc à ce titre, entre autres, un iterator. Il est aussi une fonction \"spéciale\" (en fait une coroutine ?). \n",
    "\n",
    "Remarque : un coroutine est une forme plus générale de sous-routine (subroutine). Là où pour une sous-routine, on ne peut entrer que par un seul point (le début de la fonction) et n'en sortir que par un seul autre (le return statement), on peut entrer, sortir ou reprendre une coroutine de plusieurs points différents (les yield statements). Un générateur semble alors être un cas particulier de coroutine : on n'entre ou ne reprend que par le début du corps de la fonction mais on peut sortir en autant de yield statement que donnés (?).\n",
    "\n",
    "Quand Python excéute une fonction, elle lui assigne un private namespace dans lequel vont se trouver ses variables locales. Quand la déclaration return est atteinte, une valeur est retournée et les variables locales détruites. Un nouvel appel de la fonction implique la création d'un nouveau namespace et des variables locales. Dans le cas d'un generator, une valeur est retournée quand on atteint la déclaration yield mais le private namespace et les variables locales sont préservées. L'exécution de la fonction est simplement suspendue. Le prochain appel du generator (qui correspond à un appel de sa méthode __next__) va simplement réexécuter le corps de la fonction jusqu'au yield en utilisant les valeurs des variables locales qui ont été conservées.\n",
    "\n",
    "Remarque : appeler un generator revient implicitement à appeler sa méthode next ? Comme un generator est à la fois fonction et iterator, on peut le voir comme un iterator paramétrable / une iterator factory ? Il semble qu'on puisse voit un generator comme un objet (instance d'une classe), implémentant une méthode __next__ et dont les attributs qui en caractérisent l'état interne (internal state) jouent le rôle des variables locales : \n",
    "\n",
    "```python \n",
    "def generate_ints(n): \n",
    "    for i in range(n):\n",
    "        yield i\n",
    "\n",
    "myGen = generate_ints(3)\n",
    "next(myGen) #\n",
    "# Si on l'appelle trop de fois, on va finalement lever l'exception StopIteration\n",
    "```\n",
    "\n",
    "Remarque : si le corps du generator comporte aussi un return (sorte de condition d'arrêt), le next(myGen) qui tombe sur le return au lieu du yield lève aussi l'exception StopIteration ?\n",
    "\n",
    "Remarque : Avant Python 2.5, les générateurs n'étaient que des producteurs d'informations : une fois le générateur instancié, on ne pouvait plus lui passer d'information pour en modifier le comportement en cours d'itération. Python 2.5 l'a rendu possible notamment par une modification du comportement de yield et l'implémentation d'une méthode send() qui permet \"d'envoyer\" des informations au générateur entre deux appels de next(). \n",
    "\n",
    "Remarque : l'objet generator implémente aussi d'autres méthodes comme throw ou close (qui on leur alias __throw__() et __close__() ?).\n",
    "\n",
    "Un generator est un iterator : il implémente une méthode __next__(). On peut appeler next() dessus."
   ]
  },
  {
   "cell_type": "markdown",
   "metadata": {},
   "source": [
    "Remarque : de même que return est équivalent à return None, yield est équivalent à yield None\n",
    "\n",
    "Points à corriger : \n",
    "* Rappeler qu'une des principales utilité du générateur est d'éviter pour les séquences finies, d'avoir à les stocker intégralement en mémoire si disposer de leurs éléments successivement nous suffit. lazy eval ? On parle de lazyness à leur propose. Cette lazyness qui désigne le fait qu'on ne génère pas la séquence entière à l'évaluation de l'expression permet des choses pratiques comme des séquences infinies (au dela de la performance).\n",
    "* yield = yield None\n",
    "* Un generator est une fonction qui retourne un iterator. next est appelé sur l'objet retourné par l'appel de la fonction et non sur la fonction même.\n",
    "* L'appel de next exécute tout le code du début de la fonction ou d'un yield précédemment atteint jusqu'au prochain yield\n",
    "* Un generator retourne un generator iterator qui est un type particulier d'iterator (il a une méthode __next__ mais aussi des méthodes qui lui sont propres à son comportement)\n",
    "* La ligne un peu cryptique ```val = (yield i)``` signifie ```yield i``` et si on ```send``` une valeur au générateur, assigner cette valeur à la variable val. Quand ```send``` est appelé la *yield expression* ```yield i``` va retourner la valeur passée à ```send```. Si ```next``` est appelé, la *yield expression* renvoie ```None```. \n",
    "* La distinction en fonction et générateur correspond à la différence entre subroutine et coroutine. Quand l'exécution du code d'une subroutine est terminée et que ```return``` est atteint, la subroutine rend (*returns*) le contrôle de l'exécution au niveau d'où elle avait été appelée. Dans le cas d'une coroutine, le contrôle de l'exécution est temporairement et volontairement transféré lorsque ```yield``` est atteint avec la possibilité de le reprendre dans le futur. L'exécution de la coroutine reprendra alors au niveau du dernier ```yield``` atteint et se poursuivra jusqu'au prochain ```yield``` ou ```return```.\n",
    "\n",
    "https://jeffknupp.com/blog/2013/04/07/improve-your-python-yield-and-generators-explained/"
   ]
  },
  {
   "cell_type": "markdown",
   "metadata": {},
   "source": [
    "Modules Python de FP : itertools, functools et operator\n",
    "\n",
    "built-in functions \n",
    "map, filter, reduce\n",
    "Remarque : reduce a été retirée des built-in functions depuis la version \n",
    "Les deux premières retournent un itérator et leur effet est identique aux comprehensions.\n",
    "\n",
    "zip\n",
    "\n",
    "Citer aussi les built-in functions pouvant s'appliquer à des itérables : any, all, min, max.\n",
    "\n",
    "itertools \n",
    "L'objet de itertools est de permettre la création aisée d'itérators et de fournir des fonctions permettant d'agir sur ceux-ci : count, cycle, repeat, combination, permutation, etc.\n",
    "\n",
    "functools\n",
    "contient des higher order functions. Une des plus intéressantes est partial() pour l'application partielle. Le module fournit aussi une fonction reduce et des wrappers comme add (reduce + sum)\n",
    "\n",
    "Remarque : ne pas abuser du reduce qui mène à un code certes compact mais difficile à lire. Une boucle for peut être plus lisible.\n",
    "\n",
    "operators\n",
    "contient des fonctions correspondant à un certain nombre d'opérateurs Python : add, not_, and_, or_, ep, etc. (pour les opérateurs +, !, &, | et = respectivement) qui permet d'utiliser ces opération dans un style fonctionnel sans avoir à recoder soi-même des fonctions aussi simples."
   ]
  },
  {
   "cell_type": "markdown",
   "metadata": {},
   "source": [
    "Pense bête : \n",
    "\n",
    "Programmation fonctionnelle : décomposer le problème en echainement de fonctions vs appliquer des fonctions à des collections d'objets de même type (itérables) ?\n",
    "\n",
    "Programmation fonctionnelle et fonction vue comme un objet ?\n",
    "\n",
    "Idempotence (f2 = f) : assure une certaines stabilité, bonne pratique semble-t-il mais pourquoi en a-t-on besoin ? C'est sans doute si notre fonction n'est pas pure, on exige au moins qu'elle soit idempotente : si elle a des effets de bord qu'on a déjà du mal à voir, on veut s'éviter l'enfer de comprendre qu'un nombre x d'appel de notre fonction a provoqué un bug qu'à partir de la i-ème opération. \n",
    "\n",
    "https://en.wikipedia.org/wiki/First-class_function\n",
    "\n",
    "Concepts : \n",
    "idempotence\n",
    "application partielle\n",
    "currying\n",
    "closure\n",
    "fonction as an object = lambda ?\n",
    "function factory\n",
    "decorateur = sorte de function factory en Python\n",
    "foncteur\n",
    "tail recursion\n",
    "Que ce passe-t-il dans le cas où on fait un usage récursif d'une fonction et qu'un a besoin de passer des infos au call d'après ? (ça ne semble pas être une bonne pratique car pose les même problèmes soulevés par le scoping dynamique : le comportement de la fonction dépend du contexte dans lequel elle est appelée).\n",
    "\n",
    "FP et types (données) immutables (retrouver les histoires de problèmes que posent les types mutables dans les fonctions python, voir si cela permet de comprendre pourquoi on a par exemple val vs var en Scala). En quoi est-ce important ? Est ce que tratier des dataframes en mode fonctionnel est compatible ? intelligent ?\n",
    "\n",
    "\"L’immutabilité apporte beaucoup d’avantages. C’est aussi un prérequis à la programmation fonctionnelle. Mais ce n’est pas le seul, car il y a aussi la transparence référentielle, l’idempotence ou la composition (et comment s’en assurer), avant de parler de pureté fonctionnelle.\"\n",
    "\n",
    "https://en.wikipedia.org/wiki/Idempotence#Computer_science_meaning\n",
    "https://en.wikipedia.org/wiki/Referential_transparency\n",
    "\n",
    "\"First-class functions are a necessity for the functional programming style, in which the use of higher-order functions is a standard practice.\"\n",
    "\n",
    "Points de vigilance spécifiques aux fonctions Python : \n",
    "* mutable default argument\n",
    "* late-binding closure\n",
    "\n",
    "https://docs.python-guide.org/writing/gotchas/"
   ]
  },
  {
   "cell_type": "code",
   "execution_count": 61,
   "metadata": {
    "collapsed": false
   },
   "outputs": [],
   "source": [
    "def counter():\n",
    "    i = 0\n",
    "    while True: # exemple de générateur infini\n",
    "        val = (yield i)\n",
    "        if val is not None:\n",
    "            i = val\n",
    "        else:\n",
    "            i += 1"
   ]
  },
  {
   "cell_type": "code",
   "execution_count": 62,
   "metadata": {
    "collapsed": true
   },
   "outputs": [],
   "source": [
    "myGen = counter() # l'appel de counter retourne un iterator\n",
    "# what if counter était une fonction : counter(10) ne retourne pas un iterator mais le produit de l'exécution du corps de la fonction"
   ]
  },
  {
   "cell_type": "code",
   "execution_count": 63,
   "metadata": {
    "collapsed": false
   },
   "outputs": [
    {
     "data": {
      "text/plain": [
       "0"
      ]
     },
     "execution_count": 63,
     "metadata": {},
     "output_type": "execute_result"
    }
   ],
   "source": [
    "myGen.send(None)"
   ]
  },
  {
   "cell_type": "code",
   "execution_count": 64,
   "metadata": {
    "collapsed": false
   },
   "outputs": [
    {
     "data": {
      "text/plain": [
       "1"
      ]
     },
     "execution_count": 64,
     "metadata": {},
     "output_type": "execute_result"
    }
   ],
   "source": [
    "next(myGen)"
   ]
  },
  {
   "cell_type": "code",
   "execution_count": 65,
   "metadata": {
    "collapsed": false
   },
   "outputs": [
    {
     "data": {
      "text/plain": [
       "100"
      ]
     },
     "execution_count": 65,
     "metadata": {},
     "output_type": "execute_result"
    }
   ],
   "source": [
    "myGen.send(100)"
   ]
  },
  {
   "cell_type": "code",
   "execution_count": 66,
   "metadata": {
    "collapsed": false
   },
   "outputs": [
    {
     "data": {
      "text/plain": [
       "101"
      ]
     },
     "execution_count": 66,
     "metadata": {},
     "output_type": "execute_result"
    }
   ],
   "source": [
    "next(myGen)"
   ]
  },
  {
   "cell_type": "code",
   "execution_count": 82,
   "metadata": {
    "collapsed": false,
    "scrolled": true
   },
   "outputs": [
    {
     "data": {
      "text/plain": [
       "0"
      ]
     },
     "execution_count": 82,
     "metadata": {},
     "output_type": "execute_result"
    }
   ],
   "source": [
    "2*int(None or 0)"
   ]
  },
  {
   "cell_type": "code",
   "execution_count": 102,
   "metadata": {
    "collapsed": false
   },
   "outputs": [],
   "source": [
    "def f(arg):\n",
    "    x = 2*int(arg or 0)\n",
    "    print x\n",
    "    return x\n",
    "\n",
    "def counter_bis():\n",
    "    i = 1\n",
    "    while True:\n",
    "        val = f((yield i))\n",
    "        if val is not None:\n",
    "            i = val\n",
    "        else:\n",
    "            i += 1\n",
    "            \n",
    "myGenBis = counter_bis()"
   ]
  },
  {
   "cell_type": "code",
   "execution_count": 104,
   "metadata": {
    "collapsed": false
   },
   "outputs": [
    {
     "name": "stdout",
     "output_type": "stream",
     "text": [
      "0\n"
     ]
    },
    {
     "data": {
      "text/plain": [
       "0"
      ]
     },
     "execution_count": 104,
     "metadata": {},
     "output_type": "execute_result"
    }
   ],
   "source": [
    "next(myGenBis)"
   ]
  },
  {
   "cell_type": "markdown",
   "metadata": {},
   "source": [
    "Première itération : on atteint yield i, la valeur retournée est 1, l'exécution est suspendue.\n",
    "Seconde itération : elle commence par l'évaluation de la yield expression : val = f((yield i)) qui va correspondre à val = f(None) si l'itération a été lancée par next. Cette expression va imprimer 0 dans la console. L'exécution se pousuit jusqu'à la prochaine yield expression ou yield statement (ici yield expression) qui va retourner 0 avant se suspendre l'exécution. \n",
    "Rappel : une yield expression doit figurer entre parenthèses."
   ]
  },
  {
   "cell_type": "code",
   "execution_count": 111,
   "metadata": {
    "collapsed": true
   },
   "outputs": [],
   "source": [
    "def consumer(f):\n",
    "    def wrapper(*args, **kwargs):\n",
    "        generator = f(*args, **kwargs)\n",
    "        next(generator)\n",
    "        return generator\n",
    "    return wrapper"
   ]
  },
  {
   "cell_type": "code",
   "execution_count": 133,
   "metadata": {
    "collapsed": true
   },
   "outputs": [],
   "source": [
    "@consumer\n",
    "def generate_ints(n): \n",
    "    for i in range(n):\n",
    "        yield i\n",
    "\n",
    "# L'appel de generate_ints ne retourne pas simplement un générateur, mais un générateur pour lequel on a déjà effectué la \n",
    "# première itération. Si on écrit g = generate_ints(10) puis next(g), on obtiendra 1 et non 0 car le décorateur avait déjà avancé\n",
    "# d'une itération."
   ]
  },
  {
   "cell_type": "markdown",
   "metadata": {},
   "source": [
    "Rappel: un décorateur est une fonction qui prend en argument une fonction et qui retourne une autre fonction. \n",
    "Decorer une fonction revient à effectuer myFunc = myDecorator(myFunc)"
   ]
  },
  {
   "cell_type": "code",
   "execution_count": 134,
   "metadata": {
    "collapsed": false
   },
   "outputs": [],
   "source": [
    "g = generate_ints(10)"
   ]
  },
  {
   "cell_type": "code",
   "execution_count": 135,
   "metadata": {
    "collapsed": false
   },
   "outputs": [
    {
     "data": {
      "text/plain": [
       "1"
      ]
     },
     "execution_count": 135,
     "metadata": {},
     "output_type": "execute_result"
    }
   ],
   "source": [
    "next(g)"
   ]
  },
  {
   "cell_type": "code",
   "execution_count": 156,
   "metadata": {
    "collapsed": false
   },
   "outputs": [],
   "source": [
    "import pandas as pd\n",
    "import copy\n",
    "\n",
    "df = pd.DataFrame({'a' : ['e', 'e', 'e', 'f', 'f'], 'b' : range(5)})\n",
    "\n",
    "def someActions(df):\n",
    "    df = copy.copy(df) # on peut sans doute aussi faire un truc du genre df[:] (qui d'ailleurs fait une deep ou shallow copy ?)\n",
    "    df['c'] = 0\n",
    "    df = df.loc[df['a'] == 'e', :]\n",
    "    return df\n",
    "\n",
    "myNextDf = someActions(df)"
   ]
  },
  {
   "cell_type": "code",
   "execution_count": 157,
   "metadata": {
    "collapsed": false
   },
   "outputs": [
    {
     "data": {
      "text/html": [
       "<div>\n",
       "<style scoped>\n",
       "    .dataframe tbody tr th:only-of-type {\n",
       "        vertical-align: middle;\n",
       "    }\n",
       "\n",
       "    .dataframe tbody tr th {\n",
       "        vertical-align: top;\n",
       "    }\n",
       "\n",
       "    .dataframe thead th {\n",
       "        text-align: right;\n",
       "    }\n",
       "</style>\n",
       "<table border=\"1\" class=\"dataframe\">\n",
       "  <thead>\n",
       "    <tr style=\"text-align: right;\">\n",
       "      <th></th>\n",
       "      <th>a</th>\n",
       "      <th>b</th>\n",
       "    </tr>\n",
       "  </thead>\n",
       "  <tbody>\n",
       "    <tr>\n",
       "      <th>0</th>\n",
       "      <td>e</td>\n",
       "      <td>0</td>\n",
       "    </tr>\n",
       "    <tr>\n",
       "      <th>1</th>\n",
       "      <td>e</td>\n",
       "      <td>1</td>\n",
       "    </tr>\n",
       "    <tr>\n",
       "      <th>2</th>\n",
       "      <td>e</td>\n",
       "      <td>2</td>\n",
       "    </tr>\n",
       "    <tr>\n",
       "      <th>3</th>\n",
       "      <td>f</td>\n",
       "      <td>3</td>\n",
       "    </tr>\n",
       "    <tr>\n",
       "      <th>4</th>\n",
       "      <td>f</td>\n",
       "      <td>4</td>\n",
       "    </tr>\n",
       "  </tbody>\n",
       "</table>\n",
       "</div>"
      ],
      "text/plain": [
       "   a  b\n",
       "0  e  0\n",
       "1  e  1\n",
       "2  e  2\n",
       "3  f  3\n",
       "4  f  4"
      ]
     },
     "execution_count": 157,
     "metadata": {},
     "output_type": "execute_result"
    }
   ],
   "source": [
    "df"
   ]
  },
  {
   "cell_type": "code",
   "execution_count": 158,
   "metadata": {
    "collapsed": false
   },
   "outputs": [
    {
     "data": {
      "text/html": [
       "<div>\n",
       "<style scoped>\n",
       "    .dataframe tbody tr th:only-of-type {\n",
       "        vertical-align: middle;\n",
       "    }\n",
       "\n",
       "    .dataframe tbody tr th {\n",
       "        vertical-align: top;\n",
       "    }\n",
       "\n",
       "    .dataframe thead th {\n",
       "        text-align: right;\n",
       "    }\n",
       "</style>\n",
       "<table border=\"1\" class=\"dataframe\">\n",
       "  <thead>\n",
       "    <tr style=\"text-align: right;\">\n",
       "      <th></th>\n",
       "      <th>a</th>\n",
       "      <th>b</th>\n",
       "      <th>c</th>\n",
       "    </tr>\n",
       "  </thead>\n",
       "  <tbody>\n",
       "    <tr>\n",
       "      <th>0</th>\n",
       "      <td>e</td>\n",
       "      <td>0</td>\n",
       "      <td>0</td>\n",
       "    </tr>\n",
       "    <tr>\n",
       "      <th>1</th>\n",
       "      <td>e</td>\n",
       "      <td>1</td>\n",
       "      <td>0</td>\n",
       "    </tr>\n",
       "    <tr>\n",
       "      <th>2</th>\n",
       "      <td>e</td>\n",
       "      <td>2</td>\n",
       "      <td>0</td>\n",
       "    </tr>\n",
       "  </tbody>\n",
       "</table>\n",
       "</div>"
      ],
      "text/plain": [
       "   a  b  c\n",
       "0  e  0  0\n",
       "1  e  1  0\n",
       "2  e  2  0"
      ]
     },
     "execution_count": 158,
     "metadata": {},
     "output_type": "execute_result"
    }
   ],
   "source": [
    "myNextDf"
   ]
  },
  {
   "cell_type": "code",
   "execution_count": 151,
   "metadata": {
    "collapsed": true
   },
   "outputs": [],
   "source": [
    "df = pd.DataFrame({'a' : ['e', 'e', 'e', 'f', 'f'], 'b' : range(5)})\n",
    "\n",
    "def someActions(df):\n",
    "    df = 3\n",
    "    return df\n",
    "\n",
    "myNextDf = someActions(df)"
   ]
  },
  {
   "cell_type": "code",
   "execution_count": 152,
   "metadata": {
    "collapsed": false
   },
   "outputs": [
    {
     "data": {
      "text/html": [
       "<div>\n",
       "<style scoped>\n",
       "    .dataframe tbody tr th:only-of-type {\n",
       "        vertical-align: middle;\n",
       "    }\n",
       "\n",
       "    .dataframe tbody tr th {\n",
       "        vertical-align: top;\n",
       "    }\n",
       "\n",
       "    .dataframe thead th {\n",
       "        text-align: right;\n",
       "    }\n",
       "</style>\n",
       "<table border=\"1\" class=\"dataframe\">\n",
       "  <thead>\n",
       "    <tr style=\"text-align: right;\">\n",
       "      <th></th>\n",
       "      <th>a</th>\n",
       "      <th>b</th>\n",
       "    </tr>\n",
       "  </thead>\n",
       "  <tbody>\n",
       "    <tr>\n",
       "      <th>0</th>\n",
       "      <td>e</td>\n",
       "      <td>0</td>\n",
       "    </tr>\n",
       "    <tr>\n",
       "      <th>1</th>\n",
       "      <td>e</td>\n",
       "      <td>1</td>\n",
       "    </tr>\n",
       "    <tr>\n",
       "      <th>2</th>\n",
       "      <td>e</td>\n",
       "      <td>2</td>\n",
       "    </tr>\n",
       "    <tr>\n",
       "      <th>3</th>\n",
       "      <td>f</td>\n",
       "      <td>3</td>\n",
       "    </tr>\n",
       "    <tr>\n",
       "      <th>4</th>\n",
       "      <td>f</td>\n",
       "      <td>4</td>\n",
       "    </tr>\n",
       "  </tbody>\n",
       "</table>\n",
       "</div>"
      ],
      "text/plain": [
       "   a  b\n",
       "0  e  0\n",
       "1  e  1\n",
       "2  e  2\n",
       "3  f  3\n",
       "4  f  4"
      ]
     },
     "execution_count": 152,
     "metadata": {},
     "output_type": "execute_result"
    }
   ],
   "source": [
    "df"
   ]
  },
  {
   "cell_type": "code",
   "execution_count": 153,
   "metadata": {
    "collapsed": false
   },
   "outputs": [
    {
     "data": {
      "text/plain": [
       "3"
      ]
     },
     "execution_count": 153,
     "metadata": {},
     "output_type": "execute_result"
    }
   ],
   "source": [
    "myNextDf"
   ]
  },
  {
   "cell_type": "markdown",
   "metadata": {},
   "source": [
    "Globlament une fonction dont le but est d'agir sur un type mutable, eviter de dessiner sa fonction où elle prend l'objet en argument et retourne l'objet modifié. Préférer une fonction qui modifie in place si cela n'est pas gênant et qui retourne None."
   ]
  },
  {
   "cell_type": "code",
   "execution_count": 160,
   "metadata": {
    "collapsed": false
   },
   "outputs": [
    {
     "data": {
      "text/html": [
       "<div>\n",
       "<style scoped>\n",
       "    .dataframe tbody tr th:only-of-type {\n",
       "        vertical-align: middle;\n",
       "    }\n",
       "\n",
       "    .dataframe tbody tr th {\n",
       "        vertical-align: top;\n",
       "    }\n",
       "\n",
       "    .dataframe thead th {\n",
       "        text-align: right;\n",
       "    }\n",
       "</style>\n",
       "<table border=\"1\" class=\"dataframe\">\n",
       "  <thead>\n",
       "    <tr style=\"text-align: right;\">\n",
       "      <th></th>\n",
       "      <th>a</th>\n",
       "      <th>b</th>\n",
       "    </tr>\n",
       "  </thead>\n",
       "  <tbody>\n",
       "    <tr>\n",
       "      <th>0</th>\n",
       "      <td>1</td>\n",
       "      <td>3</td>\n",
       "    </tr>\n",
       "    <tr>\n",
       "      <th>1</th>\n",
       "      <td>2</td>\n",
       "      <td>4</td>\n",
       "    </tr>\n",
       "  </tbody>\n",
       "</table>\n",
       "</div>"
      ],
      "text/plain": [
       "   a  b\n",
       "0  1  3\n",
       "1  2  4"
      ]
     },
     "execution_count": 160,
     "metadata": {},
     "output_type": "execute_result"
    }
   ],
   "source": [
    "a = pd.DataFrame({'a':[1,2], 'b':[3,4]})\n",
    "def letgo(df):\n",
    "    df = df.drop('b',axis=1) # en revanche si inplace=True, pas le même effet\n",
    "letgo(a)\n",
    "a\n",
    "# the value of a does not change after the function call. Does it mean it is pass-by-value?"
   ]
  },
  {
   "cell_type": "markdown",
   "metadata": {},
   "source": [
    "Non, ce n'est pas un pass par value, a n'est pas changé car la df.drop ne semble pas modifier in place le dataframe mais en crée une copie qui est assignée à la variable df du scope local. a du scope global est toujours liée au même Dataframe\n",
    "\n",
    "```python\n",
    "def letgo(df):\n",
    "    df['c'] = 0\n",
    "```\n",
    "En revanche cette fonction modifie a => tout dépend que si l'action effectuée sur le type mutable (ici le DataFrame) induit une copie ou se fait in-place."
   ]
  },
  {
   "cell_type": "code",
   "execution_count": 161,
   "metadata": {
    "collapsed": false
   },
   "outputs": [
    {
     "data": {
      "text/html": [
       "<div>\n",
       "<style scoped>\n",
       "    .dataframe tbody tr th:only-of-type {\n",
       "        vertical-align: middle;\n",
       "    }\n",
       "\n",
       "    .dataframe tbody tr th {\n",
       "        vertical-align: top;\n",
       "    }\n",
       "\n",
       "    .dataframe thead th {\n",
       "        text-align: right;\n",
       "    }\n",
       "</style>\n",
       "<table border=\"1\" class=\"dataframe\">\n",
       "  <thead>\n",
       "    <tr style=\"text-align: right;\">\n",
       "      <th></th>\n",
       "      <th>a</th>\n",
       "      <th>b</th>\n",
       "      <th>c</th>\n",
       "    </tr>\n",
       "  </thead>\n",
       "  <tbody>\n",
       "    <tr>\n",
       "      <th>0</th>\n",
       "      <td>1</td>\n",
       "      <td>3</td>\n",
       "      <td>0</td>\n",
       "    </tr>\n",
       "    <tr>\n",
       "      <th>1</th>\n",
       "      <td>2</td>\n",
       "      <td>4</td>\n",
       "      <td>0</td>\n",
       "    </tr>\n",
       "  </tbody>\n",
       "</table>\n",
       "</div>"
      ],
      "text/plain": [
       "   a  b  c\n",
       "0  1  3  0\n",
       "1  2  4  0"
      ]
     },
     "execution_count": 161,
     "metadata": {},
     "output_type": "execute_result"
    }
   ],
   "source": [
    "a = pd.DataFrame({'a':[1,2], 'b':[3,4]})\n",
    "def letgo(df):\n",
    "    df['c'] = 0\n",
    "letgo(a)\n",
    "a"
   ]
  },
  {
   "cell_type": "code",
   "execution_count": 162,
   "metadata": {
    "collapsed": false
   },
   "outputs": [
    {
     "data": {
      "text/html": [
       "<div>\n",
       "<style scoped>\n",
       "    .dataframe tbody tr th:only-of-type {\n",
       "        vertical-align: middle;\n",
       "    }\n",
       "\n",
       "    .dataframe tbody tr th {\n",
       "        vertical-align: top;\n",
       "    }\n",
       "\n",
       "    .dataframe thead th {\n",
       "        text-align: right;\n",
       "    }\n",
       "</style>\n",
       "<table border=\"1\" class=\"dataframe\">\n",
       "  <thead>\n",
       "    <tr style=\"text-align: right;\">\n",
       "      <th></th>\n",
       "      <th>a</th>\n",
       "    </tr>\n",
       "  </thead>\n",
       "  <tbody>\n",
       "    <tr>\n",
       "      <th>0</th>\n",
       "      <td>1</td>\n",
       "    </tr>\n",
       "    <tr>\n",
       "      <th>1</th>\n",
       "      <td>2</td>\n",
       "    </tr>\n",
       "  </tbody>\n",
       "</table>\n",
       "</div>"
      ],
      "text/plain": [
       "   a\n",
       "0  1\n",
       "1  2"
      ]
     },
     "execution_count": 162,
     "metadata": {},
     "output_type": "execute_result"
    }
   ],
   "source": [
    "a = pd.DataFrame({'a':[1,2], 'b':[3,4]})\n",
    "def letgo(df):\n",
    "    df.drop('b', axis=1, inplace=True) # inplace, donc retourne None\n",
    "letgo(a)\n",
    "a"
   ]
  },
  {
   "cell_type": "code",
   "execution_count": null,
   "metadata": {
    "collapsed": true
   },
   "outputs": [],
   "source": [
    "def change_it(list_):\n",
    "    # This change would be seen in the caller if we left it alone\n",
    "    list_[0] = 28\n",
    "\n",
    "    # This change is also seen in the caller, and replaces the above\n",
    "    # change\n",
    "    list_[:] = [1, 2]\n",
    "\n",
    "    # This change is not seen in the caller.\n",
    "    # If this were pass by reference, this change too would be seen in\n",
    "    # caller. => cette phrase ???\n",
    "    list_ = [3, 4]\n",
    "    \n",
    "# If you're a C fan, you can think of this as passing a pointer by value"
   ]
  },
  {
   "cell_type": "markdown",
   "metadata": {},
   "source": [
    "## Call by object + scoping in Python"
   ]
  },
  {
   "cell_type": "markdown",
   "metadata": {},
   "source": [
    "## Recursion \n",
    "https://realpython.com/python-thinking-recursively/\n",
    "https://composingprograms.com/pages/17-recursive-functions.html\n",
    "https://en.wikipedia.org/wiki/Tail_call\n",
    "https://medium.com/@mich_berr/demystifying-recursion-38f569b52335\n",
    "\n",
    "Remarque : certains problèmes peuvent être modélisés autrement qu'avec une récursion (while, etc.). Même si cela peut paraître moins élégant cela peut être conseillé d'adopter ces approches alternatives pour des raisons de performance voire que le programme va planter si la récursion est trop profonde. \n",
    "\n",
    "Leur utilisation est le corollaire de l'existence de structures de données récursives : lists, dicts, sets, etc.\n",
    "\n",
    "Le corps de la fonction doit pouvoir se décomposer en deux : \n",
    "* Un bloc correspondant au cas où elle va devoir s'appeler elle-même, le cas récursif\n",
    "* Un bloc où elle ne s'appelera pas elle même et correspondant de fait à la condition d'arrêt (appelé base case : c'est le cas simple où on a pas besoin d'appeler la fonction pour le résoudre, pas besoin de plus fragmenter le problème).\n",
    "\n",
    "Lors de l'appel, la call stack va grossir jusqu'à ce que la condition soit atteinte elle va ensuite progressivement se résorber à mesure que les fonctions retournent leurs valeurs.\n",
    "\n",
    "\"each recursive call adds a stack frame (containing its execution context)\"\n",
    "\n",
    "Maintaining state\n",
    "When dealing with recursive functions, keep in mind that each recursive call has its own execution context, so to maintain state during recursion you have to either:\n",
    "* Thread the state through each recursive call so that the current state is part of the current call’s execution context (i.e. passing the updated current state to each recursive call as arguments)\n",
    "* Keep the state in global scope (conséquence du lexical scoping). Non recommandé.\n",
    "\n",
    "```python\n",
    "# Threading the state through each recursive call\n",
    "def sum_recursive(current_number, accumulated_sum):\n",
    "    # Base case\n",
    "    if current_number == 11:\n",
    "        return accumulated_sum\n",
    "\n",
    "    # Recursive case\n",
    "    else:\n",
    "        return sum_recursive(current_number + 1, accumulated_sum + current_number)\n",
    "```\n",
    "\n",
    "```python\n",
    "# Global mutable state\n",
    "current_number = 1\n",
    "accumulated_sum = 0\n",
    "\n",
    "def sum_recursive():\n",
    "    global current_number\n",
    "    global accumulated_sum\n",
    "    # Base case\n",
    "    if current_number == 11:\n",
    "        return accumulated_sum\n",
    "    # Recursive case\n",
    "    else:\n",
    "        accumulated_sum = accumulated_sum + current_number\n",
    "        current_number = current_number + 1\n",
    "        return sum_recursive()\n",
    "```\n",
    "\n",
    "Memoisation / caching \n",
    "Peut se faire à l'aide du décorateur lru_cache de functools : \n",
    "\n",
    "\n",
    "```python\n",
    "from functools import lru_cache\n",
    "\n",
    "@lru_cache(maxsize=None)\n",
    "def fibonacci_recursive(n):\n",
    "    print(\"Calculating F\", \"(\", n, \")\", sep=\"\", end=\", \")\n",
    "\n",
    "    # Base case\n",
    "    if n == 0:\n",
    "        return 0\n",
    "    elif n == 1:\n",
    "        return 1\n",
    "\n",
    "    # Recursive case\n",
    "    else:\n",
    "        return fibonacci_recursive(n-1) + fibonacci_recursive(n-2)\n",
    "```\n",
    "\n",
    "lru_cache is a decorator that caches the results. Thus, we avoid recomputation by explicitly checking for the value before trying to compute it. One thing to keep in mind about lru_cache is that since it uses a dictionary to cache results, the positional and keyword arguments (which serve as keys in that dictionary) to the function must be hashable.\n",
    "\n",
    "Attention : \n",
    "* \"Python doesn’t have support for tail-call elimination. As a result, you can cause a stack overflow if you end up using more stack frames than the default call stack depth\" Pose problème si le problème à résoudre implique une récursion profonde (deep recursion). \n",
    "* Attention à l'utilisation de data structures mutables (pourquoi que mutables?) qui peuvent avoir un impact quand on en crée de nouvelle par copie des anciennes. Peut multiplier les objets et impacter la mémoire et la GC. Si chaque call créé de nouveau objets par copie on peut se retrouver avec plein d'objets qui ne seront déréférencés et GC qu'à la fin de chaque call. Suivant quand ou à quelle fréquence se déclenche la GC, elle peut se retrouver avec énormément de travail sans parler du risque d'overflow.\n",
    "\n",
    "Tail recursion : il semble que c'est une implémentation particulière de la récursion où l'appel de la fonction par elle-même se fait dans le return statement. Dans certains languages dont Python ne fait pas partie, il existe des optimisations (mémoires?) (tail call/recurision optimisation ? Tail recursion elimination ?) particulière à cette configuration qui font que si la récursion est implémentée de cette façon elle sera plus efficace que si elle l'avait été autrement dans le même language.\n",
    "https://towardsdatascience.com/what-is-tail-recursion-elimination-or-why-functional-programming-can-be-awesome-43091d76915e"
   ]
  },
  {
   "cell_type": "markdown",
   "metadata": {},
   "source": [
    "De l'importance de comprendre comment Python assigne les arguments (par position puis par keyword et non l'inverse) : https://stackoverflow.com/questions/24755463/functools-partial-wants-to-use-a-positional-argument-as-a-keyword-argument\n",
    "Remarque : l'ordre dans lequel on place ses arguments peut avoir de l'importance en PF quand on essaye de faire du currying."
   ]
  },
  {
   "cell_type": "markdown",
   "metadata": {},
   "source": [
    "https://medium.com/@cscalfani/why-programmers-need-limits-3d96e1a0a6db\n",
    "\n",
    "Les concepts à la base de la FP : \n",
    "* **La pureté** (*purity*) : Une fonction est dite pure si elle n'opère que sur ses arguments. Une fonction pure ne cherche pas à accéder à des variables autres que ses paramètres. Par conséquent une fonction pure sans argument ne peut retourner qu'une constante. Corollaire : une fonction pure \"utile\" doit comporter au moins un argument. Une fonction pure ne dépendant d'aucune variable externe, son comportement est parfaitement prévisible. Une fonction pure est dite aussi sans effet de bord. La présence d'effets de bord dans un programme peut rendre un bug particulièrement difficile à résoudre. Tout programme doit cependant être impur car les effets de bord sont à certains moments indispensables (ex : I/O operations). Les languages de FP ne visent pas à éliminer ces effets de bord mais à les minimiser et à les circoncire à certaines parties du programme.\n",
    "* **L'immutabilité** (*immutability*) : Les languages de FP ne possèdent pas de variables au sens de variables mutables : on ne peut pas écrire des choses telles que ```x = x + 1``` car une telle réassignation correspond à un effet de bord (on dit pour ce cas \"in pure functional programming, destructive assignment is not allowed\"). En FP, les variables sont immutables (ex: mot clé ```val``` en Scala), si on a accès à une variable c'est en lecture uniquement. Comme personne ne peut modifier la variable, cela évite les mutations accidentelles. Pour changer des valeurs dans un enregistrement, les languages de FP procèdent en fait à une copie qui est faite efficacement grace à des data structures adaptées. Dans le prolongement de cette idée, les boucles où on réassigne successivement à une variable muette toutes les valeurs d'une plage, sont proscrites en FP. L'écriture d'une boucle non-récursive exige en effet l'utilisation de variables mutables. En FP, on ne code pas avec des boucles for ou while mais avec des fonctions récursives. Cela peut partaître moins lisible sans doute à cause du fait qu'on est moins familier des formulations récursives. L'immutabilité vise à offrir un code plus simple et plus sûr (*safe*).\n",
    "* **Fonctions d'ordre supérieur** (*higher order functions*) : Une fonction d'ordre supérieur se définit comme une fonction pouvant prendre en argument une autre fonction ou retournant une autre fonction ou les deux. L'idée que pouvoir passer des fonctions en argument à une autre fonction impose que les fonction soient des *first-class citizen\" du language, c'est à dire une valeur comme une autre au même titre qu'un entier ou une string. Tout les languages ne le permettent pas. Le concept du *currying* utilisé en FP et vu plus loin fait également appel à des fonctions d'ordre supérieur car une *curried function* ne retourne plus n'importe quelle valeur mais une fonction. Exemple de l'utilité de fonctions d'ordre supérieur pour le *refactoring* : \n",
    "\n",
    "```\n",
    "function validateAddress(address) {\n",
    "    if (parseAddress(address))\n",
    "        console.log('Valid Address');\n",
    "    else\n",
    "        console.log('Invalid Address');\n",
    "}\n",
    "function validateName(name) {\n",
    "    if (parseFullName(name))\n",
    "        console.log('Valid Name');\n",
    "    else\n",
    "        console.log('Invalid Name');\n",
    "}\n",
    "```\n",
    "Du code précédent, on peut faire le refactoring suivant s'il nous est permis de passer une fonction en argument d'une autre fonction :\n",
    "\n",
    "```\n",
    "var parseSsn = /^\\d{3}-\\d{2}-\\d{4}$/.exec;\n",
    "var parsePhone = /^\\(\\d{3}\\)\\d{3}-\\d{4}$/.exec;\n",
    "\n",
    "function validateValueWithFunc(value, parseFunc, type) {\n",
    "    if (parseFunc(value))\n",
    "        console.log('Invalid ' + type);\n",
    "    else\n",
    "        console.log('Valid ' + type);\n",
    "}\n",
    "```\n",
    "\n",
    "En laissant permettant à une fonction de retourner une fonction, on peut utiliser cette possibilité pour produire des fonctions paramétrables. Quelle valeur se trouve associée au paramètre à l'appel de notre fonction paramétrée ? Celle qui était liée au nom du paramètre dans le scope où la fonction a été créée. Ce comportement s'appelle une closure. Une closure correspond au scope d'une fonction au moment de sa création. Ce scope reste accessible à la fonction tout au long de sa vie. Attention, si les valeurs du scope de la closure sont mutables, elles peuvent changer entre la création et l'appel de la fonction. Dans les languages conçus pour la FP, l'immutabilité nous évite ce problème. \n",
    "\n",
    "Exemple de closure :\n",
    "\n",
    "```\n",
    "function makeAdder(constantValue) {\n",
    "    return function adder(value) {\n",
    "        return constantValue + value;\n",
    "    };\n",
    "}\n",
    "\n",
    "var add10 = makeAdder(10);\n",
    "```\n",
    "\n",
    "Remarque : Le paradigme fonctionnel pousse à la composition de fonctions, à la décomposition et au refactoring du problème en fonctions simples et réutilisables. Cette démarche et la minimisation des effets de bord permet de plus une implémentation facile des tests. Les fonctions écrites sont les briques élémentaires permettant la description du problème.\n",
    "\n",
    "Problèmes de la composition : \n",
    "* En l'absence de sucres syntaxiques / d'opérateurs dédiés : elle peut être dure à lire car les données passent de la fonction la plus à droite de l'expression à celle situé le plus à gauche et que les parenthèses peuvent s'accumuler.\n",
    "* Composer à la chaîne des fonctions n'ayant pas le même nombre d'arguments peut présenter des problèmes tels que : Que faire quand on veut passer à une fonction prenant deux argument la sortie d'une fonction qui ne retourne qu'un élément. Si on souhaite des fonctions génériques, on ne peut pas prévoir les cas où ils faut qu'elles retournent un argument ou une structure de données pour les cas où son résultat sera passée à une fonction en attendant plusieurs. Le plus simple et modulaire semble d'être de ne faire que des fonctions ne prenant qu'un argument et ne retournant qu'une seule valeur. On peut relacher la première contrainte en transformant une fonction à plusieurs argument en fonction à un argument et dont tous les autres jouent le rôle de paramètres (currying). On peut également s'aider d'une fonction permettant de faire de l'application partielle qui d'une fonction à plusieurs arguments en retourne une ne possédant plus qu'un argument.\n",
    "\n",
    "https://fr.wikipedia.org/wiki/Curryfication\n",
    "* *Currying* (curryfication en français, du nom du mathématicien Haskell Curry) : La curryfication désigne la transformation d'une fonction à plusieurs arguments en une fonction à un argument qui retourne une fonction sur le reste des arguments. Elle permet notamment de créer des fonctions pures et est lié (sans être identique) à l'application partielle. On peut voir comme une fonction curried jusqu'à un certain point. Comme le *currying* l'application partielle retourne une fonction. Comme la composition, cette opération peut s'avérer syntactiquement obscure pour les languages qui n'ont pas été particulièrement conçus pour la FP. Le currying s'illustre particulièrement dans le refactoring quand on crée une version généralisée de plusieurs fonction qui va pour être générale, prendre beaucoup de paramètres. On se créé ensuite des versions plus spécialisées de la fonction qui comprennent moins de paramètres. Attention quand on *curry* une fonction, le choix de l'ordre des paramètres est important pour la souplesse d'utilisation, quand on *curry*, on transforme f(x,y,z) en f(x)(y)(z), l'ordre des arguments n'est donc pas neutre.\n",
    "\n",
    "https://en.wikipedia.org/wiki/Referential_transparency\n",
    "* Transparence référentielle (*referential transparency*) : La transparence référentielle (par opposition à l'opacité) est la propriété d'une expression qui peut être remplacée par sa valeur sans que le reste du programme puisse adopter différents comportement. La pureté (toujours générer le même output à partir des mêmes inputs) est une condition suffisante pour être référentiellement transparent. La transparence référentielle permet notamment de substituer sans craintes une expression par sa valeur et ouvre la voie à de nombreuses optimisations du code par le compilateur comme la mémoisation, la lazy evaluation, la parallélisation, etc. La transparence référentielle peut en effet permettre la parallélisation ou la lazy evaluation : comme la valeur produite par l'évaluation de l'expression est indépendante du contexte, elle peut l'être à n'importe quel moment de l'exécution. Le code n'a pas alors à être forcément exécuté séquentiellement comme en programmation impérative. \n",
    "L'induction d'effets de bords par une expression peut lui faire perdre la transparence référentielle. Exemple d'expression non référentiellement transparentes : \n",
    "* ```x = x+1``` : si x est mutable, cette expression n'est pas référentiellement transparente (si x est immutable on ne peut pas l'écrire), son résultat dépend d'un état du système. \n",
    "* ```today()``` : la valeur de cette expression dépend du moment où elle est exécutée. \n",
    "* Exemple subtile : une fonction avec une variable libre peut être référentiellement transparente ou non. Si on est en scoping lexical (static binding) et que les variables sont immutables comme dans les languages de FP, alors une fonction à variable libre peut être référentiellement transparente. \n",
    "* Ordre d'exécution : comme fait allusion ci-dessus, si on a dans notre code des fonctions pures (et donc référentiellement transparentes) et non-interdépendantes, alors on va pouvoir les exécuter en parallèle et dans un ordre arbitraire et ainsi facilement gagner en performance. Améliorer la performance du code en parrallélisant certaines séquences d'exécution est le plus souvent beaucoup plus difficile car cela impose de modifier en profondeur l'architecture du programme et les applications multithreadées (quand le language le supporte) sont particulièrement compliquées à écrire, comprendre, tester et debugger. Les languages de FP poussant à utiliser au maximum des fonctions pures, ils peuvent pleinement profiter de ce gain de performance. La pureté est ici fondamentale, sans pureté, il est impossible de savoir si nos fonction sont indépendantes. On doit alors se reposer sur l'ordre dans lequel elles sont appelées pour déterminer celui dans lequel elles seront exécutées et c'est ainsi que fonctionnent les languages de programmation impératifs. \n",
    "\n",
    "\"The primary disadvantage of languages that enforce referential transparency is that they make the expression of operations that naturally fit a sequence-of-steps imperative programming style more awkward and less concise. Such languages often incorporate mechanisms to make these tasks easier while retaining the purely functional quality of the language, such as definite clause grammars and monads.\"\n",
    "\n",
    "* Typage statique : La PF se construit autour de plusieurs idées visant à offrir un code simple et sûr : fonctions pures et immutabilité notamment. Il n'est donc pas étonnant de voir un certain nombre de languages de PF proposer le typage statique.\n",
    "Remarque : le typage statique a l'avantage de la sûreté mais l'inconvénient de la lourdeur voire la complexité de sa syntaxe (cf. les generics ou plus simplement la signature des fonctions en Java ou Scala par exemple) et c'est l'inverse pour le typage dynamique. \n",
    "\n",
    "Remarque : on peut désigner le scoping lexical comme static binding (?) (\"a variable is statically bound to a value\") (closure) par opposition au scoping dynamic / dynamic binding\n",
    "\n",
    "Fonctions fonctionnelles courantes : map, filter et reduce\n",
    "Ces fonctions permettent d'éviter \"l'importante quantité\" de boilerplate code (écriture de boucles for que certains trouvent plus claires) demandé par les languages impératifs pour un certain nombre d'opérations courantes : l'application de fonctions à une structure de données. Ce sont en fait des fonctions d'itération (qui sont d'ailleurs codées de façon récursives et non comme des boucles).\n",
    "* map permet d'appliquer une fonction à chaque membre sans écrire une boucle for\n",
    "* filter correspond à un map d'une fonction qui n'est appliquée que conditionnellement\n",
    "* reduce (parfois appelée fold) permet de réduire la structure de données à une valeur et prend en argument une fonction à deux paramètres : la valeur courante et une variable d'accumulation. \n",
    "\n",
    "\n",
    "Remarque : l'idempotence n'est elle pas liée à l'immutabilité ? On ne veut pas qu'une nouvelle exécution du script donne des résultats différent de lors de la première exécution de celui-ci. C'est un problème récurrent avec les notebooks dès qu'on écrit df = df.someFunc(). Si someFunc() ou le pipe de fonctions n'est pas idempotent (ce qui est tout le temps le cas), on va galérer à réexécuter le script. En PF on ne pourrait de toute façon pas écrire ça (c'est mutable). Comment on peut faire dans des languages comme Python où les variables sont mutables sans se trouver à trainer des copies qu'il ne faut pas oublier ?\n",
    "\n",
    "\"While it’s good to strive for modular, self-contained code\"\n",
    "\n",
    "Another problem with recursion in JavaScript is that it’s not tail call optimized (TCO). Making recursion more expensive than looping, and if you go too deep you will probably overflow your stack.\n",
    "\n",
    "I have one question. If z is a immutable variable outside my function, and I use z inside one function, why my function is not pure? => Not self-contained ? Referential trnasparency ?\n",
    "\n",
    "in functional programming, x = x + 1 is illegal. as x = 1; x = x + 1; is valid Elixir. How is variable rebinding different from mutability? Forgive the noob question. Thanks!\n",
    "\n",
    "Data strucutres optimized for FP : https://www.infoq.com/presentations/julia-vectors-maps-sets\n",
    "https://en.wikipedia.org/wiki/Idempotence#Computer_science_meaning\n",
    "Mutability is not bad, it is a property. Rend service quand utilisé au bon endroit. Elle peut être un vrai problème dans les systèmes complexes mais l'immutabilité a le problème qu'il faut copier les objets au prix de la performance (sans optimisation particulière).\n",
    "\n",
    "...  unifies functional and object oriented paradigms by grouping related functions within classes. Objects are however never used for storing values or mutable data, and data only lives within function closures.\n",
    "\n",
    "Remarques : Autres termes issus du jargon de la FP :\n",
    "* En Pyhton, ```%``` est une infix version de map\n",
    "* Foncteur (*functor*) : c'est en fait un type qui implémente une méthode map. En gros quel foncteur doit retournet la méthode map qui prend en argument une fonction et s'applique elle même à un certain foncteur. Ex : une liste est un foncteur, une fonction peut également être un foncteur.\n",
    "* Monades : semblent encore être un type présentant certaines propriétés (implémentant certaines choses) https://nikgrozev.com/2013/12/10/monads-in-15-minutes/\n"
   ]
  },
  {
   "cell_type": "markdown",
   "metadata": {},
   "source": [
    "## Scoping en Python"
   ]
  },
  {
   "cell_type": "markdown",
   "metadata": {},
   "source": [
    "http://steve-yegge.blogspot.com/2008/10/universal-design-pattern.html (le début sur les modelling)\n",
    "https://matthew-brett.github.io/teaching/global_scope.html\n",
    "https://en.wikipedia.org/wiki/Scope_(computer_science)#Python\n",
    "https://medium.com/@dannymcwaves/a-python-tutorial-to-understanding-scopes-and-closures-c6a3d3ba0937\n",
    "https://www.stat.berkeley.edu/~spector/extension/python/notes/node64.html\n",
    "https://data-flair.training/blogs/python-variable-scope/\n",
    "https://sebastianraschka.com/Articles/2014_python_scope_and_namespaces.html\n",
    "https://www.saltycrane.com/blog/2008/01/python-variable-scope-notes/\n",
    "https://people.cs.clemson.edu/~malloy/courses/pythonProg-2015/lessons/scope/paper.pdf"
   ]
  },
  {
   "cell_type": "markdown",
   "metadata": {},
   "source": [
    "## De l'importance de l'idempotence pour les pipelines de traitement de données \n",
    "Idempotence and replayability\n",
    "Bulk pipeline jobs should always be created so that they are able to be re-run immediately in case of failure, and entirely idempotent. No matter how many times a particular job is run, it should always produce the same output with a given input, and should not persist duplicate data to the destination."
   ]
  }
 ],
 "metadata": {
  "kernelspec": {
   "display_name": "Python 2",
   "language": "python",
   "name": "python2"
  },
  "language_info": {
   "codemirror_mode": {
    "name": "ipython",
    "version": 2
   },
   "file_extension": ".py",
   "mimetype": "text/x-python",
   "name": "python",
   "nbconvert_exporter": "python",
   "pygments_lexer": "ipython2",
   "version": "2.7.11"
  }
 },
 "nbformat": 4,
 "nbformat_minor": 0
}
