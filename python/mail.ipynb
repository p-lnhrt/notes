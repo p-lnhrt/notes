{
 "cells": [
  {
   "cell_type": "markdown",
   "metadata": {},
   "source": [
    "Un email peut schématiquement se décomposer en un payload et des headers qui correspondent à un ensemble de paires clé-valeur et qui rassemblent des informations techniques comme l'expéditeur, le destinataire, les informations nécessaire à l'authentification, etc. Le payload peut simplement être du texte, un fichier binaire ou avoir un caractère récursif et consister en une structure de sous-messages.\n",
    "\n",
    "Email messages with MIME formatting are typically transmitted with standard protocols, such as the Simple Mail Transfer Protocol (SMTP), the Post Office Protocol (POP), and the Internet Message Access Protocol (IMAP).\n",
    "\n",
    "Ajouter un header (qui n'est finalement qu'une paire clé-valeur) à un `email.message.Message` se fait via la méthode `add_header`.\n",
    "\n",
    "`email.message.Message` est une base class permettant de représenter un email. L'objet rassemble un ordered dict de headers, des méthodes pour accéder à ceux-ci et au payload, pour générer une version sérialisée de celui-ci et pour parcourir récursivement la structure du mail. Comme dit plus haut, le payload peut simplement être du texte (string), un fichier binaire (bytes) ou avoir un caractère récursif et consister en une structure de sous-messages (liste de `email.message.Message`).\n",
    "\n",
    "Les objets MIME (Multipurpose Internet Mail Extensions) étendent la notion d'email définie plus haut permettant par exemple de supporter d'autres encodages ou des pièces jointes. Les différentes classes de `email.mime` héritent ainsi toutes de `email.message.Message` Le MIME est un standard codifié par plusieurs RFC et a été conçu pour le protocole SMTP (Simple Mail Transfer Protocol) principalement. Les message suivant le formattage MIME peuvent toutefois aussi être expédiés en utilisant les protocoles POP (Post Office Protocol) ou IMAP (Internet Message Access Protocol). Un email suivant le formattage MIME présente un header donnant son content type qui consistent en une paire type/sous-type décrivant le type (media type) du contenu du message.\n",
    "\n",
    "On distinge dans les messages au content type simple, élémentaire (ex: text/plain, message texte simple, audio/mp3, message avec payload audio, image/jpg, message avec payload image) des messages aux multiples contenus (multipart/mixed) dont la structure est aborescente. Un exemple de message à contenus multiples est un email avec une pièce-jointe, une réponse avec l'original en pièce-jointe, etc. `email.mime` fournit un certain nombre de classes spécialisées pour les premiers (`MIMEText`, `MIMEAudio`, `MIMEImage`, `MIMEApplication`), toutes héritant de `email.mime.nonmultipart.MIMENonMultipart` ainsi qu'une classe pour représenter les seconds (`email.mime.multipart.MIMEMultipart`).\n",
    "\n",
    "simple text messages using text/plain (the default value for \"Content-Type: \")\n",
    "\n",
    "text plus attachments (multipart/mixed with a text/plain part and other non-text parts). A MIME message including an attached file generally indicates the file's original name with the field \"Content-Disposition\", so that the type of file is indicated both by the MIME content-type and the (usually OS-specific) filename extension\n",
    "\n",
    "reply with original attached (multipart/mixed with a text/plain part and the original message as a message/rfc822 part)\n",
    "\n",
    "alternative content, such as a message sent in both plain text and another format such as HTML (multipart/alternative with the same content in text/plain and text/html forms)\n",
    "\n",
    "image, audio, video and application (for example, image/jpeg, audio/mp3, video/mp4, and application/msword and so on) \n",
    "\n",
    "La classe `smtplib.SMTP` permet de gérer la connection à un serveur SMTP/ESMTP. Sa méthode `send_message` prend un object `email.message.Message` en argument."
   ]
  }
 ],
 "metadata": {
  "kernelspec": {
   "display_name": "Conda Python 3.6.12",
   "language": "python",
   "name": "py36"
  },
  "language_info": {
   "codemirror_mode": {
    "name": "ipython",
    "version": 3
   },
   "file_extension": ".py",
   "mimetype": "text/x-python",
   "name": "python",
   "nbconvert_exporter": "python",
   "pygments_lexer": "ipython3",
   "version": "3.6.12"
  }
 },
 "nbformat": 4,
 "nbformat_minor": 4
}
