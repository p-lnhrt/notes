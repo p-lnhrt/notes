{
 "cells": [
  {
   "cell_type": "markdown",
   "metadata": {},
   "source": [
    "https://docs.python.org/3/reference/datamodel.html#implementing-descriptors\n",
    "https://docs.python.org/3.7/howto/descriptor.html\n",
    "http://sametmax.com/les-descripteurs-en-python/\n",
    "https://rushter.com/blog/python-class-internals/"
   ]
  },
  {
   "cell_type": "code",
   "execution_count": 73,
   "metadata": {},
   "outputs": [
    {
     "name": "stdout",
     "output_type": "stream",
     "text": [
      "{'__module__': '__main__', 'a': 'A class attribute a', 'b': 'A class attribute b', 'c': 'A class attribute c', '__dict__': <attribute '__dict__' of 'A' objects>, '__weakref__': <attribute '__weakref__' of 'A' objects>, '__doc__': None}\n",
      "{'__module__': '__main__', 'a': 'B class attribute a', 'b': 'B class attribute b', '__init__': <function B.__init__ at 0x7f83bc2c1488>, '__doc__': None}\n",
      "{'a': 'B instance attribute a'}\n",
      "B instance attribute a\n",
      "B class attribute b\n",
      "A class attribute c\n"
     ]
    }
   ],
   "source": [
    "# Default behavior\n",
    "class A(object):\n",
    "    a = \"A class attribute a\"\n",
    "    b = \"A class attribute b\"\n",
    "    c = \"A class attribute c\"\n",
    "    \n",
    "class B(A):\n",
    "    a = \"B class attribute a\"\n",
    "    b = \"B class attribute b\"\n",
    "    \n",
    "    def __init__(self):\n",
    "        self.a = \"B instance attribute a\"\n",
    "        \n",
    "b = B()\n",
    "print(vars(A))\n",
    "print(vars(B))\n",
    "print(vars(b))\n",
    "print(b.a)\n",
    "print(b.b)\n",
    "print(b.c)"
   ]
  },
  {
   "cell_type": "code",
   "execution_count": 65,
   "metadata": {},
   "outputs": [
    {
     "name": "stdout",
     "output_type": "stream",
     "text": [
      "dict_keys(['__module__', 'a_class_attr', '__init__', 'some_method', '__dict__', '__weakref__', '__doc__'])\n",
      "<attribute '__dict__' of 'A' objects>\n",
      "{'a_inst_attr': 'a'}\n",
      "dict_keys(['__module__', '__doc__', 'b_class_attr', '__init__', 'some_other_method'])\n",
      "{'b_inst_attr': 'b'}\n"
     ]
    },
    {
     "data": {
      "text/plain": [
       "mappingproxy({'__module__': '__main__',\n",
       "              '__doc__': '\\n    lol\\n    ',\n",
       "              'b_class_attr': 2,\n",
       "              '__init__': <function __main__.B.__init__(self, arg)>,\n",
       "              'some_other_method': <function __main__.B.some_other_method(self)>})"
      ]
     },
     "execution_count": 65,
     "metadata": {},
     "output_type": "execute_result"
    }
   ],
   "source": [
    "class A(object):\n",
    "    a_class_attr = 1\n",
    "    \n",
    "    def __init__(self, arg):\n",
    "        self.a_inst_attr = arg\n",
    "    \n",
    "    def some_method(self):\n",
    "        pass\n",
    "    \n",
    "class B(A):\n",
    "    \"\"\"\n",
    "    lol\n",
    "    \"\"\"\n",
    "    b_class_attr = 2\n",
    "    \n",
    "    def __init__(self, arg):\n",
    "        self.b_inst_attr = arg\n",
    "    \n",
    "    def some_other_method(self):\n",
    "        print(b_class_attr)\n",
    "    \n",
    "a = A('a')\n",
    "b = B('b')\n",
    "print(vars(A).keys())\n",
    "print(A.__dict__['__dict__'])\n",
    "print(vars(a))\n",
    "print(vars(B).keys())\n",
    "print(vars(b))\n",
    "B.__dict__"
   ]
  },
  {
   "cell_type": "code",
   "execution_count": 60,
   "metadata": {},
   "outputs": [
    {
     "ename": "NameError",
     "evalue": "name 'b_class_attr' is not defined",
     "output_type": "error",
     "traceback": [
      "\u001b[0;31m---------------------------------------------------------------------------\u001b[0m",
      "\u001b[0;31mNameError\u001b[0m                                 Traceback (most recent call last)",
      "\u001b[0;32m<ipython-input-60-64a67693bc50>\u001b[0m in \u001b[0;36m<module>\u001b[0;34m()\u001b[0m\n\u001b[0;32m----> 1\u001b[0;31m \u001b[0mb\u001b[0m\u001b[0;34m.\u001b[0m\u001b[0msome_other_method\u001b[0m\u001b[0;34m(\u001b[0m\u001b[0;34m)\u001b[0m\u001b[0;34m\u001b[0m\u001b[0m\n\u001b[0m",
      "\u001b[0;32m<ipython-input-59-3855bb72c396>\u001b[0m in \u001b[0;36msome_other_method\u001b[0;34m(self)\u001b[0m\n\u001b[1;32m     15\u001b[0m \u001b[0;34m\u001b[0m\u001b[0m\n\u001b[1;32m     16\u001b[0m     \u001b[0;32mdef\u001b[0m \u001b[0msome_other_method\u001b[0m\u001b[0;34m(\u001b[0m\u001b[0mself\u001b[0m\u001b[0;34m)\u001b[0m\u001b[0;34m:\u001b[0m\u001b[0;34m\u001b[0m\u001b[0m\n\u001b[0;32m---> 17\u001b[0;31m         \u001b[0mprint\u001b[0m\u001b[0;34m(\u001b[0m\u001b[0mb_class_attr\u001b[0m\u001b[0;34m)\u001b[0m\u001b[0;34m\u001b[0m\u001b[0m\n\u001b[0m\u001b[1;32m     18\u001b[0m \u001b[0;34m\u001b[0m\u001b[0m\n\u001b[1;32m     19\u001b[0m \u001b[0ma\u001b[0m \u001b[0;34m=\u001b[0m \u001b[0mA\u001b[0m\u001b[0;34m(\u001b[0m\u001b[0;34m'a'\u001b[0m\u001b[0;34m)\u001b[0m\u001b[0;34m\u001b[0m\u001b[0m\n",
      "\u001b[0;31mNameError\u001b[0m: name 'b_class_attr' is not defined"
     ]
    }
   ],
   "source": [
    "b.__getattribute__"
   ]
  },
  {
   "cell_type": "code",
   "execution_count": 12,
   "metadata": {
    "collapsed": true
   },
   "outputs": [],
   "source": [
    "class A(object):\n",
    "    def some_method(self):\n",
    "        pass\n",
    "    \n",
    "a = A()"
   ]
  },
  {
   "cell_type": "code",
   "execution_count": 9,
   "metadata": {
    "scrolled": true
   },
   "outputs": [
    {
     "data": {
      "text/plain": [
       "<unbound method A.some_method>"
      ]
     },
     "execution_count": 9,
     "metadata": {},
     "output_type": "execute_result"
    }
   ],
   "source": [
    "A.some_method"
   ]
  },
  {
   "cell_type": "code",
   "execution_count": 10,
   "metadata": {},
   "outputs": [
    {
     "data": {
      "text/plain": [
       "instancemethod"
      ]
     },
     "execution_count": 10,
     "metadata": {},
     "output_type": "execute_result"
    }
   ],
   "source": [
    "type(A.some_method)"
   ]
  },
  {
   "cell_type": "code",
   "execution_count": 5,
   "metadata": {},
   "outputs": [
    {
     "data": {
      "text/plain": [
       "<bound method A.some_method of <__main__.A object at 0x7ff78aa86d50>>"
      ]
     },
     "execution_count": 5,
     "metadata": {},
     "output_type": "execute_result"
    }
   ],
   "source": [
    "a.some_method"
   ]
  },
  {
   "cell_type": "code",
   "execution_count": 8,
   "metadata": {},
   "outputs": [
    {
     "data": {
      "text/plain": [
       "instancemethod"
      ]
     },
     "execution_count": 8,
     "metadata": {},
     "output_type": "execute_result"
    }
   ],
   "source": [
    "type(a.some_method)"
   ]
  },
  {
   "cell_type": "code",
   "execution_count": 2,
   "metadata": {},
   "outputs": [
    {
     "data": {
      "text/plain": [
       "{}"
      ]
     },
     "execution_count": 2,
     "metadata": {},
     "output_type": "execute_result"
    }
   ],
   "source": [
    "a.__dict__"
   ]
  },
  {
   "cell_type": "code",
   "execution_count": 5,
   "metadata": {
    "collapsed": true
   },
   "outputs": [],
   "source": [
    "def f():\n",
    "    pass"
   ]
  },
  {
   "cell_type": "code",
   "execution_count": 14,
   "metadata": {},
   "outputs": [
    {
     "data": {
      "text/plain": [
       "<property at 0x7fab04324c78>"
      ]
     },
     "execution_count": 14,
     "metadata": {},
     "output_type": "execute_result"
    }
   ],
   "source": [
    "property(fget=None, fset=None, fdel=None, doc=None)"
   ]
  },
  {
   "cell_type": "code",
   "execution_count": 11,
   "metadata": {
    "scrolled": true
   },
   "outputs": [
    {
     "data": {
      "text/plain": [
       "<staticmethod at 0x7ff78aa950f8>"
      ]
     },
     "execution_count": 11,
     "metadata": {},
     "output_type": "execute_result"
    }
   ],
   "source": [
    "staticmethod(None)"
   ]
  },
  {
   "cell_type": "code",
   "execution_count": 12,
   "metadata": {},
   "outputs": [
    {
     "name": "stdout",
     "output_type": "stream",
     "text": [
      "-------\n",
      "instance attr a\n",
      "-------\n",
      "class attr a\n"
     ]
    }
   ],
   "source": [
    "# classic look-up without descriptors\n",
    "class A(object):\n",
    "    a = 'class attr a'\n",
    "    \n",
    "class B(A):\n",
    "    def __init__(self):\n",
    "        self.a = 'instance attr a'\n",
    "        \n",
    "b = B()\n",
    "print('-------')\n",
    "print (b.a)\n",
    "print('-------')\n",
    "print (B.a)"
   ]
  },
  {
   "cell_type": "code",
   "execution_count": 1,
   "metadata": {
    "collapsed": true
   },
   "outputs": [],
   "source": [
    "class DataDescriptor(object):\n",
    "    def __init__(self, initval=None, name='var'):\n",
    "        self.val = initval\n",
    "        self.name = name\n",
    "\n",
    "    def __get__(self, obj, objtype):\n",
    "        print('Retrieving', self.name)\n",
    "        out = self.val\n",
    "        print(out)\n",
    "        return out\n",
    "\n",
    "    def __set__(self, obj, val):\n",
    "        print('Updating', self.name)\n",
    "        print(val)\n",
    "        self.val = val\n",
    "        \n",
    "class NonDataDescriptor(object):\n",
    "    def __init__(self, initval=None, name='var'):\n",
    "        self.val = initval\n",
    "        self.name = name\n",
    "\n",
    "    def __get__(self, obj, objtype):\n",
    "        print('Retrieving', self.name)\n",
    "        return self.val"
   ]
  },
  {
   "cell_type": "code",
   "execution_count": 107,
   "metadata": {},
   "outputs": [
    {
     "name": "stdout",
     "output_type": "stream",
     "text": [
      "{'a': 'instance attr a', 'r': 'instance attr r'}\n",
      "{'a': 'instance attr a', 'r': 'instance attr r', 'd': 'instance attr d'}\n",
      "Retrieving d\n",
      "value stored in A DataDescriptor\n",
      "value stored in A DataDescriptor\n",
      "Retrieving d\n",
      "value stored in A DataDescriptor\n",
      "value stored in A DataDescriptor\n",
      "instance attr r\n",
      "<__main__.NonDataDescriptor object at 0x7f9a681b19e8>\n"
     ]
    }
   ],
   "source": [
    "# look-up with data descriptors\n",
    "class O(object):\n",
    "    d = NonDataDescriptor(initval='value stored in O NonDataDescriptor', name='d')\n",
    "    r = DataDescriptor(initval='value stored in O DataDescriptor', name='r')\n",
    "\n",
    "class A(O):\n",
    "    a = 'class attr a'\n",
    "    d = DataDescriptor(initval='value stored in A DataDescriptor', name='d')\n",
    "    r = NonDataDescriptor(initval='value stored in A NonDataDescriptor', name='r')\n",
    "    \n",
    "class B(A):\n",
    "    def __init__(self):\n",
    "        self.a = 'instance attr a'\n",
    "#         self.d = 'instance attr d' # Ne sert à rien, self.d va chercher le descripteur et appelle __set__\n",
    "        self.r = 'instance attr r' # Descripteur surchargeable car ne définissant pas de __set__ ?\n",
    "        \n",
    "b = B()\n",
    "print(vars(b))\n",
    "b.__dict__['d'] = 'instance attr d' # la seule façon de tester la priorité des data descriptors sur les variables d'instance\n",
    "print(vars(b))\n",
    "print(b.d)\n",
    "print(B.d)\n",
    "print(b.r)\n",
    "print(B.r)"
   ]
  },
  {
   "cell_type": "code",
   "execution_count": 93,
   "metadata": {},
   "outputs": [
    {
     "name": "stdout",
     "output_type": "stream",
     "text": [
      "Retrieving d\n",
      "value stored in A DataDescriptor\n"
     ]
    },
    {
     "data": {
      "text/plain": [
       "'value stored in A DataDescriptor'"
      ]
     },
     "execution_count": 93,
     "metadata": {},
     "output_type": "execute_result"
    }
   ],
   "source": [
    "B.d"
   ]
  },
  {
   "cell_type": "code",
   "execution_count": 78,
   "metadata": {},
   "outputs": [
    {
     "data": {
      "text/plain": [
       "'instance attr d'"
      ]
     },
     "execution_count": 78,
     "metadata": {},
     "output_type": "execute_result"
    }
   ],
   "source": [
    "A.__dict__['d'].val"
   ]
  },
  {
   "cell_type": "code",
   "execution_count": 75,
   "metadata": {
    "scrolled": true
   },
   "outputs": [
    {
     "name": "stdout",
     "output_type": "stream",
     "text": [
      "Retrieving d\n",
      "instance attr d\n"
     ]
    },
    {
     "data": {
      "text/plain": [
       "'instance attr d'"
      ]
     },
     "execution_count": 75,
     "metadata": {},
     "output_type": "execute_result"
    }
   ],
   "source": [
    "A.__dict__['d'].__get__(None, B)"
   ]
  },
  {
   "cell_type": "code",
   "execution_count": 16,
   "metadata": {
    "collapsed": true
   },
   "outputs": [],
   "source": [
    "class NonDataDescriptor(object):\n",
    "    def __init__(self, value):\n",
    "        self.value = value\n",
    "        \n",
    "    def __get__(self, obj, owner):\n",
    "        print(\"Retrieving value\")\n",
    "        return self.value\n",
    "    "
   ]
  },
  {
   "cell_type": "code",
   "execution_count": 17,
   "metadata": {
    "scrolled": true
   },
   "outputs": [
    {
     "name": "stdout",
     "output_type": "stream",
     "text": [
      "-------\n",
      "instance attr d\n",
      "-------\n",
      "Retrieving value\n",
      "value stored in DataDescriptor d\n"
     ]
    }
   ],
   "source": [
    "# look-up with non-data descriptor\n",
    "class A(object):\n",
    "    a = 'class attr a'\n",
    "    d = NonDataDescriptor('value stored in DataDescriptor d')\n",
    "    \n",
    "class B(A):\n",
    "    def __init__(self):\n",
    "        self.a = 'instance attr a'\n",
    "        self.d = 'instance attr d'\n",
    "        \n",
    "b = B()\n",
    "print('-------')\n",
    "print (b.d)\n",
    "print('-------')\n",
    "print (B.d)"
   ]
  },
  {
   "cell_type": "code",
   "execution_count": 21,
   "metadata": {},
   "outputs": [
    {
     "name": "stdout",
     "output_type": "stream",
     "text": [
      "-------\n",
      "instance attr d\n",
      "-------\n",
      "Retrieving value\n",
      "value stored in DataDescriptor d\n"
     ]
    }
   ],
   "source": [
    "# look-up with non-data descriptor\n",
    "class O(object):\n",
    "    d = 'class attr d'\n",
    "\n",
    "class A(O):\n",
    "    a = 'class attr a'\n",
    "    d = NonDataDescriptor('value stored in DataDescriptor d')\n",
    "    \n",
    "class B(A):\n",
    "    def __init__(self):\n",
    "        self.a = 'instance attr a'\n",
    "        self.d = 'instance attr d'\n",
    "        \n",
    "b = B()\n",
    "print('-------')\n",
    "print (b.d)\n",
    "print('-------')\n",
    "print (B.d)"
   ]
  },
  {
   "cell_type": "code",
   "execution_count": 22,
   "metadata": {
    "scrolled": true
   },
   "outputs": [
    {
     "name": "stdout",
     "output_type": "stream",
     "text": [
      "-------\n",
      "instance attr d\n",
      "-------\n",
      "class attr d\n"
     ]
    }
   ],
   "source": [
    "# look-up with non-data descriptor\n",
    "class O(object):\n",
    "    d = DataDescriptor('value stored in DataDescriptor d')\n",
    "\n",
    "class A(O):\n",
    "    a = 'class attr a'\n",
    "    d = 'class attr d'\n",
    "    \n",
    "class B(A):\n",
    "    def __init__(self):\n",
    "        self.a = 'instance attr a'\n",
    "        self.d = 'instance attr d'\n",
    "        \n",
    "b = B()\n",
    "print('-------')\n",
    "print (b.d)\n",
    "print('-------')\n",
    "print (B.d)"
   ]
  },
  {
   "cell_type": "code",
   "execution_count": 31,
   "metadata": {},
   "outputs": [
    {
     "name": "stdout",
     "output_type": "stream",
     "text": [
      "-------\n",
      "class attr d\n",
      "-------\n",
      "class attr d\n"
     ]
    }
   ],
   "source": [
    "# look-up with non-data descriptor\n",
    "class O(object):\n",
    "    d = DataDescriptor('value stored in DataDescriptor d')\n",
    "\n",
    "class A(O):\n",
    "    a = 'class attr a'\n",
    "    d = 'class attr d'\n",
    "    \n",
    "    @classmethod\n",
    "    def some_cls_method(cls):\n",
    "        print(cls.__module__)\n",
    "    \n",
    "class B(A):\n",
    "    def __init__(self):\n",
    "        self.a = 'instance attr a'\n",
    "\n",
    "        \n",
    "b = B()\n",
    "print('-------')\n",
    "print (b.d)\n",
    "print('-------')\n",
    "print (B.d)"
   ]
  },
  {
   "cell_type": "code",
   "execution_count": 34,
   "metadata": {},
   "outputs": [
    {
     "data": {
      "text/plain": [
       "method"
      ]
     },
     "execution_count": 34,
     "metadata": {},
     "output_type": "execute_result"
    }
   ],
   "source": [
    "type(b.some_cls_method)"
   ]
  },
  {
   "cell_type": "code",
   "execution_count": 28,
   "metadata": {},
   "outputs": [
    {
     "data": {
      "text/plain": [
       "['__class__',\n",
       " '__delattr__',\n",
       " '__dict__',\n",
       " '__dir__',\n",
       " '__doc__',\n",
       " '__eq__',\n",
       " '__format__',\n",
       " '__ge__',\n",
       " '__getattribute__',\n",
       " '__gt__',\n",
       " '__hash__',\n",
       " '__init__',\n",
       " '__init_subclass__',\n",
       " '__le__',\n",
       " '__lt__',\n",
       " '__module__',\n",
       " '__ne__',\n",
       " '__new__',\n",
       " '__reduce__',\n",
       " '__reduce_ex__',\n",
       " '__repr__',\n",
       " '__setattr__',\n",
       " '__sizeof__',\n",
       " '__str__',\n",
       " '__subclasshook__',\n",
       " '__weakref__',\n",
       " 'a',\n",
       " 'd',\n",
       " 'some_cls_method']"
      ]
     },
     "execution_count": 28,
     "metadata": {},
     "output_type": "execute_result"
    }
   ],
   "source": [
    "dir(b)"
   ]
  },
  {
   "cell_type": "code",
   "execution_count": 3,
   "metadata": {},
   "outputs": [
    {
     "name": "stdout",
     "output_type": "stream",
     "text": [
      "global\n",
      "class attr\n",
      "global\n"
     ]
    }
   ],
   "source": [
    "a = 'global'\n",
    "class A(object):\n",
    "    a = 'class attr'\n",
    "    # Du point de vue du nom a ci-dessous, c'est la règle LEGB qui s'applique, le scope\n",
    "    # local étant le corps de la classe\n",
    "    b = a \n",
    "    def __init__(self):\n",
    "        self.a = 'inst attr'\n",
    "    # L'enclosing scope d'une méthode est l'enclosing scope de la classe \n",
    "    # et non le reste du corps de la classe\n",
    "    def do_smth(self):\n",
    "        print(a)\n",
    "    \n",
    "class B(object):\n",
    "    b = a\n",
    "    \n",
    "a_inst = A()\n",
    "a_inst.do_smth()\n",
    "print(a_inst.b)\n",
    "b_inst = B()\n",
    "print(b_inst.b)"
   ]
  },
  {
   "cell_type": "code",
   "execution_count": 50,
   "metadata": {},
   "outputs": [
    {
     "data": {
      "text/plain": [
       "function"
      ]
     },
     "execution_count": 50,
     "metadata": {},
     "output_type": "execute_result"
    }
   ],
   "source": [
    "type(A.do_smth)"
   ]
  },
  {
   "cell_type": "code",
   "execution_count": 29,
   "metadata": {},
   "outputs": [],
   "source": [
    "class C(object):\n",
    "    def some_instance_method(self):\n",
    "        pass\n",
    "    \n",
    "    @classmethod\n",
    "    def some_class_method(cls):\n",
    "        pass\n",
    "    \n",
    "    @staticmethod\n",
    "    def some_static_method():\n",
    "        pass\n",
    "    \n",
    "c = C()"
   ]
  },
  {
   "cell_type": "code",
   "execution_count": 30,
   "metadata": {},
   "outputs": [
    {
     "name": "stdout",
     "output_type": "stream",
     "text": [
      "<function C.some_instance_method at 0x7fe95c7830d0>\n",
      "<classmethod object at 0x7fe95c7991d0>\n",
      "<staticmethod object at 0x7fe95c799080>\n"
     ]
    }
   ],
   "source": [
    "print(C.__dict__['some_instance_method'])\n",
    "print(C.__dict__['some_class_method'])\n",
    "print(C.__dict__['some_static_method'])"
   ]
  },
  {
   "cell_type": "code",
   "execution_count": 31,
   "metadata": {},
   "outputs": [
    {
     "name": "stdout",
     "output_type": "stream",
     "text": [
      "function\n",
      "classmethod\n",
      "staticmethod\n"
     ]
    }
   ],
   "source": [
    "print(type(C.__dict__['some_instance_method']).__name__)\n",
    "print(type(C.__dict__['some_class_method']).__name__)\n",
    "print(type(C.__dict__['some_static_method']).__name__)\n",
    "# Pas étonnant \n",
    "# 1. Une méthode d'instance est définie comme une fonction et en fait stockée comme tel dans\n",
    "# le __dict__\n",
    "# 2. Le décorateur se traduit par le passage de la méthode d'instance \"classique\" au \n",
    "# constructeur du descripteur Classmethod qui est l'objet finalement stocké dans __dict__\n",
    "# 3. Idem que 2. mais pour le constructeur du descripteur Staticmethod"
   ]
  },
  {
   "cell_type": "code",
   "execution_count": 33,
   "metadata": {},
   "outputs": [
    {
     "name": "stdout",
     "output_type": "stream",
     "text": [
      "<function C.some_instance_method at 0x7fe95c7830d0>\n",
      "<bound method C.some_class_method of <class '__main__.C'>>\n",
      "<function C.some_static_method at 0x7fe95c783268>\n"
     ]
    }
   ],
   "source": [
    "print(C.some_instance_method)\n",
    "print(C.some_class_method)\n",
    "print(C.some_static_method)"
   ]
  },
  {
   "cell_type": "code",
   "execution_count": 9,
   "metadata": {},
   "outputs": [
    {
     "name": "stdout",
     "output_type": "stream",
     "text": [
      "function\n",
      "method\n",
      "function\n"
     ]
    }
   ],
   "source": [
    "print(type(C.some_instance_method).__name__)\n",
    "print(type(C.some_class_method).__name__)\n",
    "print(type(C.some_static_method).__name__)"
   ]
  },
  {
   "cell_type": "code",
   "execution_count": 34,
   "metadata": {},
   "outputs": [
    {
     "name": "stdout",
     "output_type": "stream",
     "text": [
      "<bound method C.some_instance_method of <__main__.C object at 0x7fe95c799048>>\n",
      "<bound method C.some_class_method of <class '__main__.C'>>\n",
      "<function C.some_static_method at 0x7fe95c783268>\n"
     ]
    }
   ],
   "source": [
    "print(c.some_instance_method)\n",
    "print(c.some_class_method)\n",
    "print(c.some_static_method)"
   ]
  },
  {
   "cell_type": "code",
   "execution_count": 12,
   "metadata": {},
   "outputs": [
    {
     "name": "stdout",
     "output_type": "stream",
     "text": [
      "method\n",
      "method\n",
      "function\n"
     ]
    }
   ],
   "source": [
    "print(type(c.some_instance_method).__name__)\n",
    "print(type(c.some_class_method).__name__)\n",
    "print(type(c.some_static_method).__name__)"
   ]
  },
  {
   "cell_type": "markdown",
   "metadata": {},
   "source": [
    "### Les dictionnaires de classe et d'instance \n",
    "Une classe (*base classes* comme les métaclasses) comme les instances de classes constituent chacune du point de vue du *lexical scoping* un environnement local. Ce namespace est dans les deux cas implémenté à l'aide d'un dictionnaire dans lequel sont recherchées les références à un attribut. Ce dictionnaire est accessible et correspond à l'attribut ```__dict__```. L'appel à la *built-in function* ```vars``` retourne également ```__dict__```.\n",
    "\n",
    "Remarque : la notion d'environnement local est plus évidente pour les fonctions, cet environnement étant borné au corps de la fonction (*lexical scoping*). Le *namespace* correspondant est accessible via l'attribut ```__dict__``` de la fonction. Cela n'a rien d'étonnant, les fonctions étant en Python des objets à part entières, des instances du type ```function``` (*functions as first-class citizen*). De façon analogue dans le cas des classes, l'étendue de l'environnement local correspond au corps de la classe.\n",
    "\n",
    "Le dictionnaire d'une classe contiendra attributs de classes et méthodes (qui dans le dictionnaire sont des objets ```functions```). Le dictionnaire d'une instance contiendra les attributs d'instance (le plus souvent définis dans ```__init__```).\n",
    "\n",
    "Remarque : Les updates du ```__dict__``` ne se font pas directement mais via les *magic methods* ```__setattr__``` et ```__delattr__``` ou leurs *built-ins* correspondant : ```setattr``` et ```del``` respectivement.\n",
    "\n",
    "Attention : En présence de descripteurs (cf. plus loin), l'objet retourné lors de l'*attribute access* peut être différent de celui présent dans le ```__dict__``` : ```C.__dict__['x']``` et ```C.x``` peuvent être différents. Par exemple, pour une *static method*, l'objet stocké dans le dictionnaire est un descripteur de type ```staticmethod``` mais celui retourné via l'*attribute access* est une ```function```.\n",
    "\n",
    "#### Différence entre les *built-ins* ```dir``` et ```vars```\n",
    "```vars``` retourne le contenu du ```__dict__``` de l'objet qui lui est passé. Si l'objet est un ```object```, ```vars``` retourne un ```dict```. Dans le cas d'un ```type```, ```vars``` retourne un object ```MappingProxy```. Dans les deux cas, il s'agit d'un objet implémentant la classe abstraite ```Mapping```. ```dir``` retourne une liste d'attributs valides pour l'objet qui lui est passé (sous forme d'une ```list``` de ```str```). Le contenu est fonction de l'implémentation faite de la *magic method* ```__dir__``` mais dans le cas général, il s'agira du contenu du ```__dict__``` de l'object, de celui de sa *base class*, etc. jusqu'à en arriver à ```object``` (si l'objet passé est une instance ou une *base class* héritant ultimement de ```object```) ou ```type``` (si l'objet passé est une métaclasse). ```dir``` récolte en fait récursivement les noms de tous les objets accessibles via l'attribute access. \n",
    "\n",
    "Exemple rappelant que les méthodes sont des attributs du type et non de l'instance.\n",
    "\n",
    "### *Attribute access* : *la magic method* ```.```\n",
    "L'access à un attribut passe le plus souvent par l'usage de l'*infix* ```.``` (plus \"naturel\" que l'utilisation équivalente de la built-in function ```getattr```), sucre syntaxique équivalent à l'appel de la *class method* ```__getattribute__```. Sans surcharge, c'est finalement la méthode ```__getattribute__``` de ```object``` ou de ```type``` qui est appelée en fonction du type d'*attribute access*:\n",
    "* Le *class attribute access*: ```A.x``` est équivalent à ```type.__getattribute__(A, 'x')``` : on requête l'attribut ```x``` de l'instance ```A``` du type ```type```.\n",
    "* L'*instance attribute access*: ```a.x``` est équivalent à ```object.__getattribute__(a, 'x')``` : on requête l'attribut ```x``` de l'instance ```a``` (de la classe ```A```) du type ```object```.\n",
    "\n",
    "Remarque : On parle aussi de *binding* (liaison) et plus précisément de *class* et *instance binding* pour ```b.x``` et ```B.x``` respectivement - cf. plus loin.\n",
    "\n",
    "Qu'il soit de type ```object``` ou ```type```, tout objet implémente les méthodes ```__getattribute__``` (à distinguer de ```__getattr__```, cf. plus loin), ```__setattr__```, et ```__delattr__``` qui sont au minimum héritées de ```object``` ou ```type```. La première implémente l'accès à l'attribut d'un objet, la seconde l'assignation d'une valeur à un attribut (opérations ```a.x = val``` ou ```A.x = val```) et la dernière supprimant la paire clé-valeur du dictionnaire de l'objet. Ces trois *magic methods* sont également celles appelées lors de l'utilisation des *built-in functions* ```getattr```, ```setattr``` et du *statement* ```del``` respectivement. \n",
    "\n",
    "Remarque: Ne pas confondre les méthodes précitées avec ```__getitem__``` et ```__setitem__``` qui sont les *magics methods* derrière le sucre syntaxique ```x[]``` permettant l'accès à une valeur via son index. Ex: ```some_list[0]```, ```some_dict['some_key']```.\n",
    "\n",
    "L'*attribute access* fait exception à la règle LEGB qui ne s'appliquent pas à la résolution du nom de l'attribut recherché (en fait seul le L s'applique : on commence par aller voir dans le ```__dict__``` de l'objet qui correspond au *namespace local*). D'autres règles s'appliquent notamment dans les cas où:\n",
    "* Le nom de l'attribut n'a pas été trouvé dans le ```__dict__``` de l'objet (ie: dans l'environnement local) sur lequel l'*attribute access* a été appelé. Où alors remonter comme on le ferait dans la règle LEGB ?\n",
    "* Le nom de l'attribut recherché se trouve à plusieurs endroits de la *look-up chain*. Quelle règle de précédence alors appliquer ? On verra que la présence de descripteurs vient modifier la précédence la plus \"naturelle\" du premier rencontré, premier retourné dans le cas de l'*instance attribute access*.\n",
    "\n",
    "### Les descripteurs\n",
    "Un descripteur est un objet dont la classe implémente certaines méthodes bien définies (on parle aussi de *Descriptor protocol*). Ces objets ont de particulier qu'ils ne peuvent être qu'attributs de classe, la classe dont ils sont attribut étant appelée ***owner class***. Le descripteur peut en particulier faire office de *getter* (et éventuellement de *setter*) pour cet attribut. Exemples d'application : dans le cas d'une API : on peut modifier les *getters*/*setters* sans casser l'API, un *setter* peut permettre d'implémenter une logique de validation des données, des gains de performance en rendant l'évaluation des attributs lazy, etc.. Les applications des descripteurs sont assez larges et permettent par exemple une implémentation élégante de l'encapsulation ou de certains *design patterns* en Python (cf. l'exemple d'un *observer* dans l'article de [Sam & Max](http://sametmax.com/les-descripteurs-en-python/). \n",
    "\n",
    "Les descripteurs sont également à la base de l'implémentation d'importantes *features* de Python, les classes ```property```, ```classmethod```, ```staticmethod``` (qui se cachent derrière les décorateurs ```@property```, ```@classmethod``` et ```@staticmethod``` respectivement) et ```function``` implémentant toutes le *descriptor protocol*. L'implémentation du *built-in* ```super``` se repose également sur le *descriptor protocol*. \n",
    "\n",
    "Techniquement, un descripteur Python est une classe implémentant une ou plusieurs des trois méthodes ```__get__```, ```__set__``` et ```__del__```. On distingue notamment les cas particuliers : \n",
    "* D'une classe implémentant les méthodes ```__get__``` **et** ```__set__``` : on parle de ***data descriptor***.\n",
    "* D'une classe implémentant la méthode ```__get__``` **mais pas** ```__set__``` : on parle de ***non-data descriptor***.\n",
    "\n",
    "Dans le contexte de l'*attribute access*, la présence de descripteurs importe car elle peut modifier l'ordre dans lequel un attribut est recherché et donc éventuellement la valeur retournée. En particulier, l'accès à un attribut qui est également un descripteur va retourner la valeur produite par ```__get__``` et non l'objet lui-même.\n",
    "\n",
    "On rappelle qu'un descripteur ne peut être qu'un attribut de classe (membre du ```__dict__``` de la classe). Un descripteur attribut d'instance n'a pas plus de sens que de contrôler l'accès aux attributs d'une instance en particulier. Par ailleurs, l'implémentation de ```__getattribute__``` n'attend les descripteurs que comme attributs de classe : si on assigne un descripteur à un attribut d'instance, alors ```a.x``` ne retournera pas la valeur produite par ```__get__``` mais l'objet descripteur lui-même.\n",
    "\n",
    "### *Look-up chain* et *look-up order* en l'absence de descripteurs\n",
    "Cette partie vise à expliquer quelle est la chaîne d'environnement utilisée pour la résolution du nom ```x``` lors de l'évaluation de ```a.x``` ou de ```A.x``` (*look-up chain*) et dans quel est l'ordre de priorité prévalant si le nom est présent à plusieurs endroits de la chaîne (*look-up order*).\n",
    "Que des attributs de classe soient des descripteurs ou pas, la *look-up chain* correspondra toujours : \n",
    "* Dans le cas de l'*instance attribute access* : au dictionnaire de l'instance suivi des dictionnaires des différentes *base classes* dans l'ordre MRO.\n",
    "* Dans le cas du *class attribute access* : au dictionnaire de la classe suivi des dictionnaires de ses différentes *base classes* dans l'ordre MRO.\n",
    "\n",
    "Dans les deux cas, les dictionnaires de la ou des métaclasse(s) ne font pas partie de la *look-up chain*. De même, dans les deux cas, si le nom recherché n'a pu être trouvé dans aucun des dictionnaires de la look-up chain, la méthode ```__getattr__``` est finalement appelée retournant au pire une ```AttributeError```. Si ```__getattr__``` n'est pas implémentée, on se voit de la même façon retourner une ```AttributeError```.\n",
    "\n",
    "Remarque : Dans le cas d'un *class attribute access* ```A.x``` où ```A``` est une métaclasse, la même règle s'applique que pour les *base classes* : la *look-up chain* est constituée du dictionnaire de la métaclasse et de ceux de ses parents dans l'ordre MRO.\n",
    "\n",
    "**En l'absence de descripteurs, la valeur retournée se trouve toujours dans le premier dictionnaire de la *look-up chain* présentant la clé (le nom) recherché.**\n",
    "\n",
    "Remarque : l'invocation implicite des *special methods* (invocation explicite: ```x.__len__()``` vs invocation implicite : ```len(x)```) fait exception à la procédure écrite ci-dessus : \n",
    "* ```__getattribute__``` est contournée et n'est pas appelée : ```x.__len__()``` entraine un appel à ```object.__getattribute__``` mais pas ```len(x)```.\n",
    "* Le dictionnaire de classe ne fait pas partie de la look-up chain, sans celà certaines *magic methods* également implémentées pour les ```type``` comme ```hash``` ou ```repr``` ne seraient jamais appelées : ```repr(int)``` n'appelerait jamais ```type.__repr__()```.  \n",
    "\n",
    "#### Différence entre ```__getattribute__``` et ```__getattr__``` :\n",
    "```__getattr__``` n'est appelée que si l'attribut recherché n'a pas pu être trouvé suivant la procédure normale de recherche. L'implémenter est intéressant si on souhaite avoir un comportement particulier en cas de requête d'un attribut non encore existant (retour d'une valeur par défaut, etc.). ```__getattribute__``` est à l'opposé toujours appelée lors de la requête d'un attribut et c'est précisément cette méthode qui implémente la procédure de *look-up* décrite ci-dessus. C'est ```__getattribute__``` qui peut être amenée à appeler ```__getattr__``` en dernière nécessité.\n",
    "\n",
    "Remarque : afin d'être appelée, la méthode ```__getattr__``` doit respecter la signature suivante : ```__getattr__(self, attr)```.\n",
    "\n",
    "Si la *looked-up value* se révèle être un objet descripteur, alors le *look-up order* \"traditionnel\" présenté ci-dessus peut être chamboulé, les différences dépendant de la nature du descripteur (*data descriptor* ou *non-data descriptor*) et de comment il a été appelé (*class* ou *instance attribute access*).\n",
    "\n",
    "### *Look-up order* en présence de descripteurs dans la *look-up chain*\n",
    "L'impact de la présence d'un descripteur sur la valeur retourné lors de l*attribute access* dépend de sa nature ainsi que de celle de l'objet (```object``` ou ```type```) sur lequel a été appelé le *dotted access*. \n",
    "\n",
    "En présence de descripteurs dans les attributs de classe, le *look-up order s'organise comme suit: \n",
    "* *Class attribute access* : La valeur retournée est prise dans le premier dictionnaire du *look-up order* où apparait le nom. Soit est retourné l'objet correspondant à la valeur (inclut le cas d'un descripteur sans ```__get__```), soit la valeur retournée par ```__get__``` si l'objet associé à la clé se révèle être un descripteur implémentant la méthode. Si la clé n'apparait dans aucun dictionnaire des classes du MRO alors ```__getattr__``` est finalement appelée retournant au pire une ```AttributeError```. Il n'y a finalement quasiment pas de différence avec le cas de l'absence de descripteurs mis à part l'appel à ```__get__``` au lieu de retourner l'objet.\n",
    "* *Instance attribute access* : Si le nom existe à la fois dans le dictionnaire de l'instance et dans au moins un des dictionnaires des *bases classes*, alors la valeur retournée est déterminée par l'ordre de priorité suivant (arbitrage entre la valeur du dictionnaire d'instance et la valeur présente dans le premier dictionnaire de classe du MRO contenant le nom recherchée): \n",
    "    * Un *data descriptor* (donc forcément dans le dictionnaire d'une *base class*) a priorité sur une variable d'instance.\n",
    "    * Une variable d'instance a priorité sur un *non-data descriptor* ou tout autre variable de classe qui n'est pas un descripteur.\n",
    "    * Un *non-data descriptor* (ou tout autre variable de classe) a priorité sur ```__getattr__``` (appelé si le *look-up* du nom n'a rien donné).\n",
    "\n",
    "Les procédures de *look-up* décrites ci-dessus sont implémentées par les méthodes ```__getattribute__``` de ```object``` et de ```type``` pour l'*instance attribute access* et le *class arribute access respectivement*. L'appel d'un descripteur destiné à retourner la valeur d'un attribut ```x``` correspond finalement au code suivant : \n",
    "* Dans le cas de l'*instance attribute access* : ```object.__getattribute__``` finit par exécuter ```type(c).__dict__['x'].__get__(c, type(c))``` (si *binding* il doit y avoir dans ```__get__```, c'est l'instance qui sera liée à l'objet retourné par ```__get__```).\n",
    "* Dans le cas du *class attribute access* : ```type.__getattribute__``` finit par exécuter ```C.__dict__['x'].__get__(None, C)``` (si binding il doit y avoir dans ```__get__```, c'est le type, la classe qui sera liée à l'objet retourné par ```__get__```).\n",
    "\n",
    "Remarque: Surcharger ```__getattribute__``` est déconseillé car on risque fortement de ne pas réussir à conserver la logique présentée ci-dessus, les descripteurs risquant par exemple de ne plus être appelés.\n",
    "\n",
    "Remarque : **Rapports entre *attribute look-up order* et règle LEGB** : Il doit sans doute falloir ici distinguer variable liée et variable libre (définit comme le cas opposé) : \n",
    "* Quand on écrit ```A.x```, la règle LEGB est en quelque sorte ignorée : la chaîne de *namespaces* servant à la résolution du nom ```x``` est donnée par l'implémentation de la méthode ```__getattribute__``` de la classe ```A``` à laquelle ```x``` est lié. On est dans le cas dit **lié** (*bound*), le nom ```x``` est lié à un contexte particulier permettant sa résolution : l'objet ```A```. \n",
    "* A l'opposé on est dans le cas dit **libre** : si on écrit simplement ```x``` (même dans le corps d'une classe ou d'une méthode), c'est la règle LEGB qui va s'appliquer pour la résolution des noms (le corps de la classe ou de la méthode faisant office d'environnement local). On rappelle au passage que dans le cas des fonctions, une *closure* se définit comme le couple formé par la fonction et l'ensemble de ses variables libres.\n",
    "\n",
    "### Un exemple d'utilisation des descripteurs pour le contrôle de l'accès : l'objet ```property```\n",
    "Remarque : ```property(fget, fset, fdel, doc)``` retourne un objet (un *data descriptor*) de type ```property```.\n",
    "\n",
    "Le code à exécuter autour de l'accès, l'assignation ou la suppression est centralisé au niveau de la classe dans le descripteur, il est ainsi le même pour toutes les instances.  \n",
    "\n",
    "```property``` possède des méthodes de classe (```property.getter```, ```property.setter```, ```property.deleter```) qui permettent aussi de décorer plus finement des méthodes. \n",
    "\n",
    "https://docs.python.org/3.7/howto/descriptor.html\n",
    "\n",
    "### *Binding behavior* : exemple des méthodes \n",
    "Grace à leur méthode ```__get__```, les descripteurs peuvent posséder un *binding behavior* : ils peuvent retourner un objet liant plusieurs objets dont celui ayant suscité l'*attribute access*. C'est la logique derrière l'implémentation des *class methods* en Python par exemple. Pour une fonction définie dans le corps d'une classe et décorée avec ```@classmethod```, c'est un objet ```classmethod``` qu'on trouvera dans le dictionnaire de la classe. Cet objet est également un descripteur. Quand un objet cherchera à avoir accès à la méthode, ```__get__``` ne va pas retourner une ```function``` mais une ```method``` (*bound method*): si on souhaite l'appeler, pas besoin de lui passer le type explicitement, l'objet ```method``` lie justement le type et la fonction, l'appel se fera implicitement sur ce type. \n",
    "\n",
    "L'objet ```staticmethod``` fonctionne de manière analogue mais retourne logiqument un objet ```function``` (*unbound method*) quel que soit le type d'accès (peut paraître ne servir à rien mais cela permet réellement de se distinguer d'une méthode d'instance qui retourne une *bound method* en *instance attribute access*). On remarque qu'il n'existe pas de décorateur ```@instancemethod``` : c'est par ce que les fonctions (objets ```function```) sont déjà des descripteurs. L'objet function possède en effet une méthode ```__get__``` qui suivant les arguments qui lui sont passés va retourner un object ```function``` ou ```method``` (*bound method*). Les arguments lui sont notamment passés par ```__getattribute__``` en fonction du type d'accès. \n",
    "\n",
    "Le code donne une idée de ce que pourrait donner en pur Python les comportements décrits ci-dessus: \n",
    "```python\n",
    "class Function(object):\n",
    "    \n",
    "    def __get__(self, obj, type=None):\n",
    "        if obj is None:\n",
    "            return self\n",
    "        return types.MethodType(self, obj)\n",
    "\n",
    "class StaticMethod(object):\n",
    "\n",
    "    def __init__(self, f):\n",
    "        self.f = f\n",
    "\n",
    "    def __get__(self, obj, type=None):\n",
    "        return self.f\n",
    "    \n",
    "class ClassMethod(object):\n",
    "\n",
    "    def __init__(self, f):\n",
    "        self.f = f\n",
    "\n",
    "    def __get__(self, obj, type=None):\n",
    "        if type is None:\n",
    "            type = obj.__class__\n",
    "        return types.MethodType(self.f, type)\n",
    "```\n",
    "\n",
    "Remarque: comme pour ```super``` ou ```property```, l'appel à ```staticmethod``` et ```classmethod``` ne sont en fait pas des appels à des fonctions mais des appels au constructeur des classes correspondantes.\n",
    "\n",
    "|*method* / *access type*|*instance access*|*class access*|*dict access*|\n",
    "|---|---|---|---|\n",
    "|*__instance method__*|*bound* ```method```|```function```|```function```|\n",
    "|*__class method__*   |*bound* ```method```|*bound* ```method```|```classmethod```|\n",
    "|*__static method__*  |```function```|```function```|```staticmethod```|\n",
    "\n",
    "Les arguments de la méthode ```__get__``` des descripteurs servent à passer l'objet à éventuellement lier dans la valeur de retour. Les signatures des trois méthodes caractérisant un descripteur sont les suivantes : \n",
    "* ```__get__(self, obj, type=None)``` : Méthode utilisée pour récupérer la valeur de l'attribut de l'instance ```obj``` (*instance attribute access*) ou de la classe ```type``` (*class attribute access*). Cette méthode retourne une valeur.\n",
    "* ```__set__(self, obj, value)``` : Méthode utilisée pour assigner une nouvelle valeur ```value``` à l'attribut de l'instance ```obj```. Cette méthode n'a pas de valeur de retour.\n",
    "* ```__delete__(self, obj)``` : Méthode utilisée pour supprimer l'attribut de l'instance ```obj```. Cette méthode n'a pas de valeur de retour.\n",
    "\n",
    "Dans le cadre du *look-up* implémenté par ```__getattribute__```, Les valeurs passées à ces fonctions dépendent du type d'accès. Ainsi, pour l'accès à un attribut ```x``` correspondant à un descripteur, ```__getattribute__``` transforme : \n",
    "* ```a.x``` en ```type(a).__dict__['x'].__get__(a, type(a))```\n",
    "* ```A.x``` en ```A.__dict__['x'].__get__(None, A)```\n",
    "\n",
    "En particulier, l'argument ```type``` de ```__get__``` est là pour le *class attribute access* (on trouve parfois cet argument nommé ```owner```, c'est trompeur, le type passé n'étant pas toujours l'*owner class* mais pouvant aussi être une sous-classe). A l'intérieur de ```__get__``` ces arguments permettent de faire la distinction entre les deux types d'accès (```if obj is None```) et de passer à ```__get__``` l'objet qu'il doit éventuellement se retrouver lié dans la valeur de retour.\n",
    "\n",
    "### L'objet ```super```\n",
    "Commençons par préciser que le built-in ```super``` n'est pas une fonction mais un objet : l'appel à ```super()``` est en fait un appel au constructeur de la classe ```super``` et retourne une instance de la classe ```super```.\n",
    "\n",
    "```super``` est un objet auquel on délègue le *look-up* d'attributs, le plus souvent des méthodes mais cela fonctionne quelque soit la nature du membre à récupérer (on peut récupérer de simples attributs). Ce faisant, on se repose en fait sur la méthode ```__getattribute__``` de ```super``` plutôt que sur celle d'```object``` ou de ```type``` pour l'*attribute access*. \n",
    "\n",
    "Remarque: Dans ```super(C, c).some_method()```, il se passe en fait trois choses:\n",
    "```python\n",
    "super(C, c).some_method() # est équivalent à : \n",
    "\n",
    "super_obj = super(C, c) # 1. instanciation d'un objet super\n",
    "mthd = super_obj.some_method # 2. récupération de la méthode via le dotted access / __getattribute__ de super\n",
    "mthd() # 3. appel de la méthode\n",
    "```\n",
    "\n",
    "Le constructeur de ```super``` prend deux arguments: \n",
    "* Le premier est toujours un type, il s'agit du point de départ de la *look-up chain*, cette dernière correspondant au MRO de l'objet passé en second argument. L'objet passé à ce premier argument est assigné à l'attribut ```__thisclass__``` de l'objet ```super``` retourné. \n",
    "* Le second attribut peut être un ```object``` ou un ```type``` avec comme restriction d'être une instance ou une sous-classe du premier argument respectivement. C'est le MRO de cet objet qui va constituer la *look-up chain*. L'objet passé en second argument est égalment celui auquel sera lié (*bound*) l'attribut recherché. Dans le cas des méthodes, cela va influer sur le type d'objet retourné (*bound* ou *unbound*): cf. Binding behavior. Par exemple ```super(C, c).some_method()``` peut être vu comme équivalent à ```c.some_method()``` (où la liaison entre ```c``` et ```some_method``` est explicite) mais avec un *look-up* réalisé avec le ```__getattribute__``` de ```super``` et non d'```object```. L'objet passé en second argument est assigné à l'attribut ```__self__``` de l'objet ```super``` retourné. Il existe également un attribut ```__self_class__``` égal au type du second argument ou à ```__self__``` dans les cas où ce second argument est un ```object``` ou un ```type``` respectivement. Le second argument est en réalité optionnel. En absence de second argument l'objet ```super``` est dit *unbound* et les attributs ```__self__``` et ```__self_class__``` sont égaux à ```None```.\n",
    "\n",
    "Remarque: Python 3 autorise un appel au constructeur de ```super``` sans arguments qui est équivalent à ```super(C, c)``` où ```c``` est l'instance courante dans le corps de la classe de laquelle est écrit le ```super()```.\n",
    "\n",
    "Les règles de *look-up* décrites plus haut s'appliquent de la même façon pour ```super``` notamment pour ce qui a trait à la présence de descripteurs. La seule chose qui diffère avec le ```__getattribute__``` classique de ```object``` ou ```type``` est la *look-up chain* utilisée sur laquelle on a un contrôle direct via le premier argument du constructeur de ```super```. Il semble également que ```super``` ne déclenche pas d'appel à ```__getattr__``` en cas de recherche infructueuse.\n",
    "\n",
    "*Unbound super object* \n",
    "On s'intéresse au cas particulier de l'objet ```super``` retourné par un constructeur auquel on a passé qu'un seul argument. C'est un objet à l'usage restreint et peu évident et finalement déconseillé, l'*unbound super object* risquant même d'être déprécié dans le futur. \n",
    "\n",
    "L'*attribute access* via ```super``` réalise en fait la liaison ```__self__.some_method``` par exemple. Or dans le cas de l'*unbound super object*, cela n'est pas possible (```None.some_method``` n'ayant aucun sens et finirait inévitablement par une erreur). Il n'est pas possible d'utiliser un *unbound super object* directement pour l'*attribute access*, il faut nécessairement le *rebound* avant. Il est nécessaire pour cela d'utiliser la méthode ```__get__``` de ```super```. Ainsi :\n",
    "```super(C).__get__(c)``` est équivalent à ```super(C, c)```\n",
    "```super(C).__get__(C)``` est équivalent à ```super(C, C)```\n",
    "\n",
    "Dit autrement : \n",
    "```super(C).some_method()``` va renvoyer une erreur (Python ne sait pas à quel objet *bound* l'objet retourné par ```__dict__['some_method']```). A l'opposé, ```super(C).__get__(c).some_method()``` fonctionne et est équivalent à ```super(C, c).some_method()```, on a donc aucun intérêt à utiliser la première syntaxe qui est en plus beaucoup plus obscure. \n",
    "\n",
    "Les restrictions s'appliquant à l'argument passé à ```__get__``` sont les mêmes que s'il avait été passé en seconde position au constructeur (```__get__``` retourne en fait un nouvel objet ```super```).\n",
    "\n",
    "Il peut paraître étrange d'en passer par ```__get__``` pour *rebound* l'objet, mais cette méthode a justement été prévue pour le cas de l'*unbound super object* pour son seul réel cas d'usage : on place un *unbound super object* en attribut d'une classe, le fait qu'il soit aussi un (*non-data*) *descriptor* permet que l'objet retourné en cas d'*attribute access* soit *rebound* (à l'objet sur lequel s'est fait d'*attribute access*) et utilisable. L'*unbound super object* n'est pas fait pour être utilisé directement.\n",
    "\n",
    "On termine sur un exemple d'implémentation de ```super``` en pur Python donnée par Guido van Rossum dans ce [post](https://www.python.org/download/releases/2.2.3/descrintro/#cooperation): \n",
    "\n",
    "```python\n",
    "class Super(object):\n",
    "    def __init__(self, type, obj=None):\n",
    "        self.__type__ = type\n",
    "        self.__obj__ = obj\n",
    "    \n",
    "    def __get__(self, obj, type=None):\n",
    "        if self.__obj__ is None and obj is not None:\n",
    "            return Super(self.__type__, obj)\n",
    "        else:\n",
    "            return self\n",
    "\n",
    "    def __getattribute__(self, attr):\n",
    "        if isinstance(self.__obj__, self.__type__):\n",
    "            starttype = self.__obj__.__class__\n",
    "        else:\n",
    "            starttype = self.__obj__\n",
    "        \n",
    "        mro = iter(starttype.__mro__)\n",
    "        for cls in mro:\n",
    "            if cls is self.__type__:\n",
    "                break\n",
    "\n",
    "        for cls in mro:\n",
    "            if attr in cls.__dict__:\n",
    "                x = cls.__dict__[attr]\n",
    "                if hasattr(x, \"__get__\"):\n",
    "                    x = x.__get__(self.__obj__)\n",
    "                return x\n",
    "        raise AttributeError(attr)\n",
    "```\n",
    "## Autre\n",
    "https://docs.python.org/3/reference/datamodel.html#implementing-descriptors\n",
    "https://docs.python.org/3.7/howto/descriptor.html\n",
    "https://docs.python.org/3.6/tutorial/classes.html#method-objects\n",
    "\n",
    "https://late.am/post/2015/05/07/optimize-python-with-closures.html\n",
    "\n",
    "Autre exemple de protocol : iterator protocol \n",
    "https://docs.python.org/2/library/stdtypes.html#iterator-types\n",
    "https://docs.python.org/3/reference/compound_stmts.html#the-for-statement\n",
    "\n",
    "Name binding / scoping\n",
    "Binding is intimately connected with scoping, as scope determines which names bind to which objects – at which locations in the program code (lexically) and in which one of the possible execution paths (temporally). \n",
    "\n",
    "Sur __new__ https://www.python.org/download/releases/2.2.3/descrintro/#__new__\n",
    "\n",
    "Attention aux attributs de classe : on rappelle qu'ils sont partagés par toutes les instances. Il est déconseillé qu'ils soient mutables.\n",
    "\n",
    "Methods may reference global names in the same way as ordinary functions. The global scope associated with a method is the module containing its definition. (A class is never used as a global scope.) While one rarely encounters a good reason for using global data in a method, there are many legitimate uses of the global scope: for one thing, functions and modules imported into the global scope can be used by methods, as well as functions and classes defined in it. Usually, the class containing the method is itself defined in this global scope, and in the next section we’ll find some good reasons why a method would want to reference its own class."
   ]
  },
  {
   "cell_type": "code",
   "execution_count": 5,
   "metadata": {},
   "outputs": [
    {
     "data": {
      "text/plain": [
       "mappingproxy({'__repr__': <slot wrapper '__repr__' of 'super' objects>,\n",
       "              '__getattribute__': <slot wrapper '__getattribute__' of 'super' objects>,\n",
       "              '__get__': <slot wrapper '__get__' of 'super' objects>,\n",
       "              '__init__': <slot wrapper '__init__' of 'super' objects>,\n",
       "              '__new__': <function super.__new__(*args, **kwargs)>,\n",
       "              '__thisclass__': <member '__thisclass__' of 'super' objects>,\n",
       "              '__self__': <member '__self__' of 'super' objects>,\n",
       "              '__self_class__': <member '__self_class__' of 'super' objects>,\n",
       "              '__doc__': 'super() -> same as super(__class__, <first argument>)\\nsuper(type) -> unbound super object\\nsuper(type, obj) -> bound super object; requires isinstance(obj, type)\\nsuper(type, type2) -> bound super object; requires issubclass(type2, type)\\nTypical use to call a cooperative superclass method:\\nclass C(B):\\n    def meth(self, arg):\\n        super().meth(arg)\\nThis works for class methods too:\\nclass C(B):\\n    @classmethod\\n    def cmeth(cls, arg):\\n        super().cmeth(arg)\\n'})"
      ]
     },
     "execution_count": 5,
     "metadata": {},
     "output_type": "execute_result"
    }
   ],
   "source": [
    "vars(super)"
   ]
  },
  {
   "cell_type": "code",
   "execution_count": 6,
   "metadata": {
    "scrolled": true
   },
   "outputs": [
    {
     "name": "stdout",
     "output_type": "stream",
     "text": [
      "Help on class super in module builtins:\n",
      "\n",
      "class super(object)\n",
      " |  super() -> same as super(__class__, <first argument>)\n",
      " |  super(type) -> unbound super object\n",
      " |  super(type, obj) -> bound super object; requires isinstance(obj, type)\n",
      " |  super(type, type2) -> bound super object; requires issubclass(type2, type)\n",
      " |  Typical use to call a cooperative superclass method:\n",
      " |  class C(B):\n",
      " |      def meth(self, arg):\n",
      " |          super().meth(arg)\n",
      " |  This works for class methods too:\n",
      " |  class C(B):\n",
      " |      @classmethod\n",
      " |      def cmeth(cls, arg):\n",
      " |          super().cmeth(arg)\n",
      " |  \n",
      " |  Methods defined here:\n",
      " |  \n",
      " |  __get__(self, instance, owner, /)\n",
      " |      Return an attribute of instance, which is of type owner.\n",
      " |  \n",
      " |  __getattribute__(self, name, /)\n",
      " |      Return getattr(self, name).\n",
      " |  \n",
      " |  __init__(self, /, *args, **kwargs)\n",
      " |      Initialize self.  See help(type(self)) for accurate signature.\n",
      " |  \n",
      " |  __repr__(self, /)\n",
      " |      Return repr(self).\n",
      " |  \n",
      " |  ----------------------------------------------------------------------\n",
      " |  Static methods defined here:\n",
      " |  \n",
      " |  __new__(*args, **kwargs) from builtins.type\n",
      " |      Create and return a new object.  See help(type) for accurate signature.\n",
      " |  \n",
      " |  ----------------------------------------------------------------------\n",
      " |  Data descriptors defined here:\n",
      " |  \n",
      " |  __self__\n",
      " |      the instance invoking super(); may be None\n",
      " |  \n",
      " |  __self_class__\n",
      " |      the type of the instance invoking super(); may be None\n",
      " |  \n",
      " |  __thisclass__\n",
      " |      the class invoking super()\n",
      "\n"
     ]
    }
   ],
   "source": [
    "help(super)"
   ]
  },
  {
   "cell_type": "code",
   "execution_count": 12,
   "metadata": {},
   "outputs": [],
   "source": [
    "class A(object):\n",
    "    a = 1\n",
    "    b = 2\n",
    "    \n",
    "class B(A):\n",
    "    b = 3\n",
    "    def __init__(self):\n",
    "        self.hello = 1\n",
    "        \n",
    "    \n",
    "    def hello(self):\n",
    "        print('hello')\n",
    "\n",
    "a=A()\n",
    "b=B()"
   ]
  },
  {
   "cell_type": "code",
   "execution_count": 13,
   "metadata": {
    "scrolled": true
   },
   "outputs": [
    {
     "data": {
      "text/plain": [
       "1"
      ]
     },
     "execution_count": 13,
     "metadata": {},
     "output_type": "execute_result"
    }
   ],
   "source": [
    "b.hello"
   ]
  },
  {
   "cell_type": "code",
   "execution_count": 21,
   "metadata": {
    "scrolled": true
   },
   "outputs": [
    {
     "ename": "AttributeError",
     "evalue": "'super' object has no attribute 'c'",
     "output_type": "error",
     "traceback": [
      "\u001b[0;31m---------------------------------------------------------------------------\u001b[0m",
      "\u001b[0;31mAttributeError\u001b[0m                            Traceback (most recent call last)",
      "\u001b[0;32m<ipython-input-21-252afc010e03>\u001b[0m in \u001b[0;36m<module>\u001b[0;34m()\u001b[0m\n\u001b[0;32m----> 1\u001b[0;31m \u001b[0msuper\u001b[0m\u001b[0;34m(\u001b[0m\u001b[0mB\u001b[0m\u001b[0;34m,\u001b[0m \u001b[0mb\u001b[0m\u001b[0;34m)\u001b[0m\u001b[0;34m.\u001b[0m\u001b[0mc\u001b[0m\u001b[0;34m\u001b[0m\u001b[0m\n\u001b[0m",
      "\u001b[0;31mAttributeError\u001b[0m: 'super' object has no attribute 'c'"
     ]
    }
   ],
   "source": [
    "super(B, b).c"
   ]
  },
  {
   "cell_type": "code",
   "execution_count": 5,
   "metadata": {},
   "outputs": [],
   "source": [
    "class SomeClass(object):\n",
    "    def __init__(self):\n",
    "        self._a = 0\n",
    "        \n",
    "    @property\n",
    "    def a(self):\n",
    "        print('Calling getter')\n",
    "        return self._a\n",
    "    \n",
    "    @a.setter\n",
    "    def a(self, value):\n",
    "        print('Calling setter')\n",
    "        self._a = value\n",
    "\n",
    "b = SomeClass()\n",
    "c = SomeClass()"
   ]
  },
  {
   "cell_type": "code",
   "execution_count": 9,
   "metadata": {},
   "outputs": [
    {
     "name": "stdout",
     "output_type": "stream",
     "text": [
      "Calling getter\n",
      "Calling getter\n"
     ]
    },
    {
     "data": {
      "text/plain": [
       "0"
      ]
     },
     "execution_count": 9,
     "metadata": {},
     "output_type": "execute_result"
    }
   ],
   "source": [
    "b.a\n",
    "c.a"
   ]
  }
 ],
 "metadata": {
  "kernelspec": {
   "display_name": "Python 3",
   "language": "python",
   "name": "python3"
  },
  "language_info": {
   "codemirror_mode": {
    "name": "ipython",
    "version": 3
   },
   "file_extension": ".py",
   "mimetype": "text/x-python",
   "name": "python",
   "nbconvert_exporter": "python",
   "pygments_lexer": "ipython3",
   "version": "3.7.0"
  }
 },
 "nbformat": 4,
 "nbformat_minor": 2
}
