{
 "cells": [
  {
   "cell_type": "markdown",
   "metadata": {},
   "source": [
    "Target: \n",
    "\n",
    "```bash\n",
    "echo \"{\\\"brand\\\": \\\"ol'name\\\"}\"\n",
    "```\n",
    "\n",
    "Si single quoted: impossible\n",
    "Si double quoted: all double quotes must be escaped\n",
    "\n",
    "```bash\n",
    "echo \"\\\"hello\\\"\" # -> \"hello\"\n",
    "```\n",
    "\n",
    "```bash\n",
    "echo '\\\"hello\\\"' # -> \\\"hello\\\"\n",
    "```\n",
    "\n",
    "quoting = remove meaning of special chars/words = prevent special treatments/reserved words reco/expansion. Ex: double quotes can be quoted inside double quotes if escaped with `\\`. Single quotes however, cannot be quoted (i.e. escaped) within single quotes.\n",
    "* backslash (= remove special meaning of a single char): bash escape (=preserve literal value of next char) char\n",
    "* single quote (=remove all special meaning/interpretation of a sequence of char (single quote excluded)): preserve literal value of all enclosed chars, single quotes not being allowed\n",
    "* double quote (=remove most special meaning/interpretation of a sequence of char): Preserve literal value of all chars, backtick, `$` `\\` (backslash: keep special meaning - i.e. are removed - if followed by backtick, `$`, `\"`, `\\` or `newline`) meaning that expansion mechanisms remain, and depending of the config, `!` "
   ]
  },
  {
   "cell_type": "markdown",
   "metadata": {},
   "source": [
    "Exception object\n",
    "`__context__`\n",
    "`__suppress_context__` => `bool`\n",
    "`__cause__`\n",
    "`__traceback__` : `traceback` object which encapsulates the call stack at the point where the exception originally occurred.\n",
    "`with_traceback`\n",
    "`args` => correspond aux arguments (forcément sans keyword) passés au constructeur de l'exception.\n",
    "\n",
    "https://julien.danjou.info/python-exceptions-guide/\n",
    "https://luminousmen.com/post/context-vs-cause-attributes-in-exception-handling\n",
    "https://www.python.org/dev/peps/pep-3134/\n",
    "https://www.python.org/dev/peps/pep-0409/\n",
    "https://www.teclado.com/30-days-of-python/python-30-day-24-exceptions-advanced\n",
    "https://blog.ram.rachum.com/post/621791438475296768/improving-python-exception-chaining-with\n",
    "https://stefan.sofa-rockers.org/2020/10/28/raise-from/\n",
    "https://stackoverflow.com/questions/17015230/are-nested-try-except-blocks-in-python-a-good-programming-practice\n",
    "\n",
    "`sys.exc_info()` => Returns a `(type, value, traceback)` tuple that gives informations about the exception that is currently being handled. Here, “handling an exception” is defined as “executing an except clause.” The information returned is specific both to the current thread and to the current stack frame. If the current stack frame is not handling an exception, the information is taken from the calling stack frame, or its caller, and so on until a stack frame is found that is handling an exception. If no exception is being handled anywhere on the stack, a tuple containing three None values is returned.\n",
    "* `type` gets the type (\"class object\") of the exception being handled (a subclass of `BaseException`)\n",
    "* `value` gets the exception instance (an instance of the `type`)\n",
    "* `traceback` gets a `traceback` object which encapsulates the call stack at the point where the exception originally occurred."
   ]
  },
  {
   "cell_type": "code",
   "execution_count": null,
   "metadata": {},
   "outputs": [],
   "source": [
    "class MyContextManager:\n",
    "    \n",
    "    def __init__(self, handle_error):\n",
    "        self._handle_error = handle_error\n",
    "    \n",
    "    def __enter__(self):\n",
    "        # Can return an object built in this method (connection, etc.)\n",
    "        pass\n",
    "    \n",
    "    def __exit__(self, exc_type, exc_val, exc_tb):\n",
    "        print(f'__exit__({exc_type}, {exc_val}, {exc_tb})')\n",
    "        if exc_type:\n",
    "            print(f\"Raised exception: {exc_type.__name__}\")\n",
    "        return self._handle_error"
   ]
  },
  {
   "cell_type": "markdown",
   "metadata": {},
   "source": [
    "### `__exit__` method\n",
    "If no exception occured in the block nested in the `with` statement is executed, all three arguments will be `None`. Otherwise, an exception is supplied. What happens next only depends on the value returned by the `__exit__` method. If the method returns `True` then the execption will not be reraised after exiting the `__exit__` method. We say that the exception has been suppressed and that we prevented its propagation. Otherwise, the exception is automatically reraised after exiting the method, the exception is being propagated. The `__exit__` method must therefore **not reraise** the passed-in exception."
   ]
  },
  {
   "cell_type": "code",
   "execution_count": null,
   "metadata": {},
   "outputs": [],
   "source": [
    "with MyContextManager(True):\n",
    "    raise Exception('Unhandled exception')"
   ]
  },
  {
   "cell_type": "code",
   "execution_count": null,
   "metadata": {},
   "outputs": [],
   "source": [
    "with MyContextManager(False):\n",
    "    raise Exception('Unhandled exception')"
   ]
  },
  {
   "cell_type": "markdown",
   "metadata": {},
   "source": [
    "Creating context managers the traditional way, by writing a class with `__enter__` and `__exit__` methods, is not difficult. But sometimes, some people consider it is more overhead than you need just to manage a trivial bit of context. In those sorts of situations, you can convert a generator function into a context manager using a dedicated decorator: `contextlib.contextmanager`.\n",
    "\n",
    "The `yield` statement of the generator function (which should yield **exactly once**) splits the function body into two parts. The section that precedes the `yield` statement is dedicated to initializing the context and plays a similar role as the `__enter__` method. The `yield` statement yields the control to the block within the `with` statement. The value yielded, if any, is bound to the variable in the `as` clause of the with statement. At the point where the generator yields, the block nested in the `with` statement is executed. The generator function is then reentered, the section following the `yield` statement being dedicated to closing the context. This section plays a similar role as the `__exit__` method.\n",
    "\n",
    "Uncaught exceptions from the `with` block are reraised right after reentry in the generator function where they can be handled (which requires the `yield` statement to be part of a `try...except...finally` block. The generator function may not be the appropriate location to handle the error, but catching it using a `try...except` construct allows at least to make sure that the context is closed properly.     \n",
    "\n",
    "If the exception is handled by the generator function, it indicates to the `with` statement that the handling took place and execution resumes immediately following the `with` statement. If for any reason (log, perform complex logic, etc.) we want the exception to be handled outside from the generator function, the function must reraise the exception (after performing the context closing logic)."
   ]
  },
  {
   "cell_type": "code",
   "execution_count": null,
   "metadata": {},
   "outputs": [],
   "source": [
    "import contextlib\n",
    "\n",
    "@contextlib.contextmanager\n",
    "def make_context():\n",
    "    print('Perform context initialization logic')\n",
    "    context_obj = dict()\n",
    "    try:\n",
    "        yield context_obj\n",
    "    except RuntimeError:\n",
    "        print('Exception handling logic')\n",
    "    finally:\n",
    "        print('Perform context closing logic')"
   ]
  },
  {
   "cell_type": "code",
   "execution_count": null,
   "metadata": {},
   "outputs": [],
   "source": [
    "with make_context() as context:\n",
    "    raise RuntimeError('Handled exception')"
   ]
  },
  {
   "cell_type": "code",
   "execution_count": null,
   "metadata": {},
   "outputs": [],
   "source": [
    "with make_context() as context:\n",
    "    raise AttributeError('Unhandled exception')"
   ]
  },
  {
   "cell_type": "markdown",
   "metadata": {},
   "source": [
    "Reminder: If a `finally` clause is present, the `finally` clause will execute as the last task before the `try` statement completes. The `finally` clause runs whether or not the `try` statement produces an exception. If an exception occurs during execution of the `try` clause, the exception may be handled by an `except` clause. We are garanteed that the `finally` clause always executes. In particular, if an exception is not handled by an `except` clause, the exception is automatically re-raised after the `finally` clause has been executed. An exception could occur during execution of an `except` or `else` clause. Again, the exception is automatically re-raised after the `finally` clause has been executed."
   ]
  },
  {
   "cell_type": "code",
   "execution_count": null,
   "metadata": {},
   "outputs": [],
   "source": [
    "@contextlib.contextmanager\n",
    "def make_context():\n",
    "    print('Perform context initialization logic')\n",
    "    context_obj = dict()\n",
    "    try:\n",
    "        yield context_obj\n",
    "    except Exception as e:\n",
    "        print('Exception is just caught, it is re-raised for further handling')\n",
    "        raise e\n",
    "    finally:\n",
    "        print('Perform context closing logic')"
   ]
  },
  {
   "cell_type": "code",
   "execution_count": null,
   "metadata": {},
   "outputs": [],
   "source": [
    "with make_context() as context:\n",
    "    raise Exception('Unhandled exception')"
   ]
  }
 ],
 "metadata": {
  "kernelspec": {
   "display_name": "Python 3",
   "language": "python",
   "name": "python3"
  },
  "language_info": {
   "codemirror_mode": {
    "name": "ipython",
    "version": 3
   },
   "file_extension": ".py",
   "mimetype": "text/x-python",
   "name": "python",
   "nbconvert_exporter": "python",
   "pygments_lexer": "ipython3",
   "version": "3.8.5"
  }
 },
 "nbformat": 4,
 "nbformat_minor": 4
}
