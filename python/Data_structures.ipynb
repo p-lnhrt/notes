{
 "cells": [
  {
   "cell_type": "markdown",
   "metadata": {},
   "source": [
    "## Built-in data structures \n",
    "Ce sont les types : list, string, tuple, dict, set et frozenset. On distingue : \n",
    "* Les séquences ordonnées (indexées) d'objets (Sequence types): list (mutable), string et tuple (immutable) + bytes (immutables) et bytearray (mutables) ? \n",
    "* Les séquences non-ordonnées d'objets uniques (Set types): set (mutable) et frozenset (immutable).\n",
    "* Les dictionnaires (mutables) (Mapping types).\n",
    "\n",
    "Les data structures de base font partie de la famille des built-in types. Les data structures peuvent se rattacher à plusieurs familles : \n",
    "* Sequence Types : Les trois sequence types de base sont list (mutable), tuple (immutable), range (?) - implémentent collections.abc.Sequence (?). D'autres sequence type existent et sont spécifiquement dédiés à la manipulation de strings et de données binaires.\n",
    "* Text Sequence Types : str (immutable)\n",
    "* Binary Sequence Types : bytes (immutable), bytearray (mutable), memoryview (?)\n",
    "* Set Types : set (mutable), frozensets (immutables)\n",
    "* Mapping Types : dict (mutable)\n",
    "\n",
    "La plupart des sequence types supportent l'ensemble des common sequence operations telle que rassemblées dans collections.abc.Sequence. A ce jeu de méthodes s'ajoutent celles des MutableSequences (rassemblées dans collection.abc.MutableSequence). Les séquences immutables se distinguent des mutables par leur support de la built-in function hash.\n",
    "\n",
    "Les list sont de Sequences implémentant toutes les méthodes des common sequence operations et MutableSequence ainsi qu'une méthode sort.\n",
    "\n",
    "Les séquences ordonnées (indexées) sont à Python ce que les Arrays sont à d'autres languages. Constituent ce qu'on appelle les Sequence types. Se distinguent : \n",
    "* Les listes : mutables, elles peuvent rassembler n'importe quel type d'objet.\n",
    "* Les strings : immutables, elles ne se composent que de characters.\n",
    "* Les tuples : immutables, ils peuvent rassembler n'importe quel type d'objet (y compris des objets mutables). Ils sont plus rapides et moins consommateurs de mémoire que les listes du fait de leur immutabilité.\n",
    "\n",
    "Remarque : les types immutables sont hashables et donc peut faire office de clés dans un dictionnaire (sauf s'ils renferment des objets mutables comme cela est possible avec les tuples). Les objets mutables (comparés par id plutôt que par valeur) ne peuvent constituer des clés valides pour un dictionnaire. \n",
    "\n",
    "Remarque : La principale différence générale entre types mutables et immutables est que les seconds supportent la built-in function hash (__hash__) mais pas les seconds.\n",
    "\n",
    "Sur les objets hashables : un objet est hashable si sa valeur de hachage (hash value) est constante au long de sa vie (ce qui implique que l'objet est immutable). Deux objets identiques doivent avoir la même hash value.\n",
    "\n",
    "Remarque : les séquences ordonnées implémentent le sequence unpacking :\n",
    "```\n",
    "x, y ,z = [1, 2, 3]\n",
    "x, y ,z = 'abc'\n",
    "x, y ,z = (1, 2, 3)\n",
    "```\n",
    "\n",
    "### Listes\n",
    "Les méthodes sort, reverse, clear opèrent in-place. Les listes supportent le slicing et les opérateurs + et *. Mettant à disposition une méthode pop et une méthode append, on peut implémenter à l'aide de listes :\n",
    "* Une stack (LIFO data structure)\n",
    "* Une queue (FIFO data structure) à l'aide de pop(0).\n",
    "Copier une liste :\n",
    "* La shallow copy peut se faire de 4 façons : \n",
    "    * l2 = list(l)\n",
    "    * l2 = l[:]\n",
    "    * l2 = copy.copy(l)\n",
    "    * l2 = l.copy()\n",
    "* La deep copy requiert de faire appel au package copy : \n",
    "    * l2 = copy.deepcopy(l)\n",
    "    \n",
    "Common sequence operations : les datastrutures de type sequence supportent toutes une même gamme d'opérations appelée common sequence operations (on les retrouve notamment toutes dans collections.abc.Sequence) : \n",
    "* Support de l'opérateurs in (pour certains types comme str, bytes, bytearray, l'opérateur peut être utilisé pour contrôler la présence de sous-séquences. Ex : 'gg' in 'egg')\n",
    "* Support de l'opérateur + (concaténation). Remarque : la concaténation d'objets immutables retourne obligatoirement un nouvel objet dont la création peut être assez longue (O(totlen²)). On peut se replier sur des alternatives en temps linéraire comme les class methods join des types str ou bytes par exemple. \n",
    "* Support de l'opérateur * (répétition et concaténation)\n",
    "* Support du slicing pour l'accès aux éléments : On peut écrite s[i:j:k] (sucre syntaxique faisant appel à __getitem__)\n",
    "* Support des fonctions len, min, max\n",
    "* Implémentation des méthodes count et index\n",
    "\n",
    "Remarque : Opérateur * : Attention, la séquence n'est pas dupliquée mais simplement référencée plusieurs fois :\n",
    "```pyhton\n",
    "l = [[]]*3 # l est égale à [[], [], []]\n",
    "l.append(3)\n",
    "print(l) # Retourne [[3], [3], [3]]\n",
    "```\n",
    "Les listes implémentent également toutes les méthodes des MutableSequences (collections.abc.MutableSequence) qui permettent :\n",
    "* L'ajout de nouveaux éléments :\n",
    "    * Par assignation : s[i:j] = iterable ou s[i] = x qui sont en fait des sucres syntaxiques faisant appel à __setitem__\n",
    "    * Par concaténation : append, extend, l'opérateur augmenté +=\n",
    "    * Par insertion : insert\n",
    "    * Autres opérations d'assignation : clear (depuis Python 3.3), reverse, opérateur augmenté *=\n",
    "* La suppression d'éléments existants qui doivent sans doute tous finir par appeler __delitem__ : del s[i:j:k], remove, pop\n",
    "* La shallow copy : copy (depuis Python 3.3)\n",
    "\n",
    "Les lists supportent une méthode supplémentaire en plus des common sequence operations et des mutable sequence operation : sort qui opère in-place et qui repose sur la possibilité de comparer et ordonner les différents éléments de la liste. \n",
    "\n",
    "Remarque : toutes les méthodes qui agissent et transforment l'objet le font in-place.\n",
    "\n",
    "Remarque : \n",
    "* ```sort``` : Modifie la liste in-place (là où la built-in function ```sorted``` retourne une nouvelle liste). Attention, la signature de la fonction change entre Python 2 et Python 3 passant de deux arguments (cmp et key) à un seul (key).\n",
    "\n",
    "Instanciation d'une liste vide : ```x = list()``` ou ```x = []```.\n",
    "\n",
    "Construire une liste :\n",
    "* Utilisation du constructeur list(iterable)\n",
    "* Séquence d'objets comprise entre []. Ex : [1, 2, 3]\n",
    "* List comprehension\n",
    "\n",
    "Les sequence types semblent tous supporter l'opérateur in (__contains__), la built-in function len (__len__) et l'itération (__iter__).\n",
    "\n",
    "### Tuples\n",
    "Un tuple est une séquence immutable d'objets hétérogènes.\n",
    "Créer un singleton exige une syntaxe un peu spéciale : (1, ). Les tuples supportent les opérateurs + et * (ainsi que += et *=). L'immutabilité implique moins de méthodes que pour les listes : pas de append mais toujours count et index. Leur immutabilité leur donne l'avantage d'être plus rapide que les liste, de protéger les données et de pouvoir être utilisés comme clés dans des dictionnaires.\n",
    "\n",
    "Méthodes : Immutable, le tuple ne propose que deux méthodes (faisant partie des common sequence operations) : count, index. Le tuple implémente l'ensemble des common sequence operations.\n",
    "\n",
    "Les tuples supportent les common sequence operations.\n",
    "\n",
    "Instanciation d'un tuple vide : ```x = tuple()``` ou ```x = ()```.\n",
    "\n",
    "Construire un tuple : \n",
    "* Utilisation du constructeur : tuple(iterable)\n",
    "* Séquence d'objets comprise entre (). Ex : (1, 2, 3)\n",
    "\n",
    "### Range\n",
    "Une range est une séquence immutable de nombres. \n",
    "\n",
    "Les range implémentent les common sequence operations sauf la concaténation (+) et la répétition (*), les ranges visant à représenter des séquences respectant un certain motifs que l'utilisation de ces méthodes viendrait violer.\n",
    "\n",
    "Construire une range : Se fait à l'aide de son constructeur : range(stop), range(start, stop), range(start, stop, step) avec de valeurs par défaut de 0 et 1 pour start et step respectivement.\n",
    "\n",
    "Python 2 ~> Python 3 : En Python 2, range retourne une liste d'entier et il existe une fonction additionnelle xrange qui retourne un générateur. En Python 3, range ne retourne plus qu'un générateur, xrange étant supprimée. Le range de Python 3 n'est pas qu'un alias pour xrange, le type range implémente en effet plus de fonctionnalité que xrange (qui lui permettent d'implémenter l'intégralité des common sequence operations et d'être ainsi une \"vraie\" Sequence, ce que xrange ne faisait pas).\n",
    "\n",
    "### Strings\n",
    "Les strings sont une séquence immutable de point de code Unicode. Elles implémentent l'ensemble des common sequence operations ainsi qu'un certain nombre de méthodes additionnelles.\n",
    "\n",
    "### Dictionnaires\n",
    "\"A mapping object maps hashable values to arbitrary objects. Mappings are mutable objects. There is currently only one standard mapping type, the dictionary.\"\n",
    "\n",
    "Ils sont à Python ce que les HashMap sont à d'autres languages, fait partie des Mapping type de Python.\n",
    "\n",
    "Méthodes : clear, copy, fromkeys, get, items, keys, pop, popitem, setdefault, update, values\n",
    "\n",
    "* Fonction len : compatible, retourne le nombre de paires.\n",
    "* Opérateur in : ne permet que de contrôle la présence d'une clé : k in dc va en fait contrôler la présence de k dans dc.keys().\n",
    "* Itération : l'écriture for x in dc: va en fait itérer sur la liste des clés du dictionnaire et est équivalente à la plus explicite for k in dc.keys():. Pour itérer sur les valeurs ou les paires, recourir aux méthodes values ou items respectivement : for v in dc.values: for k, v in dc.items():.\n",
    "\n",
    "Passage de Python 2 à Python 3 : \n",
    "En Python 2, l'utilisateur disposait de trois familles de méthodes pour accéder aux clés, valeurs ou paires composant le dictionnaire : \n",
    "* ```keys```, ```values```, ```items``` qui retournent une liste de clés, valeurs, tuples respectivement.\n",
    "* ```iterkeys```, ```itervalues```, ```iteritems``` qui retournent un itérateur de clés, valeurs, tuples respectivement.\n",
    "* ```viewKeys```, ```viewValues```, ```viewItems``` qui retournent une vue dues clés, valeurs, paires composant le dictionnaire. L'objet vue est dynamique dans le sens où tout changement dans le dictionnaire y est reflété. L'objet view est également itérable, l'appel de la fonction iter sur une vue retourne un itérateur comparable à celui retourné par les méthodes de la famille ```iter*```. Comme les méthodes de cette dernière famille, les valeurs des clés/valeurs/paires ne sont générés qu'au moment où on en a besoin.\n",
    "En Python 3 ne subsistent que les fonctions ```keys```, ```values```, ```items``` qui retournent un objet view. L'objet view n'est pas indexable mais on peut le convertir en liste au besoin : ```list(dc.keys())```. Une view étant itérable on peut directement boucler dessus : \n",
    "```python\n",
    "for k, v in dc.items():\n",
    "    print(k, v)\n",
    "```\n",
    "\n",
    "Jusqu'en Python 3.7 (3.6 pour certaines implémentations) exclu, l'ordre dans lequel on itère sur les clés/valeurs du dictionnaire est arbitraire sans être pour autant aléatoire. Cet ordre dépend de l'historique d'insertions/de suppressions d'éléments dans le dictionnaire, de l'implémentation de Python et de la valeur de la seed utilisée par la fonction de hachage. Attention, à partir de Python 3.3 et pour abolir la prédictivité de l'ordre d'itération, la seed est choisie aléatoirement à chaque invocation de l'interpréteur (variable d'environnement $PYTHONHASHSEED=random par défaut).  Depuis Python 3.7 (Python 3.6 pour certaines implémentation), il est garanti que l'itération se fait dans l'ordre d'insertion des éléments dans le dictionnaires. Dis autrement, l'ordre des clés du dans le dictionnaire sera le même que celui spécifié dans le code source. Avant Python 3.7, utiliser des ```collections.OrderedDict``` (introduits en Python 2.7) si garantir l'ordre d'itération est important. L'utilisation de ```collections.OrderedDict``` après Python 3.7 peut avoir de l'intérêt, ces derniers implémentant des méthodes permettant de réordonner le dictionnaire, ce que les ```dict``` n'implémentent pas.\n",
    "\n",
    "La préservation de l'ordre d'insertion est préservé dans l'implémentation de référence de Python (CPython) depuis la version 3.6 et est plus largement devenue une language feature depuis la 3.7. Quand même préférer l'utilisation d'OrderedDict plutôt que de se reposer sur cette feature du langage : notre code risquerait de crasher sur des versions antérieures à 3.6 et l'OrderedDict rend explicite notre intention de nous appuyer sur la préservation de l'ordre d'insertion.\n",
    "\n",
    "Remarques sur des méthodes ciblées : \n",
    "* ```clear``` : supprime in-place l'ensemble des paires du dictionnaire (l'objet conserve son id et est égal à ```{}``` après application de la méthode).\n",
    "* ```copy``` : crée une shallow copy du dictionnaire.\n",
    "* ```get``` : contrairement à ```d[key]``` ne lève pas de ```KeyError``` en cas d'absence de la clé mais retourne une valeur prédéfinie (```None``` par défaut)\n",
    "* ```popitem``` : Retourne et supprime un élément aléatoire du dictionnaire (avant Python 3.7). Depuis Python 3.7, retourne les éléments en ordre LIFO.\n",
    "* ```pop``` : Retourne et supprime du dictionnaire la paire correspondant à la clé passée à méthode. \n",
    "* ```update``` : Ajoute une ou plusieurs paires au dictionnaire. Permet de fusionner des dictionnaires.\n",
    "* ```setdefault``` : Si la clé existe déjà ne fait rien sinon la crée avec une valeur par défaut.\n",
    "\n",
    "Instanciation d'un dictionnaire vide : ```x = dict()``` ou ```x = {}```.\n",
    "\n",
    "## Sets\n",
    "Un set est une collection non ordonnées (et ne supporte donc pas des comportements de séquences comme le slicing, l'indexing, l'insertion à une certaine position, etc.) d'objets hashables uniques. Une utilisation courante et adapté de ces data structures sont le test d'appartenance à un ensemble, la suppression des doublons et la réalisation d'opérations ensemblistes (union, différence, etc.).\n",
    "\n",
    "Les opérations de comparaison de sets (==, >= et <=) ne permettent pas de définir une relation d'ordre totale (ex : pour deux sets disjoints, les trois opérations précédentes retournent False, on ne peut alors pas définir de relation d'ordre entre les deux). On ne peut donc appeler la méthode sort sur une liste de sets, son output étant indéfini.\n",
    "\n",
    "* Fonction len : compatible, retourne le nombre d'éléments.\n",
    "* Opérateur in : compatible, contrôle la présence d'un élément.\n",
    "* Itération : compatible.\n",
    "\n",
    "Méthodes : Correspond au jeu de méthodes des frozensets immutables augmenté des méthodes propre à un objet mutable : \n",
    "* Méthodes de frozenset (immutable) : copy, issubset, issuperset, isdisjoint, union, difference, intersection, symmetric_difference \n",
    "* Méthodes propre au caractère mutable : add, clear, discard, pop, remove, méthodes *_update : update (correspondrait à union_update), difference_update, intersection_update et symmetric_difference_update.\n",
    "\n",
    "Opérateurs : issubset (<= et <), issuperset (>= et >), union (|), difference (-), intersection (&), symmetric difference (^).\n",
    "\n",
    "Opérateurs augmentés : |= (update), -= (difference_update), &= (intersection_update), ^= (symmetric_difference_update)\n",
    "\n",
    "Instanciation d'un set vide : ```x = set()```\n",
    "\n",
    "Remarques sur quelques méthodes ciblées : \n",
    "* discard est équivalent à remove sauf que la première ne lève pas de KeyError en cas d'absence de l'élément à supprimer.\n",
    "* clear : supprime in-place l'ensemble des éléments du set. L'objet est toujours référencé et conserve son id et est égal au set vide {} après application de la méthode.\n",
    "* pop : retourne et supprime un élément arbitraire du set et lève une KeyError si le set est vide.\n",
    "\n",
    "## Frozensets\n",
    "\n",
    "Méthodes : copy, issubset, issuperset, isdisjoint, union, difference, intersection, symmetric_difference\n",
    "\n",
    "* Fonction len : compatible, retourne le nombre d'éléments.\n",
    "* Opérateur in : compatible, contrôle la présence d'un élément.\n",
    "* Itération : compatible.\n",
    "\n",
    "Opérateurs : issubset (<= et <), issuperset (>= et >), union (|), difference (-), intersection (&), symmetric difference (^).\n",
    "\n",
    "Instanciation d'un frozenset vide : ```x = frozenset()```\n",
    "\n",
    "## Comprehensions\n",
    "List comprehension : ```[x for x in iterable if condition]``` \n",
    "Dict comprehension : ```{f(x): g(x) for x in iterable if condition}``` ou ```{k: v for (k, v) in zippediterables if condition}```\n",
    "Set comprehension : ```{x for x in iterable if condition}```\n",
    "\n",
    "Il ne semble pas y avoir de comprehension pour les data structures immutables. On peut toutefois facilement générer des data structures immutables à partir d'une comprehension d'un type mutable. Exemple :\n",
    "```tuple([x for x in iterable if condition])```\n",
    "Dans le cas des tuples, on peut utiliser le fait que Python 3 supporte l'unpacking de générateurs. Ainsi ```*(x for x in iterable if condition)``` va retourner un tuple. \n",
    "\n",
    "## Module collections\n",
    "Apporte principalement des version aux fonctionnalités étendues des built-in datastructures : \n",
    "* namedtuple : usage ? https://docs.quantifiedcode.com/python-anti-patterns/readability/not_using_named_tuples_when_returning_more_than_one_value.html\n",
    "* ChainMap (Python 3.3+) : Structure comparable à une liste de (références vers des) dictionnaires et permettant de requêter une clé dans l'ensemble des dictionnaires de la chaîne inspectés successivements. Toute autre opération (toutes les opérations sur les dictionnaires sont supportées) ne s'appliquant qu'au premier dictionnaire de la liste/hiérarchie.\n",
    "* Counter : Objet permettant de dénombrer des objets hashables rassemblés au sein d'une autre structure. L'objet Counter est proche d'un dictionnaires mais s'en distingue par des méthodes propres à sa fonction. \n",
    "* deque : double-ended queue : objet optimisé pour être utilisé comme une queue (possible d'émuler une queue avec une list mais l'utilisation de pop(0) est particulièrement inefficace (O(n) contre O(1) pour le pop de deque)).\n",
    "* Sous-classes de dict : \n",
    "    * OrderedDict : Dictionnaire où l'ordre d'insertion est préservé et avec des méthodes supplémentaires propres à ce comportement.\n",
    "    * DefaultDict : Dictionnaire doté d'une fonction permettant de retourner une valeur par défaut lorsqu'on requête une clé absente du dictionnaire.\n",
    "* UserList, UserString, UserDict : présent pour la backward compatibility avec de très anciennes versions de Python dans lesquelles ont ne pourvait directement hériter des built-in types et en particulier de str, list et dict.\n",
    "\n",
    "\n",
    "### A faire\n",
    "* Si un objet implémente une méthode __len__ retournant un entier, alors on peut le passer à la built-function len\n",
    "* Si un objet impélmente une méthode __contains__ retournant un booléen (?), alors on peut l'utiliser avec l'opérateur in.\n",
    "* Pour être itérable dans une boucle for (pour pouvoir écrire for x in myObj:), il faut que qu'on puisse appeler la built-in function iter sur myObj qui doit pour cela implémenter la méthode __iter__. A préciser. Le protocole iterator ne consiste-t-il pas en __iter__, __next__ et une levée de StopIteration en bout de course ? \n",
    "\n",
    "Sequence : hérite de Reversible => implémente __reversed__ : comme pour len et __len__, le built-in reversed() appelle __reversed__. Retourne un reversed iterator d'un objet implémentant une méthode __reversed__ ou supportant le sequence protocol.\n",
    "\n",
    "Distinguer un ADT (list, set, multiset, map, multimap, tree, graph, stack, queue, double-ended queue, priority queue, etc.), de ses implémentations (ArrayList, LinkedList en Java par exemple).\n",
    "\n",
    "https://wiki.python.org/moin/TimeComplexity\n",
    "https://dbader.org/blog/fundamental-data-structures-in-python\n",
    "https://en.wikipedia.org/wiki/List_of_data_structures"
   ]
  },
  {
   "cell_type": "markdown",
   "metadata": {},
   "source": [
    "Remarque : if obj: \n",
    "Va en fait appeler la built-in function bool() sur l'objet qui va à son tour appeler la méthode __bool__ de l'objet qui définit en quel booléen doit être converti l'objet. Sont évalués à False, les objet None, False, les zéros de tous les types numériques, les collections vides / de longeur nulle ('', [], {}, etc.). "
   ]
  },
  {
   "cell_type": "code",
   "execution_count": 69,
   "metadata": {},
   "outputs": [
    {
     "data": {
      "text/plain": [
       "['__add__',\n",
       " '__class__',\n",
       " '__contains__',\n",
       " '__delattr__',\n",
       " '__delitem__',\n",
       " '__dir__',\n",
       " '__doc__',\n",
       " '__eq__',\n",
       " '__format__',\n",
       " '__ge__',\n",
       " '__getattribute__',\n",
       " '__getitem__',\n",
       " '__gt__',\n",
       " '__hash__',\n",
       " '__iadd__',\n",
       " '__imul__',\n",
       " '__init__',\n",
       " '__init_subclass__',\n",
       " '__iter__',\n",
       " '__le__',\n",
       " '__len__',\n",
       " '__lt__',\n",
       " '__mul__',\n",
       " '__ne__',\n",
       " '__new__',\n",
       " '__reduce__',\n",
       " '__reduce_ex__',\n",
       " '__repr__',\n",
       " '__reversed__',\n",
       " '__rmul__',\n",
       " '__setattr__',\n",
       " '__setitem__',\n",
       " '__sizeof__',\n",
       " '__str__',\n",
       " '__subclasshook__']"
      ]
     },
     "execution_count": 69,
     "metadata": {},
     "output_type": "execute_result"
    }
   ],
   "source": [
    "[x for x in dir(list) if '__' in x]"
   ]
  },
  {
   "cell_type": "code",
   "execution_count": 15,
   "metadata": {},
   "outputs": [
    {
     "name": "stdout",
     "output_type": "stream",
     "text": [
      "140172640486280\n",
      "140172692545992\n",
      "[1, 2, [10, 4]]\n",
      "[1, 2, [10, 4]]\n"
     ]
    },
    {
     "data": {
      "text/plain": [
       "[]"
      ]
     },
     "execution_count": 15,
     "metadata": {},
     "output_type": "execute_result"
    }
   ],
   "source": [
    "l = [1, 2, [3, 4]]\n",
    "l2 = l.copy()\n",
    "print(id(l))\n",
    "print(id(l2))\n",
    "l[2][0] = 10\n",
    "print(l)\n",
    "print(l2)\n",
    "l.clear()\n",
    "l"
   ]
  },
  {
   "cell_type": "code",
   "execution_count": 71,
   "metadata": {},
   "outputs": [],
   "source": [
    "d1 = {'a': 1, 'c': 3}\n",
    "d2 = {'a': 2, 'b': 8, 'd': 4}\n",
    "d1.update(d2)"
   ]
  },
  {
   "cell_type": "code",
   "execution_count": 73,
   "metadata": {},
   "outputs": [
    {
     "data": {
      "text/plain": [
       "{'a': 2, 'c': 3, 'b': 8, 'd': 4}"
      ]
     },
     "execution_count": 73,
     "metadata": {},
     "output_type": "execute_result"
    }
   ],
   "source": [
    "d1"
   ]
  },
  {
   "cell_type": "code",
   "execution_count": 61,
   "metadata": {},
   "outputs": [
    {
     "ename": "KeyError",
     "evalue": "'popitem(): dictionary is empty'",
     "output_type": "error",
     "traceback": [
      "\u001b[0;31m---------------------------------------------------------------------------\u001b[0m",
      "\u001b[0;31mKeyError\u001b[0m                                  Traceback (most recent call last)",
      "\u001b[0;32m<ipython-input-61-15194deabd0c>\u001b[0m in \u001b[0;36m<module>\u001b[0;34m()\u001b[0m\n\u001b[0;32m----> 1\u001b[0;31m \u001b[0md1\u001b[0m\u001b[0;34m.\u001b[0m\u001b[0mpopitem\u001b[0m\u001b[0;34m(\u001b[0m\u001b[0;34m)\u001b[0m\u001b[0;34m\u001b[0m\u001b[0m\n\u001b[0m",
      "\u001b[0;31mKeyError\u001b[0m: 'popitem(): dictionary is empty'"
     ]
    }
   ],
   "source": [
    "d1.popitem()"
   ]
  },
  {
   "cell_type": "code",
   "execution_count": 78,
   "metadata": {},
   "outputs": [
    {
     "data": {
      "text/plain": [
       "True"
      ]
     },
     "execution_count": 78,
     "metadata": {},
     "output_type": "execute_result"
    }
   ],
   "source": [
    "from collections import Mapping, MutableMapping\n",
    "issubclass(dict, MutableMapping)"
   ]
  },
  {
   "cell_type": "code",
   "execution_count": 81,
   "metadata": {},
   "outputs": [
    {
     "data": {
      "text/plain": [
       "True"
      ]
     },
     "execution_count": 81,
     "metadata": {},
     "output_type": "execute_result"
    }
   ],
   "source": [
    "from collections.abc import Sequence\n",
    "issubclass(str, Sequence)"
   ]
  }
 ],
 "metadata": {
  "kernelspec": {
   "display_name": "Python 3",
   "language": "python",
   "name": "python3"
  },
  "language_info": {
   "codemirror_mode": {
    "name": "ipython",
    "version": 3
   },
   "file_extension": ".py",
   "mimetype": "text/x-python",
   "name": "python",
   "nbconvert_exporter": "python",
   "pygments_lexer": "ipython3",
   "version": "3.6.8"
  }
 },
 "nbformat": 4,
 "nbformat_minor": 2
}
