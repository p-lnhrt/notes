{
 "cells": [
  {
   "cell_type": "markdown",
   "metadata": {},
   "source": [
    "Remarque : \"base(s)\" ou \"base class(es)\" s'entend comme de classes dont une classe hérite (attribut __bases__). Une abstract base classe est donc une classe abstraite qui a vocation à être une des base classes d'autres classes. Dit autrement, une ABC a vocation a être héritée (ce qui peut sembler être d'autant plus un truisme qu'on ne peutb l'instancier)."
   ]
  },
  {
   "cell_type": "code",
   "execution_count": 3,
   "metadata": {},
   "outputs": [
    {
     "data": {
      "text/plain": [
       "(object,)"
      ]
     },
     "execution_count": 3,
     "metadata": {},
     "output_type": "execute_result"
    }
   ],
   "source": [
    "dict.__bases__"
   ]
  },
  {
   "cell_type": "code",
   "execution_count": 1,
   "metadata": {},
   "outputs": [],
   "source": [
    "class A(object):\n",
    "    pass\n",
    "\n",
    "a = A()"
   ]
  },
  {
   "cell_type": "code",
   "execution_count": 2,
   "metadata": {},
   "outputs": [
    {
     "name": "stdout",
     "output_type": "stream",
     "text": [
      "<class 'type'>\n",
      "<class '__main__.A'>\n"
     ]
    }
   ],
   "source": [
    "print(type(A)) \n",
    "print(type(a))"
   ]
  },
  {
   "cell_type": "markdown",
   "metadata": {},
   "source": [
    "Sur la forme du constructeur en Python (pas de new statement) : Classes are callable. These objects normally act as factories for new instances of themselves, but variations are possible for class types that override __new__(). The arguments of the call are passed to __new__() and, in the typical case, to __init__() to initialize the new instance.\n",
    "\n",
    "Attention : les objets classe (de type type ou autre métaclasse) sont callable, une instance d'une classe quelconque n'est en revanche pas callable par défaut à moins d'implémenter une méthode __call__."
   ]
  },
  {
   "cell_type": "markdown",
   "metadata": {},
   "source": [
    "Le type est un object classe. Le type d'un objet est la classe (l'objet classe même) dont il est l'instance. Le type d'une classe (qui en Python est un objet comme un autre) est donc sa métaclasse. Le nom de la classe peut inclure le nom du module dans lequel elle a été définie. Il peut en particulier s'agir du module courant (__main__). \n",
    "\n",
    "Les classes les plus fréquentes ont pour métaclasse la classe type (qui est elle-même de métaclasse type). type() a en fait deux usages, deux signatures :\n",
    "* Si on ne lui passe qu'un argument (un object quelconque), son comportement s'apparente à une built-in fonction retournant le type de l'objet. L'objet retourné correspond le plus souvent au contenu de __class__. Attention, pour le type checking préférer isinstance qui tient compte des relations d'héritage.\n",
    "* Constructeur de la classe type. L'objet retourné est de type type et correspond globalement à une classe. Les arguments à passer au constructeur sont le nom du futur objet (attribut __name__), et globalement ce que contiendront ses attributs __bases__ (qui est un tuple) et __dict__ (qui est un dictionnaire).\n",
    "\n",
    "Une métaclasse sera plus largement une classe héritant de type (qui lui confère sa capacité à \"produire\" des classes\").\n",
    "\n",
    "Remarque : super est un call (une buil-in function) qui retourne un proxy object auquel est délégué la tache d'appeler la méthode de la bonne classe parente. D'où une syntaxe pouvant paraître un peu étrange : super().method(args). Le recours à super est notamment approprié lorsqu'on veut appeler une méthode d'une classe parente qui a été surchargée. Python supportant l'héritage multiple, super a besoin de connaître la stratégie de résolution (MRO : method resolution search order). On peut passer des arguments à super (pour lui donner le nom de la classe dont il doit chercher la méthode ?) mais sa forme sans arguments reste la plus maintenable."
   ]
  },
  {
   "cell_type": "markdown",
   "metadata": {},
   "source": [
    "Instancier une classe de métaclasse M \n",
    "\n",
    "Remarque : le constructeur de M doit pouvoir prendre les mêmes arguments que le constructeur de type. \n",
    "\n",
    "Deux syntaxes possibles pour l'instanciation d'une nouvelle classe A de métaclasse M (ie: la création d'une nouvelle classe) : \n",
    "```python\n",
    "# 1ere syntaxe:\n",
    "\n",
    "M('A', (), {})\n",
    "\n",
    "# 2e syntaxe:\n",
    "class A(metaclass=M):\n",
    "    pass\n",
    "```"
   ]
  },
  {
   "cell_type": "markdown",
   "metadata": {},
   "source": [
    "Méthodes utiles lors de l'implémentation d'une nouvelle métaclasse : \n",
    "* __new__ (staic method, on a pas à la décorer c'est sous-entedu) : doit faire forcément un appel à __new__ de type ? via super().__new__(cls, name, bases, dict) ?\n",
    "* __prepare__ : permet d'initialiser le dictionnaire qui va finalement rassemble tous les éléments de la classe (__dict__) si on a par exemple envie qu'il ne soit pas initialement vide. Préparation du namespace ?"
   ]
  },
  {
   "cell_type": "code",
   "execution_count": 5,
   "metadata": {},
   "outputs": [
    {
     "data": {
      "text/plain": [
       "__main__.M"
      ]
     },
     "execution_count": 5,
     "metadata": {},
     "output_type": "execute_result"
    }
   ],
   "source": [
    "# Quand on hérite d'une classe, c'est la métaclasse de la classe parente qui est utilisée comme métaclasse pour la classe\n",
    "# fille. C'est une source potentielle de problèmes supplémentaire en situation d'héritage multiples si on hérite de \n",
    "# différentes classes de métaclasses différentes.\n",
    "\n",
    "class M(type):\n",
    "    pass\n",
    "\n",
    "class A(metaclass=M):\n",
    "    pass\n",
    "\n",
    "class B(A):\n",
    "    pass\n",
    "\n",
    "type(B)"
   ]
  },
  {
   "cell_type": "markdown",
   "metadata": {},
   "source": [
    "```python\n",
    "class A(metaclass=M)\n",
    "    def __new__(cls):\n",
    "        return super().__new__(cls) # super va ici aller appeler M.__new__ ?\n",
    "```\n",
    "__new__ de la classe : sert à créer de nouvelles instances de la classe\n",
    "__new__ de type (ou de la métaclasse : sert à créer une nouvelle instance de la métaclasse (donc une nouvelle classe). Quelles modifications au niveau de la métaclasse seraient sensibles au niveau du comportement des instances de la classe créée ?\n",
    "\n",
    "class decorators ? La classe est déjà créée lorsqu'elle leur est passée donc ne permet pas d'influencer sur la création ? A quoi servent-ils ? Implémentation d'un design pattern ?\n",
    "Eclaircir la séquence : quand se crée quoi ? qu'est ce qu'on peut optimiser / surcharger ?\n",
    "\n",
    "https://docs.python.org/3/reference/datamodel.html#customizing-class-creation"
   ]
  },
  {
   "cell_type": "markdown",
   "metadata": {},
   "source": [
    "https://realpython.com/python-metaclasses/\n",
    "https://jakevdp.github.io/blog/2012/12/01/a-primer-on-python-metaclasses/\n",
    "https://blog.ionelmc.ro/2015/02/09/understanding-python-metaclasses/ # A l'air particulièrement bien fait\n",
    "https://medium.com/the-python-corner/python-metaclasses-c480e1f4897d\n",
    "\n",
    "Exemples concrets d'utilisation de métaclasses : \n",
    "* ABC\n",
    "* Enums\n",
    "* Singletons"
   ]
  },
  {
   "cell_type": "code",
   "execution_count": 3,
   "metadata": {
    "scrolled": false
   },
   "outputs": [
    {
     "name": "stdout",
     "output_type": "stream",
     "text": [
      "  Meta.__prepare__(mcs=<class '__main__.Meta'>, name='Class', bases=(), **{'extra': 1})\n",
      "  Meta.__new__(mcs=<class '__main__.Meta'>, name='Class', bases=(), attrs=[__module__, __qualname__, some_method, some_class_var, __new__, __init__, __str__, __classcell__], **{'extra': 1})\n",
      "  Meta.__init__(cls=<class '__main__.Class'>, name='Class', bases=(), attrs=[__module__, __qualname__, some_method, some_class_var, __new__, __init__, __str__, __classcell__], **{'extra': 1})\n",
      "  Meta.__call__(cls=<class '__main__.Class'>, args=('lol',), kwargs={})\n",
      "  Class.__new__(cls=<class '__main__.Class'>, myarg=lol)\n",
      "  Class.__init__(self=<instance of Class; myargs=MISSING>, myarg=lol)\n",
      "--------Metaclass elements--------\n",
      "['__abstractmethods__', '__base__', '__bases__', '__basicsize__', '__call__', '__delattr__', '__dict__', '__dictoffset__', '__dir__', '__doc__', '__flags__', '__getattribute__', '__init__', '__instancecheck__', '__itemsize__', '__module__', '__mro__', '__name__', '__new__', '__prepare__', '__qualname__', '__repr__', '__setattr__', '__sizeof__', '__subclasscheck__', '__subclasses__', '__text_signature__', '__weakrefoffset__', 'mro']\n",
      "--------Class elements--------\n",
      "['__dict__', '__doc__', '__init__', '__module__', '__new__', '__str__', '__weakref__', 'extra', 'some_class_var', 'some_method']\n",
      "--------Metaclass elements not in class--------\n",
      "['__abstractmethods__', '__base__', '__bases__', '__basicsize__', '__call__', '__dictoffset__', '__flags__', '__instancecheck__', '__itemsize__', '__mro__', '__name__', '__prepare__', '__qualname__', '__subclasscheck__', '__subclasses__', '__text_signature__', '__weakrefoffset__', 'mro']\n",
      "<class '__main__.Meta'>\n",
      "Meta\n",
      "<class 'type'>\n",
      "lol\n"
     ]
    }
   ],
   "source": [
    "class Meta(type):\n",
    "    \n",
    "    @classmethod\n",
    "    def __prepare__(mcs, name, bases, **kwargs):\n",
    "        print('  Meta.__prepare__(mcs=%s, name=%r, bases=%s, **%s)' % (mcs, name, bases, kwargs))\n",
    "        return {}\n",
    "\n",
    "    def __new__(mcs, name, bases, attrs, **kwargs):\n",
    "        print('  Meta.__new__(mcs=%s, name=%r, bases=%s, attrs=[%s], **%s)' % (mcs, name, bases, ', '.join(attrs), kwargs))\n",
    "        return super().__new__(mcs, name, bases, attrs)\n",
    "\n",
    "    def __init__(cls, name, bases, attrs, **kwargs):\n",
    "        print('  Meta.__init__(cls=%s, name=%r, bases=%s, attrs=[%s], **%s)' % (cls, name, bases, ', '.join(attrs), kwargs))\n",
    "        cls.extra = kwargs.get('extra', 0)\n",
    "        return super().__init__(name, bases, attrs)\n",
    "    \n",
    "    # méthode d'instance mais ici le self est appelé cls (convention dans les metaclasses ?) Ou call class method sous entendue (plutôt non IMO) ?\n",
    "    def __call__(cls, *args, **kwargs):\n",
    "        print('  Meta.__call__(cls=%s, args=%s, kwargs=%s)' % (cls, args, kwargs))\n",
    "        return super().__call__(*args, **kwargs)\n",
    "    # Qu'est ce qu'on demande à __call__ d'une métaclasse de retourner ?\n",
    "    # Le but est que __call__ retourne finalement une nouvelle instance (qu'est ce que Class() retournerait sinon ?). __call__ va donc à un moment appeler et récupérer l'objet de cls.__new__, appeler cls.__init__ sur cet objet et finalement le retourner. La méthode de la métaclasse qui a à voir avec la création d'instances est __call__. Voir comment se gèrent les passages d'arguments au constructeur (qui correspondent aux arguments finalement passés à __init__, on demande l'input de l'utilisateur pour initialiser la classe ?) \n",
    "\n",
    "class Class(metaclass=Meta, extra=1):\n",
    "  # Idem, la syntaxe permet de passer des arguments au constructeur de l'objet Meta qui est après tout un objet dont on peut initialiser des membres via passage d'arguments à son constructeur.\n",
    "    \n",
    "    def some_method(self):\n",
    "      pass\n",
    "\n",
    "    some_class_var = 10\n",
    "\n",
    "    def __new__(cls, myarg):\n",
    "        print('  Class.__new__(cls=%s, myarg=%s)' % (cls, myarg))\n",
    "        return super().__new__(cls)\n",
    "    \n",
    "    def __init__(self, myarg):\n",
    "      # Attention : self n'étant pas encore initialisé, str(self) va dire que myargs est MISSING\n",
    "        print('  Class.__init__(self=%s, myarg=%s)' % (self, myarg))\n",
    "        self.myarg = myarg\n",
    "        return super().__init__()\n",
    "    \n",
    "    def __str__(self):\n",
    "        return \"<instance of Class; myargs=%s>\" % (getattr(self, 'myarg', 'MISSING'),)\n",
    "\n",
    "# Pour créer une nouvelle instance, on appelle la méthode __call__ de l'objet Class qui est lui même une instance de la classe Meta. C'est donc la méthode __call__ implémentée par Meta qui est appelée.\n",
    "\n",
    "a = Class('lol')\n",
    "\n",
    "print('--------Metaclass elements--------')\n",
    "print(sorted(vars(type))) \n",
    "# type est une classe spéciale avec pas mal d'éléments propres\n",
    "# Toute métaclasse devant hériter de type, une métaclasse custom se retrouve\n",
    "# avec ces attributs avec possibilité de les réimplémenter \n",
    "# On voit les intéressants __base__, __bases__ (pas unique à une métaclasse ?), __call__, __instancecheck__, __subclasscheck__ (à rapprocher de __subclasshook__ présent par défaut dans une classe, checker aussi __init_subclass__), __mro__ \n",
    "\n",
    "print('--------Class elements--------')\n",
    "print(sorted(vars(Class))) \n",
    "\n",
    "print('--------Metaclass elements not in class--------')\n",
    "print([x for x in sorted(dir(type)) if x not in dir(Class)])\n",
    "\n",
    "print(Class.__class__)\n",
    "print(Meta.__name__)\n",
    "print(Meta.__base__)\n",
    "\n",
    "# https://eli.thegreenplace.net/2011/08/14/python-metaclasses-by-example/\n",
    "# class decorator : https://www.codementor.io/sheena/advanced-use-python-decorators-class-function-du107nxsv\n",
    "# https://www.python-course.eu/python3_metaclasses.php\n",
    "\n",
    "# __repr__ vs __str__ : la première est appelée par le built-in repr() et a vocation à donner à l'utilisateur une représentation (imprimable) lisible de l'objet. C'est toujours une bonne idée de l'implémenter. La seconde est appelée par str() quand on lui passe qu'un seul argument qui peut être n'importe quel objet. Elle retourne une réprésentation de l'objet sous forme de string. La string retournée par __str__ n'a pas vocation à être une représentation détaillée de l'objet et est souvent plus ramassée. Si __str__ n'est pas implémentée, str va appeler __repr__ et inversement. Si aucune des deux méthodes n'est implémentée, on a par défaut une représentation assez pauvre de l'objet donnant entre <> le nom de la classe dont il est l'instance ainsi que son adresse mémoire.\n",
    "\n",
    "class B():\n",
    "  def __repr__(self):\n",
    "    return 'lol'\n",
    "\n",
    "b = B()\n",
    "\n",
    "print(str(b))"
   ]
  },
  {
   "cell_type": "code",
   "execution_count": 4,
   "metadata": {},
   "outputs": [
    {
     "name": "stdout",
     "output_type": "stream",
     "text": [
      "1\n",
      "1\n"
     ]
    }
   ],
   "source": [
    "print(Class.extra)\n",
    "print(a.extra)"
   ]
  }
 ],
 "metadata": {
  "kernelspec": {
   "display_name": "Python 3",
   "language": "python",
   "name": "python3"
  },
  "language_info": {
   "codemirror_mode": {
    "name": "ipython",
    "version": 3
   },
   "file_extension": ".py",
   "mimetype": "text/x-python",
   "name": "python",
   "nbconvert_exporter": "python",
   "pygments_lexer": "ipython3",
   "version": "3.7.0"
  }
 },
 "nbformat": 4,
 "nbformat_minor": 2
}
