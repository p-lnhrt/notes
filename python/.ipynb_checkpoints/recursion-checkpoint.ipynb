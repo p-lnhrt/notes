{
 "cells": [
  {
   "cell_type": "markdown",
   "metadata": {},
   "source": [
    "# Récursion\n",
    "On peut résumer les avantages et inconvénients de la formulation récursive d'un algorithme (qui peut aussi bien trouver une formulation itérative) comme suit:\n",
    "\n",
    "Avantages:\n",
    "* Code plus compact, plus simple, plus élégant,\n",
    "* Code souvent plus facile à débugger une fois compris,\n",
    "* Traitement des *edges cases* souvent plus simple.\n",
    "Inconvénients: \n",
    "* Par rapport à formulation itérative, chaque appel de fonction dans la formulation récursive ajoute une *frame* à la *call stack* (complexité spatiale en $O(n)$) ce qui peut poser problème dans les cas de *deep recursion* (*stack overflow error*),\n",
    "* Suivant le language utilisé, le code récursif n'est pas toujours optimisé (pas de *tail call optimization* par exemple),\n",
    "* Formulations récursives pas forcément triviales au premier abord, peut sembler difficile à comprendre à des utilisateurs peu familiers du raisonnement récursif.  \n",
    "\n",
    "## Optimisation d'algorithmes récursifs\n",
    "Au choix d'une formulation récursive d'un algorithme s'associe une complexité temporelle et spatiale (empreinte mémoire). On cite ici deux techniques d'optimisation d'algorithmes récursifs: \n",
    "* *Tail-call optimisation*: Il s'agit d'une optimisation du code faite par le compilateur pour des fonctions récursives d'une forme particulière (*tail-recursive functions*). Son but est de diminuer l'empreinte mémoire de l'algorithme sans en changer sa complexité temporelle: pour un même nombre d'appels, l'empreinte mémoire (sur la *call stack*) de l'algorithme sera constante ($O(1)$) au lieu d'être linéaire ($O(n)$).\n",
    "* Mémoïsation: Il s'agit d'une optimisation dans l'implémentation de l'algorithme (qui se trouve d'appartenir à la famille des problèmes de programmation dynamique). Son but est en stockant des résultats intermédiaires, de réduire la complexité temporelle au prix d'une empreinte mémoire accrue.\n",
    "\n",
    "Remarque: La *tail recursion* et la mémoïsation sont en fait des *design patterns* de programmation fonctionnelle.\n",
    "\n",
    "### *Tail-call optimisation* (TCO)\n",
    "Lorsqu'une fonction est appelée:\n",
    "* De l'espace lui est alloué sur la *call stack*. C'est dans cet espace que seront stockés ses arguments et ses variables locales.\n",
    "* Les arguments de la fonction sont copiés dans l'espace alloué. On dit qu'on ajoute une *frame* à la *call stack*\n",
    "* Le contrôle est passé à la fonction appelée.\n",
    "* La fonction appelée s'exécute.\n",
    "* La valeur retournée par la fonction est stockée.\n",
    "* La *frame* est supprimée, on remonte d'un cran sur la *stack* au niveau de la fonction (*calling function*) qui avait appelé la fonction venant d'être exécuté (*called function*). \n",
    "* Le contrôle repasse à la fonction appelante.\n",
    "\n",
    "#### Implémentation de la TCO\n",
    "Mettre une fonction sous une forme *tail-recursive* peut (mais pas toujours) demander de faire appel à l'introduction d'une variable appelée *accumulator* qui permet de propager des résultats intermédiaires le long de la *call chain*. La fonction *tail-recursive* prend l'*accumulator* comme argument (ce qui permet de le propager), celui-ci étant initialisé avec une valeur par défaut. \n",
    "\n",
    "Comme dit plus haut, la TCO est une optimisation faite au niveau du compilateur. Profiter des gains de la TCO présupposent donc que l'implémentation du language utilisé inclut cette optimisation. Ce n'est par exemple pas le cas de Python qui **n'implémente pas** la TCO. Dans le cas de tels languages, il peut être préférable de privilégier une approche itérative plutôt que récursive."
   ]
  },
  {
   "cell_type": "markdown",
   "metadata": {},
   "source": [
    "## Passer d'une fonction récursive à une forme itérative : le *recursion unrolling*\n",
    "Pour réaliser l'*unrolling* d'une fonction à l'aide d'une boucle while, il faut commencer par la mettre sous sa forme *tail recursive*. Parce que la fonction a pu se mettre sous cette forme, on n'a en théorie lors d'appels récursifs, plus besoin de stocker l'état de la fonction appelée: puisque la fonction ne fait que retourner le résultat de l'appel récursif, on a pas besoin de stocker son environnement local car elle n'en a plus besoin. C'est sur cette observation que reposent des stratégies de *tail call elimination* des languages qui l'implémentent. C'est aussi sur celle-ci que se va s'appuyer l'*unrolling* de la fonction qui va permettre de passer d'une forme récursive à une forme itérative. \n",
    "\n",
    "Remarque: L'*unrolling* à l'aide d'une *stack* n'est pas la seule façon de passer d'une fonction récursive à une fonction itérative. Cf. Tabulation.\n",
    "\n",
    "Sous forme *tail recursive*, la fonction est globalement de la forme:\n",
    "```python\n",
    "def func(args, accumulator):\n",
    "    if stop_condition(args):\n",
    "        return accumulator\n",
    "    # function logic\n",
    "    # update args and accumulator\n",
    "    return func(args, accumulator)\n",
    "```\n",
    "L'unrolling va consister à la mettre sous la forme: \n",
    "```python\n",
    "def unrolled_func(args):\n",
    "    # initialize variables used to store arguments and accumulator values (called `stack`)\n",
    "    while condition(stack):\n",
    "        # function logic\n",
    "        # update accumulator\n",
    "        if stop_condition(args):\n",
    "            # update stack, if not udpated, should must break the loop\n",
    "    return accumulator\n",
    "```\n",
    "Le stockage et la mise à jour des valeurs des arguments n'a pas forcément besoin de faire appel à l'utilisation explicite d'une *data structure*. "
   ]
  },
  {
   "cell_type": "markdown",
   "metadata": {},
   "source": [
    "Par exemple pour la factorielle:"
   ]
  },
  {
   "cell_type": "code",
   "execution_count": 36,
   "metadata": {},
   "outputs": [],
   "source": [
    "def factorial(n):\n",
    "    if not n:\n",
    "        return 1\n",
    "    return n * factorial(n=n-1)\n",
    "\n",
    "# Tail call transformation\n",
    "def tail_call_factorial(n, accumulator=1):\n",
    "    if n==0:\n",
    "        return accumulator\n",
    "    return tail_call_factorial(n=n-1, accumulator=accumulator*n)"
   ]
  },
  {
   "cell_type": "markdown",
   "metadata": {},
   "source": [
    "*Unrolling* sans faire appel à une structure de données:"
   ]
  },
  {
   "cell_type": "code",
   "execution_count": 39,
   "metadata": {},
   "outputs": [],
   "source": [
    "def implicit_stack_factorial(n):\n",
    "    accumulator = 1\n",
    "    i = n # not mandatory but for clarity purposes\n",
    "    while i:\n",
    "        accumulator *= i\n",
    "        i -= 1\n",
    "    return accumulator"
   ]
  },
  {
   "cell_type": "markdown",
   "metadata": {},
   "source": [
    "On peut choisir de faire apparaître plus explicitement la condition d'arrêt / le *base case*:"
   ]
  },
  {
   "cell_type": "code",
   "execution_count": null,
   "metadata": {},
   "outputs": [],
   "source": [
    "def implicit_stack_factorial(n):\n",
    "    accumulator = 1\n",
    "    i = n # not mandatory but for clarity purposes\n",
    "    while True:\n",
    "        if i==0:\n",
    "            break\n",
    "        accumulator *= i\n",
    "        i -= 1\n",
    "    return accumulator"
   ]
  },
  {
   "cell_type": "markdown",
   "metadata": {},
   "source": [
    "*Unrolling* sans faire appel à une structure de données (en général une *stack* objet qui en Python est souvent modélisé avec une liste). La condition d'arrêt / le *base case* peut être moins explicite car l'action associée ne va simplement pas updater la *stack* ce qui va avoir pour conséquence d'interrompre le `while` (on a plus le très explicite `break` *statement*)."
   ]
  },
  {
   "cell_type": "code",
   "execution_count": 41,
   "metadata": {},
   "outputs": [],
   "source": [
    "def explicit_stack_factorial(n):\n",
    "    stack = [(n, 1)]\n",
    "    while stack:\n",
    "        i, accumulator = stack.pop()\n",
    "        accumulator *= i\n",
    "        i -= 1\n",
    "        if i: \n",
    "            stack.append((i, accumulator))\n",
    "    return accumulator"
   ]
  },
  {
   "cell_type": "markdown",
   "metadata": {},
   "source": [
    "On peut évidemment aboutir après refactorisation à des formes mixtes où seulement une partie des variables nécessaires sont dans stockées dans une structure de données."
   ]
  },
  {
   "cell_type": "markdown",
   "metadata": {},
   "source": [
    "## Optimiser la récursion : la mémoïsation\n",
    "On va ici s'appuyer sur le calcul des termes de la suite de Fibonacci : \n",
    "$u_n = u_{n-1} + u_{n-2}$ avec $u_{0} = 0$ et $u_{1} = 1$"
   ]
  },
  {
   "cell_type": "code",
   "execution_count": 21,
   "metadata": {},
   "outputs": [],
   "source": [
    "# Naive Fibonacci\n",
    "def fibonacci(n):\n",
    "    if n in {0, 1}:\n",
    "        return n\n",
    "    return fibonacci(n-1) + fibonacci(n-2)"
   ]
  },
  {
   "cell_type": "markdown",
   "metadata": {},
   "source": [
    "La mémoisation revient à ajouter un comportement à la fonction récursive `f`: avant de procéder au calcul (à l'appel de `f`), on vérifie dans le cache si la valeur n'a pas déjà été calculée. Si c'est le cas, on ne fait que retourner la valeur correspondante, sinon on la calcule, l'ajoute au cache et la retourne. \n",
    "\n",
    "On comprend immédiatemment qu'utiliser le *design pattern decorator* est une façon naturelle d'implémenter la mémoïsation. La fonction devant avoir accès au cache, celui-ci doit soit lui être injecté, soit se trouver dans l'*enclosing namespace*: \n",
    "* L'injection pose plusieurs problèmes. On ne peut notamment pas utiliser cette technique en dehors de récursions simples comme lors du calcul d'une facorielle. Dans le cas de la suite de Fibonacci où l'appel récursif est `f(n-1) + f(n-2)`, comment passer au second appel de `f` le cache updaté par le premier ? L'injection pose aussi le problème de l'initialisation du cache. Comme pour les *accumulators* on pourrait l'initialiser avec la valeur par défaut d'un argument. Le cache étant cependant mutable, ce n'est pas acceptable en Python.\n",
    "* La solution est que le cache reste une variable libre de la fonction que cette dernière ira récupérer dans un *enclosing namespace*. Mettre le cache dans le *global namespace* n'est pas acceptable étant entendu que les variables globales sont supposées être constantes sur l'ensemble de la vie du programme. L'implémentation peut alors prendre deux formes (qui sont chacune une variante du *decorator*): l'utilisation d'une *closure* ou d'un objet encapsulant la fonction à mémoïser. "
   ]
  },
  {
   "cell_type": "code",
   "execution_count": 45,
   "metadata": {},
   "outputs": [],
   "source": [
    "def memoize(f):\n",
    "    cache = dict()\n",
    "    def decorated_func(x):\n",
    "        if x not in cache:\n",
    "            cache[x] = f(x)\n",
    "        return cache[x]\n",
    "    return decorated_func\n",
    "\n",
    "@memoize\n",
    "def fibonacci(n):\n",
    "    if n in {0, 1}:\n",
    "        return n\n",
    "    return fibonacci(n-1) + fibonacci(n-2)"
   ]
  },
  {
   "cell_type": "code",
   "execution_count": 33,
   "metadata": {},
   "outputs": [
    {
     "data": {
      "text/plain": [
       "55"
      ]
     },
     "execution_count": 33,
     "metadata": {},
     "output_type": "execute_result"
    }
   ],
   "source": [
    "fibonacci(10)"
   ]
  },
  {
   "cell_type": "code",
   "execution_count": 44,
   "metadata": {},
   "outputs": [],
   "source": [
    "class Memoize:\n",
    "    def __init__(self, func):\n",
    "        self.func = func\n",
    "        self.cache = dict()\n",
    "        \n",
    "    def __call__(self, x):\n",
    "        if x not in self.cache:\n",
    "            self.cache[x] = self.func(x)\n",
    "        return self.cache[x]\n",
    "    \n",
    "@Memoize\n",
    "def fibonacci(n):\n",
    "    if n in {0, 1}:\n",
    "        return n\n",
    "    return fibonacci(n-1) + fibonacci(n-2)"
   ]
  },
  {
   "cell_type": "code",
   "execution_count": 35,
   "metadata": {},
   "outputs": [
    {
     "data": {
      "text/plain": [
       "55"
      ]
     },
     "execution_count": 35,
     "metadata": {},
     "output_type": "execute_result"
    }
   ],
   "source": [
    "fibonacci(10)"
   ]
  },
  {
   "cell_type": "markdown",
   "metadata": {},
   "source": [
    "Dans le cas de la suite de Fibonacci, le gain apporté par la mémoïsation est très important puisqu'on passe d'un calcul en $O(2^n)$ pour la forme naïve à $O(n)$ pour la forme mémoïsée. "
   ]
  },
  {
   "cell_type": "markdown",
   "metadata": {},
   "source": [
    "## Passer d'une fonction récursive à une forme itérative : la tabulation"
   ]
  },
  {
   "cell_type": "code",
   "execution_count": 43,
   "metadata": {},
   "outputs": [],
   "source": [
    "# Tabulated (iterative) Fibonacci\n",
    "def tab_fibonacci(n):\n",
    "    table = [0, 1]\n",
    "    if n > 1:\n",
    "        for i in range(2, n+1):\n",
    "            table.append(table[i-1]+table[i-2])\n",
    "    return table[n]"
   ]
  },
  {
   "cell_type": "markdown",
   "metadata": {},
   "source": [
    "## Programmation dynamique et récursion\n",
    "La programmation dynamique (*dynamic programming*) est une approche, un paradigme de résolution de problèmes d'optimisations. L'idée générale de la programmation dynamique est de résoudre un problème initial complexe en résolvant plusieurs sous-problèmes plus simples. Ce raisonnement s'appliquant souvent au sous-problèmes eux-mêmes, la programmation dynamique se préoccupe donc principalement de problèmes ayant une nature récursive. La stratégie d'implémentation et d'optimisation d'un algorithme de programmation dynamique va souvent chercher à s'appuyer sur deux propriétés du problèmes: \n",
    "* *Overlapping subproblems* : Cette propriété désigne le fait que des sous-problèmes apparaissent plusieurs fois dans l'arbre de récursion de la résolution du problème. Tous les problèmes de programmation dynamique n'ont pas cette propriété: tous les sous-problèmes peuvent être distincts.\n",
    "* *Optimal substructure* : Cette propriété désigne le fait que la solution optimale du problème peut être dérivée des solutions optimales de ses différents sous-problèmes. On peut ainsi s'appuyer sur cette propriété en calculant les solutions de chacun des sous-problèmes puis \"remonter\" à la solution du problème initial. C'est cette propriété qui rend équivalente résolution du problème global et résolution de l'ensemble des sous-problèmes.\n",
    "\n",
    "On distingue deux approches pour l'implémentation d'algorithmes de résolution de problèmes de programmation dynamique: \n",
    "* La mémoïsation (*memoization*): S'appuyant sur la propriété des *overlapping subproblems*, cette stratégie consiste simplement à stocker (mémoriser) le résultat du calcul de chacun des sous-problèmes afin de ne les calculer qu'une fois. C'est une approche *top-down*: on démarre du problème initial et on résout (résursivement) les sous-problèmes correspondant en ne calculant un problème donné qu'une seule fois.\n",
    "* La tabulation: Cette stratégie consiste simplement à calculer l'ensemble des sous-problèmes puis de \"remonter\" à la solution du problème initial (approche *bottom-up*).\n",
    "\n",
    "La tabulation peut être plus avantageuse dans le cas où on a pas d'*overlapping subproblems* et où la mémoïsation n'apporte que peu de gains. D'un autre côté, la mémoïsation a l'avantage par rapport à la tabulation de ne calculer que les sous-problèmes finalement requis là où la tabulation calcule l'ensemble des sous-problèmes possibles. La mémoïsation étant liée à une formulation récursive du problème, le code associé peut s'en trouver plus difficile d'accès."
   ]
  }
 ],
 "metadata": {
  "kernelspec": {
   "display_name": "Python 3",
   "language": "python",
   "name": "python3"
  },
  "language_info": {
   "codemirror_mode": {
    "name": "ipython",
    "version": 3
   },
   "file_extension": ".py",
   "mimetype": "text/x-python",
   "name": "python",
   "nbconvert_exporter": "python",
   "pygments_lexer": "ipython3",
   "version": "3.6.8"
  }
 },
 "nbformat": 4,
 "nbformat_minor": 4
}
