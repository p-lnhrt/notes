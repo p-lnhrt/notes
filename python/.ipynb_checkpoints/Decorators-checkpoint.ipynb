{
 "cells": [
  {
   "cell_type": "markdown",
   "metadata": {},
   "source": [
    "## TODO\n",
    "Différence avec le pattern Decorator\n",
    "Decorateurs implémentables à l'aide de classes (on est alors très proche du pattern), peut rendre la mécanique plus lisible: https://python-3-patterns-idioms-test.readthedocs.io/en/latest/PythonDecorators.html#decorators-vs-the-decorator-pattern"
   ]
  },
  {
   "cell_type": "markdown",
   "metadata": {},
   "source": [
    "# Décorateurs Python \n",
    "\n",
    "Ce notebook a été principalement construit à partir de ce [post](http://sametmax.com/comprendre-les-decorateurs-python-pas-a-pas-partie-1/) et de ce [post](http://sametmax.com/comprendre-les-decorateurs-python-pas-a-pas-partie-2/).\n",
    "\n",
    "En Python les fonctions sont des objets, on peut donc : \n",
    "* Les assigner à une variable\n",
    "* En définir à l'intérieur d'une autre fonction, avoir une fonction qui retourne une fonction, passer une fonction en argument à une autre fonction.\n",
    "\n",
    "**Remarque :** distinguer : \n",
    "* ```myFunc``` qui fait référence à l'objet\n",
    "* ```myFunc()``` qui appelle la fonction ```myFunc``` si celle-ci ne prend pas ou peut ne prendre aucun argument.\n",
    "\n",
    "Un décorateur est simplement une fonction qui prend en argument une autre fonction f et qui retourne une nouvelle fonction. Cela permet par exemple d'étendre les fonctionnalités de f dans le cas où on ne pourrait pas la modifier.\n",
    "\n",
    "Un décorateur va en fait retourner un wrapper contruit autour de la fonction passée en arguments. A l'appel de la fonction passée au décorateur on va ajouter du code avant et/ou après l'appel de cette fonction."
   ]
  },
  {
   "cell_type": "code",
   "execution_count": 10,
   "metadata": {},
   "outputs": [],
   "source": [
    "def myDecorator(f):\n",
    "    def wrapper():\n",
    "        print \"Code placé avant l'appel à la fonction décorée\"\n",
    "        f()\n",
    "        print \"Code placé après l'appel à la fonction décorée\"\n",
    "    return wrapper\n",
    "\n",
    "def myFunc():\n",
    "    print \"Je suis une fonction intouchable\"\n",
    "    \n",
    "# Décorer myFunc avec myDecorator correspond exactement à l'opération :\n",
    "myFunc = myDecorator(myFunc)\n",
    "# On replace en fait myFunc par wrapper. Appeler myFunc correspondra à appeler la fonction wrapper"
   ]
  },
  {
   "cell_type": "code",
   "execution_count": 11,
   "metadata": {},
   "outputs": [
    {
     "name": "stdout",
     "output_type": "stream",
     "text": [
      "Code placé avant l'appel à la fonction décorée\n",
      "Je suis une fonction intouchable\n",
      "Code placé après l'appel à la fonction décorée\n"
     ]
    }
   ],
   "source": [
    "myFunc() "
   ]
  },
  {
   "cell_type": "markdown",
   "metadata": {},
   "source": [
    "En syntaxe Python cette opération s'écrit : "
   ]
  },
  {
   "cell_type": "code",
   "execution_count": 13,
   "metadata": {},
   "outputs": [
    {
     "name": "stdout",
     "output_type": "stream",
     "text": [
      "Code placé avant l'appel à la fonction décorée\n",
      "Je suis une autre fonction intouchable\n",
      "Code placé après l'appel à la fonction décorée\n"
     ]
    }
   ],
   "source": [
    "@myDecorator\n",
    "def myOtherFunc():\n",
    "    print \"Je suis une autre fonction intouchable\"\n",
    "    \n",
    "myOtherFunc()"
   ]
  },
  {
   "cell_type": "markdown",
   "metadata": {},
   "source": [
    "**Remarque :** le décorateur n'est appelé qu'une fois au chargement de la fonction. Une fois chargée, la fonction non décorée n'est plus accessible car la décoration revient à écraser l'ancienne fonction (```myFunc = myDecorator(myFunc)```)"
   ]
  },
  {
   "cell_type": "markdown",
   "metadata": {},
   "source": [
    "Rien ne nous empêche de modifier davantage le comportement de la fonction décorée : "
   ]
  },
  {
   "cell_type": "code",
   "execution_count": 16,
   "metadata": {},
   "outputs": [
    {
     "name": "stdout",
     "output_type": "stream",
     "text": [
      "Code placé avant l'appel à la fonction décorée\n",
      "6\n",
      "Code placé après l'appel à la fonction décorée\n"
     ]
    }
   ],
   "source": [
    "def print2f(f):\n",
    "    def wrapper(arg1):\n",
    "        print \"Code placé avant l'appel à la fonction décorée\"\n",
    "        print 2*f(arg1) # Ou n'importe quelle autre fonctionelle de f\n",
    "        print \"Code placé après l'appel à la fonction décorée\"\n",
    "    return wrapper\n",
    "\n",
    "# Attention : ici wrapper et myFunc n'ont pas le même type de retour. Un décorateur n'étant que la composée de fonction, il est\n",
    "# techniquement possible que le type de retour de la fonction décorée ne soit pas le même que celui de la fonction non décorée.\n",
    "# Il est possible que cela ne soit pas une bonne pratique : il n'est pas possible de savoir facilement, au premier coup d'oeil\n",
    "# quel sera le type retourné par la fonction décorée.\n",
    "\n",
    "@print2f\n",
    "def myFunc(arg1):\n",
    "    return arg1+1\n",
    "\n",
    "myFunc(2)"
   ]
  },
  {
   "cell_type": "markdown",
   "metadata": {},
   "source": [
    "On remarque qu'il faut faire un peu plus d'efforts quand la fonction à décorer prend des arguments. Comme décorer la fonction revient en fait à appeler la fonction ```wrapper```, il faut que celle-ci prenne les mêmes arguments que la fonction décorée. \n",
    "\n",
    "Cela peut nous permettre au passage d'ajouter des comportements utilisant ces arguments."
   ]
  },
  {
   "cell_type": "code",
   "execution_count": 21,
   "metadata": {},
   "outputs": [
    {
     "name": "stdout",
     "output_type": "stream",
     "text": [
      "Code placé avant l'appel à la fonction décorée\n",
      "Premier argument : 1\n",
      "Second argument : 2\n",
      "3\n",
      "Code placé après l'appel à la fonction décorée\n"
     ]
    }
   ],
   "source": [
    "def myDecorator(f):\n",
    "    def wrapper(arg1, arg2):\n",
    "        print \"Code placé avant l'appel à la fonction décorée\"\n",
    "        print \"Premier argument : \" + str(arg1)\n",
    "        print \"Second argument : \" + str(arg2)\n",
    "        print f(arg1, arg2) # Ou n'importe quelle autre fonctionelle de f\n",
    "        print \"Code placé après l'appel à la fonction décorée\"\n",
    "    return wrapper\n",
    "\n",
    "@myDecorator\n",
    "def myFunc(arg1, arg2):\n",
    "    return arg1+arg2\n",
    "\n",
    "myFunc(1, 2)"
   ]
  },
  {
   "cell_type": "markdown",
   "metadata": {},
   "source": [
    "En programmation objet, on peut ainsi modifier le comportement d'une méthode avec un décorateur du type :\n",
    "\n",
    "```python\n",
    "def myDecorator(myMethod):\n",
    "    def wrapper(self):\n",
    "        ...\n",
    "    return wrapper\n",
    "```\n",
    "\n",
    "Pour être paré à tout on peut faire en sorte que le décorateur accepte n'importe quels arguments en utilisant ```*args``` et ```**kwargs``` : \n",
    "\n",
    "```python\n",
    "def myDecorator(myMethod):\n",
    "    def wrapper(*args, **kwargs):\n",
    "        ...\n",
    "    return wrapper\n",
    "```\n",
    "\n",
    "Toutefois cela pose des problèmes du point de vue de l'introspection (qui rend entre autre possible des choses comme l'autocomplétion. En effet comme la décoration a pour effet d'écraser la fonction décorée avec son wrapper, on perd du même coup toutes les \"méta-informations\" de cette fonction (docstring, etc.). Pour palier à cela, le module ```functools``` fournit le décorateur ```@wraps``` qui copie littéralement toutes les infos d'une fonction sur son wrapper. Il suffit en fait de décorer le wrapper avec ```@wraps```\n",
    "\n",
    "```python\n",
    "def myDecorator(myMethod):\n",
    "    @wraps(myFunc)\n",
    "    def wrapper(arg1, arg2):\n",
    "        ...\n",
    "        myFunc(arg1, arg2)\n",
    "        ...\n",
    "    return wrapper\n",
    "```\n",
    "\n",
    "**Remarque :** Si on accepte ```*args``` et ```**kwargs```, la liste des arguments ne sera plus disponible à l'introspection sans que ```@wraps``` puisse y faire quoi que ce soit.\n",
    "\n",
    "**Remarque : Introspection (et reflection) en Python :** \n",
    "\n",
    "On peut évidemment chaîner les décorateurs :"
   ]
  },
  {
   "cell_type": "code",
   "execution_count": 22,
   "metadata": {},
   "outputs": [
    {
     "name": "stdout",
     "output_type": "stream",
     "text": [
      "</''''''\\>\n",
      "#tomates#\n",
      "--jambon--\n",
      "~salade~\n",
      "<\\______/>\n"
     ]
    }
   ],
   "source": [
    "def pain(func):\n",
    "    def wrapper():\n",
    "        print(\"</''''''\\>\")\n",
    "        func()\n",
    "        print(\"<\\______/>\")\n",
    "    return wrapper\n",
    " \n",
    "def ingredients(func):\n",
    "    def wrapper():\n",
    "        print(\"#tomates#\")\n",
    "        func()\n",
    "        print(\"~salade~\")\n",
    "    return wrapper\n",
    " \n",
    "@pain\n",
    "@ingredients\n",
    "def sandwich(food=\"--jambon--\"):\n",
    "    print(food)\n",
    "\n",
    "sandwich()"
   ]
  },
  {
   "cell_type": "markdown",
   "metadata": {},
   "source": [
    "L'enchainement :\n",
    "\n",
    "```python\n",
    "@pain\n",
    "@ingredients\n",
    "def sandwich\n",
    "```\n",
    "\n",
    "est équivalent à ```sandwich = pain(ingredients(sandwich))```\n",
    "\n",
    "**Attention**, il est alors évident que l'ordre importe : "
   ]
  },
  {
   "cell_type": "code",
   "execution_count": 23,
   "metadata": {},
   "outputs": [
    {
     "name": "stdout",
     "output_type": "stream",
     "text": [
      "#tomates#\n",
      "</''''''\\>\n",
      "--jambon--\n",
      "<\\______/>\n",
      "~salade~\n"
     ]
    }
   ],
   "source": [
    "@ingredients\n",
    "@pain\n",
    "def sandwich(food=\"--jambon--\"):\n",
    "    print(food)\n",
    "\n",
    "sandwich()"
   ]
  },
  {
   "cell_type": "markdown",
   "metadata": {},
   "source": [
    "## Décorateurs à argument\n",
    "On remarque qu'on peut passer un argument au décorateur ```@wraps```. Il existe donc un moyen de paramétrer l'utilisation d'un décorateur. Créer un décorateur \"paramétrable\" n'est pas aussi simple. La fonction prenant le paramètre en argument ne retourne pas de wrapper mais un décorateur (qui lui retourne le wrapper d'une fonction à décorer). \n",
    "Ainsi quand on décore ```wrapper``` avec ```@wraps(myFunc)```, on décore en fait avec le décorateur retourné par ```wraps(myFunc)```.  "
   ]
  },
  {
   "cell_type": "code",
   "execution_count": 38,
   "metadata": {},
   "outputs": [
    {
     "name": "stdout",
     "output_type": "stream",
     "text": [
      "Je fabrique des décorateurs. Je suis éxécuté une seule fois à la création du décorateur. En tant que créateur de décorateur, je retourne un décorateur.\n",
      "\n",
      "Je suis un décorateur, je suis éxécuté une seule fois quand on décore la fonction. En tant que décorateur, je retourne le wrapper.\n",
      "\n",
      "Je fabrique des décorateurs. Je suis éxécuté une seule fois à la création du décorateur. En tant que créateur de décorateur, je retourne un décorateur.\n",
      "\n",
      "Je suis un décorateur, je suis éxécuté une seule fois quand on décore la fonction. En tant que décorateur, je retourne le wrapper.\n",
      "\n"
     ]
    }
   ],
   "source": [
    "def customizableDecorator(arg1dec):\n",
    " \n",
    "    print(\"Je fabrique des décorateurs. Je suis éxécuté une seule fois à la création du décorateur. \"\n",
    "         + \"En tant que créateur de décorateur, je retourne un décorateur.\\n\")\n",
    " \n",
    "    def myDecorator(f):\n",
    " \n",
    "        print(\"Je suis un décorateur, je suis éxécuté une seule fois quand on décore la fonction. \"\n",
    "              + \"En tant que décorateur, je retourne le wrapper.\\n\")\n",
    " \n",
    "        def wrapper(arg1f, arg2f):\n",
    "            print(\"Je suis le wrapper autour de la fonction décorée.\\n\"\n",
    "                  \"Je suis appelé quand on appelle la fonction décorée.\\n\"\n",
    "                  \"En tant que wrapper, je retourne le RESULTAT de la fonction décorée.\\n\")\n",
    "            result = f(arg1f, arg2f)**arg1dec\n",
    "            print \"Résultat de l'appel de \" + f.__name__ + \" : \" + str(result)\n",
    "            return result\n",
    "        return wrapper    \n",
    "    return myDecorator\n",
    "\n",
    "@customizableDecorator(2) # Création du décorateur et décoration de la fonction on en fait lieu en même temps.\n",
    "def myFunc1(arg1, arg2):\n",
    "    return arg1+arg2\n",
    "\n",
    "@customizableDecorator(3)\n",
    "def myFunc2(arg1, arg2):\n",
    "    return arg1+arg2"
   ]
  },
  {
   "cell_type": "code",
   "execution_count": 39,
   "metadata": {},
   "outputs": [
    {
     "name": "stdout",
     "output_type": "stream",
     "text": [
      "Je suis le wrapper autour de la fonction décorée.\n",
      "Je suis appelé quand on appelle la fonction décorée.\n",
      "En tant que wrapper, je retourne le RESULTAT de la fonction décorée.\n",
      "\n",
      "Résultat de l'appel de myFunc1 : 9\n",
      "-------------------------\n",
      "Je suis le wrapper autour de la fonction décorée.\n",
      "Je suis appelé quand on appelle la fonction décorée.\n",
      "En tant que wrapper, je retourne le RESULTAT de la fonction décorée.\n",
      "\n",
      "Résultat de l'appel de myFunc2 : 27\n"
     ]
    },
    {
     "data": {
      "text/plain": [
       "27"
      ]
     },
     "execution_count": 39,
     "metadata": {},
     "output_type": "execute_result"
    }
   ],
   "source": [
    "myFunc1(1, 2)\n",
    "print \"-------------------------\"\n",
    "myFunc2(1, 2)"
   ]
  },
  {
   "cell_type": "markdown",
   "metadata": {},
   "source": [
    "**Remarque :** comme précisé plus haut, le décorateur n'est appelé qu'une seule fois à la définition, au chargement de la fonction décorée. On a donc pas à le réécrire à chaque appel de la fonction (puisque la fonction décorée écrase la fonction non décorée)."
   ]
  },
  {
   "cell_type": "markdown",
   "metadata": {},
   "source": [
    "## A quoi sert un décorateur ?\n",
    "Potentiellement à plein de choses puisqu'il permet de modifier, d'étendre le comportement d'une fonction (qu'on peut ne pas pouvoir modifier comme pour des fonctions de modules externes). On peut entre autres ainsi ajouter des fonctionnalités à la fontion, gérer les permissions d'une fonction, réagir aux arguments passés à la fonction (ses arguments étant passés au wrapper), débugger, etc. \n",
    "\n",
    "Exemples de décorateurs classiques :\n",
    "\n",
    "```python\n",
    "def timer(func):\n",
    "    \"\"\"\n",
    "    Un décorateur qui affiche le temps qu'une fonction met à s'éxécuter\n",
    "    \"\"\"\n",
    "    import time\n",
    "    def wrapper(*args, **kwargs):\n",
    "        t = time.clock()\n",
    "        res = func(*args, **kwargs)\n",
    "        print(func.__name__, time.clock()-t)\n",
    "        return res \n",
    "    return wrapper\n",
    " \n",
    "def logging(func):\n",
    "    \"\"\"\n",
    "    Un décorateur qui log l'activité d'un script.\n",
    "    (Ca fait un print, mais ça pourrait logger !)\n",
    "    \"\"\"\n",
    "    def wrapper(*args, **kwargs):\n",
    "        res = func(*args, **kwargs)\n",
    "        print(func.__name__, args, kwargs)\n",
    "        return res\n",
    "    return wrapper\n",
    " \n",
    "def counter(func):\n",
    "    \"\"\"\n",
    "    Compte et affiche le nombre de fois qu'une fonction a été exécutée\n",
    "    \"\"\"\n",
    "    def wrapper(*args, **kwargs):\n",
    "        wrapper.count = wrapper.count + 1\n",
    "        res = func(*args, **kwargs)\n",
    "        print(\"{0} a été utilisée: {1}x\".format(func.__name__, wrapper.count))\n",
    "        return res\n",
    "    wrapper.count = 0\n",
    "    return wrapper\n",
    "```\n",
    "\n",
    "On remarque que les types de sortie des fonctions décorées ne sont pas (et n'ont pas forcément à être) les mêmes que ceux des fonctions non décorées."
   ]
  },
  {
   "cell_type": "markdown",
   "metadata": {},
   "source": [
    "Prolongement: \n",
    "https://www.codementor.io/sheena/advanced-use-python-decorators-class-function-du107nxsv"
   ]
  }
 ],
 "metadata": {
  "kernelspec": {
   "display_name": "Python 3",
   "language": "python",
   "name": "python3"
  },
  "language_info": {
   "codemirror_mode": {
    "name": "ipython",
    "version": 3
   },
   "file_extension": ".py",
   "mimetype": "text/x-python",
   "name": "python",
   "nbconvert_exporter": "python",
   "pygments_lexer": "ipython3",
   "version": "3.6.8"
  }
 },
 "nbformat": 4,
 "nbformat_minor": 1
}
