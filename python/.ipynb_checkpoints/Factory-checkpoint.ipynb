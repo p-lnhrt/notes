{
 "cells": [
  {
   "cell_type": "code",
   "execution_count": 10,
   "metadata": {},
   "outputs": [],
   "source": [
    "import re"
   ]
  },
  {
   "cell_type": "code",
   "execution_count": 9,
   "metadata": {
    "scrolled": true
   },
   "outputs": [
    {
     "name": "stdout",
     "output_type": "stream",
     "text": [
      "['mongo', 'dynamo']\n"
     ]
    }
   ],
   "source": [
    "class Factory():\n",
    "    _builders = {}\n",
    "    \n",
    "    def show_builders(self):\n",
    "        print(list(self._builders.keys()))\n",
    "        \n",
    "    @classmethod\n",
    "    def register_builder(cls, klass):\n",
    "        name = re.match(pattern='([A-Za-z]+)Builder$', string=klass.__name__).group(1).lower()\n",
    "        cls._builders.update({name: klass})\n",
    "        return klass\n",
    "\n",
    "@Factory.register_builder\n",
    "class MongoBuilder:\n",
    "    pass\n",
    "\n",
    "@Factory.register_builder\n",
    "class DynamoBuilder:\n",
    "    pass\n",
    "\n",
    "factory = Factory()\n",
    "factory.show_builders()"
   ]
  },
  {
   "cell_type": "code",
   "execution_count": 15,
   "metadata": {},
   "outputs": [
    {
     "name": "stdout",
     "output_type": "stream",
     "text": [
      "['mongo', 'dynamo_alone']\n"
     ]
    }
   ],
   "source": [
    "class Factory():\n",
    "    _builders = {}\n",
    "    \n",
    "    def show_builders(self):\n",
    "        print(list(self._builders.keys()))\n",
    "        \n",
    "    @classmethod\n",
    "    def register_builder_hardcore(cls, name):\n",
    "        def decorator(klass):\n",
    "            cls._builders.update({name: klass})\n",
    "            return klass\n",
    "        return decorator\n",
    "\n",
    "# builder classes must be declared AFTER the factory class\n",
    "# Argument validation: Ex: HistorySource, importe le module history et récupère la liste des \n",
    "# noms de builders disponibles. On obtient la liste des scheme supportés sans avoir à les \n",
    "# hard coder dans la fonction de validation.\n",
    "    \n",
    "@Factory.register_builder_hardcore('mongo')\n",
    "class MongoBuilder:\n",
    "    pass\n",
    "\n",
    "@Factory.register_builder_hardcore('dynamo_alone')\n",
    "class DynamoBuilder:\n",
    "    pass\n",
    "\n",
    "factory = Factory()\n",
    "factory.show_builders()"
   ]
  }
 ],
 "metadata": {
  "kernelspec": {
   "display_name": "Python 3",
   "language": "python",
   "name": "python3"
  },
  "language_info": {
   "codemirror_mode": {
    "name": "ipython",
    "version": 3
   },
   "file_extension": ".py",
   "mimetype": "text/x-python",
   "name": "python",
   "nbconvert_exporter": "python",
   "pygments_lexer": "ipython3",
   "version": "3.6.8"
  }
 },
 "nbformat": 4,
 "nbformat_minor": 2
}
