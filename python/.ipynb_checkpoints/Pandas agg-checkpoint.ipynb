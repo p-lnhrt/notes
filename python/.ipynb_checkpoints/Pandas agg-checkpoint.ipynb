{
 "cells": [
  {
   "cell_type": "code",
   "execution_count": 19,
   "metadata": {
    "collapsed": true
   },
   "outputs": [],
   "source": [
    "import pandas as pd\n",
    "import numpy as np\n",
    "from IPython.display import display, HTML"
   ]
  },
  {
   "cell_type": "code",
   "execution_count": 32,
   "metadata": {},
   "outputs": [
    {
     "data": {
      "text/html": [
       "<div>\n",
       "<style scoped>\n",
       "    .dataframe tbody tr th:only-of-type {\n",
       "        vertical-align: middle;\n",
       "    }\n",
       "\n",
       "    .dataframe tbody tr th {\n",
       "        vertical-align: top;\n",
       "    }\n",
       "\n",
       "    .dataframe thead th {\n",
       "        text-align: right;\n",
       "    }\n",
       "</style>\n",
       "<table border=\"1\" class=\"dataframe\">\n",
       "  <thead>\n",
       "    <tr style=\"text-align: right;\">\n",
       "      <th></th>\n",
       "      <th>col1</th>\n",
       "      <th>col2</th>\n",
       "      <th>col3</th>\n",
       "    </tr>\n",
       "  </thead>\n",
       "  <tbody>\n",
       "    <tr>\n",
       "      <th>0</th>\n",
       "      <td>a</td>\n",
       "      <td>c</td>\n",
       "      <td>0</td>\n",
       "    </tr>\n",
       "    <tr>\n",
       "      <th>1</th>\n",
       "      <td>a</td>\n",
       "      <td>c</td>\n",
       "      <td>1</td>\n",
       "    </tr>\n",
       "    <tr>\n",
       "      <th>2</th>\n",
       "      <td>a</td>\n",
       "      <td>d</td>\n",
       "      <td>2</td>\n",
       "    </tr>\n",
       "    <tr>\n",
       "      <th>3</th>\n",
       "      <td>b</td>\n",
       "      <td>e</td>\n",
       "      <td>3</td>\n",
       "    </tr>\n",
       "    <tr>\n",
       "      <th>4</th>\n",
       "      <td>b</td>\n",
       "      <td>e</td>\n",
       "      <td>4</td>\n",
       "    </tr>\n",
       "  </tbody>\n",
       "</table>\n",
       "</div>"
      ],
      "text/plain": [
       "  col1 col2  col3\n",
       "0    a    c     0\n",
       "1    a    c     1\n",
       "2    a    d     2\n",
       "3    b    e     3\n",
       "4    b    e     4"
      ]
     },
     "execution_count": 32,
     "metadata": {},
     "output_type": "execute_result"
    }
   ],
   "source": [
    "df = pd.DataFrame({'col1' : ['a', 'a', 'a', 'b', 'b'], 'col2' : ['c', 'c', 'd', 'e', 'e'], 'col3' : range(5)})\n",
    "df"
   ]
  },
  {
   "cell_type": "code",
   "execution_count": 5,
   "metadata": {},
   "outputs": [
    {
     "data": {
      "text/plain": [
       "col1\n",
       "a    2\n",
       "b    4\n",
       "Name: col3, dtype: int64"
      ]
     },
     "execution_count": 5,
     "metadata": {},
     "output_type": "execute_result"
    }
   ],
   "source": [
    "df.groupby('col1')['col3'].max() # retourne pandas.core.series.Series à une valeur par groupe et indexée par les groupes"
   ]
  },
  {
   "cell_type": "code",
   "execution_count": 9,
   "metadata": {},
   "outputs": [
    {
     "data": {
      "text/plain": [
       "0    1\n",
       "1    2\n",
       "2    4\n",
       "Name: col3, dtype: int64"
      ]
     },
     "execution_count": 9,
     "metadata": {},
     "output_type": "execute_result"
    }
   ],
   "source": [
    "df.groupby(['col1', 'col2'])['col3'].max()\n",
    "# retourne pandas.core.series.Series à une valeur par groupe et indexée par les groupes (multiindex)\n",
    "# On peut récupérer une série simple avec .reset_index(drop=True)"
   ]
  },
  {
   "cell_type": "markdown",
   "metadata": {},
   "source": [
    "apply : peut être appliqué sur des colonnes choisies et non l'ensemble du Dataframe ? Les arguments passées à la fonction sont des Series (ou un ndarray si raw = True) correspondant à chaque ligne / colonne. Possibilité de faire avec groupBy.\n",
    "applymap : plus simple que apply, prend simplement en argument une fonction qui a un élément du dataframe associe une seule valeur. \n",
    "Rappel : de nombreuses opérations récurrentes disposent de fonctions vectorisées bien plus rapides que le combo apply + func. Force une écriture type d['col'] = df['col']+1 ? Pas de possibilité de piper ?\n",
    "=> fonction pipe qui permet de chainer l'applications de fonctions attendant une Series, un Dataframe ou un GroupBy object\n",
    "f(g(df), arg1=a) équivalent à df.pipe(g).pipe(f, arg1=a)\n",
    "agg ou aggregate (l'un est un alias pour l'autre) : "
   ]
  },
  {
   "cell_type": "code",
   "execution_count": null,
   "metadata": {
    "collapsed": true
   },
   "outputs": [],
   "source": [
    "df.apply(lambda x : x + 1 )"
   ]
  },
  {
   "cell_type": "markdown",
   "metadata": {},
   "source": [
    "Si on passe à .agg une UDF, il lui est passé une Series"
   ]
  },
  {
   "cell_type": "markdown",
   "metadata": {},
   "source": [
    "```df.groupby('col1')``` retourne un objet ```GroupBy```"
   ]
  },
  {
   "cell_type": "code",
   "execution_count": 15,
   "metadata": {
    "scrolled": true
   },
   "outputs": [
    {
     "data": {
      "text/html": [
       "<div>\n",
       "<style scoped>\n",
       "    .dataframe tbody tr th:only-of-type {\n",
       "        vertical-align: middle;\n",
       "    }\n",
       "\n",
       "    .dataframe tbody tr th {\n",
       "        vertical-align: top;\n",
       "    }\n",
       "\n",
       "    .dataframe thead tr th {\n",
       "        text-align: left;\n",
       "    }\n",
       "</style>\n",
       "<table border=\"1\" class=\"dataframe\">\n",
       "  <thead>\n",
       "    <tr>\n",
       "      <th></th>\n",
       "      <th>col1</th>\n",
       "      <th colspan=\"2\" halign=\"left\">col2</th>\n",
       "    </tr>\n",
       "    <tr>\n",
       "      <th></th>\n",
       "      <th></th>\n",
       "      <th>max</th>\n",
       "      <th>min</th>\n",
       "    </tr>\n",
       "  </thead>\n",
       "  <tbody>\n",
       "    <tr>\n",
       "      <th>0</th>\n",
       "      <td>a</td>\n",
       "      <td>2</td>\n",
       "      <td>0</td>\n",
       "    </tr>\n",
       "    <tr>\n",
       "      <th>1</th>\n",
       "      <td>b</td>\n",
       "      <td>4</td>\n",
       "      <td>3</td>\n",
       "    </tr>\n",
       "  </tbody>\n",
       "</table>\n",
       "</div>"
      ],
      "text/plain": [
       "  col1 col2    \n",
       "        max min\n",
       "0    a    2   0\n",
       "1    b    4   3"
      ]
     },
     "execution_count": 15,
     "metadata": {},
     "output_type": "execute_result"
    }
   ],
   "source": [
    "df.groupby('col1', as_index=False).agg({'col2' : ['max', 'min']}) # dict {string col name : string func name list}"
   ]
  },
  {
   "cell_type": "code",
   "execution_count": 17,
   "metadata": {},
   "outputs": [
    {
     "data": {
      "text/html": [
       "<div>\n",
       "<style scoped>\n",
       "    .dataframe tbody tr th:only-of-type {\n",
       "        vertical-align: middle;\n",
       "    }\n",
       "\n",
       "    .dataframe tbody tr th {\n",
       "        vertical-align: top;\n",
       "    }\n",
       "\n",
       "    .dataframe thead tr th {\n",
       "        text-align: left;\n",
       "    }\n",
       "</style>\n",
       "<table border=\"1\" class=\"dataframe\">\n",
       "  <thead>\n",
       "    <tr>\n",
       "      <th></th>\n",
       "      <th>col1</th>\n",
       "      <th colspan=\"2\" halign=\"left\">col2</th>\n",
       "    </tr>\n",
       "    <tr>\n",
       "      <th></th>\n",
       "      <th></th>\n",
       "      <th>max</th>\n",
       "      <th>min</th>\n",
       "    </tr>\n",
       "  </thead>\n",
       "  <tbody>\n",
       "    <tr>\n",
       "      <th>0</th>\n",
       "      <td>a</td>\n",
       "      <td>2</td>\n",
       "      <td>0</td>\n",
       "    </tr>\n",
       "    <tr>\n",
       "      <th>1</th>\n",
       "      <td>b</td>\n",
       "      <td>4</td>\n",
       "      <td>3</td>\n",
       "    </tr>\n",
       "  </tbody>\n",
       "</table>\n",
       "</div>"
      ],
      "text/plain": [
       "  col1 col2    \n",
       "        max min\n",
       "0    a    2   0\n",
       "1    b    4   3"
      ]
     },
     "execution_count": 17,
     "metadata": {},
     "output_type": "execute_result"
    }
   ],
   "source": [
    "df.groupby('col1', as_index=False).agg({'col2' : [max, min]})  # dict {string col name : func name list}"
   ]
  },
  {
   "cell_type": "code",
   "execution_count": 18,
   "metadata": {},
   "outputs": [
    {
     "data": {
      "text/html": [
       "<div>\n",
       "<style scoped>\n",
       "    .dataframe tbody tr th:only-of-type {\n",
       "        vertical-align: middle;\n",
       "    }\n",
       "\n",
       "    .dataframe tbody tr th {\n",
       "        vertical-align: top;\n",
       "    }\n",
       "\n",
       "    .dataframe thead th {\n",
       "        text-align: right;\n",
       "    }\n",
       "</style>\n",
       "<table border=\"1\" class=\"dataframe\">\n",
       "  <thead>\n",
       "    <tr style=\"text-align: right;\">\n",
       "      <th></th>\n",
       "      <th>col1</th>\n",
       "      <th>col2</th>\n",
       "    </tr>\n",
       "  </thead>\n",
       "  <tbody>\n",
       "    <tr>\n",
       "      <th>0</th>\n",
       "      <td>a</td>\n",
       "      <td>2</td>\n",
       "    </tr>\n",
       "    <tr>\n",
       "      <th>1</th>\n",
       "      <td>b</td>\n",
       "      <td>4</td>\n",
       "    </tr>\n",
       "  </tbody>\n",
       "</table>\n",
       "</div>"
      ],
      "text/plain": [
       "  col1  col2\n",
       "0    a     2\n",
       "1    b     4"
      ]
     },
     "execution_count": 18,
     "metadata": {},
     "output_type": "execute_result"
    }
   ],
   "source": [
    "df.groupby('col1', as_index=False).agg({'col2' : 'max'}) # dict {string col name : string func name}"
   ]
  },
  {
   "cell_type": "code",
   "execution_count": 16,
   "metadata": {},
   "outputs": [
    {
     "data": {
      "text/html": [
       "<div>\n",
       "<style scoped>\n",
       "    .dataframe tbody tr th:only-of-type {\n",
       "        vertical-align: middle;\n",
       "    }\n",
       "\n",
       "    .dataframe tbody tr th {\n",
       "        vertical-align: top;\n",
       "    }\n",
       "\n",
       "    .dataframe thead th {\n",
       "        text-align: right;\n",
       "    }\n",
       "</style>\n",
       "<table border=\"1\" class=\"dataframe\">\n",
       "  <thead>\n",
       "    <tr style=\"text-align: right;\">\n",
       "      <th></th>\n",
       "      <th>col1</th>\n",
       "      <th>col2</th>\n",
       "    </tr>\n",
       "  </thead>\n",
       "  <tbody>\n",
       "    <tr>\n",
       "      <th>0</th>\n",
       "      <td>a</td>\n",
       "      <td>2</td>\n",
       "    </tr>\n",
       "    <tr>\n",
       "      <th>1</th>\n",
       "      <td>b</td>\n",
       "      <td>4</td>\n",
       "    </tr>\n",
       "  </tbody>\n",
       "</table>\n",
       "</div>"
      ],
      "text/plain": [
       "  col1  col2\n",
       "0    a     2\n",
       "1    b     4"
      ]
     },
     "execution_count": 16,
     "metadata": {},
     "output_type": "execute_result"
    }
   ],
   "source": [
    "df.groupby('col1', as_index=False).agg({'col2' : max}) # dict {string col name : func name}"
   ]
  },
  {
   "cell_type": "markdown",
   "metadata": {},
   "source": [
    "Voir si on ne peut pas faire une string col names list associée à une function list => les string list peuvent permettre de faire l'équivalent de mutate_at.\n",
    "https://stackoverflow.com/questions/44635626/rename-result-columns-from-pandas-aggregation-futurewarning-using-a-dict-with\n",
    "https://github.com/pandas-dev/pandas/issues/18366\n",
    "https://sotte.github.io/dplyr-for-python.html"
   ]
  },
  {
   "cell_type": "code",
   "execution_count": 21,
   "metadata": {},
   "outputs": [
    {
     "name": "stderr",
     "output_type": "stream",
     "text": [
      "C:\\Users\\Pierre\\Anaconda3\\lib\\site-packages\\pandas\\core\\groupby\\groupby.py:4658: FutureWarning: using a dict with renaming is deprecated and will be removed in a future version\n",
      "  return super(DataFrameGroupBy, self).aggregate(arg, *args, **kwargs)\n"
     ]
    },
    {
     "data": {
      "text/html": [
       "<div>\n",
       "<style scoped>\n",
       "    .dataframe tbody tr th:only-of-type {\n",
       "        vertical-align: middle;\n",
       "    }\n",
       "\n",
       "    .dataframe tbody tr th {\n",
       "        vertical-align: top;\n",
       "    }\n",
       "\n",
       "    .dataframe thead tr th {\n",
       "        text-align: left;\n",
       "    }\n",
       "</style>\n",
       "<table border=\"1\" class=\"dataframe\">\n",
       "  <thead>\n",
       "    <tr>\n",
       "      <th></th>\n",
       "      <th>col1</th>\n",
       "      <th colspan=\"2\" halign=\"left\">col2</th>\n",
       "    </tr>\n",
       "    <tr>\n",
       "      <th></th>\n",
       "      <th></th>\n",
       "      <th>maxcol</th>\n",
       "      <th>mincol</th>\n",
       "    </tr>\n",
       "  </thead>\n",
       "  <tbody>\n",
       "    <tr>\n",
       "      <th>0</th>\n",
       "      <td>a</td>\n",
       "      <td>2</td>\n",
       "      <td>0</td>\n",
       "    </tr>\n",
       "    <tr>\n",
       "      <th>1</th>\n",
       "      <td>b</td>\n",
       "      <td>4</td>\n",
       "      <td>3</td>\n",
       "    </tr>\n",
       "  </tbody>\n",
       "</table>\n",
       "</div>"
      ],
      "text/plain": [
       "  col1   col2       \n",
       "       maxcol mincol\n",
       "0    a      2      0\n",
       "1    b      4      3"
      ]
     },
     "execution_count": 21,
     "metadata": {},
     "output_type": "execute_result"
    }
   ],
   "source": [
    "df.groupby('col1', as_index=False).agg({'col2' : {'maxcol' : max, 'mincol' : 'min'}})\n",
    "# sinon on doit utiliser rename"
   ]
  },
  {
   "cell_type": "code",
   "execution_count": 4,
   "metadata": {},
   "outputs": [
    {
     "data": {
      "text/html": [
       "<div>\n",
       "<style scoped>\n",
       "    .dataframe tbody tr th:only-of-type {\n",
       "        vertical-align: middle;\n",
       "    }\n",
       "\n",
       "    .dataframe tbody tr th {\n",
       "        vertical-align: top;\n",
       "    }\n",
       "\n",
       "    .dataframe thead th {\n",
       "        text-align: right;\n",
       "    }\n",
       "</style>\n",
       "<table border=\"1\" class=\"dataframe\">\n",
       "  <thead>\n",
       "    <tr style=\"text-align: right;\">\n",
       "      <th></th>\n",
       "      <th>col2</th>\n",
       "      <th>col3</th>\n",
       "    </tr>\n",
       "  </thead>\n",
       "  <tbody>\n",
       "    <tr>\n",
       "      <th>0</th>\n",
       "      <td>cx</td>\n",
       "      <td>0</td>\n",
       "    </tr>\n",
       "    <tr>\n",
       "      <th>1</th>\n",
       "      <td>cx</td>\n",
       "      <td>1</td>\n",
       "    </tr>\n",
       "    <tr>\n",
       "      <th>2</th>\n",
       "      <td>dx</td>\n",
       "      <td>4</td>\n",
       "    </tr>\n",
       "    <tr>\n",
       "      <th>3</th>\n",
       "      <td>ex</td>\n",
       "      <td>9</td>\n",
       "    </tr>\n",
       "    <tr>\n",
       "      <th>4</th>\n",
       "      <td>ex</td>\n",
       "      <td>16</td>\n",
       "    </tr>\n",
       "  </tbody>\n",
       "</table>\n",
       "</div>"
      ],
      "text/plain": [
       "  col2  col3\n",
       "0   cx     0\n",
       "1   cx     1\n",
       "2   dx     4\n",
       "3   ex     9\n",
       "4   ex    16"
      ]
     },
     "execution_count": 4,
     "metadata": {},
     "output_type": "execute_result"
    }
   ],
   "source": [
    "df.transform({'col2' : lambda x : x + 'x', 'col3' : lambda x : x**2}) # Problème, ne permet qu'une transfo par colonne. Si on passe juste une fonction\n",
    "# l'applique à toute la table. On ne peut par créer une "
   ]
  },
  {
   "cell_type": "code",
   "execution_count": null,
   "metadata": {
    "collapsed": true
   },
   "outputs": [],
   "source": [
    "df.transform({'col2' : lambda x : x + 'x', 'col3' : lambda x : x**2})"
   ]
  },
  {
   "cell_type": "code",
   "execution_count": 25,
   "metadata": {},
   "outputs": [
    {
     "data": {
      "text/plain": [
       "'pandas.core.frame'"
      ]
     },
     "execution_count": 25,
     "metadata": {},
     "output_type": "execute_result"
    }
   ],
   "source": [
    "df.agg.__module__"
   ]
  },
  {
   "cell_type": "code",
   "execution_count": 22,
   "metadata": {},
   "outputs": [
    {
     "data": {
      "text/html": [
       "<div>\n",
       "<style scoped>\n",
       "    .dataframe tbody tr th:only-of-type {\n",
       "        vertical-align: middle;\n",
       "    }\n",
       "\n",
       "    .dataframe tbody tr th {\n",
       "        vertical-align: top;\n",
       "    }\n",
       "\n",
       "    .dataframe thead th {\n",
       "        text-align: right;\n",
       "    }\n",
       "</style>\n",
       "<table border=\"1\" class=\"dataframe\">\n",
       "  <thead>\n",
       "    <tr style=\"text-align: right;\">\n",
       "      <th></th>\n",
       "      <th>sqrt</th>\n",
       "      <th>exp</th>\n",
       "    </tr>\n",
       "  </thead>\n",
       "  <tbody>\n",
       "    <tr>\n",
       "      <th>0</th>\n",
       "      <td>0.000000</td>\n",
       "      <td>1.000000</td>\n",
       "    </tr>\n",
       "    <tr>\n",
       "      <th>1</th>\n",
       "      <td>1.000000</td>\n",
       "      <td>2.718282</td>\n",
       "    </tr>\n",
       "    <tr>\n",
       "      <th>2</th>\n",
       "      <td>1.414214</td>\n",
       "      <td>7.389056</td>\n",
       "    </tr>\n",
       "    <tr>\n",
       "      <th>3</th>\n",
       "      <td>1.732051</td>\n",
       "      <td>20.085537</td>\n",
       "    </tr>\n",
       "    <tr>\n",
       "      <th>4</th>\n",
       "      <td>2.000000</td>\n",
       "      <td>54.598150</td>\n",
       "    </tr>\n",
       "  </tbody>\n",
       "</table>\n",
       "</div>"
      ],
      "text/plain": [
       "       sqrt        exp\n",
       "0  0.000000   1.000000\n",
       "1  1.000000   2.718282\n",
       "2  1.414214   7.389056\n",
       "3  1.732051  20.085537\n",
       "4  2.000000  54.598150"
      ]
     },
     "execution_count": 22,
     "metadata": {},
     "output_type": "execute_result"
    }
   ],
   "source": [
    "df['col3'].transform([np.sqrt, np.exp])"
   ]
  },
  {
   "cell_type": "code",
   "execution_count": 14,
   "metadata": {},
   "outputs": [
    {
     "data": {
      "text/html": [
       "<div>\n",
       "<style scoped>\n",
       "    .dataframe tbody tr th:only-of-type {\n",
       "        vertical-align: middle;\n",
       "    }\n",
       "\n",
       "    .dataframe tbody tr th {\n",
       "        vertical-align: top;\n",
       "    }\n",
       "\n",
       "    .dataframe thead th {\n",
       "        text-align: right;\n",
       "    }\n",
       "</style>\n",
       "<table border=\"1\" class=\"dataframe\">\n",
       "  <thead>\n",
       "    <tr style=\"text-align: right;\">\n",
       "      <th></th>\n",
       "      <th>col2</th>\n",
       "      <th>col3</th>\n",
       "    </tr>\n",
       "  </thead>\n",
       "  <tbody>\n",
       "    <tr>\n",
       "      <th>0</th>\n",
       "      <td>cx</td>\n",
       "      <td>0</td>\n",
       "    </tr>\n",
       "    <tr>\n",
       "      <th>1</th>\n",
       "      <td>cx</td>\n",
       "      <td>1</td>\n",
       "    </tr>\n",
       "    <tr>\n",
       "      <th>2</th>\n",
       "      <td>dx</td>\n",
       "      <td>4</td>\n",
       "    </tr>\n",
       "    <tr>\n",
       "      <th>3</th>\n",
       "      <td>ex</td>\n",
       "      <td>9</td>\n",
       "    </tr>\n",
       "    <tr>\n",
       "      <th>4</th>\n",
       "      <td>ex</td>\n",
       "      <td>16</td>\n",
       "    </tr>\n",
       "  </tbody>\n",
       "</table>\n",
       "</div>"
      ],
      "text/plain": [
       "  col2  col3\n",
       "0   cx     0\n",
       "1   cx     1\n",
       "2   dx     4\n",
       "3   ex     9\n",
       "4   ex    16"
      ]
     },
     "execution_count": 14,
     "metadata": {},
     "output_type": "execute_result"
    }
   ],
   "source": [
    "# Avec une fonction d'aggrégation, x correspond à la colonne entière et non à chaque élément \n",
    "# En fait la fonction doit pouvoir s'appliquer directement sur l'objet (colonne (Series ?) ou DataFrame) ou via .apply()\n",
    "df.transform({'col2' : lambda x : x + 'x', 'col3' : lambda x : x**2}) # Problème, ne permet qu'une transfo par colonne. Si on passe juste une fonction\n",
    "# l'applique à toute la table. On ne peut par créer une \n",
    "# Transform retourne un objet (à l'index) de même longueur et si possible de même type que celui sur lequel elle est appliquée. \n",
    "df['col3'].transform(lambda x : x**2) # Prend une Series, retourne une Series de même longueur\n",
    "df['col3'].transform([np.sqrt, np.exp]) # Retourne un DataFrame où les colonnes sont nommées avec l'attribut __name__ de chaque fonction passée\n",
    "# On peut s'en servir avec GroupBy (car appelle en fait .agg) mais on obtiendra pas une ligne par groupe\n",
    "\n",
    "# En fait transform appelle .agg : transform(self, func, *args, **kwargs) ne fait qu'appeler self.agg(func, *args, **kwargs)\n",
    "\n",
    "# https://pandas.pydata.org/pandas-docs/stable/groupby.html#transformation"
   ]
  },
  {
   "cell_type": "code",
   "execution_count": 62,
   "metadata": {},
   "outputs": [
    {
     "data": {
      "text/html": [
       "<div>\n",
       "<style scoped>\n",
       "    .dataframe tbody tr th:only-of-type {\n",
       "        vertical-align: middle;\n",
       "    }\n",
       "\n",
       "    .dataframe tbody tr th {\n",
       "        vertical-align: top;\n",
       "    }\n",
       "\n",
       "    .dataframe thead th {\n",
       "        text-align: right;\n",
       "    }\n",
       "</style>\n",
       "<table border=\"1\" class=\"dataframe\">\n",
       "  <thead>\n",
       "    <tr style=\"text-align: right;\">\n",
       "      <th></th>\n",
       "      <th>col2</th>\n",
       "      <th>col3</th>\n",
       "    </tr>\n",
       "  </thead>\n",
       "  <tbody>\n",
       "    <tr>\n",
       "      <th>0</th>\n",
       "      <td>cx</td>\n",
       "      <td>4</td>\n",
       "    </tr>\n",
       "    <tr>\n",
       "      <th>1</th>\n",
       "      <td>cx</td>\n",
       "      <td>4</td>\n",
       "    </tr>\n",
       "    <tr>\n",
       "      <th>2</th>\n",
       "      <td>dx</td>\n",
       "      <td>4</td>\n",
       "    </tr>\n",
       "    <tr>\n",
       "      <th>3</th>\n",
       "      <td>ex</td>\n",
       "      <td>4</td>\n",
       "    </tr>\n",
       "    <tr>\n",
       "      <th>4</th>\n",
       "      <td>ex</td>\n",
       "      <td>4</td>\n",
       "    </tr>\n",
       "  </tbody>\n",
       "</table>\n",
       "</div>"
      ],
      "text/plain": [
       "  col2  col3\n",
       "0   cx     4\n",
       "1   cx     4\n",
       "2   dx     4\n",
       "3   ex     4\n",
       "4   ex     4"
      ]
     },
     "execution_count": 62,
     "metadata": {},
     "output_type": "execute_result"
    }
   ],
   "source": [
    "# df['col3'].agg(lambda x : x**2)\n",
    "\n",
    "df.transform({'col2' : lambda x : x + 'x', 'col3' : max}) # marche \n",
    "df.transform({'col3' : max}) # Ne marche pas : ValueError: transforms cannot produce aggregated results"
   ]
  },
  {
   "cell_type": "code",
   "execution_count": 5,
   "metadata": {},
   "outputs": [
    {
     "data": {
      "text/html": [
       "<div>\n",
       "<style scoped>\n",
       "    .dataframe tbody tr th:only-of-type {\n",
       "        vertical-align: middle;\n",
       "    }\n",
       "\n",
       "    .dataframe tbody tr th {\n",
       "        vertical-align: top;\n",
       "    }\n",
       "\n",
       "    .dataframe thead th {\n",
       "        text-align: right;\n",
       "    }\n",
       "</style>\n",
       "<table border=\"1\" class=\"dataframe\">\n",
       "  <thead>\n",
       "    <tr style=\"text-align: right;\">\n",
       "      <th></th>\n",
       "      <th>col3</th>\n",
       "    </tr>\n",
       "  </thead>\n",
       "  <tbody>\n",
       "    <tr>\n",
       "      <th>0</th>\n",
       "      <td>2</td>\n",
       "    </tr>\n",
       "    <tr>\n",
       "      <th>1</th>\n",
       "      <td>3</td>\n",
       "    </tr>\n",
       "    <tr>\n",
       "      <th>2</th>\n",
       "      <td>4</td>\n",
       "    </tr>\n",
       "    <tr>\n",
       "      <th>3</th>\n",
       "      <td>7</td>\n",
       "    </tr>\n",
       "    <tr>\n",
       "      <th>4</th>\n",
       "      <td>8</td>\n",
       "    </tr>\n",
       "  </tbody>\n",
       "</table>\n",
       "</div>"
      ],
      "text/plain": [
       "   col3\n",
       "0     2\n",
       "1     3\n",
       "2     4\n",
       "3     7\n",
       "4     8"
      ]
     },
     "execution_count": 5,
     "metadata": {},
     "output_type": "execute_result"
    }
   ],
   "source": [
    "# df.groupby('col1', as_index=False)['col3'].transform([np.mean, max]) # Ne marche pas \n",
    "# df['col4'] = df.groupby('col1', as_index=False)['col3'].transform(max)\n",
    "\n",
    "df.groupby('col1', as_index=False)['col3'].transform(max) # Marche, équivalent à groupby + mutate(col3 = aggfunc)\n",
    "df.groupby('col1', as_index=False)['col3'].transform(lambda x : x + max(x)) # Marche, équivalent à groupby + mutate(col3 = func(col3))"
   ]
  },
  {
   "cell_type": "code",
   "execution_count": 18,
   "metadata": {},
   "outputs": [
    {
     "data": {
      "text/html": [
       "<div>\n",
       "<style scoped>\n",
       "    .dataframe tbody tr th:only-of-type {\n",
       "        vertical-align: middle;\n",
       "    }\n",
       "\n",
       "    .dataframe tbody tr th {\n",
       "        vertical-align: top;\n",
       "    }\n",
       "\n",
       "    .dataframe thead th {\n",
       "        text-align: right;\n",
       "    }\n",
       "</style>\n",
       "<table border=\"1\" class=\"dataframe\">\n",
       "  <thead>\n",
       "    <tr style=\"text-align: right;\">\n",
       "      <th></th>\n",
       "      <th>col1</th>\n",
       "      <th>col2</th>\n",
       "      <th>col3</th>\n",
       "    </tr>\n",
       "  </thead>\n",
       "  <tbody>\n",
       "    <tr>\n",
       "      <th>0</th>\n",
       "      <td>a</td>\n",
       "      <td>c</td>\n",
       "      <td>0</td>\n",
       "    </tr>\n",
       "    <tr>\n",
       "      <th>1</th>\n",
       "      <td>a</td>\n",
       "      <td>c</td>\n",
       "      <td>1</td>\n",
       "    </tr>\n",
       "    <tr>\n",
       "      <th>2</th>\n",
       "      <td>a</td>\n",
       "      <td>d</td>\n",
       "      <td>2</td>\n",
       "    </tr>\n",
       "    <tr>\n",
       "      <th>3</th>\n",
       "      <td>b</td>\n",
       "      <td>e</td>\n",
       "      <td>3</td>\n",
       "    </tr>\n",
       "    <tr>\n",
       "      <th>4</th>\n",
       "      <td>b</td>\n",
       "      <td>e</td>\n",
       "      <td>4</td>\n",
       "    </tr>\n",
       "  </tbody>\n",
       "</table>\n",
       "</div>"
      ],
      "text/plain": [
       "  col1 col2  col3\n",
       "0    a    c     0\n",
       "1    a    c     1\n",
       "2    a    d     2\n",
       "3    b    e     3\n",
       "4    b    e     4"
      ]
     },
     "execution_count": 18,
     "metadata": {},
     "output_type": "execute_result"
    }
   ],
   "source": [
    "df"
   ]
  },
  {
   "cell_type": "code",
   "execution_count": 17,
   "metadata": {},
   "outputs": [
    {
     "data": {
      "text/html": [
       "<div>\n",
       "<style scoped>\n",
       "    .dataframe tbody tr th:only-of-type {\n",
       "        vertical-align: middle;\n",
       "    }\n",
       "\n",
       "    .dataframe tbody tr th {\n",
       "        vertical-align: top;\n",
       "    }\n",
       "\n",
       "    .dataframe thead th {\n",
       "        text-align: right;\n",
       "    }\n",
       "</style>\n",
       "<table border=\"1\" class=\"dataframe\">\n",
       "  <thead>\n",
       "    <tr style=\"text-align: right;\">\n",
       "      <th></th>\n",
       "      <th>col2</th>\n",
       "      <th>col3</th>\n",
       "    </tr>\n",
       "  </thead>\n",
       "  <tbody>\n",
       "    <tr>\n",
       "      <th>0</th>\n",
       "      <td>d</td>\n",
       "      <td>2</td>\n",
       "    </tr>\n",
       "    <tr>\n",
       "      <th>1</th>\n",
       "      <td>d</td>\n",
       "      <td>2</td>\n",
       "    </tr>\n",
       "    <tr>\n",
       "      <th>2</th>\n",
       "      <td>d</td>\n",
       "      <td>2</td>\n",
       "    </tr>\n",
       "    <tr>\n",
       "      <th>3</th>\n",
       "      <td>e</td>\n",
       "      <td>4</td>\n",
       "    </tr>\n",
       "    <tr>\n",
       "      <th>4</th>\n",
       "      <td>e</td>\n",
       "      <td>4</td>\n",
       "    </tr>\n",
       "  </tbody>\n",
       "</table>\n",
       "</div>"
      ],
      "text/plain": [
       "  col2 col3\n",
       "0    d    2\n",
       "1    d    2\n",
       "2    d    2\n",
       "3    e    4\n",
       "4    e    4"
      ]
     },
     "execution_count": 17,
     "metadata": {},
     "output_type": "execute_result"
    }
   ],
   "source": [
    "df.groupby('col1', as_index=False).transform(max) # mais .transform({'col3' : max}) ou .transform([min, max]) ne marchent pas"
   ]
  },
  {
   "cell_type": "code",
   "execution_count": 36,
   "metadata": {},
   "outputs": [
    {
     "data": {
      "text/html": [
       "<div>\n",
       "<style scoped>\n",
       "    .dataframe tbody tr th:only-of-type {\n",
       "        vertical-align: middle;\n",
       "    }\n",
       "\n",
       "    .dataframe tbody tr th {\n",
       "        vertical-align: top;\n",
       "    }\n",
       "\n",
       "    .dataframe thead th {\n",
       "        text-align: right;\n",
       "    }\n",
       "</style>\n",
       "<table border=\"1\" class=\"dataframe\">\n",
       "  <thead>\n",
       "    <tr style=\"text-align: right;\">\n",
       "      <th></th>\n",
       "      <th>col1</th>\n",
       "      <th>col3</th>\n",
       "    </tr>\n",
       "  </thead>\n",
       "  <tbody>\n",
       "    <tr>\n",
       "      <th>0</th>\n",
       "      <td>a</td>\n",
       "      <td>2</td>\n",
       "    </tr>\n",
       "    <tr>\n",
       "      <th>1</th>\n",
       "      <td>b</td>\n",
       "      <td>4</td>\n",
       "    </tr>\n",
       "  </tbody>\n",
       "</table>\n",
       "</div>"
      ],
      "text/plain": [
       "  col1  col3\n",
       "0    a     2\n",
       "1    b     4"
      ]
     },
     "execution_count": 36,
     "metadata": {},
     "output_type": "execute_result"
    }
   ],
   "source": [
    "df.groupby('col1', as_index=False)['col3'].agg(max)"
   ]
  },
  {
   "cell_type": "code",
   "execution_count": 33,
   "metadata": {
    "scrolled": true
   },
   "outputs": [
    {
     "data": {
      "text/html": [
       "<div>\n",
       "<style scoped>\n",
       "    .dataframe tbody tr th:only-of-type {\n",
       "        vertical-align: middle;\n",
       "    }\n",
       "\n",
       "    .dataframe tbody tr th {\n",
       "        vertical-align: top;\n",
       "    }\n",
       "\n",
       "    .dataframe thead tr th {\n",
       "        text-align: left;\n",
       "    }\n",
       "</style>\n",
       "<table border=\"1\" class=\"dataframe\">\n",
       "  <thead>\n",
       "    <tr>\n",
       "      <th></th>\n",
       "      <th colspan=\"2\" halign=\"left\">col2</th>\n",
       "    </tr>\n",
       "    <tr>\n",
       "      <th></th>\n",
       "      <th>&lt;lambda&gt;</th>\n",
       "      <th>&lt;lambda&gt;</th>\n",
       "    </tr>\n",
       "  </thead>\n",
       "  <tbody>\n",
       "    <tr>\n",
       "      <th>0</th>\n",
       "      <td>0</td>\n",
       "      <td>1</td>\n",
       "    </tr>\n",
       "    <tr>\n",
       "      <th>1</th>\n",
       "      <td>1</td>\n",
       "      <td>2</td>\n",
       "    </tr>\n",
       "    <tr>\n",
       "      <th>2</th>\n",
       "      <td>4</td>\n",
       "      <td>3</td>\n",
       "    </tr>\n",
       "    <tr>\n",
       "      <th>3</th>\n",
       "      <td>9</td>\n",
       "      <td>4</td>\n",
       "    </tr>\n",
       "    <tr>\n",
       "      <th>4</th>\n",
       "      <td>16</td>\n",
       "      <td>5</td>\n",
       "    </tr>\n",
       "  </tbody>\n",
       "</table>\n",
       "</div>"
      ],
      "text/plain": [
       "      col2         \n",
       "  <lambda> <lambda>\n",
       "0        0        1\n",
       "1        1        2\n",
       "2        4        3\n",
       "3        9        4\n",
       "4       16        5"
      ]
     },
     "execution_count": 33,
     "metadata": {},
     "output_type": "execute_result"
    }
   ],
   "source": [
    "df.transform({'col2' : [lambda x : x**2, lambda x : x+1]})"
   ]
  },
  {
   "cell_type": "code",
   "execution_count": 36,
   "metadata": {},
   "outputs": [
    {
     "data": {
      "text/html": [
       "<div>\n",
       "<style scoped>\n",
       "    .dataframe tbody tr th:only-of-type {\n",
       "        vertical-align: middle;\n",
       "    }\n",
       "\n",
       "    .dataframe tbody tr th {\n",
       "        vertical-align: top;\n",
       "    }\n",
       "\n",
       "    .dataframe thead tr th {\n",
       "        text-align: left;\n",
       "    }\n",
       "</style>\n",
       "<table border=\"1\" class=\"dataframe\">\n",
       "  <thead>\n",
       "    <tr>\n",
       "      <th></th>\n",
       "      <th colspan=\"2\" halign=\"left\">col2</th>\n",
       "    </tr>\n",
       "    <tr>\n",
       "      <th></th>\n",
       "      <th>f</th>\n",
       "      <th>g</th>\n",
       "    </tr>\n",
       "  </thead>\n",
       "  <tbody>\n",
       "    <tr>\n",
       "      <th>0</th>\n",
       "      <td>0</td>\n",
       "      <td>1</td>\n",
       "    </tr>\n",
       "    <tr>\n",
       "      <th>1</th>\n",
       "      <td>1</td>\n",
       "      <td>2</td>\n",
       "    </tr>\n",
       "    <tr>\n",
       "      <th>2</th>\n",
       "      <td>4</td>\n",
       "      <td>3</td>\n",
       "    </tr>\n",
       "    <tr>\n",
       "      <th>3</th>\n",
       "      <td>9</td>\n",
       "      <td>4</td>\n",
       "    </tr>\n",
       "    <tr>\n",
       "      <th>4</th>\n",
       "      <td>16</td>\n",
       "      <td>5</td>\n",
       "    </tr>\n",
       "  </tbody>\n",
       "</table>\n",
       "</div>"
      ],
      "text/plain": [
       "  col2   \n",
       "     f  g\n",
       "0    0  1\n",
       "1    1  2\n",
       "2    4  3\n",
       "3    9  4\n",
       "4   16  5"
      ]
     },
     "execution_count": 36,
     "metadata": {},
     "output_type": "execute_result"
    }
   ],
   "source": [
    "def f(x):\n",
    "    return x**2\n",
    "\n",
    "def g(x):\n",
    "    return x+1\n",
    "\n",
    "df.transform({'col2' : [f, g]}) # Si on passe des lambdas les colonnes s'appeleront lambda\n",
    "\n",
    "# transform ne s'applique pas à un GroupBy object"
   ]
  },
  {
   "cell_type": "code",
   "execution_count": 32,
   "metadata": {},
   "outputs": [
    {
     "data": {
      "text/html": [
       "<div>\n",
       "<style scoped>\n",
       "    .dataframe tbody tr th:only-of-type {\n",
       "        vertical-align: middle;\n",
       "    }\n",
       "\n",
       "    .dataframe tbody tr th {\n",
       "        vertical-align: top;\n",
       "    }\n",
       "\n",
       "    .dataframe thead tr th {\n",
       "        text-align: left;\n",
       "    }\n",
       "</style>\n",
       "<table border=\"1\" class=\"dataframe\">\n",
       "  <thead>\n",
       "    <tr>\n",
       "      <th></th>\n",
       "      <th colspan=\"2\" halign=\"left\">col2</th>\n",
       "    </tr>\n",
       "    <tr>\n",
       "      <th></th>\n",
       "      <th>&lt;lambda&gt;</th>\n",
       "      <th>&lt;lambda&gt;</th>\n",
       "    </tr>\n",
       "  </thead>\n",
       "  <tbody>\n",
       "    <tr>\n",
       "      <th>0</th>\n",
       "      <td>0</td>\n",
       "      <td>1</td>\n",
       "    </tr>\n",
       "    <tr>\n",
       "      <th>1</th>\n",
       "      <td>1</td>\n",
       "      <td>2</td>\n",
       "    </tr>\n",
       "    <tr>\n",
       "      <th>2</th>\n",
       "      <td>4</td>\n",
       "      <td>3</td>\n",
       "    </tr>\n",
       "    <tr>\n",
       "      <th>3</th>\n",
       "      <td>9</td>\n",
       "      <td>4</td>\n",
       "    </tr>\n",
       "    <tr>\n",
       "      <th>4</th>\n",
       "      <td>16</td>\n",
       "      <td>5</td>\n",
       "    </tr>\n",
       "  </tbody>\n",
       "</table>\n",
       "</div>"
      ],
      "text/plain": [
       "      col2         \n",
       "  <lambda> <lambda>\n",
       "0        0        1\n",
       "1        1        2\n",
       "2        4        3\n",
       "3        9        4\n",
       "4       16        5"
      ]
     },
     "execution_count": 32,
     "metadata": {},
     "output_type": "execute_result"
    }
   ],
   "source": [
    "df.transform([lambda x : x**2, lambda x : x+1]) # comment devine-t-il ?"
   ]
  },
  {
   "cell_type": "markdown",
   "metadata": {},
   "source": [
    "la doc pandas indique assign comme équivalent de mutate : df.assign(c=df.a-df.b) eq. à mutate(df, c=a-b)\n",
    "https://gist.github.com/conormm/fd8b1980c28dd21cfaf6975c86c74d07"
   ]
  },
  {
   "cell_type": "markdown",
   "metadata": {},
   "source": [
    "pandas voit l'agrégation comme un cas particulier d'application de fonctions. Les fonctions le permettant se veulent à chaque fois suffisamment générales pour s'appliquer aussi bien sur une Serie, un Dataframe (ou un GroupBy object). On a à priori à explorer une combinatoire type : \n",
    "* Que ce passe-t-il si Series / DataFrame / GroupBy object en entrée\n",
    "* Dans chaque cas, si la fonction passée (qui prend en entrée une unique valeur ? une Series ? un DataFrame ?), retourne une seule valeur à partir de ses inputs où un objet de même longueur d'index que l'input ?\n",
    "Pour les opérations d'agrégation, on doit pouvoir se débrouiller avec : \n",
    "* apply (quoique)\n",
    "* assign\n",
    "* groupby\n",
    "* agg / aggregate\n",
    "Par construction, transform même employé avec groupby retourne un objet de même taille d'index que son input, il ne peut être utilisé pour une agrégation visant une valeur par groupe. Par ailleurs, transform n'accepte pas des fonctions ne retournant qu'une valeur à partir de leur input. A l'opposé agg impose l'utilisation de fonctions \"d'agrégation\" qui retournent une unique valeur.\n",
    "\n",
    "Agrégation et indexes : \n",
    "* Index (suivant les lignes) : par défaut des variables de groupage passent en index à l'agrégation ce qui peut aboutir à un multi-index / index hiérarchique s'il y a plus d'une variable de groupage. S'en prémunir est facile : passer False à l'argument de as_index de groupby. \n",
    "* Colonnes : L'application de différentes fonctions d'agrégation à une même colonne peut entrainer l'apparition d'un index hiérarchique au niveau des colonnes. Aplanir cet index n'est pas aussi simple.\n",
    "\n",
    "Multi-indexes : \n",
    "\"The MultiIndex object is the hierarchical analogue of the standard Index object which typically stores the axis labels in pandas objects. You can think of MultiIndex as an array of tuples where each tuple is unique.\" "
   ]
  },
  {
   "cell_type": "code",
   "execution_count": 66,
   "metadata": {},
   "outputs": [
    {
     "data": {
      "text/html": [
       "<div>\n",
       "<style scoped>\n",
       "    .dataframe tbody tr th:only-of-type {\n",
       "        vertical-align: middle;\n",
       "    }\n",
       "\n",
       "    .dataframe tbody tr th {\n",
       "        vertical-align: top;\n",
       "    }\n",
       "\n",
       "    .dataframe thead th {\n",
       "        text-align: right;\n",
       "    }\n",
       "</style>\n",
       "<table border=\"1\" class=\"dataframe\">\n",
       "  <thead>\n",
       "    <tr style=\"text-align: right;\">\n",
       "      <th></th>\n",
       "      <th>col1</th>\n",
       "      <th>col3</th>\n",
       "    </tr>\n",
       "  </thead>\n",
       "  <tbody>\n",
       "    <tr>\n",
       "      <th>0</th>\n",
       "      <td>a</td>\n",
       "      <td>2</td>\n",
       "    </tr>\n",
       "    <tr>\n",
       "      <th>1</th>\n",
       "      <td>b</td>\n",
       "      <td>4</td>\n",
       "    </tr>\n",
       "  </tbody>\n",
       "</table>\n",
       "</div>"
      ],
      "text/plain": [
       "  col1  col3\n",
       "0    a     2\n",
       "1    b     4"
      ]
     },
     "execution_count": 66,
     "metadata": {},
     "output_type": "execute_result"
    }
   ],
   "source": [
    "df.groupby('col1', as_index=False).agg({'col3' : max}) "
   ]
  },
  {
   "cell_type": "code",
   "execution_count": 169,
   "metadata": {},
   "outputs": [
    {
     "data": {
      "text/html": [
       "<div>\n",
       "<style scoped>\n",
       "    .dataframe tbody tr th:only-of-type {\n",
       "        vertical-align: middle;\n",
       "    }\n",
       "\n",
       "    .dataframe tbody tr th {\n",
       "        vertical-align: top;\n",
       "    }\n",
       "\n",
       "    .dataframe thead tr th {\n",
       "        text-align: left;\n",
       "    }\n",
       "</style>\n",
       "<table border=\"1\" class=\"dataframe\">\n",
       "  <thead>\n",
       "    <tr>\n",
       "      <th></th>\n",
       "      <th>col1</th>\n",
       "      <th colspan=\"2\" halign=\"left\">col2</th>\n",
       "    </tr>\n",
       "    <tr>\n",
       "      <th></th>\n",
       "      <th></th>\n",
       "      <th>maxcol</th>\n",
       "      <th>mincol</th>\n",
       "    </tr>\n",
       "  </thead>\n",
       "  <tbody>\n",
       "    <tr>\n",
       "      <th>0</th>\n",
       "      <td>a</td>\n",
       "      <td>d</td>\n",
       "      <td>c</td>\n",
       "    </tr>\n",
       "    <tr>\n",
       "      <th>1</th>\n",
       "      <td>b</td>\n",
       "      <td>e</td>\n",
       "      <td>e</td>\n",
       "    </tr>\n",
       "  </tbody>\n",
       "</table>\n",
       "</div>"
      ],
      "text/plain": [
       "  col1   col2       \n",
       "       maxcol mincol\n",
       "0    a      d      c\n",
       "1    b      e      e"
      ]
     },
     "execution_count": 169,
     "metadata": {},
     "output_type": "execute_result"
    }
   ],
   "source": [
    "df_mult = df.groupby('col1', as_index=False).agg({'col2' : {'maxcol' : max, 'mincol' : 'min'}})\n",
    "df_mult"
   ]
  },
  {
   "cell_type": "markdown",
   "metadata": {},
   "source": [
    "### Problème du multi-index"
   ]
  },
  {
   "cell_type": "code",
   "execution_count": 158,
   "metadata": {
    "collapsed": true,
    "scrolled": true
   },
   "outputs": [],
   "source": [
    "def flatten_multi_index(df, axis='columns'):\n",
    "    # Attention modifie in-place, on pourrait très bien ne pas avoir de valeur de retour\n",
    "    if axis == 'columns': # Controler la valeur de axis : columns ou index\n",
    "        df_index = getattr(df, 'columns')\n",
    "    else: \n",
    "        df_index = getattr(df, 'index')\n",
    "    \n",
    "    if df_index.nlevels > 1: # Assure l'idempotence\n",
    "        col_labels = [[x for x in tup if x != ''] for tup in df_index.tolist()]\n",
    "        new_col_index = ['_'.join(lst) for lst in col_labels]\n",
    "        setattr(df, axis, new_col_index)\n",
    "    \n",
    "    return df"
   ]
  },
  {
   "cell_type": "code",
   "execution_count": 170,
   "metadata": {},
   "outputs": [
    {
     "data": {
      "text/html": [
       "<div>\n",
       "<style scoped>\n",
       "    .dataframe tbody tr th:only-of-type {\n",
       "        vertical-align: middle;\n",
       "    }\n",
       "\n",
       "    .dataframe tbody tr th {\n",
       "        vertical-align: top;\n",
       "    }\n",
       "\n",
       "    .dataframe thead tr th {\n",
       "        text-align: left;\n",
       "    }\n",
       "</style>\n",
       "<table border=\"1\" class=\"dataframe\">\n",
       "  <thead>\n",
       "    <tr>\n",
       "      <th></th>\n",
       "      <th>col1</th>\n",
       "      <th colspan=\"2\" halign=\"left\">col2</th>\n",
       "    </tr>\n",
       "    <tr>\n",
       "      <th></th>\n",
       "      <th></th>\n",
       "      <th>maxcol</th>\n",
       "      <th>mincol</th>\n",
       "    </tr>\n",
       "  </thead>\n",
       "  <tbody>\n",
       "    <tr>\n",
       "      <th>0</th>\n",
       "      <td>a</td>\n",
       "      <td>d</td>\n",
       "      <td>c</td>\n",
       "    </tr>\n",
       "    <tr>\n",
       "      <th>1</th>\n",
       "      <td>b</td>\n",
       "      <td>e</td>\n",
       "      <td>e</td>\n",
       "    </tr>\n",
       "  </tbody>\n",
       "</table>\n",
       "</div>"
      ],
      "text/plain": [
       "  col1   col2       \n",
       "       maxcol mincol\n",
       "0    a      d      c\n",
       "1    b      e      e"
      ]
     },
     "execution_count": 170,
     "metadata": {},
     "output_type": "execute_result"
    }
   ],
   "source": [
    "df_multidx_cols = df.groupby('col1', as_index=False).agg({'col2' : {'maxcol' : max, 'mincol' : 'min'}})\n",
    "df_multidx_cols"
   ]
  },
  {
   "cell_type": "code",
   "execution_count": 160,
   "metadata": {
    "scrolled": true
   },
   "outputs": [
    {
     "data": {
      "text/html": [
       "<div>\n",
       "<style scoped>\n",
       "    .dataframe tbody tr th:only-of-type {\n",
       "        vertical-align: middle;\n",
       "    }\n",
       "\n",
       "    .dataframe tbody tr th {\n",
       "        vertical-align: top;\n",
       "    }\n",
       "\n",
       "    .dataframe thead th {\n",
       "        text-align: right;\n",
       "    }\n",
       "</style>\n",
       "<table border=\"1\" class=\"dataframe\">\n",
       "  <thead>\n",
       "    <tr style=\"text-align: right;\">\n",
       "      <th></th>\n",
       "      <th>col1</th>\n",
       "      <th>col2_maxcol</th>\n",
       "      <th>col2_mincol</th>\n",
       "    </tr>\n",
       "  </thead>\n",
       "  <tbody>\n",
       "    <tr>\n",
       "      <th>0</th>\n",
       "      <td>a</td>\n",
       "      <td>d</td>\n",
       "      <td>c</td>\n",
       "    </tr>\n",
       "    <tr>\n",
       "      <th>1</th>\n",
       "      <td>b</td>\n",
       "      <td>e</td>\n",
       "      <td>e</td>\n",
       "    </tr>\n",
       "  </tbody>\n",
       "</table>\n",
       "</div>"
      ],
      "text/plain": [
       "  col1 col2_maxcol col2_mincol\n",
       "0    a           d           c\n",
       "1    b           e           e"
      ]
     },
     "execution_count": 160,
     "metadata": {},
     "output_type": "execute_result"
    }
   ],
   "source": [
    "flatten_multi_index(df_multidx_cols)"
   ]
  },
  {
   "cell_type": "code",
   "execution_count": 161,
   "metadata": {},
   "outputs": [
    {
     "data": {
      "text/html": [
       "<div>\n",
       "<style scoped>\n",
       "    .dataframe tbody tr th:only-of-type {\n",
       "        vertical-align: middle;\n",
       "    }\n",
       "\n",
       "    .dataframe tbody tr th {\n",
       "        vertical-align: top;\n",
       "    }\n",
       "\n",
       "    .dataframe thead th {\n",
       "        text-align: right;\n",
       "    }\n",
       "</style>\n",
       "<table border=\"1\" class=\"dataframe\">\n",
       "  <thead>\n",
       "    <tr style=\"text-align: right;\">\n",
       "      <th></th>\n",
       "      <th></th>\n",
       "      <th>col1</th>\n",
       "    </tr>\n",
       "  </thead>\n",
       "  <tbody>\n",
       "    <tr>\n",
       "      <th rowspan=\"2\" valign=\"top\">bar</th>\n",
       "      <th>one</th>\n",
       "      <td>-0.118981</td>\n",
       "    </tr>\n",
       "    <tr>\n",
       "      <th>two</th>\n",
       "      <td>-1.781747</td>\n",
       "    </tr>\n",
       "    <tr>\n",
       "      <th rowspan=\"2\" valign=\"top\">baz</th>\n",
       "      <th>one</th>\n",
       "      <td>-0.157409</td>\n",
       "    </tr>\n",
       "    <tr>\n",
       "      <th>two</th>\n",
       "      <td>1.565569</td>\n",
       "    </tr>\n",
       "    <tr>\n",
       "      <th rowspan=\"2\" valign=\"top\">foo</th>\n",
       "      <th>one</th>\n",
       "      <td>0.813729</td>\n",
       "    </tr>\n",
       "    <tr>\n",
       "      <th>two</th>\n",
       "      <td>-0.745084</td>\n",
       "    </tr>\n",
       "    <tr>\n",
       "      <th rowspan=\"2\" valign=\"top\">qux</th>\n",
       "      <th>one</th>\n",
       "      <td>0.326557</td>\n",
       "    </tr>\n",
       "    <tr>\n",
       "      <th>two</th>\n",
       "      <td>1.580960</td>\n",
       "    </tr>\n",
       "  </tbody>\n",
       "</table>\n",
       "</div>"
      ],
      "text/plain": [
       "             col1\n",
       "bar one -0.118981\n",
       "    two -1.781747\n",
       "baz one -0.157409\n",
       "    two  1.565569\n",
       "foo one  0.813729\n",
       "    two -0.745084\n",
       "qux one  0.326557\n",
       "    two  1.580960"
      ]
     },
     "execution_count": 161,
     "metadata": {},
     "output_type": "execute_result"
    }
   ],
   "source": [
    "arrays = [np.array(['bar', 'bar', 'baz', 'baz', 'foo', 'foo', 'qux', 'qux']),\n",
    "          np.array(['one', 'two', 'one', 'two', 'one', 'two', 'one', 'two'])]\n",
    "\n",
    "\n",
    "df_multidx_rows = pd.DataFrame({'col1' : np.random.randn(8)}, index=arrays)\n",
    "df_multidx_rows"
   ]
  },
  {
   "cell_type": "code",
   "execution_count": 162,
   "metadata": {
    "scrolled": true
   },
   "outputs": [
    {
     "data": {
      "text/html": [
       "<div>\n",
       "<style scoped>\n",
       "    .dataframe tbody tr th:only-of-type {\n",
       "        vertical-align: middle;\n",
       "    }\n",
       "\n",
       "    .dataframe tbody tr th {\n",
       "        vertical-align: top;\n",
       "    }\n",
       "\n",
       "    .dataframe thead th {\n",
       "        text-align: right;\n",
       "    }\n",
       "</style>\n",
       "<table border=\"1\" class=\"dataframe\">\n",
       "  <thead>\n",
       "    <tr style=\"text-align: right;\">\n",
       "      <th></th>\n",
       "      <th>col1</th>\n",
       "    </tr>\n",
       "  </thead>\n",
       "  <tbody>\n",
       "    <tr>\n",
       "      <th>bar_one</th>\n",
       "      <td>-0.118981</td>\n",
       "    </tr>\n",
       "    <tr>\n",
       "      <th>bar_two</th>\n",
       "      <td>-1.781747</td>\n",
       "    </tr>\n",
       "    <tr>\n",
       "      <th>baz_one</th>\n",
       "      <td>-0.157409</td>\n",
       "    </tr>\n",
       "    <tr>\n",
       "      <th>baz_two</th>\n",
       "      <td>1.565569</td>\n",
       "    </tr>\n",
       "    <tr>\n",
       "      <th>foo_one</th>\n",
       "      <td>0.813729</td>\n",
       "    </tr>\n",
       "    <tr>\n",
       "      <th>foo_two</th>\n",
       "      <td>-0.745084</td>\n",
       "    </tr>\n",
       "    <tr>\n",
       "      <th>qux_one</th>\n",
       "      <td>0.326557</td>\n",
       "    </tr>\n",
       "    <tr>\n",
       "      <th>qux_two</th>\n",
       "      <td>1.580960</td>\n",
       "    </tr>\n",
       "  </tbody>\n",
       "</table>\n",
       "</div>"
      ],
      "text/plain": [
       "             col1\n",
       "bar_one -0.118981\n",
       "bar_two -1.781747\n",
       "baz_one -0.157409\n",
       "baz_two  1.565569\n",
       "foo_one  0.813729\n",
       "foo_two -0.745084\n",
       "qux_one  0.326557\n",
       "qux_two  1.580960"
      ]
     },
     "execution_count": 162,
     "metadata": {},
     "output_type": "execute_result"
    }
   ],
   "source": [
    "flatten_multi_index(df_multidx_rows, axis='index')"
   ]
  },
  {
   "cell_type": "markdown",
   "metadata": {},
   "source": [
    "### Agregation\n",
    "On ne s'intéresse qu'à la combinaison groupby + agg, agg ne prenant en argument au choix : \n",
    "* Une string function name\n",
    "* Une fonction\n",
    "* Une liste de fonctions\n",
    "* Un dictionnaire avec une clé par colonne à agréger (cette situation va créer un multi-index pour les colonnes), les valeurs pouvant être à leur tour :\n",
    "    * Une string function name\n",
    "    * Une fonction\n",
    "    * Une liste de fonctions\n",
    "    * Un dictionnaire où les clés sont les noms à donner des nouvelles colonnes crées par chaque agrégation et les valeur une string function name ou une fonction (depreciation warning)\n",
    "    \n",
    "Chaque fonction doit prendre en argument une Serie et la réduire à une seule valeur."
   ]
  },
  {
   "cell_type": "code",
   "execution_count": 164,
   "metadata": {},
   "outputs": [
    {
     "data": {
      "text/html": [
       "<div>\n",
       "<style scoped>\n",
       "    .dataframe tbody tr th:only-of-type {\n",
       "        vertical-align: middle;\n",
       "    }\n",
       "\n",
       "    .dataframe tbody tr th {\n",
       "        vertical-align: top;\n",
       "    }\n",
       "\n",
       "    .dataframe thead tr th {\n",
       "        text-align: left;\n",
       "    }\n",
       "</style>\n",
       "<table border=\"1\" class=\"dataframe\">\n",
       "  <thead>\n",
       "    <tr>\n",
       "      <th></th>\n",
       "      <th>col1</th>\n",
       "      <th colspan=\"2\" halign=\"left\">col2</th>\n",
       "    </tr>\n",
       "    <tr>\n",
       "      <th></th>\n",
       "      <th></th>\n",
       "      <th>maxcol</th>\n",
       "      <th>mincol</th>\n",
       "    </tr>\n",
       "  </thead>\n",
       "  <tbody>\n",
       "    <tr>\n",
       "      <th>0</th>\n",
       "      <td>a</td>\n",
       "      <td>d</td>\n",
       "      <td>c</td>\n",
       "    </tr>\n",
       "    <tr>\n",
       "      <th>1</th>\n",
       "      <td>b</td>\n",
       "      <td>e</td>\n",
       "      <td>e</td>\n",
       "    </tr>\n",
       "  </tbody>\n",
       "</table>\n",
       "</div>"
      ],
      "text/plain": [
       "  col1   col2       \n",
       "       maxcol mincol\n",
       "0    a      d      c\n",
       "1    b      e      e"
      ]
     },
     "execution_count": 164,
     "metadata": {},
     "output_type": "execute_result"
    }
   ],
   "source": [
    "df.groupby('col1', as_index=False).agg({'col2' : {'maxcol' : max, 'mincol' : 'min'}})"
   ]
  },
  {
   "cell_type": "markdown",
   "metadata": {},
   "source": [
    "GroupBy object est en fait un itérable dont chaque élément correspond à un tuple contenant le nom (unique) du groupe et une Series/DataFrame avec tous les enregistrements du groupe.\n",
    "\n",
    "Remarque : groupby() peut prendre une fonction en argument. Cette fonction peut servir à générer la où les colonnes de groupage si elles ne préexistent pas dans la table. La fonction doit pouvoir associer à chaque valeur d'une colonne une nouvelle valeur.\n",
    "\n",
    "Méthodes utiles du GroupBy object : \n",
    "* size() : qui donne le nombre de lignes par groupe et à ne pas confondre avec count() qui retroune pour chaque groupe et chaque colonne, le nombre de valeurs différentes de NaN.\n",
    "* describe() : qui donne des statistiques descriptives par groupe\n",
    "* Des méthodes d'agrégation basiques (qui économisent le recours à .agg) : min, max, sum, count, mean, std, var, first, last, nth. Certaines de ces méthodes (sum, mean, std) ont des implémentations optimisées Cython.\n",
    "* filter() : permet de ne garder que les groupes pour lesquels l'output de la fonction passée à la méthode est True. Cette fonction doit prendre le DataFrame/Serie du groupe et retourner un booléen.\n",
    "\n",
    "Utilisation de groupby + apply : dans la majorité des cas d'usage, on peut se ramener à une utilisation de groupby + agg (Ex1) ou de groupby + transform. Le recours à groupby + apply n'intervient qu'exceptionnellement quand les restriction imposées par les deux solutions précédentes ne permettent pas de résoudre notre problème, ie : si la fonction appliquée à chaque groupes ne retourne ni une seule valeur (comme imposé par agg) si un objet de même longueur (comme imposé par transform). groupby + apply vient à la rescousse pour les situations intermédiares.\n",
    "\n",
    "Ex1 : Les deux solutions ci-dessous fonctionnent, mais celle avec first sont plus attendues et claires \n",
    "df.groupby('col1', as_index=False).apply(lambda x : x.head(1))\n",
    "df.groupby('col1', as_index=False).first()\n",
    "df.groupby('col1', as_index=False).agg('first')\n",
    "\n",
    "Remarque : pour que les résultats soient parfaitement identiques, il faut supprimer le multi-index crée par groupby + apply.\n",
    "\n",
    "Ex : df.groupby('A')['C'].apply(lambda x: x.describe())\n",
    "\n",
    "Rappel : apply prend en argument des fonction qui s'appliquent au DataFrame/Series entier.\n",
    "\n",
    "assign\n",
    "assign s'applique à un DataFrame et ne peut donc être directement appliquée après groupby. Il faut alors recourir à apply avec une syntaxe finalement assez lourde : df.groupby('A').apply(lambda x : x.assign(...))"
   ]
  },
  {
   "cell_type": "code",
   "execution_count": 198,
   "metadata": {},
   "outputs": [
    {
     "data": {
      "text/html": [
       "<div>\n",
       "<style scoped>\n",
       "    .dataframe tbody tr th:only-of-type {\n",
       "        vertical-align: middle;\n",
       "    }\n",
       "\n",
       "    .dataframe tbody tr th {\n",
       "        vertical-align: top;\n",
       "    }\n",
       "\n",
       "    .dataframe thead th {\n",
       "        text-align: right;\n",
       "    }\n",
       "</style>\n",
       "<table border=\"1\" class=\"dataframe\">\n",
       "  <thead>\n",
       "    <tr style=\"text-align: right;\">\n",
       "      <th></th>\n",
       "      <th>col1</th>\n",
       "      <th>col2</th>\n",
       "      <th>col3</th>\n",
       "    </tr>\n",
       "  </thead>\n",
       "  <tbody>\n",
       "    <tr>\n",
       "      <th>0</th>\n",
       "      <td>a</td>\n",
       "      <td>c</td>\n",
       "      <td>0</td>\n",
       "    </tr>\n",
       "    <tr>\n",
       "      <th>1</th>\n",
       "      <td>b</td>\n",
       "      <td>e</td>\n",
       "      <td>3</td>\n",
       "    </tr>\n",
       "  </tbody>\n",
       "</table>\n",
       "</div>"
      ],
      "text/plain": [
       "  col1 col2  col3\n",
       "0    a    c     0\n",
       "1    b    e     3"
      ]
     },
     "execution_count": 198,
     "metadata": {},
     "output_type": "execute_result"
    }
   ],
   "source": [
    "# Attention, la fonction passée à apply (qui retrourne une Series ou un DataFrame) ne s'applique pas au DataFrame mais (ici) à chaque colonne (Series) \n",
    "\n",
    "dt = df.groupby('col1', as_index=False).apply(lambda x : x.head(1))\n",
    "dt.index = dt.index.droplevel()\n",
    "dt.reset_index(drop=True)\n",
    "# https://pandas.pydata.org/pandas-docs/version/0.18.0/generated/pandas.MultiIndex.droplevel.html"
   ]
  },
  {
   "cell_type": "code",
   "execution_count": 208,
   "metadata": {},
   "outputs": [
    {
     "data": {
      "text/html": [
       "<div>\n",
       "<style scoped>\n",
       "    .dataframe tbody tr th:only-of-type {\n",
       "        vertical-align: middle;\n",
       "    }\n",
       "\n",
       "    .dataframe tbody tr th {\n",
       "        vertical-align: top;\n",
       "    }\n",
       "\n",
       "    .dataframe thead th {\n",
       "        text-align: right;\n",
       "    }\n",
       "</style>\n",
       "<table border=\"1\" class=\"dataframe\">\n",
       "  <thead>\n",
       "    <tr style=\"text-align: right;\">\n",
       "      <th></th>\n",
       "      <th>col1</th>\n",
       "    </tr>\n",
       "  </thead>\n",
       "  <tbody>\n",
       "    <tr>\n",
       "      <th>0</th>\n",
       "      <td>a</td>\n",
       "    </tr>\n",
       "    <tr>\n",
       "      <th>1</th>\n",
       "      <td>b</td>\n",
       "    </tr>\n",
       "  </tbody>\n",
       "</table>\n",
       "</div>"
      ],
      "text/plain": [
       "  col1\n",
       "0    a\n",
       "1    b"
      ]
     },
     "execution_count": 208,
     "metadata": {},
     "output_type": "execute_result"
    }
   ],
   "source": [
    "df.groupby('col1', as_index=False).agg(lambda x : x[0,:])"
   ]
  },
  {
   "cell_type": "markdown",
   "metadata": {},
   "source": [
    "## assign vs transform vs apply(lambda x : complex_func(x)) dans la création de nouvelle colonnes ?\n",
    "\n",
    "Pouvait-on éviter (il y a un groupby mais même sans celui-ci peut-on s'épagner \n",
    "```python\n",
    "def establish_departure_date(my_df):\n",
    "    dep_date = my_df['time'].min()\n",
    "    my_df['departure_year'] = dep_date.year\n",
    "    my_df['departure_month'] = dep_date.month\n",
    "    my_df['departure_day'] = dep_date.day\n",
    "    my_df['departure_hour'] = dep_date.hour\n",
    "        \n",
    "    return my_df\n",
    "\n",
    "df = df.groupby(['FSEQ', 'FILE']).apply(lambda x: establish_departure_date(x))\n",
    "```\n",
    "\n",
    "\n",
    "Plus les problèmes liés ici à ce que la création de colonnes se fait in-place / que Python fait du call-by object?\n",
    "\n",
    "* ```transform``` par la forme qu'elle impose à ses arguments, n'autorise des opérations que sur les colonnes déjà existantes. Plus restrictif, la fonction de transformation ne peut s'appliquer qu'à la colonne à transformer. On ne peut pas faire d'opérations du type col3 = col2 + col3, ces colonnes préexistant dans le df. \n",
    "Remarque : transform prend en argument des fonctions agissant sur des Series et retournant des Series. Sa forme la plus simple (transform(func)) n'est pas identique à applymap qui applique une fonction à chaque élément du DataFrame qui lui est passé en entrée. La fonction devant associer à une valeur élémentaire une autre valeur élémentaire.\n",
    "* ```assign``` : semble être ce qui se rapproche le plus de mutate en R. Permet de modifier des colonnes existantes de façon plus complexes qu'avec transform grace au fait que les fonctions à passer s'appliquent au DataFrame et non à une seule colonne. On peut également et dans le même temps créer de nouvelles colonnes. Attention, en dessous de Python 3.6, on ne peut créer une nouvelle colonne et s'en servir dans une autre opération à l'intérieur du même assign. assign ne fonctionne pas sur un GroupBy object : il n'y a donc pas de combinaison groupby+assign.\n",
    "* ```apply``` ne semble utile que pour des transformation particulières qui ne sont ni une mutation, ni une agrégation ou de moins habituelles applications de fonctions par ligne."
   ]
  },
  {
   "cell_type": "code",
   "execution_count": 16,
   "metadata": {},
   "outputs": [
    {
     "data": {
      "text/html": [
       "<div>\n",
       "<style scoped>\n",
       "    .dataframe tbody tr th:only-of-type {\n",
       "        vertical-align: middle;\n",
       "    }\n",
       "\n",
       "    .dataframe tbody tr th {\n",
       "        vertical-align: top;\n",
       "    }\n",
       "\n",
       "    .dataframe thead th {\n",
       "        text-align: right;\n",
       "    }\n",
       "</style>\n",
       "<table border=\"1\" class=\"dataframe\">\n",
       "  <thead>\n",
       "    <tr style=\"text-align: right;\">\n",
       "      <th></th>\n",
       "      <th>col1</th>\n",
       "      <th>col2</th>\n",
       "      <th>col3</th>\n",
       "      <th>col4</th>\n",
       "    </tr>\n",
       "  </thead>\n",
       "  <tbody>\n",
       "    <tr>\n",
       "      <th>0</th>\n",
       "      <td>ac</td>\n",
       "      <td>c</td>\n",
       "      <td>1</td>\n",
       "      <td>c4</td>\n",
       "    </tr>\n",
       "    <tr>\n",
       "      <th>1</th>\n",
       "      <td>ac</td>\n",
       "      <td>c</td>\n",
       "      <td>2</td>\n",
       "      <td>c4</td>\n",
       "    </tr>\n",
       "    <tr>\n",
       "      <th>2</th>\n",
       "      <td>ad</td>\n",
       "      <td>d</td>\n",
       "      <td>3</td>\n",
       "      <td>d4</td>\n",
       "    </tr>\n",
       "    <tr>\n",
       "      <th>3</th>\n",
       "      <td>be</td>\n",
       "      <td>e</td>\n",
       "      <td>4</td>\n",
       "      <td>e4</td>\n",
       "    </tr>\n",
       "    <tr>\n",
       "      <th>4</th>\n",
       "      <td>be</td>\n",
       "      <td>e</td>\n",
       "      <td>5</td>\n",
       "      <td>e4</td>\n",
       "    </tr>\n",
       "  </tbody>\n",
       "</table>\n",
       "</div>"
      ],
      "text/plain": [
       "  col1 col2  col3 col4\n",
       "0   ac    c     1   c4\n",
       "1   ac    c     2   c4\n",
       "2   ad    d     3   d4\n",
       "3   be    e     4   e4\n",
       "4   be    e     5   e4"
      ]
     },
     "execution_count": 16,
     "metadata": {},
     "output_type": "execute_result"
    }
   ],
   "source": [
    "df.assign(**{'col4' : lambda x : x['col2'] + str(max(x['col3'])),\n",
    "             'col3' : lambda x : x['col3'] + 1,\n",
    "             'col1' : lambda x : x['col1'] + x['col2']})"
   ]
  },
  {
   "cell_type": "markdown",
   "metadata": {},
   "source": [
    "Un vrai groupby+mutate de R doit passer par assign (apply étant en fait moins flexible puisqu'il s'agit d'appliquer une fonction à chaque colonne et d'en retrouner le résultat sous la forme d'un DataFrame)."
   ]
  },
  {
   "cell_type": "code",
   "execution_count": 24,
   "metadata": {},
   "outputs": [
    {
     "data": {
      "text/plain": [
       "0    2\n",
       "1    2\n",
       "2    2\n",
       "3    4\n",
       "4    4\n",
       "Name: col3, dtype: int64"
      ]
     },
     "execution_count": 24,
     "metadata": {},
     "output_type": "execute_result"
    }
   ],
   "source": [
    "df.groupby('col1')['col3'].transform(max)"
   ]
  },
  {
   "cell_type": "code",
   "execution_count": 25,
   "metadata": {},
   "outputs": [
    {
     "data": {
      "text/html": [
       "<div>\n",
       "<style scoped>\n",
       "    .dataframe tbody tr th:only-of-type {\n",
       "        vertical-align: middle;\n",
       "    }\n",
       "\n",
       "    .dataframe tbody tr th {\n",
       "        vertical-align: top;\n",
       "    }\n",
       "\n",
       "    .dataframe thead th {\n",
       "        text-align: right;\n",
       "    }\n",
       "</style>\n",
       "<table border=\"1\" class=\"dataframe\">\n",
       "  <thead>\n",
       "    <tr style=\"text-align: right;\">\n",
       "      <th></th>\n",
       "      <th>col1</th>\n",
       "      <th>col2</th>\n",
       "      <th>col3</th>\n",
       "      <th>col4</th>\n",
       "    </tr>\n",
       "  </thead>\n",
       "  <tbody>\n",
       "    <tr>\n",
       "      <th>0</th>\n",
       "      <td>a</td>\n",
       "      <td>c</td>\n",
       "      <td>0</td>\n",
       "      <td>2</td>\n",
       "    </tr>\n",
       "    <tr>\n",
       "      <th>1</th>\n",
       "      <td>a</td>\n",
       "      <td>c</td>\n",
       "      <td>1</td>\n",
       "      <td>2</td>\n",
       "    </tr>\n",
       "    <tr>\n",
       "      <th>2</th>\n",
       "      <td>a</td>\n",
       "      <td>d</td>\n",
       "      <td>2</td>\n",
       "      <td>2</td>\n",
       "    </tr>\n",
       "    <tr>\n",
       "      <th>3</th>\n",
       "      <td>b</td>\n",
       "      <td>e</td>\n",
       "      <td>3</td>\n",
       "      <td>4</td>\n",
       "    </tr>\n",
       "    <tr>\n",
       "      <th>4</th>\n",
       "      <td>b</td>\n",
       "      <td>e</td>\n",
       "      <td>4</td>\n",
       "      <td>4</td>\n",
       "    </tr>\n",
       "  </tbody>\n",
       "</table>\n",
       "</div>"
      ],
      "text/plain": [
       "  col1 col2  col3  col4\n",
       "0    a    c     0     2\n",
       "1    a    c     1     2\n",
       "2    a    d     2     2\n",
       "3    b    e     3     4\n",
       "4    b    e     4     4"
      ]
     },
     "execution_count": 25,
     "metadata": {},
     "output_type": "execute_result"
    }
   ],
   "source": [
    "df.assign(**{'col4' : lambda x : x.groupby('col1')['col3'].transform(max)})\n",
    "# Utiliser transform : cela garantie que la Serie retournée est de la bonne longueur\n",
    "# Alternative possible pour créer ce genre de colonnes : groupby + apply avec une fonction applicant .transform à chaque sous-df.\n",
    "# Moins séduisant : on doit écrire une fonction qui agit sur le df qu'on lui passe, on a vite fait d'oublier de copier l'input."
   ]
  },
  {
   "cell_type": "code",
   "execution_count": 26,
   "metadata": {},
   "outputs": [
    {
     "data": {
      "text/html": [
       "<div>\n",
       "<style scoped>\n",
       "    .dataframe tbody tr th:only-of-type {\n",
       "        vertical-align: middle;\n",
       "    }\n",
       "\n",
       "    .dataframe tbody tr th {\n",
       "        vertical-align: top;\n",
       "    }\n",
       "\n",
       "    .dataframe thead th {\n",
       "        text-align: right;\n",
       "    }\n",
       "</style>\n",
       "<table border=\"1\" class=\"dataframe\">\n",
       "  <thead>\n",
       "    <tr style=\"text-align: right;\">\n",
       "      <th></th>\n",
       "      <th>col1</th>\n",
       "      <th>col2</th>\n",
       "      <th>col3</th>\n",
       "      <th>col4</th>\n",
       "    </tr>\n",
       "  </thead>\n",
       "  <tbody>\n",
       "    <tr>\n",
       "      <th>0</th>\n",
       "      <td>a</td>\n",
       "      <td>c</td>\n",
       "      <td>0</td>\n",
       "      <td>0</td>\n",
       "    </tr>\n",
       "    <tr>\n",
       "      <th>1</th>\n",
       "      <td>a</td>\n",
       "      <td>c</td>\n",
       "      <td>1</td>\n",
       "      <td>1</td>\n",
       "    </tr>\n",
       "    <tr>\n",
       "      <th>2</th>\n",
       "      <td>a</td>\n",
       "      <td>d</td>\n",
       "      <td>2</td>\n",
       "      <td>2</td>\n",
       "    </tr>\n",
       "    <tr>\n",
       "      <th>3</th>\n",
       "      <td>b</td>\n",
       "      <td>e</td>\n",
       "      <td>3</td>\n",
       "      <td>6</td>\n",
       "    </tr>\n",
       "    <tr>\n",
       "      <th>4</th>\n",
       "      <td>b</td>\n",
       "      <td>e</td>\n",
       "      <td>4</td>\n",
       "      <td>7</td>\n",
       "    </tr>\n",
       "  </tbody>\n",
       "</table>\n",
       "</div>"
      ],
      "text/plain": [
       "  col1 col2  col3  col4\n",
       "0    a    c     0     0\n",
       "1    a    c     1     1\n",
       "2    a    d     2     2\n",
       "3    b    e     3     6\n",
       "4    b    e     4     7"
      ]
     },
     "execution_count": 26,
     "metadata": {},
     "output_type": "execute_result"
    }
   ],
   "source": [
    "def establish_departure_date(my_df):\n",
    "    min_val = my_df['col3'].min()\n",
    "    my_df['col4'] = my_df['col3'] + min_val\n",
    "    return my_df\n",
    "\n",
    "df.groupby(['col1']).apply(lambda x: establish_departure_date(x))"
   ]
  },
  {
   "cell_type": "markdown",
   "metadata": {},
   "source": [
    "Il **semble ici** que la fonction passée à apply s'applique au DataFrame. On peut alors mettre dans le corps de la fonction tout ce qu'on aurait mis dans le assign mais : \n",
    "* C'est à mon sens moins propre\n",
    "* assign fait une copie (ce qui a certes un coût) là où créer des nouvelles colonnes par assignation modifie le DataFrame inplace. On risque des sides effects incontrolables.\n",
    "\n",
    "\"With apply we assume that the object that calls apply has subcomponents that will each get passed to the callable that was passed to apply. In the context of a groupby the subcomponents are slices of the dataframe that called groupby where each slice is a dataframe itself. This is analogous for a series groupby.\" \n",
    "=> groupBy + apply : la fonction sera appliquée à tous les sous-df et doit donc pouvoir prendre un df en argument.\n",
    "=> apply seul : la fonction sera appliquée à chaque colonne du df (Series) et doit donc pouvoir prendre une Series en arg.\n",
    "\n",
    "\n",
    "Noter les df = df.copy()\n",
    "https://tomaugspurger.github.io/method-chaining\n",
    "https://stackoverflow.com/questions/27673231/why-should-i-make-a-copy-of-a-data-frame-in-pandas\n",
    "Pour PySpark\n",
    "https://medium.com/@mrpowers/chaining-custom-pyspark-transformations-4f38a8c7ae55"
   ]
  },
  {
   "cell_type": "markdown",
   "metadata": {},
   "source": [
    "Remarque : les Series possèdent une méthode apply mais aussi une méthode map (contrairement aux DataFrames). La méthode map permet de facilement recoder une colonne à l'aide d'un dictionnaire dans les cas simples ou d'une fonction si la mise en correspondance entre anciennes et nouvelles valeurs est plus complexe.\n",
    "Remarque : le recodage suppose juste qu'on puisse appliquer la fonction de recodage valeur par valeur. On peut donc utiliser map ou apply pour les series, applymap pour un dataframe.\n",
    "\n",
    "apply est similaire à map dans le sens où elle la fonction à appliquée à chaque valeur individuellement (*element wise*). apply offre juste un peu de flexibilité : map prend la fonction à appliquer tel quelle, apply permet de lui passer des arguments. La différence est utile si notre fonction à appliquer prend plusieurs arguments : map impose l'usage de partial alors que apply \n",
    "\n",
    "```python\n",
    "# create new column\n",
    "train['Sex_num'] = train.Sex.map({'female':0, 'male':1})\n",
    "```\n"
   ]
  },
  {
   "cell_type": "code",
   "execution_count": 11,
   "metadata": {},
   "outputs": [
    {
     "data": {
      "text/html": [
       "<div>\n",
       "<style scoped>\n",
       "    .dataframe tbody tr th:only-of-type {\n",
       "        vertical-align: middle;\n",
       "    }\n",
       "\n",
       "    .dataframe tbody tr th {\n",
       "        vertical-align: top;\n",
       "    }\n",
       "\n",
       "    .dataframe thead th {\n",
       "        text-align: right;\n",
       "    }\n",
       "</style>\n",
       "<table border=\"1\" class=\"dataframe\">\n",
       "  <thead>\n",
       "    <tr style=\"text-align: right;\">\n",
       "      <th></th>\n",
       "      <th>col1</th>\n",
       "      <th>col2</th>\n",
       "      <th>col3</th>\n",
       "    </tr>\n",
       "  </thead>\n",
       "  <tbody>\n",
       "    <tr>\n",
       "      <th>0</th>\n",
       "      <td>a</td>\n",
       "      <td>c</td>\n",
       "      <td>0</td>\n",
       "    </tr>\n",
       "    <tr>\n",
       "      <th>1</th>\n",
       "      <td>a</td>\n",
       "      <td>c</td>\n",
       "      <td>1</td>\n",
       "    </tr>\n",
       "    <tr>\n",
       "      <th>2</th>\n",
       "      <td>a</td>\n",
       "      <td>d</td>\n",
       "      <td>2</td>\n",
       "    </tr>\n",
       "    <tr>\n",
       "      <th>3</th>\n",
       "      <td>b</td>\n",
       "      <td>e</td>\n",
       "      <td>3</td>\n",
       "    </tr>\n",
       "    <tr>\n",
       "      <th>4</th>\n",
       "      <td>b</td>\n",
       "      <td>e</td>\n",
       "      <td>4</td>\n",
       "    </tr>\n",
       "  </tbody>\n",
       "</table>\n",
       "</div>"
      ],
      "text/plain": [
       "  col1 col2  col3\n",
       "0    a    c     0\n",
       "1    a    c     1\n",
       "2    a    d     2\n",
       "3    b    e     3\n",
       "4    b    e     4"
      ]
     },
     "execution_count": 11,
     "metadata": {},
     "output_type": "execute_result"
    }
   ],
   "source": [
    "df"
   ]
  },
  {
   "cell_type": "code",
   "execution_count": 22,
   "metadata": {},
   "outputs": [
    {
     "name": "stdout",
     "output_type": "stream",
     "text": [
      "a\n"
     ]
    },
    {
     "data": {
      "text/html": [
       "<div>\n",
       "<style scoped>\n",
       "    .dataframe tbody tr th:only-of-type {\n",
       "        vertical-align: middle;\n",
       "    }\n",
       "\n",
       "    .dataframe tbody tr th {\n",
       "        vertical-align: top;\n",
       "    }\n",
       "\n",
       "    .dataframe thead th {\n",
       "        text-align: right;\n",
       "    }\n",
       "</style>\n",
       "<table border=\"1\" class=\"dataframe\">\n",
       "  <thead>\n",
       "    <tr style=\"text-align: right;\">\n",
       "      <th></th>\n",
       "      <th>col1</th>\n",
       "      <th>col2</th>\n",
       "      <th>col3</th>\n",
       "    </tr>\n",
       "  </thead>\n",
       "  <tbody>\n",
       "    <tr>\n",
       "      <th>0</th>\n",
       "      <td>a</td>\n",
       "      <td>c</td>\n",
       "      <td>0</td>\n",
       "    </tr>\n",
       "    <tr>\n",
       "      <th>1</th>\n",
       "      <td>a</td>\n",
       "      <td>c</td>\n",
       "      <td>1</td>\n",
       "    </tr>\n",
       "    <tr>\n",
       "      <th>2</th>\n",
       "      <td>a</td>\n",
       "      <td>d</td>\n",
       "      <td>2</td>\n",
       "    </tr>\n",
       "  </tbody>\n",
       "</table>\n",
       "</div>"
      ],
      "text/plain": [
       "  col1 col2  col3\n",
       "0    a    c     0\n",
       "1    a    c     1\n",
       "2    a    d     2"
      ]
     },
     "metadata": {},
     "output_type": "display_data"
    },
    {
     "name": "stdout",
     "output_type": "stream",
     "text": [
      "b\n"
     ]
    },
    {
     "data": {
      "text/html": [
       "<div>\n",
       "<style scoped>\n",
       "    .dataframe tbody tr th:only-of-type {\n",
       "        vertical-align: middle;\n",
       "    }\n",
       "\n",
       "    .dataframe tbody tr th {\n",
       "        vertical-align: top;\n",
       "    }\n",
       "\n",
       "    .dataframe thead th {\n",
       "        text-align: right;\n",
       "    }\n",
       "</style>\n",
       "<table border=\"1\" class=\"dataframe\">\n",
       "  <thead>\n",
       "    <tr style=\"text-align: right;\">\n",
       "      <th></th>\n",
       "      <th>col1</th>\n",
       "      <th>col2</th>\n",
       "      <th>col3</th>\n",
       "    </tr>\n",
       "  </thead>\n",
       "  <tbody>\n",
       "    <tr>\n",
       "      <th>3</th>\n",
       "      <td>b</td>\n",
       "      <td>e</td>\n",
       "      <td>3</td>\n",
       "    </tr>\n",
       "    <tr>\n",
       "      <th>4</th>\n",
       "      <td>b</td>\n",
       "      <td>e</td>\n",
       "      <td>4</td>\n",
       "    </tr>\n",
       "  </tbody>\n",
       "</table>\n",
       "</div>"
      ],
      "text/plain": [
       "  col1 col2  col3\n",
       "3    b    e     3\n",
       "4    b    e     4"
      ]
     },
     "metadata": {},
     "output_type": "display_data"
    }
   ],
   "source": [
    "for name, dfg in df.groupby('col1', as_index=False): \n",
    "    print  name\n",
    "    display(dfg)"
   ]
  },
  {
   "cell_type": "code",
   "execution_count": 16,
   "metadata": {
    "scrolled": true
   },
   "outputs": [
    {
     "data": {
      "text/html": [
       "<div>\n",
       "<style scoped>\n",
       "    .dataframe tbody tr th:only-of-type {\n",
       "        vertical-align: middle;\n",
       "    }\n",
       "\n",
       "    .dataframe tbody tr th {\n",
       "        vertical-align: top;\n",
       "    }\n",
       "\n",
       "    .dataframe thead th {\n",
       "        text-align: right;\n",
       "    }\n",
       "</style>\n",
       "<table border=\"1\" class=\"dataframe\">\n",
       "  <thead>\n",
       "    <tr style=\"text-align: right;\">\n",
       "      <th></th>\n",
       "      <th>col1</th>\n",
       "      <th>col2</th>\n",
       "      <th>col3</th>\n",
       "    </tr>\n",
       "  </thead>\n",
       "  <tbody>\n",
       "    <tr>\n",
       "      <th>0</th>\n",
       "      <td>a</td>\n",
       "      <td>d</td>\n",
       "      <td>2</td>\n",
       "    </tr>\n",
       "    <tr>\n",
       "      <th>1</th>\n",
       "      <td>b</td>\n",
       "      <td>e</td>\n",
       "      <td>4</td>\n",
       "    </tr>\n",
       "  </tbody>\n",
       "</table>\n",
       "</div>"
      ],
      "text/plain": [
       "  col1 col2  col3\n",
       "0    a    d     2\n",
       "1    b    e     4"
      ]
     },
     "execution_count": 16,
     "metadata": {},
     "output_type": "execute_result"
    }
   ],
   "source": [
    "df.groupby('col1', as_index=False).apply(max)"
   ]
  },
  {
   "cell_type": "code",
   "execution_count": 30,
   "metadata": {},
   "outputs": [
    {
     "name": "stdout",
     "output_type": "stream",
     "text": [
      "140149526753616\n",
      "140149522860176\n"
     ]
    },
    {
     "data": {
      "text/html": [
       "<div>\n",
       "<style scoped>\n",
       "    .dataframe tbody tr th:only-of-type {\n",
       "        vertical-align: middle;\n",
       "    }\n",
       "\n",
       "    .dataframe tbody tr th {\n",
       "        vertical-align: top;\n",
       "    }\n",
       "\n",
       "    .dataframe thead th {\n",
       "        text-align: right;\n",
       "    }\n",
       "</style>\n",
       "<table border=\"1\" class=\"dataframe\">\n",
       "  <thead>\n",
       "    <tr style=\"text-align: right;\">\n",
       "      <th></th>\n",
       "      <th>col1</th>\n",
       "      <th>col2</th>\n",
       "      <th>col3</th>\n",
       "      <th>col4</th>\n",
       "    </tr>\n",
       "  </thead>\n",
       "  <tbody>\n",
       "    <tr>\n",
       "      <th>0</th>\n",
       "      <td>a</td>\n",
       "      <td>c</td>\n",
       "      <td>xxx</td>\n",
       "      <td>1</td>\n",
       "    </tr>\n",
       "    <tr>\n",
       "      <th>1</th>\n",
       "      <td>a</td>\n",
       "      <td>c</td>\n",
       "      <td>xxx</td>\n",
       "      <td>1</td>\n",
       "    </tr>\n",
       "    <tr>\n",
       "      <th>2</th>\n",
       "      <td>a</td>\n",
       "      <td>d</td>\n",
       "      <td>xxx</td>\n",
       "      <td>1</td>\n",
       "    </tr>\n",
       "    <tr>\n",
       "      <th>3</th>\n",
       "      <td>b</td>\n",
       "      <td>e</td>\n",
       "      <td>xxx</td>\n",
       "      <td>1</td>\n",
       "    </tr>\n",
       "    <tr>\n",
       "      <th>4</th>\n",
       "      <td>b</td>\n",
       "      <td>e</td>\n",
       "      <td>xxx</td>\n",
       "      <td>1</td>\n",
       "    </tr>\n",
       "  </tbody>\n",
       "</table>\n",
       "</div>"
      ],
      "text/plain": [
       "  col1 col2 col3  col4\n",
       "0    a    c  xxx     1\n",
       "1    a    c  xxx     1\n",
       "2    a    d  xxx     1\n",
       "3    b    e  xxx     1\n",
       "4    b    e  xxx     1"
      ]
     },
     "metadata": {},
     "output_type": "display_data"
    },
    {
     "data": {
      "text/html": [
       "<div>\n",
       "<style scoped>\n",
       "    .dataframe tbody tr th:only-of-type {\n",
       "        vertical-align: middle;\n",
       "    }\n",
       "\n",
       "    .dataframe tbody tr th {\n",
       "        vertical-align: top;\n",
       "    }\n",
       "\n",
       "    .dataframe thead th {\n",
       "        text-align: right;\n",
       "    }\n",
       "</style>\n",
       "<table border=\"1\" class=\"dataframe\">\n",
       "  <thead>\n",
       "    <tr style=\"text-align: right;\">\n",
       "      <th></th>\n",
       "      <th>col1</th>\n",
       "      <th>col2</th>\n",
       "      <th>col3</th>\n",
       "    </tr>\n",
       "  </thead>\n",
       "  <tbody>\n",
       "    <tr>\n",
       "      <th>0</th>\n",
       "      <td>a</td>\n",
       "      <td>c</td>\n",
       "      <td>xxx</td>\n",
       "    </tr>\n",
       "    <tr>\n",
       "      <th>1</th>\n",
       "      <td>a</td>\n",
       "      <td>c</td>\n",
       "      <td>xxx</td>\n",
       "    </tr>\n",
       "    <tr>\n",
       "      <th>2</th>\n",
       "      <td>a</td>\n",
       "      <td>d</td>\n",
       "      <td>xxx</td>\n",
       "    </tr>\n",
       "    <tr>\n",
       "      <th>3</th>\n",
       "      <td>b</td>\n",
       "      <td>e</td>\n",
       "      <td>xxx</td>\n",
       "    </tr>\n",
       "    <tr>\n",
       "      <th>4</th>\n",
       "      <td>b</td>\n",
       "      <td>e</td>\n",
       "      <td>xxx</td>\n",
       "    </tr>\n",
       "  </tbody>\n",
       "</table>\n",
       "</div>"
      ],
      "text/plain": [
       "  col1 col2 col3\n",
       "0    a    c  xxx\n",
       "1    a    c  xxx\n",
       "2    a    d  xxx\n",
       "3    b    e  xxx\n",
       "4    b    e  xxx"
      ]
     },
     "metadata": {},
     "output_type": "display_data"
    },
    {
     "name": "stdout",
     "output_type": "stream",
     "text": [
      "140149526754064\n",
      "140149522859472\n",
      "140149522860112\n"
     ]
    }
   ],
   "source": [
    "# Remarque : a[:] fait une shallow copy \n",
    "# Attention : df.copy() est équivalent à df.copy(deep=True) : la deep copy est active par défaut\n",
    "\n",
    "def someFunc(mydf):\n",
    "    print id(mydf)\n",
    "    mydf = mydf.copy(deep=False)\n",
    "    print id(mydf)\n",
    "    mydf['col4'] = 1\n",
    "    return mydf\n",
    "    \n",
    "df2 = someFunc(df)\n",
    "df['col3'] = 'xxx'\n",
    "display(df2)\n",
    "display(df)\n",
    "print id(df['col3'])\n",
    "print id(df2['col3'])\n",
    "print id(df2['col4'])"
   ]
  },
  {
   "cell_type": "markdown",
   "metadata": {},
   "source": [
    "Remarque : Quand on utilise une fonction pandas avec inplace=True (ex: ```df.sort_values('a', inplace=True)```), la transformation est exécutée et peut être vue comme un effet de bord de la fonction qui d'ailleurs retourne None (contre un nouveau DataFrame quand ```inplace=False``` qui est la valeur par défaut quand l'argument est disponible). Avec ```inplace=False```, tout se passe comme si les DataFrames étaient immutables ce qui apporte une sécurité pour créer des pipes de fonctions agissant à tour de rôle sur notre DataFrame de données. Par ailleurs, avec ```inplace=True```, notre fonction ne retournerait rien et ne pourrait donc pas être utilisée dans un pipe (sauf à faire un truc sale comme ```return df``` où il ne serait alors plus facilement visible que la fonction agit ```inplace```)."
   ]
  },
  {
   "cell_type": "markdown",
   "metadata": {},
   "source": [
    "```Serie``` $\\to$ ```Serie```"
   ]
  },
  {
   "cell_type": "markdown",
   "metadata": {},
   "source": [
    "rowwise apply : Utiliser apply pour ce genre d'opération n'est pas une bonne pratique. apply peut rapidement devenir lent quand la taille du DataFrame augmente, il y a pas mal d'overhead puisque apply va créer un nouvel objet Series par ligne. Mieux vaut écrire sa propre fonction prenant le DataFrame en argument et qui réalise l'opération de façon vectorisée et la passer à pipe (si elle retourne un DataFrame) ou l'utiliser dans un assign (si elle ne retourne qu'une Series).\n",
    "https://stackoverflow.com/questions/33518124/how-to-apply-a-function-on-every-row-on-a-dataframe\n",
    "https://ys-l.github.io/posts/2015/08/28/how-not-to-use-pandas-apply/\n",
    "https://www.datisticsblog.com/2018/08/r2py_pandas/"
   ]
  },
  {
   "cell_type": "code",
   "execution_count": 33,
   "metadata": {},
   "outputs": [
    {
     "data": {
      "text/html": [
       "<div>\n",
       "<style scoped>\n",
       "    .dataframe tbody tr th:only-of-type {\n",
       "        vertical-align: middle;\n",
       "    }\n",
       "\n",
       "    .dataframe tbody tr th {\n",
       "        vertical-align: top;\n",
       "    }\n",
       "\n",
       "    .dataframe thead th {\n",
       "        text-align: right;\n",
       "    }\n",
       "</style>\n",
       "<table border=\"1\" class=\"dataframe\">\n",
       "  <thead>\n",
       "    <tr style=\"text-align: right;\">\n",
       "      <th></th>\n",
       "      <th>col1</th>\n",
       "      <th>col2</th>\n",
       "      <th>col3</th>\n",
       "    </tr>\n",
       "  </thead>\n",
       "  <tbody>\n",
       "    <tr>\n",
       "      <th>0</th>\n",
       "      <td>a</td>\n",
       "      <td>c</td>\n",
       "      <td>0</td>\n",
       "    </tr>\n",
       "    <tr>\n",
       "      <th>1</th>\n",
       "      <td>a</td>\n",
       "      <td>c</td>\n",
       "      <td>1</td>\n",
       "    </tr>\n",
       "    <tr>\n",
       "      <th>2</th>\n",
       "      <td>a</td>\n",
       "      <td>d</td>\n",
       "      <td>2</td>\n",
       "    </tr>\n",
       "    <tr>\n",
       "      <th>3</th>\n",
       "      <td>b</td>\n",
       "      <td>e</td>\n",
       "      <td>3</td>\n",
       "    </tr>\n",
       "    <tr>\n",
       "      <th>4</th>\n",
       "      <td>b</td>\n",
       "      <td>e</td>\n",
       "      <td>4</td>\n",
       "    </tr>\n",
       "  </tbody>\n",
       "</table>\n",
       "</div>"
      ],
      "text/plain": [
       "  col1 col2  col3\n",
       "0    a    c     0\n",
       "1    a    c     1\n",
       "2    a    d     2\n",
       "3    b    e     3\n",
       "4    b    e     4"
      ]
     },
     "execution_count": 33,
     "metadata": {},
     "output_type": "execute_result"
    }
   ],
   "source": [
    "df"
   ]
  },
  {
   "cell_type": "code",
   "execution_count": 35,
   "metadata": {},
   "outputs": [
    {
     "data": {
      "text/html": [
       "<div>\n",
       "<style scoped>\n",
       "    .dataframe tbody tr th:only-of-type {\n",
       "        vertical-align: middle;\n",
       "    }\n",
       "\n",
       "    .dataframe tbody tr th {\n",
       "        vertical-align: top;\n",
       "    }\n",
       "\n",
       "    .dataframe thead th {\n",
       "        text-align: right;\n",
       "    }\n",
       "</style>\n",
       "<table border=\"1\" class=\"dataframe\">\n",
       "  <thead>\n",
       "    <tr style=\"text-align: right;\">\n",
       "      <th></th>\n",
       "      <th>col1</th>\n",
       "      <th>col2</th>\n",
       "      <th>col3</th>\n",
       "      <th>col4</th>\n",
       "    </tr>\n",
       "  </thead>\n",
       "  <tbody>\n",
       "    <tr>\n",
       "      <th>0</th>\n",
       "      <td>a</td>\n",
       "      <td>c</td>\n",
       "      <td>0</td>\n",
       "      <td>ac</td>\n",
       "    </tr>\n",
       "    <tr>\n",
       "      <th>1</th>\n",
       "      <td>a</td>\n",
       "      <td>c</td>\n",
       "      <td>1</td>\n",
       "      <td>ac</td>\n",
       "    </tr>\n",
       "    <tr>\n",
       "      <th>2</th>\n",
       "      <td>a</td>\n",
       "      <td>d</td>\n",
       "      <td>2</td>\n",
       "      <td>ad</td>\n",
       "    </tr>\n",
       "    <tr>\n",
       "      <th>3</th>\n",
       "      <td>b</td>\n",
       "      <td>e</td>\n",
       "      <td>3</td>\n",
       "      <td>be</td>\n",
       "    </tr>\n",
       "    <tr>\n",
       "      <th>4</th>\n",
       "      <td>b</td>\n",
       "      <td>e</td>\n",
       "      <td>4</td>\n",
       "      <td>be</td>\n",
       "    </tr>\n",
       "  </tbody>\n",
       "</table>\n",
       "</div>"
      ],
      "text/plain": [
       "  col1 col2  col3 col4\n",
       "0    a    c     0   ac\n",
       "1    a    c     1   ac\n",
       "2    a    d     2   ad\n",
       "3    b    e     3   be\n",
       "4    b    e     4   be"
      ]
     },
     "execution_count": 35,
     "metadata": {},
     "output_type": "execute_result"
    }
   ],
   "source": [
    "# Remarque : le moyen ci-dessous est vectorisé. On utilise pas apply(axis=1)\n",
    "def add_cols(df):\n",
    "    return df['col1'] + df['col2']\n",
    "\n",
    "df.assign(**{'col4' : add_cols})"
   ]
  },
  {
   "cell_type": "markdown",
   "metadata": {},
   "source": [
    "Les problématiques abordées dans ce notebook explorent comment ajouter de nouvelles colonnes, modifier des colonnes existantes et plus largement quels outils ```pandas``` met à disposition pour appliquer des fonctions à un DataFrame qu'elle soient \n",
    "d'agrégation ou non, qu'elles agissent valeur par valeur, sur des colonnes (Series) ou sur le DataFrame lui-même.\n",
    "\n",
    "Dis autrement : dans la manipulation de données structurée on veut \n",
    "* Appliquer une fonction à chaque élément d'une colonne ou d'un groupe de colonne pour retourner une colonne (de même longeur)\n",
    "* Créer ou modifier une colonne par évaluation d'une fonction d'une ou plusieur colonnes. Il est sous-entendu que les opération s'écrivent et s'exécutent de façon vectorisée.\n",
    "* Appliquer une fonction au DataFrame dans son ensemble pour retourner un DataFrame d'autant de lignes, d'une seule ligne (aggrégation) ou d'un nombre de lignes intermédiaire. \n",
    "* Réaliser les opérations ci-dessus sur des sous-DataFrames définis par des variables de groupage.\n",
    "\n",
    "\n",
    "Le but est également de mettre en avant toutes les façons permettant de chaîner ses traitements et d'éviter le plus possible des expressions type  ```df['myCol'] = ...```.\n",
    "\n",
    "Approche fonction par fonction :\n",
    "* ```apply``` : apply est sans doute la plus générale et permet notamment d'appliquer des fonctions rowwise.\n",
    "* ```transform```\n",
    "* ```assign```\n",
    "* ```agg``` ou ```aggregate```\n",
    "*\n",
    "*\n",
    "*\n",
    "\n",
    "Comment on fait pour un truc type dplyr + purr (qui étaient une meilleure pratique que rowwise)"
   ]
  },
  {
   "cell_type": "markdown",
   "metadata": {},
   "source": [
    "Ajouter des exemples pour chaque bullet point\n",
    "\n",
    "| ```R dplyr```| ```pandas```   |\n",
    "|------|------|\n",
    "| ``` df %>% mutate(...)```| &#8226; **```df.transform()```** - **Restrictif** - On ne peut modifier que les colonnes existantes et seulement à l'aide de fonctions de la colonne à modifier. C'est la conséquence que ```transform``` ne prend que des fonction qui à une Serie associe une Serie, l'input ne peut donc être que la colonne à modifier. ```transform``` impose que les fonctions qui lui sont passées retournent un objet de même longueur. De plus, ```transform``` va écraser la colonne d'input avec la nouvelle colonne produite.<br>&#8226; **```df.assign()```** : Cette fonction est la plus proche du ```mutate``` de ```dplyr```. Elle permet de réaliser des modification de colonnes existantes plus complexes qu'avec ```transform```. On peut en même temps créer de nouvelles colonnes. Il n'y a pas de limite au nombre de colonnes à créer/modifier. On passe à ```assign``` un dictionnaire dont les clés sont les noms des colonnes à créer / modifier et les valeurs des fonctions (qui à un DataFrame associent une Serie) qui produisent les nouvelles colonnes.<br>&#8226; **```df.apply()```** - **Eventuellement** - La fonction passée à apply (qui à une Serie doit associer une Serie) est appliquée à chacune des colonnes du DataFrame. Peut être pratique pour appliquer une même transformation à des groupes de colonnes sur le modèle du ```mutate_if``` ou ```mutate_at``` de ```dplyr```.|\n",
    "| ``` df %>% groupby(...) %>% mutate(...)``` | &#8226; **```df.groupby().transform()```** - **Restrictif** - Théoriquement possible mais peu utile en pratique car va appliquer la même fonction d'agrégation à l'ensemble des colonnes de ```df```. Les usages en dehors d'un *pipe* sont peut être un peu plus nombreux mais pas plus pratiques.<br>&#8226; **```df.assign()```** : ```assign``` ne peut pas s'appliquer directement sur un GroupBy object mais on peut aboutir à l'effet recherché en lui passant des fonctions de la forme ```lambda x : x.groupby()[].transform()```.<br>&#8226; **```df.groupby().apply()```** : Après un ```groupby```, ```apply``` va appliquer la fonction qui lui est passée à chaque sous-DataFrame (et non à chaque colonne). On va donc lui passer une fonction qui à un DataFrame va associer un DataFrame de même longueur. Cette fonction peut par exemple faire appel à ```transform``` ou ```assign``` |\n",
    "| ``` df %>% groupby(...) %>% summarise(...)``` |  &#8226; **```df.groupby().agg()```** : Cette fonction est celle qui se rapproche le plus du ```summarise``` de ```dplyr```. Il s'agit de la seule fonction dédiée à l'agrégation au sens où on a plus qu'une ligne par groupe en sortie. Elle impose d'ailleurs que les fonctions qui lui sont passées soient des fonctions d'agrégation. Elle s'approche plus de la flexibilité offerte par ```dplyr::summarise``` quand on lui passe un dictionnaire permettant de réaliser différentes agrégations par colonne, chaque nouvelle colonne se voyant attribuée un nom dès cette étape. Malheureusement cette fonctionnalité souffre d'un *depreciation warning*.<br>&#8226; **```df.groupby().aggregate()```** : ```aggregate``` n'est qu'un alias pour ```agg```. Mêmes remarques que ci-dessus.<br> &#8226; **```df.groupby().apply()```** : Théoriquement possible pour une agrégation. Il faut alors que la fonction passée à ```apply``` associe à un DataFrame un autre DataFrame mais d'une seule ligne. Plus généralement, la combinaison ```groupby``` + ```apply``` est à rapprocher du ```groupby() %>% do()``` de ```dplyr``` : c'est la solution à adopter si la transformation à appliquer à chaque groupe ne retourne ni une ligne par groupe, ni un DataFrame de même taille mais un DataFrame de taille intermédiaire.|\n",
    "\n",
    "De façon plus générale, on est pas forcément contraint d'utiliser ces fonctions là. On peut également écrire une fonction personnalisée qu'on pourra toujours intégérer dans un *pipe* de traitement grace à la fonction ```pipe```, pourvu que notre fonction prenne (au moins) en input un DataFrame et retourne un autre DataFrame."
   ]
  },
  {
   "cell_type": "code",
   "execution_count": 27,
   "metadata": {
    "collapsed": true
   },
   "outputs": [],
   "source": [
    "myDict = {'Preprocessing' : {'params' : {'column1' : 'Nested', 'return_name' : 'Dict'}, 'function' : 'add_col_renamed', 'position' : 2.0}, 'otherStuff' : [1, 2, 3]}"
   ]
  },
  {
   "cell_type": "code",
   "execution_count": 29,
   "metadata": {
    "collapsed": true
   },
   "outputs": [],
   "source": [
    "def pprintDict(dc, i=0):\n",
    "    for k, v in dc.items():\n",
    "        if isinstance(v, dict):\n",
    "            print '    '*i + '|-' + str(k)\n",
    "            pprintDict(v, i+1)\n",
    "        else:\n",
    "            print '    '*i + '|-' + str(k) + ' : ' + str(v)"
   ]
  },
  {
   "cell_type": "code",
   "execution_count": 8,
   "metadata": {},
   "outputs": [
    {
     "name": "stdout",
     "output_type": "stream",
     "text": [
      "a1{'b1': {'c2': 'Dict', 'c1': 'Nested'}, 'b2': 'Lorem', 'b3': 'Ipsum'}\n",
      "\n",
      "a2Hello\n",
      "\n"
     ]
    }
   ],
   "source": [
    "for k, v in myDict.items():\n",
    "    print k + str(v) + '\\n'"
   ]
  },
  {
   "cell_type": "code",
   "execution_count": 30,
   "metadata": {},
   "outputs": [
    {
     "name": "stdout",
     "output_type": "stream",
     "text": [
      "|-Preprocessing\n",
      "    |-function : add_col_renamed\n",
      "    |-position : 2.0\n",
      "    |-params\n",
      "        |-return_name : Dict\n",
      "        |-column1 : Nested\n",
      "|-otherStuff : [1, 2, 3]\n"
     ]
    }
   ],
   "source": [
    "pprintDict(myDict)"
   ]
  }
 ],
 "metadata": {
  "kernelspec": {
   "display_name": "Python 3",
   "language": "python",
   "name": "python3"
  },
  "language_info": {
   "codemirror_mode": {
    "name": "ipython",
    "version": 3
   },
   "file_extension": ".py",
   "mimetype": "text/x-python",
   "name": "python",
   "nbconvert_exporter": "python",
   "pygments_lexer": "ipython3",
   "version": "3.6.8"
  }
 },
 "nbformat": 4,
 "nbformat_minor": 2
}
