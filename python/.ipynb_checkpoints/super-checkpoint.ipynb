{
 "cells": [
  {
   "cell_type": "markdown",
   "metadata": {},
   "source": [
    "## Liens à explorer :\n",
    "\n",
    "https://www.programiz.com/python-programming/methods/built-in/super\n",
    "https://stackoverflow.com/questions/222877/what-does-super-do-in-python\n",
    "https://stackoverflow.com/questions/576169/understanding-python-super-with-init-methods?noredirect=1&lq=1\n",
    "https://www.artima.com/weblogs/viewpost.jsp?thread=236275\n",
    "https://www.artima.com/weblogs/viewpost.jsp?thread=236278\n",
    "https://stackoverflow.com/questions/2771904/which-of-the-4-ways-to-call-super-in-python-3-to-use\n",
    "http://www.cs.utexas.edu/~cannata/cs345/Class%20Notes/15%20python_attributes_and_methods.pdf\n",
    "https://rushter.com/blog/python-class-internals/\n",
    "https://www.protechtraining.com/bookshelf/python_fundamentals_tutorial/oop\n",
    "\n",
    "Pour la partie sur les mixins : https://towardsdatascience.com/how-to-connect-objects-with-each-other-in-different-situations-with-pythonic-ways-d3aaf4c89553"
   ]
  },
  {
   "cell_type": "code",
   "execution_count": 15,
   "metadata": {
    "scrolled": true
   },
   "outputs": [
    {
     "name": "stdout",
     "output_type": "stream",
     "text": [
      "Calling B.some_method\n",
      "Calling A.some_method\n"
     ]
    }
   ],
   "source": [
    "class A(object): \n",
    "    def some_method(self):\n",
    "        print 'Calling A.some_method'\n",
    "        \n",
    "class B(A):\n",
    "    def some_method(self):\n",
    "        print 'Calling B.some_method'\n",
    "        super(B, self).some_method()\n",
    "\n",
    "b = B()\n",
    "b.some_method()"
   ]
  },
  {
   "cell_type": "markdown",
   "metadata": {},
   "source": [
    "##### En Python 2, super doit prendre au moins un argument de type ```type``` (un objet class). Change en Python 3  "
   ]
  },
  {
   "cell_type": "markdown",
   "metadata": {},
   "source": [
    "### super(type)\n",
    "https://stackoverflow.com/questions/30190185/how-can-i-use-super-with-one-argument-in-python"
   ]
  },
  {
   "cell_type": "code",
   "execution_count": 30,
   "metadata": {},
   "outputs": [
    {
     "data": {
      "text/plain": [
       "(__main__.B, __main__.A, object)"
      ]
     },
     "execution_count": 30,
     "metadata": {},
     "output_type": "execute_result"
    }
   ],
   "source": [
    "B.__mro__"
   ]
  },
  {
   "cell_type": "code",
   "execution_count": 31,
   "metadata": {
    "scrolled": false
   },
   "outputs": [
    {
     "ename": "AttributeError",
     "evalue": "'super' object has no attribute 'some_method'",
     "output_type": "error",
     "traceback": [
      "\u001b[1;31m---------------------------------------------------------------------------\u001b[0m",
      "\u001b[1;31mAttributeError\u001b[0m                            Traceback (most recent call last)",
      "\u001b[1;32m<ipython-input-31-b948965eddef>\u001b[0m in \u001b[0;36m<module>\u001b[1;34m()\u001b[0m\n\u001b[1;32m----> 1\u001b[1;33m \u001b[0msuper\u001b[0m\u001b[1;33m(\u001b[0m\u001b[0mB\u001b[0m\u001b[1;33m)\u001b[0m\u001b[1;33m.\u001b[0m\u001b[0msome_method\u001b[0m\u001b[1;33m(\u001b[0m\u001b[0mb\u001b[0m\u001b[1;33m)\u001b[0m\u001b[1;33m\u001b[0m\u001b[0m\n\u001b[0m",
      "\u001b[1;31mAttributeError\u001b[0m: 'super' object has no attribute 'some_method'"
     ]
    }
   ],
   "source": [
    "super(B).some_method"
   ]
  },
  {
   "cell_type": "markdown",
   "metadata": {},
   "source": [
    "### super(type, obj) avec obj instance de type (isinstance(obj, type) évalue à True)"
   ]
  },
  {
   "cell_type": "code",
   "execution_count": 10,
   "metadata": {
    "scrolled": true
   },
   "outputs": [
    {
     "data": {
      "text/plain": [
       "<bound method B.some_method of <__main__.B object at 0x7fe614a17c10>>"
      ]
     },
     "execution_count": 10,
     "metadata": {},
     "output_type": "execute_result"
    }
   ],
   "source": [
    "super(B, b).some_method"
   ]
  },
  {
   "cell_type": "code",
   "execution_count": 17,
   "metadata": {},
   "outputs": [
    {
     "name": "stdout",
     "output_type": "stream",
     "text": [
      "Calling A.some_method\n"
     ]
    }
   ],
   "source": [
    "m = super(B, b).some_method\n",
    "m()"
   ]
  },
  {
   "cell_type": "markdown",
   "metadata": {},
   "source": [
    "### super(type, type2) avec type2 sous-classe de type (issubclass(type2, type) évalue à True)"
   ]
  },
  {
   "cell_type": "code",
   "execution_count": 11,
   "metadata": {},
   "outputs": [
    {
     "data": {
      "text/plain": [
       "<unbound method B.some_method>"
      ]
     },
     "execution_count": 11,
     "metadata": {},
     "output_type": "execute_result"
    }
   ],
   "source": [
    "super(B, B).some_method"
   ]
  },
  {
   "cell_type": "code",
   "execution_count": 18,
   "metadata": {},
   "outputs": [
    {
     "ename": "TypeError",
     "evalue": "unbound method some_method() must be called with B instance as first argument (got nothing instead)",
     "output_type": "error",
     "traceback": [
      "\u001b[1;31m---------------------------------------------------------------------------\u001b[0m",
      "\u001b[1;31mTypeError\u001b[0m                                 Traceback (most recent call last)",
      "\u001b[1;32m<ipython-input-18-90256f34af8c>\u001b[0m in \u001b[0;36m<module>\u001b[1;34m()\u001b[0m\n\u001b[0;32m      1\u001b[0m \u001b[0mm\u001b[0m \u001b[1;33m=\u001b[0m \u001b[0msuper\u001b[0m\u001b[1;33m(\u001b[0m\u001b[0mB\u001b[0m\u001b[1;33m,\u001b[0m \u001b[0mB\u001b[0m\u001b[1;33m)\u001b[0m\u001b[1;33m.\u001b[0m\u001b[0msome_method\u001b[0m\u001b[1;33m\u001b[0m\u001b[0m\n\u001b[1;32m----> 2\u001b[1;33m \u001b[0mm\u001b[0m\u001b[1;33m(\u001b[0m\u001b[1;33m)\u001b[0m\u001b[1;33m\u001b[0m\u001b[0m\n\u001b[0m",
      "\u001b[1;31mTypeError\u001b[0m: unbound method some_method() must be called with B instance as first argument (got nothing instead)"
     ]
    }
   ],
   "source": [
    "m = super(B, B).some_method\n",
    "m()"
   ]
  },
  {
   "cell_type": "code",
   "execution_count": 19,
   "metadata": {
    "scrolled": true
   },
   "outputs": [
    {
     "name": "stdout",
     "output_type": "stream",
     "text": [
      "Calling A.some_method\n"
     ]
    }
   ],
   "source": [
    "m = super(B, B).some_method\n",
    "m(b)"
   ]
  },
  {
   "cell_type": "markdown",
   "metadata": {},
   "source": [
    "### Autres"
   ]
  },
  {
   "cell_type": "code",
   "execution_count": 5,
   "metadata": {},
   "outputs": [],
   "source": [
    "class C(object):\n",
    "    x = 1\n",
    "    def __init__(self, y):\n",
    "        self.prop = y\n",
    "        \n",
    "    def f(self):\n",
    "        pass\n",
    "        \n",
    "c1 = C(1)\n",
    "c2 = C(2)"
   ]
  },
  {
   "cell_type": "code",
   "execution_count": 6,
   "metadata": {},
   "outputs": [
    {
     "data": {
      "text/plain": [
       "<function __main__.C.f(self)>"
      ]
     },
     "execution_count": 6,
     "metadata": {},
     "output_type": "execute_result"
    }
   ],
   "source": [
    "C.__dict__['f']"
   ]
  },
  {
   "cell_type": "code",
   "execution_count": 7,
   "metadata": {},
   "outputs": [
    {
     "data": {
      "text/plain": [
       "<function __main__.C.f(self)>"
      ]
     },
     "execution_count": 7,
     "metadata": {},
     "output_type": "execute_result"
    }
   ],
   "source": [
    "C.f"
   ]
  },
  {
   "cell_type": "code",
   "execution_count": 8,
   "metadata": {},
   "outputs": [
    {
     "data": {
      "text/plain": [
       "<bound method C.f of <__main__.C object at 0x7f8d5c29d710>>"
      ]
     },
     "execution_count": 8,
     "metadata": {},
     "output_type": "execute_result"
    }
   ],
   "source": [
    "c1.f"
   ]
  },
  {
   "cell_type": "markdown",
   "metadata": {},
   "source": [
    "### Tests bis "
   ]
  },
  {
   "cell_type": "code",
   "execution_count": 6,
   "metadata": {},
   "outputs": [],
   "source": [
    "class B(object):\n",
    "    pass\n",
    "\n",
    "class C(B):\n",
    "    pass\n",
    "\n",
    "class D(C):\n",
    "    pass\n",
    "\n",
    "d = D()\n",
    "\n",
    "# instance-bound syntax (instance-bound super object)\n",
    "# If asked for instance-methods : returns bound-methods (bound to __self__)\n",
    "# If asked for class-methods : returns bound-methods (bound to __self_class__)\n",
    "# If asked for static-methods : returns functions (known as unbound methods in Python 2)\n",
    "bsup = super(C, d)\n",
    "assert bsup.__thisclass__ is C\n",
    "assert bsup.__self__ is d\n",
    "assert bsup.__self_class__ is D\n",
    "\n",
    "# class-bound syntax (class-bound super object)\n",
    "# If asked for instance methods : returns functions (known as unbound methods in Python 2)\n",
    "# If asked for class methods : returns bound-methods (bound to __self__)\n",
    "# If asked for static-methods : returns functions (known as unbound methods in Python 2)\n",
    "Bsup = super(C, D)\n",
    "assert Bsup.__thisclass__ is C\n",
    "assert Bsup.__self__ is D\n",
    "assert Bsup.__self_class__ is D\n",
    "\n",
    "# unbound syntax (unbound super object)\n",
    "usup = super(C)\n",
    "assert usup.__thisclass__ is C\n",
    "assert usup.__self__ is None\n",
    "assert usup.__self_class__ is None"
   ]
  },
  {
   "cell_type": "markdown",
   "metadata": {},
   "source": [
    "Super object possède trois attributs spécifiques : \n",
    "* __thisclass__ : type object correspondant au premier argument\n",
    "* __self__ : objet correspondant au second argument (None si absent)\n",
    "* __self_class__ : type(obj) si le second argument est une instance ou type object correspondant au second argument si celui-ci est un type (None si absent). \n",
    "\n",
    "Forme unbound : \n",
    "Peu recommandée. Peu d'usages, dépréciation future possible. \"Does not dispatch attribute access to class\" : requiert d'en passer par le protocole descriptor pour être utilisé.\n",
    "Cf. proxy design pattern pour mieux comprendre ?"
   ]
  },
  {
   "cell_type": "code",
   "execution_count": 54,
   "metadata": {
    "scrolled": false
   },
   "outputs": [
    {
     "name": "stdout",
     "output_type": "stream",
     "text": [
      "(<class '__main__.D'>, <class '__main__.B'>, <class '__main__.C'>, <class '__main__.A'>, <class 'object'>)\n",
      "1\n",
      "(<class '__main__.B'>, <class '__main__.A'>, <class 'object'>)\n",
      "1\n"
     ]
    }
   ],
   "source": [
    "class A(object):\n",
    "    a = 0\n",
    "    def some_method(self):\n",
    "        print('Instance method A.some_method')\n",
    "        \n",
    "    def print_name(self):\n",
    "        print(self.name)\n",
    "\n",
    "class B(A):\n",
    "    def some_method(self):\n",
    "        print('Instance method B.some_method')\n",
    "\n",
    "\n",
    "class C(A):\n",
    "    a = 1\n",
    "    \n",
    "    @classmethod\n",
    "    def some_cmethod(cls):\n",
    "        print('I inherit from C')\n",
    "        \n",
    "    @staticmethod\n",
    "    def some_smethod():\n",
    "        print('C.some_smethod')\n",
    "\n",
    "class D(B, C):\n",
    "    def __init__(self, name):\n",
    "        self.name = name\n",
    "        \n",
    "    def some_method(self):\n",
    "        print('Instance method D.some_method')\n",
    "\n",
    "\n",
    "d = D(\"My name is d\")\n",
    "e = D(\"My name is e\")\n",
    "\n",
    "print(D.__mro__)\n",
    "print(super(D, d).a)\n",
    "print(B.__mro__)\n",
    "print(super(B, d).a)"
   ]
  },
  {
   "cell_type": "markdown",
   "metadata": {},
   "source": [
    "bound-method = fonction (partielle) dont le premier argument est fixé égal à __self__ de l'objet super si méthode d'instance ou __self_class__ de super su méthode de classe.\n",
    "unbound-method = retourne la fonction, sans arguments fixés, quelle qu'en soit sa nature (pas possible de se voir retourné une class method unbound (?))."
   ]
  },
  {
   "cell_type": "code",
   "execution_count": 17,
   "metadata": {
    "scrolled": true
   },
   "outputs": [
    {
     "data": {
      "text/plain": [
       "<bound method B.some_method of <__main__.D object at 0x7fb006e43c50>>"
      ]
     },
     "execution_count": 17,
     "metadata": {},
     "output_type": "execute_result"
    }
   ],
   "source": [
    "super(D, d).some_method"
   ]
  },
  {
   "cell_type": "code",
   "execution_count": 18,
   "metadata": {},
   "outputs": [
    {
     "data": {
      "text/plain": [
       "<bound method A.some_method of <__main__.D object at 0x7fb006e43c50>>"
      ]
     },
     "execution_count": 18,
     "metadata": {},
     "output_type": "execute_result"
    }
   ],
   "source": [
    "super(C, d).some_method"
   ]
  },
  {
   "cell_type": "code",
   "execution_count": 19,
   "metadata": {},
   "outputs": [
    {
     "name": "stdout",
     "output_type": "stream",
     "text": [
      "B.some_method\n"
     ]
    }
   ],
   "source": [
    "super(D, d).some_method()"
   ]
  },
  {
   "cell_type": "code",
   "execution_count": 20,
   "metadata": {},
   "outputs": [
    {
     "name": "stdout",
     "output_type": "stream",
     "text": [
      "A.some_method\n"
     ]
    }
   ],
   "source": [
    "super(C, d).some_method()"
   ]
  },
  {
   "cell_type": "code",
   "execution_count": 24,
   "metadata": {},
   "outputs": [
    {
     "data": {
      "text/plain": [
       "<bound method A.print_name of <__main__.D object at 0x7fb006e4a860>>"
      ]
     },
     "execution_count": 24,
     "metadata": {},
     "output_type": "execute_result"
    }
   ],
   "source": [
    "super(D, d).print_name"
   ]
  },
  {
   "cell_type": "code",
   "execution_count": 25,
   "metadata": {},
   "outputs": [
    {
     "name": "stdout",
     "output_type": "stream",
     "text": [
      "My name is d\n"
     ]
    }
   ],
   "source": [
    "super(D, d).print_name()"
   ]
  },
  {
   "cell_type": "code",
   "execution_count": 29,
   "metadata": {},
   "outputs": [
    {
     "data": {
      "text/plain": [
       "<function __main__.A.print_name(self)>"
      ]
     },
     "execution_count": 29,
     "metadata": {},
     "output_type": "execute_result"
    }
   ],
   "source": [
    "super(D, D).print_name"
   ]
  },
  {
   "cell_type": "code",
   "execution_count": 32,
   "metadata": {},
   "outputs": [
    {
     "name": "stdout",
     "output_type": "stream",
     "text": [
      "My name is d\n"
     ]
    }
   ],
   "source": [
    "super(D, D).print_name(d)"
   ]
  },
  {
   "cell_type": "code",
   "execution_count": 31,
   "metadata": {},
   "outputs": [
    {
     "name": "stdout",
     "output_type": "stream",
     "text": [
      "My name is e\n"
     ]
    }
   ],
   "source": [
    "super(D, D).print_name(e)"
   ]
  },
  {
   "cell_type": "markdown",
   "metadata": {},
   "source": [
    "Sur les class methods "
   ]
  },
  {
   "cell_type": "code",
   "execution_count": 49,
   "metadata": {},
   "outputs": [
    {
     "data": {
      "text/plain": [
       "<bound method C.some_cmethod of <class '__main__.D'>>"
      ]
     },
     "execution_count": 49,
     "metadata": {},
     "output_type": "execute_result"
    }
   ],
   "source": [
    "super(D, d).some_cmethod # still bounded => on lui passera __self_class__"
   ]
  },
  {
   "cell_type": "code",
   "execution_count": 50,
   "metadata": {},
   "outputs": [
    {
     "name": "stdout",
     "output_type": "stream",
     "text": [
      "I inherit from C\n"
     ]
    }
   ],
   "source": [
    "super(D, d).some_cmethod()"
   ]
  },
  {
   "cell_type": "code",
   "execution_count": 41,
   "metadata": {},
   "outputs": [
    {
     "data": {
      "text/plain": [
       "<bound method C.some_cmethod of <class '__main__.D'>>"
      ]
     },
     "execution_count": 41,
     "metadata": {},
     "output_type": "execute_result"
    }
   ],
   "source": [
    "super(D, D).some_cmethod"
   ]
  },
  {
   "cell_type": "code",
   "execution_count": 42,
   "metadata": {},
   "outputs": [
    {
     "name": "stdout",
     "output_type": "stream",
     "text": [
      "I inherit from C\n"
     ]
    }
   ],
   "source": [
    "super(D, D).some_cmethod()"
   ]
  },
  {
   "cell_type": "markdown",
   "metadata": {},
   "source": [
    "Sur les static methods "
   ]
  },
  {
   "cell_type": "code",
   "execution_count": 44,
   "metadata": {},
   "outputs": [
    {
     "data": {
      "text/plain": [
       "<function __main__.C.some_smethod()>"
      ]
     },
     "execution_count": 44,
     "metadata": {},
     "output_type": "execute_result"
    }
   ],
   "source": [
    "super(D, d).some_smethod"
   ]
  },
  {
   "cell_type": "code",
   "execution_count": 45,
   "metadata": {
    "scrolled": true
   },
   "outputs": [
    {
     "name": "stdout",
     "output_type": "stream",
     "text": [
      "C.some_smethod\n"
     ]
    }
   ],
   "source": [
    "super(D, d).some_smethod()"
   ]
  },
  {
   "cell_type": "code",
   "execution_count": 47,
   "metadata": {},
   "outputs": [
    {
     "data": {
      "text/plain": [
       "<function __main__.C.some_smethod()>"
      ]
     },
     "execution_count": 47,
     "metadata": {},
     "output_type": "execute_result"
    }
   ],
   "source": [
    "super(D, D).some_smethod"
   ]
  },
  {
   "cell_type": "code",
   "execution_count": 48,
   "metadata": {},
   "outputs": [
    {
     "name": "stdout",
     "output_type": "stream",
     "text": [
      "C.some_smethod\n"
     ]
    }
   ],
   "source": [
    "super(D, D).some_smethod()"
   ]
  },
  {
   "cell_type": "markdown",
   "metadata": {},
   "source": [
    "Sur les méthodes d'instance"
   ]
  },
  {
   "cell_type": "code",
   "execution_count": 51,
   "metadata": {},
   "outputs": [
    {
     "data": {
      "text/plain": [
       "<bound method B.some_method of <__main__.D object at 0x7fb006e5ce48>>"
      ]
     },
     "execution_count": 51,
     "metadata": {},
     "output_type": "execute_result"
    }
   ],
   "source": [
    "super(D, d).some_method # La repr dit à quel objet la bound-method est liée"
   ]
  },
  {
   "cell_type": "code",
   "execution_count": 55,
   "metadata": {},
   "outputs": [
    {
     "name": "stdout",
     "output_type": "stream",
     "text": [
      "Instance method B.some_method\n"
     ]
    }
   ],
   "source": [
    "super(D, d).some_method()"
   ]
  },
  {
   "cell_type": "code",
   "execution_count": 56,
   "metadata": {},
   "outputs": [
    {
     "data": {
      "text/plain": [
       "<function __main__.B.some_method(self)>"
      ]
     },
     "execution_count": 56,
     "metadata": {},
     "output_type": "execute_result"
    }
   ],
   "source": [
    "super(D, D).some_method"
   ]
  },
  {
   "cell_type": "code",
   "execution_count": 58,
   "metadata": {
    "scrolled": true
   },
   "outputs": [
    {
     "name": "stdout",
     "output_type": "stream",
     "text": [
      "Instance method B.some_method\n"
     ]
    }
   ],
   "source": [
    "super(D, D).some_method(d)"
   ]
  },
  {
   "cell_type": "markdown",
   "metadata": {},
   "source": [
    "#### super sans arguments dans Python 3 : \n",
    "super sans argument correspond à super(type(self), self) où self est l'objet courant. Ne peut évidemment s'employer qu'à l'intérieur d'une méthode d'instance."
   ]
  },
  {
   "cell_type": "code",
   "execution_count": 80,
   "metadata": {},
   "outputs": [
    {
     "name": "stdout",
     "output_type": "stream",
     "text": [
      "<class '__main__.B'>\n",
      "<__main__.B object at 0x7fb006e77358>\n",
      "<__main__.B object at 0x7fb006e77358>\n",
      "<class '__main__.B'>\n"
     ]
    }
   ],
   "source": [
    "class A(object):\n",
    "    def some_method(self):\n",
    "        print('Instance method A.some_method')\n",
    "    \n",
    "class B(A):\n",
    "    def show_super(self):\n",
    "        sup = super()\n",
    "        print(sup.__thisclass__)\n",
    "        print(self)\n",
    "        print(sup.__self__)\n",
    "        print(sup.__self_class__) \n",
    "        # Faire ça plus classe avec des is ou assert\n",
    "        # super() is super(B, self)\n",
    "        \n",
    "b = B()\n",
    "b.show_super()"
   ]
  },
  {
   "cell_type": "markdown",
   "metadata": {},
   "source": [
    "#### Sur les arguments de super \n",
    "Le premier : forcément un type, sa valeur est ensuite assignée à l'argument __thisclass__ de l'objet super. Il donne la classe dont le __mro__ servira à la résolution du scope, c'est le point de départ de la recherche dans la lignée linéarisée.  \n",
    "Le second : si présent, sa valeur est ensuite assignée à l'argument __self__ et c'est à cette valeur que sera liée la fonction si cela à un sens, l'ensemble formant alors une bound method. Ne peut être qu'une instance du premier argument (si object) ou une sous-classe de celui-ci (si type) (si l'argument ne vérifiait pas ces conditions, il y aurait de fortes chances que les opérations demandées n'aient aucun sens et génèrent des erreurs).\n",
    "\n",
    "Donné pour la compréhension, en pratique la configuration suivante n'a que peu de cas d'usages en plus d'impliquer une syntaxe assez obscure. On peut le voir comme une illustration du concept de descriptor en Python (https://stackoverflow.com/questions/30190185/how-can-i-use-super-with-one-argument-in-python) Dépréciation envisagée en Python 3 mais finalement non réalisée.\n",
    "En absence de second argument, l'objet super sera unbound (__self__ = None). Se rappeler alors que super est un descriptor : ses attributs ne sont pas les objets qu'on recherche : super(A).some_method va renvoyer une AttributeError : l'objet super ne possède pas d'objet some_method, il faut l'utiliser (et donc utiliser le protocol descriptor) de façon à ce qu'il retourne ce que l'on veut. La syntaxe qu'on est alors contraint d'utiliser n'est qu'une explicitation de ce que fait Python quand on passe deux arguments à super (?).\n",
    "Remarque le __get__ retourne un nouvel objet super mais bounded."
   ]
  },
  {
   "cell_type": "code",
   "execution_count": 67,
   "metadata": {},
   "outputs": [
    {
     "data": {
      "text/plain": [
       "<super: __main__.B, None>"
      ]
     },
     "execution_count": 67,
     "metadata": {},
     "output_type": "execute_result"
    }
   ],
   "source": [
    "super(B) # unbounded, se voit dans la repr qui s'écrit <super: self.__thisclass__, self.__self__> "
   ]
  },
  {
   "cell_type": "code",
   "execution_count": 71,
   "metadata": {},
   "outputs": [
    {
     "data": {
      "text/plain": [
       "True"
      ]
     },
     "execution_count": 71,
     "metadata": {},
     "output_type": "execute_result"
    }
   ],
   "source": [
    "sup = super(B)\n",
    "sup.__self__ is None"
   ]
  },
  {
   "cell_type": "code",
   "execution_count": 72,
   "metadata": {},
   "outputs": [
    {
     "data": {
      "text/plain": [
       "<super: __main__.B, <__main__.B at 0x7fb006e60ba8>>"
      ]
     },
     "execution_count": 72,
     "metadata": {},
     "output_type": "execute_result"
    }
   ],
   "source": [
    "super(B).__get__(b) # bounded"
   ]
  },
  {
   "cell_type": "code",
   "execution_count": 76,
   "metadata": {},
   "outputs": [
    {
     "data": {
      "text/plain": [
       "<__main__.B at 0x7fb006e60ba8>"
      ]
     },
     "execution_count": 76,
     "metadata": {},
     "output_type": "execute_result"
    }
   ],
   "source": [
    "sup = super(B).__get__(b) # 2e argument de __get__ facultatif \n",
    "sup.__self__"
   ]
  },
  {
   "cell_type": "code",
   "execution_count": 77,
   "metadata": {},
   "outputs": [
    {
     "data": {
      "text/plain": [
       "<bound method A.some_method of <__main__.B object at 0x7fb006e60ba8>>"
      ]
     },
     "execution_count": 77,
     "metadata": {},
     "output_type": "execute_result"
    }
   ],
   "source": [
    "super(B).__get__(b).some_method"
   ]
  },
  {
   "cell_type": "code",
   "execution_count": 81,
   "metadata": {},
   "outputs": [
    {
     "name": "stdout",
     "output_type": "stream",
     "text": [
      "Instance method A.some_method\n"
     ]
    }
   ],
   "source": [
    "super(B).__get__(b).some_method()"
   ]
  }
 ],
 "metadata": {
  "kernelspec": {
   "display_name": "Python 3",
   "language": "python",
   "name": "python3"
  },
  "language_info": {
   "codemirror_mode": {
    "name": "ipython",
    "version": 3
   },
   "file_extension": ".py",
   "mimetype": "text/x-python",
   "name": "python",
   "nbconvert_exporter": "python",
   "pygments_lexer": "ipython3",
   "version": "3.7.0"
  }
 },
 "nbformat": 4,
 "nbformat_minor": 1
}
