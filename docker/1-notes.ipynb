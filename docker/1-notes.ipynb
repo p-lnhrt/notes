{
 "cells": [
  {
   "cell_type": "markdown",
   "metadata": {},
   "source": [
    "## Docker Hub\n",
    "Docker Hub est un *repository* où se le principe de GitHub chacun (personne ou organisation) peut partager et au moins stocker sur un *remote repository* ses images Docker. Chacun possède gratuitement la possibilité d'avoir un *private repository*. Il existe sur Docker Hub un très grand nombre d'images de base certifiées et maintenues par des organisation telles que Mongo, Redis, etc. permettant de mettre en place très rapidement un service à l'aide de Docker. Docker Hub propose aussi des capacités de *build*"
   ]
  },
  {
   "cell_type": "markdown",
   "metadata": {},
   "source": [
    "sudo docker run hello-world\n",
    "\n",
    "To generate this message, Docker took the following steps:\n",
    " 1. The Docker client contacted the Docker daemon.\n",
    " 2. The Docker daemon pulled the \"hello-world\" image from the Docker Hub.\n",
    "    (amd64)\n",
    " 3. The Docker daemon created a new container from that image which runs the\n",
    "    executable that produces the output you are currently reading.\n",
    " 4. The Docker daemon streamed that output to the Docker client, which sent it\n",
    "    to your terminal."
   ]
  },
  {
   "cell_type": "markdown",
   "metadata": {},
   "source": [
    "Remarque: Toutes les commandes commençant par `docker` sont des appels au Docker Engine. Voir la [documentation de la CLI Docker](https://docs.docker.com/engine/reference/commandline/docker/)\n",
    "\n",
    "Docker image se compose de une ou plusieurs layers, une layer pouvant être une autre image, c'est pour ça par exemple que quand on pull une image, d'autres images qui correspondent en fait aux différentes layers sont pullées ex: docker pull ubuntu:16.04\n",
    "\n",
    "La construction d'une image est décrite par un Dockerfile dans lequel apparaissent les différentes layers. Ce Dockerfile est ensuite buildé à l'aide de la commande docker build, ce build produisant une image. Un ou plusieurs conteneurs peuvent être lancés (ou plutôt créés) à partir de cette image. Un conteneur ne disparait pas une fois stoppé, c'est une entité avec un cycle de vie. Il est créé à partir d'une image avec un docker run, peut ensuite s'arrêter de multiples façon puis être relancé et ainsi de suite jusqu'à ce qu'il soit décidé qu'il soit supprimé. A une même image peuvent correspondre de multiples conteneurs chacun restant identifié de manière unique tout au long de son cycle de vie. Plusieurs images issues de différentes versions d'un même Dockerfile peuvent coexister, d'où la possibilité de les taguer avec un *tag* de version par exemple (ex: `ubuntu:16.04`: l'image est `ubuntu` et son tag `16.04`).\n",
    "\n",
    "Lors du build d'une image, autant de conteneurs que de layers sont lancés. Ils ne sont cependant pas conservés et supprimés par défaut à la fin du *build*.\n",
    "\n",
    "Interagir avec son conteneur\n",
    "\n",
    "Persister des données: volumes"
   ]
  },
  {
   "cell_type": "markdown",
   "metadata": {},
   "source": [
    "Cheatsheet \n",
    "\n",
    "Doker images\n",
    "* `docker image build` et son alias `docker build` : *Build* une image Docker à partir d'un Dockerfile.\n",
    "* `docker image rm`\n",
    "* `docker image pull`\n",
    "* `docker image push`\n",
    "* `docker image ls` et son alias `docker images` : Liste l'ensemble des images Docker disponibles sur le *local host*.\n",
    "* `docker image inspect` : Permet d'inspecter une image Docker en affichant son contenu (semblable à un fichier JSON) dans la `stdout`\n",
    "\n",
    "Remarques: \n",
    "* Il semble que pour pusher ou puller, il faut s'être préalablement connecté à un Docker *registry* (Docker Hub par défaut) à l'aide de `docker login`. \n",
    "* On ne peut pas supprimer (sans forcer) une image sur laquelle dépendrait une ou plusieurs autres images car pour les images concerner, cela impliquerait de les effacer partiellement les rendant inutilisables.\n",
    "\n",
    "Docker containers \n",
    "* `docker container ls`: Liste tout les *running containers*. Si on souhaite tous les voir, même ceux actuellement arrêtés, ajouter le flag `-a`/`--all`.\n",
    "* `docker container run -it <image>`: Lance un conteneur à partir d'une image `<image>` en mode interactif (après exécution de la commande, on se trouve dans le shell du conteneur). L'option `--name` permet de donner au conteneur un *friendly name* dès sa création, sinon ce *friendly name* est automatiquement généré. Plus précisément, il semble que `docker container run` ne vise pas seulement à créer un conteneur (`docker container create` ?) mais crée un conteneur et *run* une commande dans celui-ci (qui semble être `/bin/bash` par défaut), le conteneur se terminant quand la commande a fini d'être exécutée (quand on exécute `exit` pour `/bin/bash`). Une autre option importante: `-d`/`--detach` qui permet au conteneur lancé de tourner en arrière-plan, on peut alors continuer à lancer des commandes sans attendre que le conteneur se termine. \n",
    "* `docker container start`: Démarre un conteneur (déjà existant mais arrêté ?).\n",
    "* `docker container rm`\n",
    "\n",
    "Redirection ports\n",
    "Si on démarre un conteneur avec simplement `docker run -d <image>`, rien n'est précisé quant aux ports du conteneur devant être exposé et vers lesquels d'entre deux quels ports du local host doivent être redirigés. Dans cette situation par défaut, seuls seront exposés les ports pour lesquels celà est spécifié dans l'image Docker utilisée (peut être aucun ?). `docker run -d -P <image>` va rediriger un port aléatoire du local host vers le port exposé par le conteneur, on peut être même plus explicite, par exemple `docker run -d -p 100:80 <image>` redirige le port 100 du local host vers le port 80 du conteneur qui a été préalablement (ou va être?) exposé.\n",
    "\n",
    "Docker volumes\n",
    "Un volume Docker permet de persister des données éventuellement générées par un conteneur Docker après qu'il a été stoppé ou s'est arrêté.\n",
    "\n",
    "Un volume n'est qu'un objet rassemblant des métadonnées comme on le voit avec `docker volume inspect <volume-name>`. L'attribut clé d'un volume Docker est son *mount point* qui correspond à l'emplacement sur le *file system* du *driver* (machine où sont persistés les données, le *local host* par défaut) où seront persistées les données. On peut associer à un volume des labels qui par exemple peuvent donner une idée du ou des projets pour lequel il a été créé.\n",
    "\n",
    "Pour persister les données créées par un conteneur, il faut préciser à son lancement lequel de ses répertoire doit être persisté vers un *mount* donné. On a deux options:\n",
    "* `docker container run -d --mount \"src=<volume-name>,dst=/app <image>`: Le contenu du répertoire `/app` du conteneur sera persisté au niveau de la *mount* du volume `<volume-name>`.\n",
    "* `docker container run -d -v <volume-name>:/app <image>`: Idem. On pouvait aussi utiliser le *flag* `--volume`.\n",
    "Cette information peut être retrouvée en inspectant le conteneur avec `docker container inspect`. Comme pour les images, un conteneur est représenté par un fichier JSON dont un des champs est dédié aux volumes montés.\n",
    "\n",
    "Par défaut les volumes sont stockés sur le local host dans `/var/lib/docker/volumes`. Les informations persistées pour un volument donné étant accessibles à `/var/lib/docker/volumes/<volume-name>/_data`.\n",
    "\n",
    "Réciproquement, pour un conteneur démarré avec `-v <volume-name>:/app`, es données persistées dans le *mount* de `<volume-name>` sont accessibles dans le répertoire `/app` du conteneur dès son démarrage.\n",
    "\n",
    "Comme pour les images et les conteneurs, les volumes se gèrent: \n",
    "* `docker volume ls`\n",
    "\n",
    "https://vsupalov.com/6-docker-basics/"
   ]
  }
 ],
 "metadata": {
  "kernelspec": {
   "display_name": "Python 3",
   "language": "python",
   "name": "python3"
  },
  "language_info": {
   "codemirror_mode": {
    "name": "ipython",
    "version": 3
   },
   "file_extension": ".py",
   "mimetype": "text/x-python",
   "name": "python",
   "nbconvert_exporter": "python",
   "pygments_lexer": "ipython3",
   "version": "3.6.8"
  }
 },
 "nbformat": 4,
 "nbformat_minor": 2
}
