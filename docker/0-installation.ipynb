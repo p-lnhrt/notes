{
 "cells": [
  {
   "cell_type": "markdown",
   "metadata": {},
   "source": [
    "# Notes d'installation (Linux)\n",
    "\n",
    "Pour l'installation Ubuntu, voir notamment [la documentation de Docker](https://docs.docker.com/install/linux/docker-ce/ubuntu/) ou encore cette [ressource de Linux Academy](https://github.com/linuxacademy/content-container-essentials-101presentation/blob/master/Docker_Install_Ubuntu.md). \n",
    "\n",
    "Remarque: Docker existe en Community Edition et Enterprise Edition, il n'est évidemment question que de la première ici (`docker-ce`).\n",
    "\n",
    "## *Package manager*\n",
    "Le processus d'installation sur Linux est légèrement différents suivant les distributions du fait que toutes n'utilisent pas le même *package manager*: \n",
    "* Les distributions Debian, Ubuntu, et d'autres distributions voisines utilisent le *package manager* APT (Advanced Package Tool) qui est lui même un outil de haut-niveau se basant sur `dpkg` (Debian package) qui est un outil de plus bas niveau qui constitue la base du *package management system* de la distribution Debian et ses nombreux dérivés.\n",
    "* Les distributions Red Hat et dérivées comme CentOS ou Fedora utilisent le *package manager* YUM (Yellowdog Updater, Modified) qui comme APT est un outil de haut niveau se basant cette fois sur le *package manager* et *package management system* (ainsi que nom de fichier) du même nom RPM (Red Hat Package Manager). RPM est le standard choisi pour le *package management* par spécification Linux Standard Base (LSB) et est donc en principe disponible et utilisé sur toutes les distributions (finalement peu nombreuses bien que LSB soit un standard sans rival) certifiées pour une version de LSB. \n",
    "\n",
    "On parle aussi d'APT et de YUM comme de *front ends* pour les *package manager* sur lesquels ils se basent. Qu'ils se basent sur `dpkg` ou RPM, il existe de nombreux autres *front ends*. L'idée de ces *front ends* est que là où l'outils de bas niveau ne performe des action que sur des *packages* individuels, le *front end* va prendre à sa charge la réalisation d'opération de plus haut niveau comme la gestion de dépendances, de *repositories* etc.\n",
    "\n",
    "Remarques: \n",
    "* APT ne fonctionnait à l'origine qu'avec des packages Debian `.deb`, mais une version modifiée (APT-RPM) permet aussi de gérer des packages `.rpm`.\n",
    "* Les *repositories* sont aussi désignés par le terme [PPA (Personal Package Archive)](https://itsfoss.com/ppa-guide/).\n",
    "* Les installations commencent souvent par un `sudo apt-get update` ou `sudo apt update` ou `sudo yum update` qui ont toutes pour effet d'*updater* le *package index* c'est à dire la liste (en local) de l'ensemble des packages et versions de ceux-ci pour l'ensemble des *repositories* enregistrés dans le *package manager* (et non de mettre à jour le *package manager* comme on le croit parfois). \n",
    "\n",
    "## Modes d'installation\n",
    "Docker propose trois modes d'installation: \n",
    "* L'installation via un *package repository* (ici le Docker *repository* par défaut) qui requiert d'ajouter le *repository* à la liste des *repositories* de son *package manager* et de s'assurer que celui-ci dispose des dépendances nécessaires à l'utilisation d'un *repository* via HTTPS.\n",
    "* L'installation manuelle de la souce `.deb` ou `.rpm` qu'on aura préalablement téléchargée. C'est la solution donnant le plus de contrôle. \n",
    "* L'utilisation d'un *convenience script* qui permet d'effectuer l'ensemble des étapes (installation ou *update* des dépendances du *package manager*, récupération de la clé GPG de Docker, installation de Docker, etc.) en une seule commande via l'exécution d'un script *bash* disponible [ici](https://get.docker.com/) et dont la source est accessible [ici](https://github.com/docker/docker-install). \n",
    "\n",
    "## Informations de distribution et d'architecture\n",
    "Docker Inc. ne garantit le fonctionnement de Docker que pour un ensemble de distributions Linux et d'architectures *hardware* (Docker est plus largement *cross-platform* et disponible sur Mac et Windows). Dans le cas de Docker, à chaque paire de distribution et d'architecture compatible correspond un *repository* qui est celui qu'on devra ajouter à notre *package manager*. Il est donc nécessaire de connaître ces informations afin de sélectionner le bon *repository*:\n",
    "* L'architecture est notamment disponible via la commande `uname -m` dont les autres *flags* permettent d'accéder à des informations telles que la version du *kernel*, etc.\n",
    "* Les informations relatives à la distribution (descripton, version, *codename*, etc.) sont notamment accessibles via la commande `lsb_release`. \n",
    "\n",
    "Remarque: LSB (Linux Standard Base) est un projet commun mené par différentes distributions Linux et chapeauté par la Linux Foundation destiné à développer et promouvoir un ensemble de standard visant à établir une plus grande compatibilité entre les différentes plateformes Linux, l'idée étant qu'un programme compatible pour une distribution certifiée pour une version de la LSB pourra en théorie fonctionner sans adaptation sur les autres distributions certifiées pour cette même version. La commande `lsb_release` est ainsi disponible sur une large variété de plateformes (ou à défaut il est souvent possible de l'installer) et permet d'accéder aux détails touchant à la distribution courante et sa version de la LSB.   \n",
    "\n",
    "## Clé GPG\n",
    "Dans l'installation via *package repository*, la documentation demande à télécharger et ajouter au *package manager* la clé GPG officielle de Docker. A quoi cela sert-il ? Lorsqu'on télécharge un package d'un *repository* ou de tout autre source de confiance, on veut pouvoir s'assurer que les fichiers finalement téléchargés proviennent bien de cette source de confiance. Pour celà, le fournisseur a signé ses fichiers à l'aide de sa clé privée et met à disposition sa clé publique qui est la seule à pouvoir décoder correctement la signature des fichiers et ainsi attester de leur provenance. Une fois la clé publique récupéré, il faut s'assurer de sa bonne provenance, que c'est bien la clé de la personne qu'on croit, ce qui se fait en vérifiant son empreinte (*fingerprint*). Une fois la vérification effectuée, on peut donc faire confiance à cette clé (*trusted*) ce qu'on marque en la signant de notre clé privée et en l'ajoutant au trousseau (*keyring*) du *package manager* qui en général possède une extension dédiée à la gestion des clés (ex: `apt-key`). L'ensemble se base sur GPG (GNU Privacy Guard) un logiciel *open source* d'encryptage largement utilisé dans l'écosystème Linux. Pour plus de détails concernant l'authentification et la sécurité dans le *package management*, voir notamment [ce lien](https://help.ubuntu.com/community/SecureApt) en ce qui concernt APT.\n",
    "\n",
    "## Utiliser Docker sans être *root user*\n",
    "Par défaut, une fois installé, Docker n'est utilisable que par le *root user*, pour pouvoir le lancer avec son *user* (dont l'alias est accessible à l'aide de la commande `whoami`), il faut pour celà l'ajouter au groupe `docker` à l'aide de la commande `usermod` qui permet d'administrer groupes et permissions sur la machine: `sudo usermod -aG docker <user>`. Avertissement sécurité: Ajouter un utilisateur au groupe `docker` l'autorise entre autres à lancer des conteneurs Docker, moyen pouvant être utilisé afin d'obtenir des *root privileges* sur le *Docker host*.\n",
    "\n",
    "## Démarrage de Docker\n",
    "Sur les *DEB-based distributions* (*Debian-based distributions*), l'installation de Docker inclut sont démarrage (celui du docker deamon ?). Cependant sur les *RPM-based distributions* (*Red-Hat-based distributions*), il est nécessaire de le démarrer manuellement à l'aide de `systemctl` qui permet d'interagir avec le *service manager* Systemd présent sur un grand nombre de distributions (toutes les distributions principales l'utilisent: Debian, Ubuntu, Red Hat, Fedora, CentOS). On doit ainsi faire un `sudo systemctl enable docker` suivit d'un `sudo systemctl start docker` avant de pouvoir faire un `sudo docker run hello-world` sur une *RPM-based distribution*.\n",
    "\n",
    "## Désinstallation de Docker\n",
    "Une désinstallation avec APT (ex: `sudo apt-get purge docker-ce`) ne désintalle que le *package* `docker-ce` mais les images, conteneurs, volumes et autres fichiers de configurations ne sont pas supprimés. Pour les supprimer définitivement de la machine: `sudo rm -rf /var/lib/docker`."
   ]
  }
 ],
 "metadata": {
  "kernelspec": {
   "display_name": "Python 3",
   "language": "python",
   "name": "python3"
  },
  "language_info": {
   "codemirror_mode": {
    "name": "ipython",
    "version": 3
   },
   "file_extension": ".py",
   "mimetype": "text/x-python",
   "name": "python",
   "nbconvert_exporter": "python",
   "pygments_lexer": "ipython3",
   "version": "3.6.8"
  }
 },
 "nbformat": 4,
 "nbformat_minor": 2
}
