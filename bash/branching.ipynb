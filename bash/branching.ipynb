{
 "cells": [
  {
   "cell_type": "markdown",
   "metadata": {},
   "source": [
    "# Bash *if statement*\n",
    "\n",
    "Useful links:\n",
    "* [`if` Manpage](https://ss64.com/bash/if.html)\n",
    "* [`test` Manpage](https://ss64.com/bash/test.html)\n",
    "* [Google Bash Style Guide](https://google.github.io/styleguide/shellguide.html)"
   ]
  },
  {
   "cell_type": "markdown",
   "metadata": {},
   "source": [
    "## Syntaxe générale\n",
    "\n",
    "La syntaxe générale d'un bloc `if` est la suivante:\n",
    "\n",
    "```bash\n",
    "if test-commands-list; then\n",
    "  consequent-commands-list;\n",
    "elif another-test-commands-list; then\n",
    "  another-consequent-commands-list;\n",
    "else\n",
    " alternate-consequent-commands;\n",
    "fi\n",
    "```\n",
    "\n",
    "La syntaxe suivante sans séparateur de commandes `;` est également possible:\n",
    "\n",
    "```bash\n",
    "if test-commands-list;\n",
    "then\n",
    "  consequent-commands-list;\n",
    "elif another-test-commands-list\n",
    "then\n",
    "  another-consequent-commands-list;\n",
    "else\n",
    "  alternate-consequent-commands;\n",
    "fi\n",
    "```\n",
    "\n",
    "*Remarques*:\n",
    "* Sur l'indentation: Bash est insensible à l'indentation des commandes. L'indentation n'est utilisée que pour faire ressortir les différents blocs de commande et donc améliorer la lisibilité du script. L'indentation est donc facultative et il n'y a pas de standard la concernant. Il est toutefois souvent prescrit d'utiliser uniquement des espaces (pas de tabs), le nombre d'espaces couramment utilisé pour réaliser l'indentation étant 2 (comme dans le Google Bash Style Guide) ou 4.\n",
    "* Sur `;`: On peut ne pas utiliser `;` pour les `test-commands-list`/`consequent-commands-list` s'il n'y a qu'une seule commande ou si les différentes commandes se répartissent en une commande par ligne.\n",
    "\n",
    "Le code sortie de ce bloc de commandes est celui de la dernière commande exécutée ou `0` si aucune condition n'a été évaluée comme vraie.\n",
    "\n",
    "Les listes de commandes placées entre `if` et `then` ou `elif` et `then` peuvent être n'importe quelle commande Bash, la suite de l'exécution n'est décidé qu'en fonction du code sortie de la commande ou du groupe de commandes exécuté."
   ]
  },
  {
   "cell_type": "code",
   "execution_count": 1,
   "metadata": {},
   "outputs": [
    {
     "name": "stdout",
     "output_type": "stream",
     "text": [
      "Directory is not empty\n"
     ]
    }
   ],
   "source": [
    "# Example with test command which returns 0 ('true')\n",
    "mkdir test\n",
    "touch test/file.txt \n",
    "\n",
    "if [[ $(ls test | wc -l) > 0 ]]\n",
    "then \n",
    "  echo \"Directory is not empty\"\n",
    "else\n",
    "  echo \"Directory is empty\"\n",
    "fi\n",
    "\n",
    "rm test/file.txt\n",
    "rmdir test"
   ]
  },
  {
   "cell_type": "code",
   "execution_count": 2,
   "metadata": {},
   "outputs": [
    {
     "name": "stdout",
     "output_type": "stream",
     "text": [
      "Directory is empty\n"
     ]
    }
   ],
   "source": [
    "# Example with test command which returns 1 ('false')\n",
    "mkdir test\n",
    "\n",
    "if [[ $(ls test | wc -l) > 0 ]]\n",
    "then \n",
    "  echo \"Directory is not empty\"\n",
    "else\n",
    "  echo \"Directory is empty\"\n",
    "fi\n",
    "\n",
    "rmdir test"
   ]
  },
  {
   "cell_type": "code",
   "execution_count": 3,
   "metadata": {},
   "outputs": [
    {
     "name": "stdout",
     "output_type": "stream",
     "text": [
      "Pattern matched!\n"
     ]
    }
   ],
   "source": [
    "# Example with a regular command\n",
    "mystr=\"hello\"\n",
    "if grep \"hell\" <<< \"$mystr\" > /dev/null\n",
    "then \n",
    "  echo \"Pattern matched!\"\n",
    "else\n",
    "  echo \"Pattern not matched.\"\n",
    "fi"
   ]
  },
  {
   "cell_type": "code",
   "execution_count": 4,
   "metadata": {},
   "outputs": [
    {
     "name": "stdout",
     "output_type": "stream",
     "text": [
      "There are no subdirs in ./dir\n"
     ]
    }
   ],
   "source": [
    "# Example with a regular command (2)\n",
    "DIR=./dir\n",
    "mkdir $DIR\n",
    "\n",
    "if ls -d $DIR/*/ &> /dev/null\n",
    "then\n",
    "  echo \"There are subdirs in ${DIR}\"\n",
    "else\n",
    "  echo \"There are no subdirs in ${DIR}\"\n",
    "fi\n",
    "\n",
    "rmdir $DIR"
   ]
  },
  {
   "cell_type": "code",
   "execution_count": 5,
   "metadata": {},
   "outputs": [
    {
     "name": "stdout",
     "output_type": "stream",
     "text": [
      "Group of commands returned with non-zero exit status\n"
     ]
    }
   ],
   "source": [
    "# Example with a group of regular commands \n",
    "if grep \"hell\" <<< \"hello\" > /dev/null && false\n",
    "then \n",
    "  echo \"Group of commands returned with exit status 0\"\n",
    "else\n",
    "  echo \"Group of commands returned with non-zero exit status\"\n",
    "fi"
   ]
  },
  {
   "cell_type": "markdown",
   "metadata": {},
   "source": [
    "### Comparaisons simples\n",
    "Pour comparaisons simples où on ne contrôle qu'une condition et n'effectue une opération uniquement si elle est vérifié, on peut:\n",
    "* Se passer du bloc `else`. Si la condition évaluée est fausse, il n'y aura pas d'effet.\n",
    "* Ecrire l'ensemble du bloc `if` sur une seule ligne à l'aide du séparateur de commandes `;`:\n",
    "\n",
    "```bash\n",
    "if test-command-list; then consequent-command-list; fi\n",
    "```\n",
    "\n",
    "De telles comparaisons simples peuvent aussi être effectuées de manière équivalente à l'aide des opérateurs de redirection conditionnels `A && B` (*run B if A successful*) et `A || B` (*run B if A NOT successful*), le plus souvent sur une ligne:\n",
    "\n",
    "```bash\n",
    "test-commands-list && consequent-commands-list\n",
    "```"
   ]
  },
  {
   "cell_type": "code",
   "execution_count": 6,
   "metadata": {},
   "outputs": [
    {
     "name": "stdout",
     "output_type": "stream",
     "text": [
      "Pattern matched!\n"
     ]
    }
   ],
   "source": [
    "# Example with no else bloc\n",
    "mystr=\"hello\"\n",
    "if grep \"hell\" <<< \"$mystr\" > /dev/null\n",
    "then \n",
    "  echo \"Pattern matched!\"\n",
    "fi"
   ]
  },
  {
   "cell_type": "code",
   "execution_count": 7,
   "metadata": {},
   "outputs": [],
   "source": [
    "# Example with no else bloc (condition false)\n",
    "mystr=\"world\"\n",
    "if grep \"hell\" <<< \"$mystr\" > /dev/null\n",
    "then \n",
    "  echo \"Pattern matched!\"\n",
    "fi"
   ]
  },
  {
   "cell_type": "code",
   "execution_count": 8,
   "metadata": {},
   "outputs": [
    {
     "name": "stdout",
     "output_type": "stream",
     "text": [
      "Directory is empty. No action taken\n"
     ]
    }
   ],
   "source": [
    "# Single-line example \n",
    "mkdir test\n",
    "\n",
    "if [[ $(ls test | wc -l) = 0 ]]; then echo \"Directory is empty. No action taken\"; fi\n",
    "\n",
    "rmdir test"
   ]
  },
  {
   "cell_type": "code",
   "execution_count": 9,
   "metadata": {},
   "outputs": [
    {
     "name": "stdout",
     "output_type": "stream",
     "text": [
      "Directory is empty. No action taken\n"
     ]
    }
   ],
   "source": [
    "# Single-line example with redirection operator\n",
    "mkdir test\n",
    "\n",
    "[[ $(ls test | wc -l) = 0 ]] && echo \"Directory is empty. No action taken\"\n",
    "\n",
    "rmdir test"
   ]
  },
  {
   "cell_type": "markdown",
   "metadata": {},
   "source": [
    "`&&` et `||` utilisés en combinaison permettent de répliquer un simple `if ... then ... else`."
   ]
  },
  {
   "cell_type": "code",
   "execution_count": 10,
   "metadata": {},
   "outputs": [
    {
     "name": "stdout",
     "output_type": "stream",
     "text": [
      "Perfoming action\n"
     ]
    }
   ],
   "source": [
    "mkdir test\n",
    "touch test/file.txt\n",
    "\n",
    "([[ $(ls test | wc -l) = 0 ]] && echo \"Directory is empty. No action taken\") || echo \"Perfoming action\"\n",
    "\n",
    "rm test/file.txt\n",
    "rmdir test"
   ]
  },
  {
   "cell_type": "markdown",
   "metadata": {},
   "source": [
    "#### *null command* `:`\n",
    "A ne pas confondre avec la *null value*, la *null command* `:` est ce qu'on appelle une *noop (no operation) command* c'est-à-dire une commande utilitaire qui ne fait rien et dont le code sortie est toujours `0`.\n",
    "\n",
    "On peut lui trouver différents usages relativement [pointus](https://www.shell-tips.com/bash/null-command/) mais elle est le plus souvent mentionnée pour deux principaux cas d'usage:\n",
    "* Les `if` statements où un des cas ne demande qu'aucune action soit effectuée. La *null command* est alors nécessaire notamment si les opérateurs qui offrent une alternative plus compacte et élégante (`!`, `&&`, `||`) ne sont pas impémentés.\n",
    "* Les boucles *while* infinie: `while :; do ...; done`. Il existe désormais la plupart du temps une commande `true` qui fonctionnellement fait la même chose que `:` (sans être lui complètement identique) qui autorise une syntaxe plus explicite: `while true; do ...; done`"
   ]
  },
  {
   "cell_type": "code",
   "execution_count": 11,
   "metadata": {},
   "outputs": [
    {
     "name": "stdout",
     "output_type": "stream",
     "text": [
      "Perfoming action on directory content\n"
     ]
    }
   ],
   "source": [
    "mkdir test\n",
    "touch test/file.txt \n",
    "\n",
    "if [[ $(ls test | wc -l) = 0 ]]\n",
    "then \n",
    "  :\n",
    "else\n",
    "  echo \"Perfoming action on directory content\"\n",
    "fi\n",
    "\n",
    "rm test/file.txt\n",
    "rmdir test"
   ]
  },
  {
   "cell_type": "markdown",
   "metadata": {},
   "source": [
    "## *Test commands*\n",
    "Bash fournit un certain nombre de commandes adaptées à une utilisation dans des structures de contrôle.\n",
    "\n",
    "### `true`/`false` commands\n",
    "Remarque: De nombreux *shells* proposent des commandes utilitaires `true` et `false` (sans que cela soit fassent partie du standard POSIX, leur présence n'est donc en théorie pas garantie contrairement à la *null command* `:`) qui ne font rien à part retourner un code sortie de `0` et `1` respectivement."
   ]
  },
  {
   "cell_type": "code",
   "execution_count": 12,
   "metadata": {},
   "outputs": [
    {
     "name": "stdout",
     "output_type": "stream",
     "text": [
      "It's true!\n",
      "It's false !\n"
     ]
    }
   ],
   "source": [
    "if true\n",
    "then\n",
    "  echo \"It's true!\"\n",
    "fi \n",
    "\n",
    "if ! false\n",
    "then \n",
    "  echo \"It's false !\"\n",
    "fi"
   ]
  },
  {
   "cell_type": "markdown",
   "metadata": {},
   "source": [
    "### `test` *command*\n",
    "Pour les tests de conditions usuelles, Bash fournit une commande dédiée appelée [`test`](https://ss64.com/bash/test.html). Le plus fréquent est donc que les commandes placées entre `if` et `then` ou `elif` et `then` soient des  `test` *commands*.\n",
    "\n",
    "L'expression conditionnelle à évaluer est décrite par les arguments de `test`. Afin d'alléger la lecture du code, il existe un sucre syntaxique pour `test`: `[`. Il existe également une autre *test command* appelée aussi *new* test: `[[`. `[[` est plus versatile que `[` qui est plus ancien mais davantage portable.\n",
    "\n",
    "Attention, il ne suffit cependant pas de remplacer `test expr` par `[ expr` ou `[[ expr`. Dans ce deux derniers cas `expr` doit être encadrée et non simplement prédécée par les *square brackets*: `[ expr ]`, `[[ expr ]]`. Noter que `[` et `[[` (respectivement `]` `]]`) sont **toujours** suivis (respectivement précédés) d'un espace. \n",
    "\n",
    "*Remarque*: Le [Google style guide pour Bash](https://google.github.io/styleguide/shellguide.html#test----and---) recommande l'usage de `[[` sur `test`/`[`.\n",
    "\n",
    "Les trois syntaxes suivantes sont donc équivalentes:"
   ]
  },
  {
   "cell_type": "code",
   "execution_count": 13,
   "metadata": {},
   "outputs": [
    {
     "name": "stdout",
     "output_type": "stream",
     "text": [
      "3 is greater than 2\n"
     ]
    }
   ],
   "source": [
    "if test 3 -gt 2\n",
    "then\n",
    "  echo \"3 is greater than 2\"\n",
    "fi"
   ]
  },
  {
   "cell_type": "code",
   "execution_count": 14,
   "metadata": {},
   "outputs": [
    {
     "name": "stdout",
     "output_type": "stream",
     "text": [
      "3 is greater than 2\n"
     ]
    }
   ],
   "source": [
    "if [ 3 -gt 2 ]\n",
    "then\n",
    "  echo \"3 is greater than 2\"\n",
    "fi"
   ]
  },
  {
   "cell_type": "code",
   "execution_count": 15,
   "metadata": {},
   "outputs": [
    {
     "name": "stdout",
     "output_type": "stream",
     "text": [
      "3 is greater than 2\n"
     ]
    }
   ],
   "source": [
    "if [[ 3 -gt 2 ]]\n",
    "then\n",
    "  echo \"3 is greater than 2\"\n",
    "fi"
   ]
  },
  {
   "cell_type": "markdown",
   "metadata": {},
   "source": [
    "#### Expressions conditionnelles\n",
    "Les expression conditionnelles à évaluer sont décrites avec les arguments de la commande `test`. Cf. exemple ci-dessus pour la description d'une comparaison de nombres.\n",
    "\n",
    "Les expressions conditionnelles peuvent être complétées de `!` (exemple, il faut un espace) pour la négation et combinées à l'aide des opérateurs `&&` (AND) et `||`, la négation ayant priorité sur les seconds. Les expressions conditionnelles peuvent également être regroupées à l'aide de `()` qui permet aussi de mieux contrôler la précédence des différents opérateurs.\n",
    "\n",
    "Le nombre d'arguments passés à `test` peut être quelconque et le comportement de `test` dépend de leur nombre:\n",
    "* 0 argument: Seuls `test`/`[` peuvent ne pas avoir d'arguments. La commande évalue alors toujours à *false*.\n",
    "* 1 argument: La commande évalue à *true* sauf si la valeur de l'argument est *null*.\n",
    "* 2 arguments: Deux cas sont possibles: Soit il s'agit de la négation à l'aide de `!` du cas à un argument. Soit d'une comparaison pouvant s'exprimer avec deux termes: un *conditionnal operator* dit unaire (*unary*) et l'entité à tester. L'opérateur de comparaison est souvent un *flag*, cf. notamment toutes les opérations de tests sur des fichiers. \n",
    "* 3 arguments: On a trois cas:\n",
    "    * On a une opération de comparaison s'exprimant (classiquement) en trois termes: deux entités à comparer et un conditional operator (en seconde position) dit alors binaire (*binary*). Exemples de *binary conditional operators*: `=`, `!=`, `-ge`, `-gt`, `-le`, `-lt`, etc.\n",
    "    * On est dans la négation (à l'aide de `!`) du cas à deux arguments\n",
    "    * Les premier et troisièmes arguments sont respectivement `(` et `)` et on est ramenés au cas à un argument.\n",
    "* 4 arguments: Il s'agit de la négation (à l'aide de `!`) du cas à trois arguments, sinon les arguments sont regroupés en différents groupes à l'aide des règles ci-dessous et dont la précédence dépend des opérateurs utilisés.\n",
    "* 5 arguments: Les arguments sont regroupés en différents groupes à l'aide des règles ci-dessous et dont la précédence dépend des opérateurs utilisés.\n",
    "\n",
    "Les expressions conditionnelles étant décrite à l'aide des arguments de la commande `test`/`[`/`[[`, on bénéficie donc comme pour toute commande bash de la substitution de variables: on peut utiliser des variables Bash dans nos expressions conditionnelles."
   ]
  },
  {
   "cell_type": "markdown",
   "metadata": {},
   "source": [
    "#### Exemple à 0 argument"
   ]
  },
  {
   "cell_type": "code",
   "execution_count": 16,
   "metadata": {},
   "outputs": [
    {
     "name": "stdout",
     "output_type": "stream",
     "text": [
      "Test command with no arguments returns with a non-zero exit code\n"
     ]
    }
   ],
   "source": [
    "if [   ]\n",
    "then\n",
    "  :\n",
    "else\n",
    "  echo \"Test command with no arguments returns with a non-zero exit code\"\n",
    "fi"
   ]
  },
  {
   "cell_type": "markdown",
   "metadata": {},
   "source": [
    "#### Exemples à 1 argument"
   ]
  },
  {
   "cell_type": "code",
   "execution_count": 17,
   "metadata": {},
   "outputs": [
    {
     "name": "stdout",
     "output_type": "stream",
     "text": [
      "Test with one non-null argument returns with a 0 exit code\n"
     ]
    }
   ],
   "source": [
    "a=\"abc\"\n",
    "if [ $a ]\n",
    "then \n",
    "  echo \"Test with one non-null argument returns with a 0 exit code\"\n",
    "fi"
   ]
  },
  {
   "cell_type": "code",
   "execution_count": 18,
   "metadata": {},
   "outputs": [
    {
     "name": "stdout",
     "output_type": "stream",
     "text": [
      "Test with one null argument is the only one arg case that returns with a non-zero exit code\n"
     ]
    }
   ],
   "source": [
    "a=\n",
    "if [ $a ]\n",
    "then \n",
    "  :\n",
    "else\n",
    "  echo \"Test with one null argument is the only one arg case that returns with a non-zero exit code\"\n",
    "fi"
   ]
  },
  {
   "cell_type": "code",
   "execution_count": 19,
   "metadata": {},
   "outputs": [
    {
     "name": "stdout",
     "output_type": "stream",
     "text": [
      "But a one argument test with the null command as argument returns with a 0 exit code\n"
     ]
    }
   ],
   "source": [
    "if [ : ]\n",
    "then \n",
    "  echo \"But a one argument test with the null command as argument returns with a 0 exit code\"\n",
    "fi"
   ]
  },
  {
   "cell_type": "code",
   "execution_count": 20,
   "metadata": {},
   "outputs": [
    {
     "name": "stdout",
     "output_type": "stream",
     "text": [
      "Test with null command as argument \n"
     ]
    }
   ],
   "source": [
    "a=\"a\"\n",
    "if [ $a ]\n",
    "then \n",
    "  echo \"Test with null command as argument \"\n",
    "fi"
   ]
  },
  {
   "cell_type": "markdown",
   "metadata": {},
   "source": [
    "#### Exemples à 2 arguments"
   ]
  },
  {
   "cell_type": "code",
   "execution_count": 21,
   "metadata": {},
   "outputs": [
    {
     "name": "stdout",
     "output_type": "stream",
     "text": [
      "Test with two arguments can be a negated one-argument test\n"
     ]
    }
   ],
   "source": [
    "a=\n",
    "if [ ! $a ]\n",
    "then\n",
    "  echo \"Test with two arguments can be a negated one-argument test\"\n",
    "fi"
   ]
  },
  {
   "cell_type": "code",
   "execution_count": 22,
   "metadata": {},
   "outputs": [
    {
     "name": "stdout",
     "output_type": "stream",
     "text": [
      "Most two-argument tests are unary comparisons\n",
      "Tested string is the empty string\n"
     ]
    }
   ],
   "source": [
    "a=\"\"\n",
    "if [ -z $a ]\n",
    "then\n",
    "  echo \"Most two-argument tests are unary comparisons\"\n",
    "  echo \"Tested string is the empty string\"\n",
    "fi"
   ]
  },
  {
   "cell_type": "markdown",
   "metadata": {},
   "source": [
    "#### Exemples à 3 arguments"
   ]
  },
  {
   "cell_type": "code",
   "execution_count": 23,
   "metadata": {},
   "outputs": [
    {
     "name": "stdout",
     "output_type": "stream",
     "text": [
      "Test with three arguments can be a one-argument test with parentheses\n",
      "Test with three arguments can be a one-argument test with parentheses\n"
     ]
    }
   ],
   "source": [
    "a=\"abc\"\n",
    "if [[ ( $a ) ]]\n",
    "then \n",
    "  echo \"Test with three arguments can be a one-argument test with parentheses\"\n",
    "fi\n",
    "\n",
    "# To work with test/[ ], parentheses must be escaped\n",
    "if [ \\( $a \\) ]\n",
    "then \n",
    "  echo \"Test with three arguments can be a one-argument test with parentheses\"\n",
    "fi"
   ]
  },
  {
   "cell_type": "code",
   "execution_count": 24,
   "metadata": {},
   "outputs": [
    {
     "name": "stdout",
     "output_type": "stream",
     "text": [
      "Test with three arguments can be a negated two-argument test\n",
      "Tested string is not the empty string\n"
     ]
    }
   ],
   "source": [
    "a=\"abc\"\n",
    "if [ ! -z $a ]\n",
    "then\n",
    "  echo \"Test with three arguments can be a negated two-argument test\"\n",
    "  echo \"Tested string is not the empty string\"\n",
    "fi"
   ]
  },
  {
   "cell_type": "code",
   "execution_count": 25,
   "metadata": {
    "scrolled": true
   },
   "outputs": [
    {
     "name": "stdout",
     "output_type": "stream",
     "text": [
      "Most tests with three arguments are binary comparisons\n",
      "Tested number is positive\n"
     ]
    }
   ],
   "source": [
    "a=10\n",
    "if [ $a -ge 0 ]\n",
    "then\n",
    "  echo \"Most tests with three arguments are binary comparisons\"\n",
    "  echo \"Tested number is positive\"\n",
    "fi"
   ]
  },
  {
   "cell_type": "markdown",
   "metadata": {},
   "source": [
    "#### Exemples à 4 arguments"
   ]
  },
  {
   "cell_type": "code",
   "execution_count": 26,
   "metadata": {},
   "outputs": [
    {
     "name": "stdout",
     "output_type": "stream",
     "text": [
      "A test with four arguments can be a negated three-argument test\n",
      "Tested number is positive\n"
     ]
    }
   ],
   "source": [
    "a=10\n",
    "if [ ! $a -lt 0 ]\n",
    "then\n",
    "  echo \"A test with four arguments can be a negated three-argument test\"\n",
    "  echo \"Tested number is positive\"\n",
    "fi"
   ]
  },
  {
   "cell_type": "code",
   "execution_count": 27,
   "metadata": {},
   "outputs": [
    {
     "name": "stdout",
     "output_type": "stream",
     "text": [
      "A test with four arguments can be the combination of tests with a different number of arguments\n"
     ]
    }
   ],
   "source": [
    "a=\"abc\"\n",
    "b=\"def\"\n",
    "if [[ -n $a && $b ]]\n",
    "then\n",
    "  echo \"A test with four arguments can be the combination of tests with a different number of arguments\"\n",
    "fi\n",
    "# This syntax does not work with test/[ ]"
   ]
  },
  {
   "cell_type": "markdown",
   "metadata": {},
   "source": [
    "#### Exemples à 5 arguments"
   ]
  },
  {
   "cell_type": "code",
   "execution_count": 28,
   "metadata": {},
   "outputs": [
    {
     "name": "stdout",
     "output_type": "stream",
     "text": [
      "Tested number is between 0 and 10\n"
     ]
    }
   ],
   "source": [
    "# Above four arguments, test command arguments are parsed as combinaisons of test with no to four arguments\n",
    "a=5\n",
    "if [[ ( $a -ge 0 ) && ( $a -le 10 ) ]]\n",
    "then\n",
    "  echo \"Tested number is between 0 and 10\"\n",
    "fi"
   ]
  },
  {
   "cell_type": "markdown",
   "metadata": {},
   "source": [
    "Parmi toutes les opérations de test possibles, on distingue trois grandes familles pour lesquelles la commande `test`/`[`/`[[` facilite la spécification d'expressions conditionnelles à l'aide d'opérateurs à passer en argument dédiées:\n",
    "* Les tests de *file descriptors* (de fichiers) pour lequels `test`/`[`/`[[` fournit de nombreux opérateurs principalement unaires (car le test ne porte que sur un fichier) spécifiques.\n",
    "* Les tests numériques pour lequels `test`/`[`/`[[` fournit de nombreux opérateurs binaires (mais aussi unaires) dédiés.\n",
    "* Les tests sur *strings* pour lequels `test`/`[`/`[[` fournit de nombreux opérateurs binaires (mais aussi unaires) dédiés."
   ]
  },
  {
   "cell_type": "markdown",
   "metadata": {},
   "source": [
    "#### Exemples de tests de *file descriptors*"
   ]
  },
  {
   "cell_type": "code",
   "execution_count": 29,
   "metadata": {},
   "outputs": [
    {
     "name": "stdout",
     "output_type": "stream",
     "text": [
      "test is a directory\n"
     ]
    }
   ],
   "source": [
    "DIR='test'\n",
    "mkdir $DIR\n",
    "\n",
    "if [[ -d $DIR ]]\n",
    "then\n",
    "  echo \"$DIR is a directory\"\n",
    "fi\n",
    "\n",
    "rmdir $DIR"
   ]
  },
  {
   "cell_type": "code",
   "execution_count": 30,
   "metadata": {},
   "outputs": [
    {
     "name": "stdout",
     "output_type": "stream",
     "text": [
      "File file.txt does not exist\n"
     ]
    }
   ],
   "source": [
    "FILE_NAME=\"file.txt\"\n",
    "\n",
    "if [[ ! -e \"$FILE_NAME\" ]]\n",
    "then\n",
    "  echo \"File $FILE_NAME does not exist\"\n",
    "fi"
   ]
  },
  {
   "cell_type": "code",
   "execution_count": 31,
   "metadata": {},
   "outputs": [
    {
     "name": "stdout",
     "output_type": "stream",
     "text": [
      "File file.txt exists and is not empty\n"
     ]
    }
   ],
   "source": [
    "FILE_NAME=\"file.txt\"\n",
    "echo \"file content\" > $FILE_NAME\n",
    "\n",
    "if [[ -e \"$FILE_NAME\" && -s \"$FILE_NAME\" ]]\n",
    "then \n",
    "  echo \"File $FILE_NAME exists and is not empty\"\n",
    "fi \n",
    "\n",
    "rm $FILE_NAME"
   ]
  },
  {
   "cell_type": "markdown",
   "metadata": {},
   "source": [
    "#### Exemples de tests de strings\n",
    "Les principaux tests unaires pour les strings sont relatifs à leur longueur:\n",
    "* `-z`: Est-ce que la string testée est de longueur nulle ?\n",
    "* `-n`: Est-ce que la string testée est de longueur non nulle ?\n",
    "\n",
    "Les trois types de tests supportent les opérateurs `=`, `==`, `!=`. Bien que `==` et `=` soient équivalents, le [Google Style Guide pour Bash](https://google.github.io/styleguide/shellguide.html#testing-strings) recommande l'usage de `==` sur celui de `=`, le premier ayant notamment l'avantage de ne pas pouvoir être confondu avec une assignation.\n",
    "\n",
    "Seul `[[` propose des tests binaires avec les opérateurs suivants: `>` et `<` (position relative dans l'ordre lexicographique). Dans le contexte de `test`/`[` ces opérateurs seront interprétés comme des opérateurs de redirection.\n",
    "\n",
    "Attention: Il peut être judicieux de *quote* les strings:\n",
    "* En cas de substituion de variable, pour éviter que la présence d'espaces fassent que des éléments de la string soient interprétés comme des arguments de la commande `test` et (le plus souvent) génèrent une erreur. \n",
    "* `[[` quand utilisée en comparaison binaire avec `=` peut réaliser du *pattern matching*, le *pattern* étant l'argument de droite. Si cet argument est *quoted*, les caractères ayant une signification spécifique dans le contexte du *pattern matching* n'ont pas d'effet et on est ramené à un cas de comparaison d'égalité entre deux strings."
   ]
  },
  {
   "cell_type": "code",
   "execution_count": 32,
   "metadata": {},
   "outputs": [
    {
     "name": "stdout",
     "output_type": "stream",
     "text": [
      "Tested string length is non-zero\n",
      "Tested string length is non-zero\n"
     ]
    }
   ],
   "source": [
    "mystr=\"hello\"\n",
    "\n",
    "if [ -n \"$mystr\" ]\n",
    "then \n",
    "  echo \"Tested string length is non-zero\" \n",
    "fi\n",
    "\n",
    "# Equivalent to the less explicit and therefore not recommended following test\n",
    "if [ \"$mystr\" ]\n",
    "then \n",
    "  echo \"Tested string length is non-zero\" \n",
    "fi"
   ]
  },
  {
   "cell_type": "code",
   "execution_count": 33,
   "metadata": {},
   "outputs": [
    {
     "name": "stdout",
     "output_type": "stream",
     "text": [
      "Alice comes before Bob\n"
     ]
    }
   ],
   "source": [
    "a=\"Alice\"\n",
    "b=\"Bob\"\n",
    "\n",
    "if [[ \"$a\" < \"$b\" ]]\n",
    "then \n",
    "  echo \"$a comes before $b\"\n",
    "else\n",
    "  echo \"$b comes before $a\"\n",
    "fi"
   ]
  },
  {
   "cell_type": "code",
   "execution_count": 34,
   "metadata": {},
   "outputs": [
    {
     "name": "stdout",
     "output_type": "stream",
     "text": [
      "String 'Alice' matches pattern Al*\n",
      "String 'Alice' is different from string 'Al*'\n"
     ]
    }
   ],
   "source": [
    "a=\"Alice\"\n",
    "b=\"Al*\"\n",
    "\n",
    "if [[ \"$a\" = $b ]]\n",
    "then \n",
    "  echo \"String '$a' matches pattern $b\"\n",
    "fi\n",
    "\n",
    "if [[ ! \"$a\" = \"$b\" ]]\n",
    "then \n",
    "  echo \"String '$a' is different from string '$b'\"\n",
    "fi"
   ]
  },
  {
   "cell_type": "markdown",
   "metadata": {},
   "source": [
    "#### Exemples de tests numériques\n",
    "Les comparaisons numériques sont toutes binaires. Les trois commandes de test fournissent les opérateurs de comparaison `-le`, `-lt`, `-ge`, `-gt`, et `-eq`. Les opérateurs `=`, `==` et `!=` sont également supportés.\n",
    "\n",
    "**Attention**: Seul `[[` supporte les opérateurs `>` et `<`. Dans le contexte de `test` ou `[`, ces opérateurs seront interprétés commes des opérateurs de redirection. De plus ces opérateurs réalisent une comparaison lexicographique et non numérique! Il est donc recommandé d'effectuer ses comparaisons de nombres soit avec les opérateurs `-le`, `-lt`, `-ge`, `-gt` et `[[` soit dans un [\"contexte numérique\"](https://stackoverflow.com/a/18668580) avec `((...))`."
   ]
  },
  {
   "cell_type": "code",
   "execution_count": 35,
   "metadata": {},
   "outputs": [
    {
     "name": "stdout",
     "output_type": "stream",
     "text": [
      "4 is greater than 3\n"
     ]
    }
   ],
   "source": [
    "if [ 4 -gt 3 ]\n",
    "then \n",
    "  echo \"4 is greater than 3\"\n",
    "fi"
   ]
  },
  {
   "cell_type": "code",
   "execution_count": 36,
   "metadata": {
    "scrolled": true
   },
   "outputs": [
    {
     "name": "stdout",
     "output_type": "stream",
     "text": [
      "4 is greater than 3\n"
     ]
    }
   ],
   "source": [
    "if [[ 4 > 3 ]]\n",
    "then \n",
    "  echo \"4 is greater than 3\"\n",
    "fi"
   ]
  },
  {
   "cell_type": "code",
   "execution_count": 37,
   "metadata": {},
   "outputs": [],
   "source": [
    "# Unintended lexicographical comparison\n",
    "if [[ 22 > 3 ]]\n",
    "then \n",
    "  echo \"22 is greater than 3\"\n",
    "fi"
   ]
  },
  {
   "cell_type": "code",
   "execution_count": 38,
   "metadata": {},
   "outputs": [
    {
     "name": "stdout",
     "output_type": "stream",
     "text": [
      "22 is greater than 3\n"
     ]
    }
   ],
   "source": [
    "if [[ 22 -gt 3 ]]\n",
    "then \n",
    "  echo \"22 is greater than 3\"\n",
    "fi"
   ]
  },
  {
   "cell_type": "code",
   "execution_count": 39,
   "metadata": {},
   "outputs": [
    {
     "name": "stdout",
     "output_type": "stream",
     "text": [
      "22 is greater than 3\n"
     ]
    }
   ],
   "source": [
    "if (( 22 > 3 ))\n",
    "then \n",
    "  echo \"22 is greater than 3\"\n",
    "fi"
   ]
  }
 ],
 "metadata": {
  "kernelspec": {
   "display_name": "Bash",
   "language": "bash",
   "name": "bash"
  },
  "language_info": {
   "codemirror_mode": "shell",
   "file_extension": ".sh",
   "mimetype": "text/x-sh",
   "name": "bash"
  }
 },
 "nbformat": 4,
 "nbformat_minor": 2
}
