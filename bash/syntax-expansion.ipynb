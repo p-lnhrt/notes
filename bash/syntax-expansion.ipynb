{
 "cells": [
  {
   "cell_type": "markdown",
   "metadata": {},
   "source": [
    "https://ss64.com/bash/syntax-expand.html\n",
    "https://datacadamia.com/lang/bash/parameter_expansion\n",
    "\n",
    "tilde expansion, \n",
    "parameter expansion, \n",
    "command substitution, \n",
    "arithmetic expansion, \n",
    "quote removal\n",
    "matching attempt"
   ]
  }
 ],
 "metadata": {
  "kernelspec": {
   "display_name": "Bash",
   "language": "bash",
   "name": "bash"
  },
  "language_info": {
   "codemirror_mode": "shell",
   "file_extension": ".sh",
   "mimetype": "text/x-sh",
   "name": "bash"
  }
 },
 "nbformat": 4,
 "nbformat_minor": 2
}
