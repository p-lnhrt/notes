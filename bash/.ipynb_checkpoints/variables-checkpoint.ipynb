{
 "cells": [
  {
   "cell_type": "markdown",
   "metadata": {},
   "source": [
    "https://man7.org/linux/man-pages/man1/bash.1.html\n",
    "\n",
    "TODO:\n",
    "quote/unquote\n",
    "simple command eval: expansions avant assignation\n",
    "subshell, environments, scoping http://mywiki.wooledge.org/SubShell?highlight=%28%5CbCategoryShell%5Cb%29\n",
    "redirections\n",
    "control-F variable assigment => token identifé, toutes les expansions ne sont pas pratiquée dessus https://man7.org/linux/man-pages/man1/bash.1.html#SIMPLE_COMMAND_EXPANSION \n",
    "\n",
    "----\n",
    "Exported variables, i.e. environment variables\n",
    "\n",
    "a parenthesized command is run in a subshell.\n",
    "\n",
    "The subshell inherits a copy of all the parent's variables. The difference is that any changes you make in the subshell aren't also made in the parent"
   ]
  },
  {
   "cell_type": "markdown",
   "metadata": {},
   "source": [
    "Définitions\n",
    "\n",
    "* **Espace vide** (*blank*): Un espace ou un *tab*\n",
    "* **Mot** (*word* ou *token*): Séquence de caractères vu comme une seule entité par le *shell*.\n",
    "* **Mot réservé** (*reserved word*): Mot qui *unquoted* (c'est-à-dire sans forcer qu'il garde sa signification littérale), a une signification spéciale pour le *shell*. C'est le cas des mots suivants quand reconnus comme premier mot d'une *single command* (cf. ci-dessous): `!`, `case`, `coproc`, `do`, `done`, `elif`, `else`, `esac`, `fi`, `for`, `function`, `if`, `select`, `then`, `until`, `while`, `{ }`, `time` et `[[ ]]` auxquels s'ajoute `in` qui n'est réservé que si reconnu en troisième position d'une commande `for` ou `case`.\n",
    "* **Nom** (*name* ou *identifier*): Mot consistant en une séquence de caractères alphanumériques et d'*underscores*\n",
    "* **Méta-caractère** (*metacharacter*): Caractère qui *unquoted*, sert à délimiter des mots: `|`, `&`, `;`, `(`, `)`, `<`, `>`, espace, `\\t` (*tab*) et `\\n`(*newline*)\n",
    "* **Opérateur de contrôle** (*control operator*): Un *token* qui *unquoted*, réalise une fonction de contrôle (du flot d'exécution): `|`, `||`, `|&`, `&`, `&&`, `;`, `;;`, `;&`, `;;&`, `(`, `)` et `\\n`(*newline*)\n",
    "\n",
    "Bash offre la possibilité de combiner des commandes à l'aide de différents opérateurs de contrôle ou de mots réservés (*reserved words*) comme `{`, `}`, `[[` et `]]`. Ces assemblages de commandes élémentaires (*simple commands*, cf. ci-dessous) ont une structure hiérarchique qui se reflète dans les différences de précédence entre les opérateurs utilisés pour les construire. On distingue du plus élémentaire au plus composite:  \n",
    "* **Commande simple** (*simple command*): Une commande simple est une séquence consistant dans cet ordre:\n",
    "    * D'assignations de variables (optionnels)\n",
    "    * Des mots (*words*) et redirections séparées par des espaces vides (*blank separated*). Le premier mot correspond à la commande à exécuter, les autres mots lui seront passés comme arguments.\n",
    "    * Opérateur de contrôle\n",
    "* **Pipeline**: Une pipeline est une séquence d'une ou plusieurs (simples) commandes séparées par l'un des opérateurs de contrôle suivant: `|` ou `|&`\n",
    "* **Liste** (*list*): Une liste est une séquence d'une ou plusieurs pipelines séparées par l'un des opérateurs de contrôle suivants `;`, `&`, `&&`, or `||` et terminée de façon optionnelle par `;`, `&` ou `\\n` (*newline*). La délimitation des différentes commandes peut se faire à l'aide d'un ou plusieurs *newlines* plutôt que `;`. `&&`, et `||` sont du même niveau de précédence et ont précédence sur `;`, `&`.\n",
    "* **Commande composée** (*compound command*): On désigne comme commande composée les différents cas suivants:\n",
    "    * `(list)` qui correspond à la situation où `list` est exécutée dans un *subshell*.\n",
    "    * `{ list; }` appelée aussi *group command*.\n",
    "    * `((expression))`: L'`expression` est évaluée dans le cadre de l'évaluation arithmétique (*arithmetic evaluation*).\n",
    "    * `[[ expression ]]`: `[[` correspond à une commande de test dont la logique est exprimée à l'aide de `expression`.\n",
    "    * `for`, `while`, `until`, `select`, `if` et `case`\n",
    "    \n",
    "Ainsi, le fait qu'une liste se compose de pipelines est reflété dans la précédence des opérateurs utilisés pour construire les pipelines (`|` ou `|&`) sur ceux utilisés pour construire des listes (`&&` et `||` qui ont eux-même précédence sur `;`, `&`). \n",
    "\n",
    "Les `expression` sont ici de deux types (arithmétique et conditionnelles). A chaque type correspond une syntaxe spécifique au contexte dans lequel l'expression est finalement évaluée. \n",
    "\n",
    "Pour les expressions conditionnelles, on retrouve la même logique d'assemblage qu'avec les commandes avec un ensemble de d'opérateurs avec différents ordres de précédence. Certains opérateurs peuvent ainsi être partagés entre expressions et commandes comme `||` et `&&`. Ils n'ont cependant pas la même signification:\n",
    "* Dans le contexte des commandes, `||` et `&&` sont des opérateurs de contrôle conditionnels. La commande de droite ne s'exécute que si la commande de gauche retourne un *exit code* nul (respectivement non nul)\n",
    "* Dans le contexte des expressions conditionnelles, `||` et `&&` jouent le rôle de OU et ET respectivement. Une expression composée de deux expressions simples à l'aide de `&&` ne sera vraie que si les deux expressions simples sont vraies.\n",
    "\n",
    "La composition d'expressions fait aussi appel à des opérateurs non utilisés pour la composition de commandes: `!`, `==`, `!=`, `=~` etc. ou qui seraient interprétés différemment dans le contexte d'une commande comme `>` ou `<`. Certains opérateurs commun n'ont par exemple pas le même ordre le précédence. Dans le contexte des expressions conditionnelles par exemple, `( ... )` sont utilisées pour inverser la précédence habituelle des opérateurs et non pour évaluer la condition dans un *subshell*.\n",
    "\n",
    "Remarque: Dans le cas de `(` et `)` remarquer la présence d'un espace dans le contexte des expressions conditionnelles: `(list)` vs `( expression )`. \n",
    "\n",
    "Délimiteurs de commande\n",
    "Les pipelines (qui peuvent ne consister que d'une seule *simple command*) et les *compound commands* sont délimitées par les opérateurs `&&`, `||` (par forcément indiqués pour certaines *compound commands *), `&`, `;` ou *newline*. On distingue:\n",
    "* Un opérateur asynchrone `&`\n",
    "* Des opérateurs synchrones (exécution séquentielle): `&&`, `||`, `;` et *newline*\n",
    "\n",
    "Les opérateurs `;` et *newline* ont en particulier le même effet (exécution séquentielle / synchrone de deux commandes distinctes). Cela a deux conséquences:\n",
    "* `;` et *newline* sont interchangeables: \n",
    "    * Pas besoin de terminer une commande par `;` si la suivante se trouve à la ligne d'après.\n",
    "    * A l'inverse, si on souhaite rassembler différentes commandes sur une même ligne, celles-ci doivent être séparées par un `;`.\n",
    "* Le saut de line (introduction de *newline*) signale une nouvelle commande. Si on souhaite répartir une longue commande sur plusieurs lignes, on ne peut donc pas simplement la découper avec *newline*. On utilise alors la combinaison `\\`*newline* qui est interprétée comme un *line continuation character* et non plus comme un *line break character*. \n"
   ]
  },
  {
   "cell_type": "code",
   "execution_count": 74,
   "metadata": {
    "scrolled": true
   },
   "outputs": [
    {
     "name": "stdout",
     "output_type": "stream",
     "text": [
      "hello\n",
      "\n",
      "\\`\n",
      "\\` $VAR\n",
      "` hello\n",
      "`\n",
      "\\$VAR\n"
     ]
    }
   ],
   "source": [
    "ec\"h\"o hello\n",
    "(echo)\n",
    "echo $'\\`'\n",
    "echo $'\\` $VAR'\n",
    "echo $\"\\` $VAR\"\n",
    "\n",
    "echo $\"\\`\"\n",
    "echo '\\$VAR'"
   ]
  },
  {
   "cell_type": "markdown",
   "metadata": {},
   "source": [
    "L'interpréteur lit ligne par ligne ou commande par commande ? Normalement vu les délimiteurs ça doit être bon. Si détecte compound command: lit jusqu'à la fin ? \n",
    "Si ligne vide (à cause de sauts de ligne) ou commentaire, on saute.\n",
    "\n",
    "Alias expansion\n",
    "\n",
    "Word splitting: on split les words générés par les différentes expansions ? On a déjà eu un split avant ? A quel moment ne travaille-t-on plus sur la ligne ? Plutôt non d'après: https://man7.org/linux/man-pages/man1/bash.1.html#SIMPLE_COMMAND_EXPANSION et https://mywiki.wooledge.org/BashParser\n",
    "https://www.aosabook.org/en/bash.html\n",
    "\n",
    "https://man7.org/linux/man-pages/man1/bash.1.html#ALIASES : Bash always reads at least one complete line of input,\n",
    "       and all lines that make up a compound command, before executing any\n",
    "       of the commands on that line or the compound command.  Aliases are\n",
    "       expanded when a command is read, not when it is executed.\n",
    "       \n",
    "POUR CHAQUE ETAPE, relire la man page => en particulier, quand une étape produit de nouveaux tokens, quelles substitutions/expansions leur sont appliqués ?"
   ]
  },
  {
   "cell_type": "markdown",
   "metadata": {},
   "source": [
    "Certains caractères ou ensembles de caractères ne sont pas en Bash interprétés pour leur signification litérale mais pour la signification spéciale qu'ils ont pour le langage. On peut citer par exemple:\n",
    "* Les mots réservés.\n",
    "* Les opérateur de contrôle: `|`, `||`, `|&`, `&`, `&&`, `;`, `;;`, `;&`, `;;&`, `(`, `)` et `\\n`(*newline*)\n",
    "* Les (méta-)caractères servant à délimiter des mots (*tokens*) et utilisés lors du *word splitting*: `|`, `&`, `;`, `(`, `)`, `<`, `>` mais surtout: espace, `\\t` (*tab*) et `\\n`(*newline*).\n",
    "* Les caractères signalant une opération d'expansion:\n",
    "    * `{...}` pour la *brace expansion*.\n",
    "    * `~` pour la *tilde expansion*.\n",
    "    * `$` pour les *parameter expansions* (`$1`, `$*`, `$@`, etc.), les *variable expansions* (`$NAME` ou `${NAME}`), les *arithmetic expansions* (`$((...))`) et les *command expansions* (`$(...)`).\n",
    "    * `` ` `` pour les anciennes *command expansions* (`` `...` `` ).\n",
    "* Les caractères de *pattern matching* (également utilisés pour la *pathname expansion*): `*`, `?` et `[...]`.\n",
    "* Les caractères utilisés pour le mécanisme de quoting lui même: `\"`, `'`, `\\` (normalement retirés à l'étape de *quote removal*).\n",
    "\n",
    "Le *quoting* est correspond à l'action de retirer à un caractère son caractère spécial permettant par exemple:\n",
    "* A des méta-caractères ne pas être reconnus comme tels, permettant par exemple à une séquence de caractères d'être interprétée après *word splitting* comme un seul *token* et non plusieurs. Dans `hello world` vs `\"hello world\"`, dans le second cas où on *quote* l'espace, l'ensemble sera interprété comme un *token* plutôt que deux dans le premiers.\n",
    "* A des *quoting characters* de ne pas être retirés à l'étape de *quote removal*.\n",
    "* D'empêcher une expansion.\n",
    "\n",
    "Il existe trois mécanismes de *quoting* s'appuyant chacun sur un caractère spécial: `\"`, `'`, `\\`\n",
    "\n",
    "Le *backslash* `\\` est le caractère d'échappement (*escape*) et préserve la valeur littérale du caractère le suivant uniquement. Deux remarques:\n",
    "* `\\` peut être lui même *quoted* et donc privé de sa fonction d'échappement avec `'` (mais pas `\"`).\n",
    "* Précédé par `\\`, *newline* n'est pas échappé (il est d'ailleurs la seule exception) mais change de signification: *newline* n'est plus interprété comme un opérateur de contrôle servant à terminer (et donc délimiter) des *lists* ou des *compound commands* mais comme un *line continuation character*. Les éléments de la ligne suivante ne seront pas interprétés comme une commande séparée mais comme appartenant à la commande dont la description commence à la ligne précédente. La combinaison `\\newline` fait ainsi office de *command line break*, ces deux caractères étant écartés (*discarded*) lors de l'étape de *word splitting*.\n",
    "\n",
    "Le *single quoting* avec `'` est l'opération de *quoting* la plus forte: tous les caractères encadrés par des `'` conservent leur signification littérale sans exception. Un `'` *single quoted* ne peut ainsi par être échappé avec `\\` (cela va générer des erreurs): `'` ne doit simplement pas être utilisé dans une séquence *single quoted*. Tous les caractères gardant leur signification littérale: aucune expansion n'a lieu et le *quote removal* ne concerne que les `'` encadrant la séquence.\n",
    "\n",
    "Le *double quoting* avec `\"` est une forme de *quoting* moins forte qu'avec `'`: tous les carctères encadrés par des `\"` conservent leur signification littérale **sauf**:\n",
    "* `$` ce qui permet aux différentes opérations d'expansion s'appuyant sur `$` d'avoir lieu,\n",
    "* `` ` `` ce qui permet à l'ancienne *command expansion* d'avoir lieu,\n",
    "* `\\` ce qui permet de bénéficier de l'échappement **et** des bénéfices du *quoting* d'autres caractères (notamment des espaces par exemple), ce qui n'est pas le cas avec le *single quoting*. `\\` n'a en fait de signification spéciale dans ce contexte uniquement si suivi de `$`, `` ` ``, `'`, `\"`, `\\` ou *newline* ce qui signifie qu'il disparaîtra à l'étape de *quote removal* et que le caractère qui le suit conserve sa signification littérale. Dans tous les autres cas, `\\` n'a que sa signification littérale. \n",
    "\n",
    "**Attention**: L'expansion de `$*` et `$@` à l'intérieur de *double quotes* a des spécificités détaillées notamment [ici](https://man7.org/linux/man-pages/man1/bash.1.html#PARAMETERS). Cette spécificité vaut aussi si la variable à développer est un *array*: `${arr[*]}` vs `${arr[@]}`. *Arrays* et arguments partagent un certain nombre de points communs.\n",
    "\n",
    "Remarque: Chacun des *single* et *double quoting* connait une variante (les deux signalées par `$`) dans laquelle l'ensemble des caractères pouvant être échappés par `\\` peut être plus large car définit par:\n",
    "* Le standard ANSI C pour la variante du *single quoting* (`$'token'`).\n",
    "* La locale si celle-ci n'est ni C ni POSIX  pour la variante du *double quoting* (`$\"token\"`).\n",
    "\n",
    "Voir notamment la [man page](https://man7.org/linux/man-pages/man1/bash.1.html#QUOTING) à ce sujet.\n",
    "\n",
    "Exemples: https://stackoverflow.com/questions/6697753/difference-between-single-and-double-quotes-in-bash"
   ]
  },
  {
   "cell_type": "markdown",
   "metadata": {},
   "source": [
    "Dans la procédure d'évaluation d'une ligne par l'interpréteur de commande, celui-ci va après l'avoir séparée en différents mots (*token*) procéder à des opérations d'expansion (*expansion*)/substitution sur chacun d'entre eux et de traitement des *tokens* obtenus afin notamment d'aboutir au nom de la commande à exécuter et aux valeurs des arguments qui lui seront passés. \n",
    "\n",
    "Les différentes expansions et traitements sont, par ordre de réalisation:\n",
    "* *Brace expansion*\n",
    "* *Tilde expansion*\n",
    "* *Parameter and variable expansion*, *Arithmetic expansion*, *Command substitution* et *Process substitution* (si supportée par le système)\n",
    "* *Word splitting*\n",
    "* *Pathname expansion*\n",
    "* *Quote removal*\n",
    "\n",
    "Connaitre cet ordre est très important car l'ordre des différentes étapes pouvant dans certains cas être à l'origine de résultats inattendus.\n",
    "\n",
    "Remarque: En dehors de la *brace expansion* qui relève plus du *syntactic sugar*, toutes les autres expansions sont autant de méthodes permettant de rendre des *tokens* paramétrables.\n",
    "\n",
    "---\n",
    "Alias expansion\n",
    "\n",
    " Bash always reads at least one complete line of input, and all lines that make up a compound command, before executing any of the commands on that line or the compound command.\n",
    "\n",
    "Aliases are expanded when a command is read, not when it is executed. Therefore, an alias definition appearing on the same line as another command does not take effect until the next line of input is read. The commands following the alias definition on that line are not affected by the new alias.\n",
    "\n",
    "\n"
   ]
  },
  {
   "cell_type": "markdown",
   "metadata": {},
   "source": [
    "La *brace expansion* est un mécanisme permettant de générer des strings. La syntaxe (qui utilise des *braces* `{...}`) est la suivante: `preamble{str1,str2,...,strN}postscript`. Les strings `preamble` et `postscript` qui respectivement préfixent et suffixent les strings générés à partir de la séquence entre *braces* sont optionnelles. \n",
    "\n",
    "Pour que la *brace expansion* fonctionne, le mot (*token*) à développer doit contenir au moins une paire d'*unquoted braces*.\n",
    "\n",
    "La *brace expansion* est particulièrement utile pour générer des chemins qui contrairement à la *pathname expansion*, n'ont pas besoin d'exister. Il s'agit juste d'une syntaxe permettant de générer des strings.\n",
    "\n",
    "Remarque: L'usage des *braces* pour la génération de strings et la création de *group commands* se distingue par l'ajout d'espaces dans le second cas: `{ list; }` vs `preamble{str1,str2,...,strN}postscript`. La différence réside dans le fait que la commande `{ list; }` débute par le mot/*token* `{` et se termine par le mot/token `}` alors que `preamble{str1,str2,...,strN}postscript` ne constitue qu'un seul et même mot/*token*. Dans le premier cas, la position des *tokens* `{` et `}` signalent la syntaxe spécifique des *grouped commands*, dans le second cas il s'agit d'un *token* unique auquel on va pouvoir appliquer les expansions successives. \n",
    "\n",
    "Brace expansion: sucre syntaxique. Permet aussi de générer des séquences. Attention, intervient avant toutes les autres expansions: ne pas utiliser d'expansions à l'intérieur. Exemple en bas http://mywiki.wooledge.org/BashParser\n",
    "Any incorrectly formed brace expansion is left unchanged. => veut dire que ça ne plante pas ? mais produit juste un résultat inattendu ?"
   ]
  },
  {
   "cell_type": "code",
   "execution_count": 6,
   "metadata": {},
   "outputs": [
    {
     "name": "stdout",
     "output_type": "stream",
     "text": [
      "a b c d e f\n"
     ]
    }
   ],
   "source": [
    "echo {a..f}"
   ]
  },
  {
   "cell_type": "code",
   "execution_count": 20,
   "metadata": {},
   "outputs": [
    {
     "name": "stdout",
     "output_type": "stream",
     "text": [
      "/usr/local/src/bash/old /usr/local/src/bash/dist /usr/local/src/bash/bugs\n",
      "/usr/local/src/bash/old/tmp /usr/local/src/bash/dist/tmp /usr/local/src/bash/bugs/tmp\n",
      "/usr/local/src/bash/old /usr/local/src/bash/dist /usr/local/src/bash/bugs\n",
      "/usr/local/src/bash/{old,dist,bugs}\n"
     ]
    }
   ],
   "source": [
    "echo /usr/local/src/bash/{old,dist,bugs}\n",
    "echo /usr/local/src/bash/{old,dist,bugs}/tmp\n",
    "echo /usr/local/src/bash/{old,dist,bugs}\n",
    "echo \"/usr/local/src/bash/{old,dist,bugs}\""
   ]
  },
  {
   "cell_type": "markdown",
   "metadata": {},
   "source": [
    "La *tilde expansion* correspond (le plus souvent) au remplacement du caractère `~` par la valeur de la variable *shell* `HOME` qui correspond au *home directory*\n",
    "\n",
    "Pour que la *tilde expansion* fonctionne, le mot (*token*) à développer doit contenir au moins un *unquoted tilde*."
   ]
  },
  {
   "cell_type": "code",
   "execution_count": 19,
   "metadata": {
    "scrolled": true
   },
   "outputs": [
    {
     "name": "stdout",
     "output_type": "stream",
     "text": [
      "Home is: /home/pierre\n",
      "Home is: ~ \n"
     ]
    }
   ],
   "source": [
    "echo Home is: ~ \n",
    "echo \"Home is: ~ \""
   ]
  },
  {
   "cell_type": "markdown",
   "metadata": {},
   "source": [
    "Le caractère `$` introduit les éléments sujets à *parameter expansion*, *command substitution* ou *arithmetic expansion*.\n",
    "\n",
    "La *parameter expansion* (qu'on pourrait sans doute aussi appeler *variable expansion*) correspond à la substitution d'un nom par sa valeur. Ce nom est le plus souvent celui d'une variable ou d'un argument. Il est recommandé d'encadrer le nom à substituer de *braces*: `${name}`.\n",
    "\n",
    "La syntaxe `${name}` correspond au cas de substitution le plus simple, d'autre syntaxes sont disponibles afin d'ajouter des comportements supplémentaires (assignation de valeur par défaut, etc.) à la *parameter expansion*. "
   ]
  },
  {
   "cell_type": "code",
   "execution_count": 52,
   "metadata": {},
   "outputs": [
    {
     "name": "stdout",
     "output_type": "stream",
     "text": [
      "hello\n",
      "\n",
      "hellooo\n",
      "hello\n",
      "hello\n"
     ]
    }
   ],
   "source": [
    "VAR=hello\n",
    "\n",
    "echo $VAR\n",
    "echo $VARoo # looks for a VARoo variable which is not defined\n",
    "echo ${VAR}oo\n",
    "echo $VAR world # no problem since (variable) \"names\" and can only consist in alphanumeric char + underscores\n",
    "echo ${VAR}\n",
    "echo \"$VAR\""
   ]
  },
  {
   "cell_type": "markdown",
   "metadata": {},
   "source": [
    "L'*arithmetic expansion* correspond à la substitution d'une expression arithmétique `$((expression))` par le résultat obtenu de son évaluation. "
   ]
  },
  {
   "cell_type": "code",
   "execution_count": 23,
   "metadata": {},
   "outputs": [
    {
     "name": "stdout",
     "output_type": "stream",
     "text": [
      "I have 2 apples\n",
      "I have 2 apples\n"
     ]
    }
   ],
   "source": [
    "echo I have $((1+1)) apples\n",
    "echo \"I have $((1+1)) apples\""
   ]
  },
  {
   "cell_type": "markdown",
   "metadata": {},
   "source": [
    "La *command substitution* correspond à la substitution d'une commande délimitée par la syntaxe `$(command)` (anciennement `` `command` ``) par le contenu de sa sortie standard. La commande `command` est exécutée dans un *subshell*"
   ]
  },
  {
   "cell_type": "code",
   "execution_count": 27,
   "metadata": {},
   "outputs": [
    {
     "name": "stdout",
     "output_type": "stream",
     "text": [
      "File count: 6\n",
      "File count: 6\n"
     ]
    }
   ],
   "source": [
    "echo File count: $(ls | wc -l)\n",
    "echo \"File count: $(ls | wc -l)\""
   ]
  },
  {
   "cell_type": "markdown",
   "metadata": {},
   "source": [
    "   Process Substitution\n",
    "       Process substitution allows a process's input or output to be\n",
    "       referred to using a filename.  It takes the form of <(list) or\n",
    "       >(list).  The process list is run asynchronously, and its input or\n",
    "       output appears as a filename.  This filename is passed as an argument\n",
    "       to the current command as the result of the expansion.  If the\n",
    "       >(list) form is used, writing to the file will provide input for\n",
    "       list.  If the <(list) form is used, the file passed as an argument\n",
    "       should be read to obtain the output of list.  Process substitution is\n",
    "       supported on systems that support named pipes (FIFOs) or the /dev/fd\n",
    "       method of naming open files.\n",
    "\n",
    "       When available, process substitution is performed simultaneously with\n",
    "       parameter and variable expansion, command substitution, and\n",
    "       arithmetic expansion.\n",
    "       \n",
    "       http://mywiki.wooledge.org/ProcessSubstitution\n",
    "       https://www.linuxjournal.com/content/shell-process-redirection"
   ]
  },
  {
   "cell_type": "code",
   "execution_count": null,
   "metadata": {},
   "outputs": [],
   "source": []
  },
  {
   "cell_type": "markdown",
   "metadata": {},
   "source": [
    "Jusqu'ici on travaille sur la ligne. On va à présent splitter celle-ci en tokens à l'aide des caractères spécifiés dans l'IFS.\n",
    "\n",
    "Remarque: C'est là que certaines syntaxes sont à respecter. Par exemple une assignation `MYVAR = 1` va donner après *word splitting* trois *tokens*: `MYVAR`, `=` et `1` qui va générer une erreur car Bash va comprendre cette ligne comme la commande `MYVAR` (qu'il ne trouvera pas) à laquelle on passe les arguments `=` et `1`. Pour Bash une assignation est un *token* de la forme `name=string` (entre autres).\n",
    "\n",
    "---\n",
    "\n",
    "A ce stade, les différentes expansions sont terminés et les étapes à suivre consituent davantage du post-traitement de tous les *tokens* produits jusqu'ici. \n",
    "\n",
    "L'étape de *word splitting* consiste à *splitter* toutes les produits d'expansions qui n'étaient elles-mêmes pas encadrées de *double quotes* `\"`, auquel cas aucun *word splitting* n'est réalisé."
   ]
  },
  {
   "cell_type": "code",
   "execution_count": 30,
   "metadata": {},
   "outputs": [
    {
     "name": "stdout",
     "output_type": "stream",
     "text": [
      "arrays.ipynb\n",
      "branching.ipynb\n",
      "execution-control.ipynb\n",
      "syntax-expansion.ipynb\n",
      "todo.ipynb\n",
      "variables.ipynb\n"
     ]
    }
   ],
   "source": [
    "for NAME in $(ls)\n",
    "  do \n",
    "  echo $NAME\n",
    "done"
   ]
  },
  {
   "cell_type": "code",
   "execution_count": 31,
   "metadata": {},
   "outputs": [
    {
     "name": "stdout",
     "output_type": "stream",
     "text": [
      "arrays.ipynb branching.ipynb execution-control.ipynb syntax-expansion.ipynb todo.ipynb variables.ipynb\n"
     ]
    }
   ],
   "source": [
    "for NAME in \"$(ls)\"\n",
    "  do \n",
    "  echo $NAME\n",
    "done"
   ]
  },
  {
   "cell_type": "markdown",
   "metadata": {},
   "source": [
    "Pour la *pathname expansion*, chaque *token* est examiné et s'il présente l'un des caractères `*`, `?` ou `[`, alors il est vu comme un *pattern* et sera remplacé par une liste ordonnée de noms de fichier matchant ce pattern.\n",
    "\n",
    "Remarque: Quand le *pattern* à développer résultera éventuellement en des noms de fichiers (et non des chemins), il est recommandé afin d'éviter que d'éventuels fichiers dont le nom commencerait par un *dash* `-` d'être pris à tort pour des options, de recourrir à l'une des deux \"astuces\" suivantes:\n",
    "* Ajouter explicitement une référence au répertoire courant dans le *pattern*: `command ./*.csv` au lieu de `command *.csv`\n",
    "* Utiliser si la commande le supporte (c'est par exemple le cas de la plupart des *builtins*) `--` qui signale la fin de la liste des options et le début des arguments positionnels: `command -- *.csv` au lieu de `command *.csv`\n",
    "\n",
    "http://mywiki.wooledge.org/glob?highlight=%28%5CbCategoryShell%5Cb%29"
   ]
  },
  {
   "cell_type": "code",
   "execution_count": 3,
   "metadata": {},
   "outputs": [
    {
     "name": "stdout",
     "output_type": "stream",
     "text": [
      "Files: arrays.ipynb branching.ipynb execution-control.ipynb syntax-expansion.ipynb todo.ipynb variables.ipynb\n",
      "*.ipynb\n"
     ]
    }
   ],
   "source": [
    "echo Files: *.ipynb\n",
    "echo \"*.ipynb\""
   ]
  },
  {
   "cell_type": "markdown",
   "metadata": {},
   "source": [
    "La *quote removal* est la dernière étape et consiste à supprimer toutes les occurences non quotées des caractères `\\`, `\"` et `'` qui ne résulteraient pas des précédentes extensions.\n",
    "\n",
    "Par exemple, `echo \"hello\"` va afficher `hello` et non `\"hello\"`."
   ]
  },
  {
   "cell_type": "markdown",
   "metadata": {},
   "source": [
    "Redirections\n",
    "\n",
    "TODO\n",
    "* Here files/Here strings\n",
    "* Tableau récapitulatif des syntaxes\n",
    "\n",
    "Les opérateurs de redirection permettent de changer les fichiers (en fait *file descriptors/handles*) desquels une commande lit ses données ou vers lesquels elle écrit. Les opérateurs de redirection permettent ainsi de dupliquer, ouvrir, fermer ou faire référer à différents fichiers les *file descriptors* de la commande à laquelle ils s'appliquent. Les opérateurs de redirection sont facultatifs etpeuvent être en nombre supérieur à 1. Leur ordre peut importer et sont traités dans leur ordre d'apparition dans la commande, de gauche à droite. Ils peuvent être placés n'importe où dans une *simple command*.\n",
    "\n",
    "Un opérateur de redirection est un *infix operator*. Son membre de gauche est le plus souvent un entier correspondant à un *file descriptor number* (peut aussi être un mot, cf. [documentation](https://man7.org/linux/man-pages/man1/bash.1.html#REDIRECTION) pour plus de détails). Si ce membre de gauche est omis, il est par défaut:\n",
    "* La *standard input* (*file descriptor* `0`) si l'opérateur de redirection commence par `<`.\n",
    "* La *standard output* (*file descriptor* `1`) si l'opérateur de redirection commence par `>`.\n",
    "\n",
    "Le membre de droite d'un opérateur de redirection est plus généralement que pour le membre de gauche un mot (mais peut très bien être un *file descriptor number*). Ce mot est sujet à toutes les expansions habituelles, ces expansions ne devant en revanche pas produire plus d'un mot.\n",
    "\n",
    "Redirection d'*output*\n",
    "La syntaxe `[n]>word` se traduit par: Le fichier dont le nom résulte de l'expansion de `word` est ouvert en écriture sur le *file descriptor* `n` (facultatif, `1` par défaut). Si ce fichier n'existe pas il est créé, s'il n'est pas vide, il est écrasé.\n",
    "\n",
    "Remarques: \n",
    "* `word` peut utilement être le *null device* `/dev/null` qui est un *special file* qui supprime toutes les données qui y sont écrites. Il est particulièrement utile si on n'est pas intéressé ni souhaite s'encombrer des sorties d'une commande.\n",
    "* Si l'option *noclobber* (*to clobber* dans le contexte d'un fichier signifie \"écraser\", *noclobber* est désactivée par défaut) est activée (via la commande `set -o noclobber`) alors rediriger une sortie vers un fichier déjà existant va générer une erreur car ce fichier ne pourra être écrasé. Si on souhaite écraser le fichier que *noclobber* soit active ou pas, utiliser l'opérateur de redirection `>|`. L'opérateur `>|` a précédence (*overrides*) l'option *noclobber*.\n",
    "\n",
    "La syntaxe `[n]>>word` a le même effet à la différence près que le fichier dont le nom résulte de l'expansion de `word` est ouvert en écriture en mode `append` sur le *file descriptor* `n` (facultatif, `1` par défaut). Si ce fichier n'existe pas il est créé.\n",
    "\n",
    "**Attention**: Le produit de l'expansion de `word` sera interprété comme un fichier et non comme un *file descriptor*. Cf. remarque plus bas sur la différence entre `2>1` et `2>&1`.\n",
    "\n",
    "Redirection d'*input*\n",
    "La syntaxe `[n]<word` se traduit par: Le fichier dont le nom résulte de l'expansion de `word` est ouvert en lecture sur le *file descriptor* `n` (facultatif, `0` par défaut).\n",
    "\n",
    "Remarque: Il existe un opérateur de redirection moins fréquemment utilisé `[n]<>word` qui se traduit par l'ouverture en lecture et en écriture du fichier dont le nom résulte de l'expansion de `word` sur le *file descriptor* `n` (facultatif, `0` par défaut).\n",
    "\n",
    "**Attention**: Comme ci-dessus, le produit de l'expansion de `word` sera interprété comme un fichier et non comme un *file descriptor*. Cf. remarque plus bas sur la différence entre `2>1` et `2>&1`.\n",
    "\n",
    "L'opérateur `<<` n'est pas le pendant pour l'*input* du mode *append* pour l'*output*. Cet opérateur est associé à ce qu'on appelle les Bash *Here documents*. Il permet de mettre à disposition sur un *file descriptor `n` des lignes décrites dans le script lui même (le *Here document*). Par défaut ce *file descriptor* est `0`: ce lignes sont alors utilisées comme *standard input* pour la commande à laquelle s'applique la redirection.\n",
    "\n",
    "Il existe une variante de `<<`: l'opérateur `<<<` (qui n'a pas d'équivalent côté *output*) qui est associé à ce qu'on appelle les Bash *Here strings* qui se distinguent des *Here documents* notamment par leur comportement face aux expansions.\n",
    "\n",
    "Cf. la section dédiée aux *Here documents & strings* \n",
    "\n",
    "Duplication de *file descriptor*\n",
    "\n",
    "Bash met à disposition des opérateurs permettant de dupliquer des *file descriptors*: un *file descriptor* peut être fait la copie d'un autre ce qui a pour dans les fait se traduit par une redirection des flux du copié vers sa copie. \n",
    "\n",
    "Là où les opérateurs de redirection `[n]<word` et `[n]>word` ouvrent un fichier `word` (respectivement en lecture et en écriture) sur le *file descriptor* `n`, les opérateurs de duplication  `[n]<&word` et `[n]>&word` créent le *file descriptor* `n` comme une copie du *file descriptor* `word`. De même que pour les opérateurs de redirection, si `n` est omis, les *files descriptors* `0` et `1` sont respectivement pris par défaut.\n",
    "\n",
    "Par exemple: \n",
    "* `2>&1` a pour effet de rediriger la sortie d'erreur `2` vers la sortie sortie standard `1`, le *file descriptor* associé à la sortie d'erreur étant en fait une copie de celui de la sortie standard.\n",
    "* Inversement, `1>&2` a pour effet de rediriger la sortie standard `1` vers la sortie sortie standard `2`.\n",
    "\n",
    "Remarque: \n",
    "* Sauf pour les *syntactic sugars* `&>word` et `&>>word`, **la présence de `&` sous-entend que le produit de l'expansion de `word`, membre de droite de l'opérateur de redirection, doit être un *file descriptor*** (car il sera traité comme tel). Sinon il est sous-entendu qu'il s'agit d'un nom de fichier. Par exemple\n",
    "    * `2>&1` crée le *file descriptor* `2` comme une copie du *file descriptor* `1` avec pour effet de rediriger la sortie d'erreur vers la sortie standard.\n",
    "    * `2>1` n'a pas pour effet de rediriger la sortie d'erreur vers la sortie standard mais vers un fichier `1` situé dans le répertoire courant.\n",
    "* A l'opposé, si dans `[n]>&word` (resp. `[n]<&word`) le produit de l'expansion de `word` n'est pas un *file descriptor* (ouvert pour l'écriture, resp. la lecture) alors une erreur de redirection est levée. \n",
    "\n",
    "**Attention**: Dans `[n]<&word` et `[n]>&word`, le *file descriptor* `n` comme une copie du *file descriptor* `word` **au moment de la duplication: l'ordre des opérations de redirection importe**.\n",
    "\n",
    "Par exemple: Dans `ls 2>&1 >file.txt`, bien que la sortie d'erreur de `ls` soit redirigée vers sa sortie standard, seul le contenu de la sortie standard sera écrit vers `file.txt`. Le fichier `file.txt` n'a en effet été ouvert en écriture sur le *file descriptor* `1` qu'après sa duplication. Le file descriptor `2` n'étant qu'une copie du file descriptor `1` tel qu'il se trouve au moment de sa duplication, n'a fichier `file.txt` ouvert en écriture. A l'inverse, pour `ls >file.txt 2>&1`, les sorties d'erreur et standard seront bien écrites dans `file.txt`, le fichier ayant été ouvert sur le *file descriptor* `1` **avant** sa duplication.\n",
    "\n",
    "Remarque: Les caractères `>`, `<` et `&` étant des méta-caractères, l'introduction d'espaces est sans impact sur l'interprétation des redirections. Toutes les commandes suivantes sont ainsi valables: `command>file.txt`, `command > file.txt`, `command > file.txt 2>&1`, `command >file.txt 2>&1`, etc.\n",
    "\n",
    "Redirection des sorties standard et d'erreur\n",
    "\n",
    "La redirection des deux sorties standard vers un fichier étant une opération fréquente, il existe donc un *syntactic sugar* dédié: `&>word` qui est sémantiquement équivalent à `>word 2>&1`. De même, il existe un autre *sugat* pour que cette redirection soit effective en *append mode*: `&>>word` qui est sémantiquement équivalent à `>>word 2>&1`.\n",
    "\n",
    "La [documentation](https://man7.org/linux/man-pages/man1/bash.1.html#REDIRECTION) précise que `&>word` et `>&word` sont équivalents, la première forme étant préférée à la seconde. Toutefois je ne vois pas ce qui distingue `>&word` de `1>&word` (cas par défaut de `[n]>&word`) où seule la sortie standard est redirigée. \n",
    "\n",
    "`&>word` ne doit pas créer l'impression que `&` et `>` sont interchangeables (il est le seul cas où `&` est devant `>`):\n",
    "* Je ne suis pas convaincu que `&>word` et `>&word` sont équivalents (cf. ci-dessus).\n",
    "* `[n]<&word` n'est pas équivalent à `[n]&>word` qui risque au mieux de générer des erreurs ou pire des effets inattendus. Par exemple: `echo hello 2&>1` ne va pas simplement rediriger la sortie d'erreur de `echo` sur sa sortie standard et y écrire `hello`. Le *parsing* va en effet considérer les *tokens* suivants `echo`, `hello`, `2` et `&>1`. La commande va donc rediriger les sorties d'erreur et standard de `echo` vers un fichier `1` et y écrire `hello 2`, les deux arguments passés à la commande.\n",
    "\n",
    "Remarques \n",
    "\n",
    "Il existe aussi d'autres syntaxes correspondant à des usages moins fréquents des opérateurs de redirection:\n",
    "* `[n]<&-` et `[n]>&-` on pour effet de fermer le *file descriptor* `n`.\n",
    "* `[n]<&digit-` et `[n]>&digit-` on pour effet de créer le *file descriptor* `n` comme une copie du *file descriptor* `digit` qui est ensuite fermé.\n",
    "\n",
    "On voit dans l'ensemble que les opérateurs `<&` et `>&` font la même chose et ne se distinguent que par les *file descriptors* pris par défaut quand le membre de gauche est omis. \n",
    "\n",
    "*Process substitution*\n",
    "\n",
    "La distinction *input*/*output* par les opérateurs `<` et `>` se retrouve dans la syntaxe de la *process substitution*. On rappelle que l'expansion de ces commandes produit un nom de fichier. Ainsi:\n",
    "* **`<(list)`**: L'*output* de la commande `list` est mis à disposition dans le fichier résultant de l'expansion qui est accessible en lecture dont il est sous-entendu qu'on va s'en servir comme argument (ex: `cat <(list)`) ou *input* d'une autre commande (d'où le `<`). Dans ce dernier cas l'utilisation d'un opérateur de redirection est nécessaire (ex: `command < <(list)`). \n",
    "* **`>(list)`**: Le fichier résultant de l'expansion est accessible en écriture servira d'*input* à la commande `list`. Il est sous-entendu qu'on va y écrire l'*output* d'une autre commande (d'où le `>`). L'expansion de `>(list)` ne produisant qu'un nom de fichiers, l'utilisation d'un opérateur de redirection est nécessaire si on souhaite y rediriger une sortie (ex: `command > >(list)`).\n",
    "\n",
    "Remarque: Ne pas oublier l'espace entre l'opérateur de redirection et l'expression de *process substitution*: `command < <(list)` est valide, `command <<(list)` génère une *syntax error*.\n",
    "\n",
    "*Here documents & strings* \n",
    "\n",
    "TODO: https://linuxize.com/post/bash-heredoc/\n",
    "https://man7.org/linux/man-pages/man1/bash.1.html#REDIRECTION\n",
    "\n",
    "https://catonmat.net/bash-one-liners-explained-part-three Sections 12, 16, 18, 8 (exec)\n",
    "&|\n",
    "exec\n",
    "tee\n",
    "redirecting compound commands  / où place-t-on les redirections des coumpound commands https://unix.stackexchange.com/a/380042\n",
    "https://unix.stackexchange.com/questions/88490/how-do-you-use-output-redirection-in-combination-with-here-documents-and-cat\n",
    "https://stackoverflow.com/a/38731052\n",
    "\n",
    "In a Heredoc, we choose a word to act as a sentinel. It can be any word; we used END in this example. Choose one that won't appear in your data set. All the lines that follow the first instance of the sentinel, up to the second instance, become the stdin for the command. The second instance of the sentinel word has to be a line all by itself."
   ]
  },
  {
   "cell_type": "code",
   "execution_count": 22,
   "metadata": {
    "scrolled": true
   },
   "outputs": [
    {
     "name": "stdout",
     "output_type": "stream",
     "text": [
      "hello\n"
     ]
    }
   ],
   "source": [
    "cat <<- \"EOF\" | bash | tee output.txt\n",
    "  echo hello\n",
    "EOF\n",
    "# Le deuxieme EOF ne doit avoir ni espace avant ou après"
   ]
  },
  {
   "cell_type": "code",
   "execution_count": 37,
   "metadata": {},
   "outputs": [
    {
     "name": "stdout",
     "output_type": "stream",
     "text": [
      "hello\n"
     ]
    }
   ],
   "source": [
    "cat <<- \"EOF\"  \\\n",
    "| bash | tee output.txt\n",
    "echo hello\n",
    "EOF"
   ]
  },
  {
   "cell_type": "code",
   "execution_count": null,
   "metadata": {},
   "outputs": [],
   "source": [
    "cat <<- EOF\n",
    "    This is some content indented with tabs `\\t`.\n",
    "    You cannot indent with spaces you __have__ to use tabs.\n",
    "    Bash will remove empty space before these lines.\n",
    "    __Note__: Be sure to replace spaces with tabs when copying this example.\n",
    "EOF\n"
   ]
  },
  {
   "cell_type": "code",
   "execution_count": null,
   "metadata": {},
   "outputs": [],
   "source": [
    "cat <<EOF1 && cat <<EOF2\n",
    "first here-doc\n",
    "EOF1\n",
    "second here-doc\n",
    "EOF2\n",
    "\n",
    "https://pubs.opengroup.org/onlinepubs/9699919799/utilities/V3_chap02.html#tag_18_07_04\n",
    "https://www.oilshell.org/blog/2016/10/17.html"
   ]
  },
  {
   "cell_type": "code",
   "execution_count": null,
   "metadata": {},
   "outputs": [],
   "source": [
    "cat <<\"SpecialCharTest\"\n",
    "\n",
    "Directory listing would follow\n",
    "if limit string were not quoted.\n",
    "`ls -l`\n",
    "\n",
    "Arithmetic expansion would take place\n",
    "if limit string were not quoted.\n",
    "$((5 + 3))\n",
    "\n",
    "A a single backslash would echo\n",
    "if limit string were not quoted.\n",
    "\\\\\n",
    "\n",
    "SpecialCharTest"
   ]
  },
  {
   "cell_type": "code",
   "execution_count": null,
   "metadata": {},
   "outputs": [],
   "source": [
    "You're redirecting tee's input, not bash's. Use:\n",
    "\n",
    "bash << EOF | tee foo\n",
    "echo Hello\n",
    "EOF\n",
    "A few more examples to illustrate how it works:\n",
    "\n",
    "bash << EO1 3<< EO\\2 | tee 3<< EO3 foo 4<< EO4\n",
    "fed (as a deleted temp file open in read-only mode) to bash fd 0\n",
    "EO1\n",
    "fed to bash fd 3 without $variable and $(cmd) expansion\n",
    "EO2\n",
    "fed to tee fd 3\n",
    "(not that tee does anything with its fd 3)\n",
    "EO3\n",
    "fed to tee fd 4\n",
    "(see how, like any redirection operator 3<< END can appear anywhere on\n",
    "the command line (for simple commands at least))\n",
    "EO4\n",
    "Redirecting compound commands:\n",
    "\n",
    "{ head -n2; wc -l; } << EOF\n",
    "fed as fd 0 for the whole command group\n",
    "$(ps -e)\n",
    "EOF\n",
    "Or:\n",
    "\n",
    "if head -n1; then\n",
    "  head -n2\n",
    "fi << EOF\n",
    "1\n",
    "2\n",
    "3\n",
    "EOF"
   ]
  }
 ],
 "metadata": {
  "kernelspec": {
   "display_name": "Bash",
   "language": "bash",
   "name": "bash"
  },
  "language_info": {
   "codemirror_mode": "shell",
   "file_extension": ".sh",
   "mimetype": "text/x-sh",
   "name": "bash"
  }
 },
 "nbformat": 4,
 "nbformat_minor": 2
}
