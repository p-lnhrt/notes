{
 "cells": [
  {
   "cell_type": "markdown",
   "metadata": {},
   "source": [
    "# Boucle `for`\n",
    "\n",
    "https://ss64.com/bash/for.html\n",
    "\n",
    "```bash\n",
    "for name in iterable\n",
    "  do\n",
    "  commands\n",
    "done\n",
    "```\n",
    "\n",
    "Ou comme *one-liner* pour faire apparaître les séparateurs de commande `;` requis:\n",
    "\n",
    "```bash\n",
    "for name in iterable; do commands; done\n",
    "```\n",
    "\n",
    "Une boucle `for` va itérer sur chaque éléments issus de l'évaluation de `iterable` assigner chaque élément au nom `name` et exécuter les commandes `commands`.\n",
    "\n",
    "Un bloc `for` retourne avec le code sortie de sa dernière commande exécutée. Si `iterable` est vide, aucune commande n'est exécutée et le bloc retourne l'*exit code* `0`."
   ]
  },
  {
   "cell_type": "code",
   "execution_count": 3,
   "metadata": {
    "scrolled": false
   },
   "outputs": [
    {
     "name": "stdout",
     "output_type": "stream",
     "text": [
      "1\n",
      "2\n",
      "3\n",
      "4\n",
      "5\n"
     ]
    }
   ],
   "source": [
    "for i in $(seq 1 5)\n",
    "  do \n",
    "  echo $i\n",
    "done"
   ]
  },
  {
   "cell_type": "markdown",
   "metadata": {},
   "source": [
    "`iterable` est le plus souvent:\n",
    "* Un *array* \n",
    "* Une liste de strings séparées par un espace\n",
    "* La sortie standard d'une commande dont les différents éléments sont délimités par le caractère *newline*"
   ]
  },
  {
   "cell_type": "code",
   "execution_count": 8,
   "metadata": {},
   "outputs": [
    {
     "name": "stdout",
     "output_type": "stream",
     "text": [
      "Alice\n",
      "Bob\n",
      "Jean Pierre\n"
     ]
    }
   ],
   "source": [
    "for name in Alice Bob \"Jean Pierre\"\n",
    "  do \n",
    "  echo $name\n",
    "done"
   ]
  },
  {
   "cell_type": "code",
   "execution_count": 11,
   "metadata": {},
   "outputs": [
    {
     "name": "stdout",
     "output_type": "stream",
     "text": [
      "bash-for.ipynb\n",
      "bash-if.ipynb\n",
      "todo.ipynb\n"
     ]
    }
   ],
   "source": [
    "for filename in $(ls)\n",
    " do \n",
    " echo $filename\n",
    "done"
   ]
  },
  {
   "cell_type": "markdown",
   "metadata": {},
   "source": [
    "Si `iterable` contient le caractère *wildcard* `*`, alors `name` se verra assigner chacun des éléments retournés par la *wildcard expansion*"
   ]
  },
  {
   "cell_type": "code",
   "execution_count": 13,
   "metadata": {},
   "outputs": [
    {
     "name": "stdout",
     "output_type": "stream",
     "text": [
      "./bash-for.ipynb\n",
      "./bash-if.ipynb\n",
      "./todo.ipynb\n"
     ]
    }
   ],
   "source": [
    "for name in ./*\n",
    "  do \n",
    "  echo $name\n",
    "done"
   ]
  },
  {
   "cell_type": "code",
   "execution_count": 14,
   "metadata": {},
   "outputs": [
    {
     "name": "stdout",
     "output_type": "stream",
     "text": [
      "bash-for.ipynb\n",
      "bash-if.ipynb\n",
      "todo.ipynb\n"
     ]
    }
   ],
   "source": [
    "for name in *\n",
    "  do \n",
    "  echo $name\n",
    "done"
   ]
  },
  {
   "cell_type": "markdown",
   "metadata": {},
   "source": [
    "Si `in interable` n'est pas spécifié, l'itération pas se faire sur la liste des arguments positionnels passés au script. L'absence de `in iterable` est équivalente à spécifier `in $@`."
   ]
  },
  {
   "cell_type": "markdown",
   "metadata": {},
   "source": [
    "# Boucle `while`/`until`\n",
    "\n",
    "https://ss64.com/bash/until.html\n",
    "https://ss64.com/bash/while.html\n",
    "\n",
    "La syntaxe d'une boucle `while` est la suivante\n",
    "\n",
    "```bash\n",
    "while test-commands\n",
    "  do\n",
    "  consequent-commands\n",
    "done\n",
    "```\n",
    "\n",
    "Ou comme *one-liner* pour faire apparaître les séparateurs de commande `;` requis:\n",
    "\n",
    "```bash\n",
    "while test-commands; do consequent-commands; done\n",
    "```\n",
    "\n",
    "Un bloc `while` retourne avec le code sortie de sa dernière commande exécutée. Si aucune commande n'a été exécuté car la condition n'a jamais été vérifiée, le bloc retourne l'*exit code* `0`.\n",
    "\n",
    "`until` suit exactement la même syntaxe et peut être vu comme le complémentaire de `while`. Là où `while` exécute des commandes tant qu'une (*while*) condition est vérifiée, `until` exécute des commandes tant que cette condition n'est pas vérifié ou de façon équivalente jusqu'à (*until*) ce que la condition évaluée se vérifie pour la première fois.\n",
    "\n",
    "De même que pour `while`; un bloc `until` retourne avec le code sortie de sa dernière commande exécutée. Si aucune commande n'a été exécuté car la condition été vérifiée dès la première itération, le bloc retourne l'*exit code* `0`."
   ]
  },
  {
   "cell_type": "markdown",
   "metadata": {},
   "source": [
    "Piping into a while loop ou plutôt Piping into read-while (classique)\n",
    "\n",
    "ls -l | while IFS=\" \" read -r permission child owner group size monthDate dayDate rest; do\n",
    "    echo Line: \n",
    "    echo '    - Permission: '$permission\n",
    "    echo '    - Child: '$child\n",
    "    echo '    - Owner: '$owner\n",
    "    echo '    - Group: '$group\n",
    "    echo '    - Size: '$size\n",
    "    echo '    - Month of Date: '$monthDate\n",
    "    echo '    - Day of Date: '$dayDate\n",
    "    echo '    - Rest: '$rest\n",
    "done\n",
    "\n",
    "ls | while read file\n",
    "do\n",
    "    echo $file\n",
    "    string $file | grep '19%'\n",
    "done\n",
    "\n",
    "while read line; do something with \"$line\"; done < file (permet de voir que la \"commande\" while correspond au bloc entier)\n",
    "equivalent à \n",
    "cat file | while read line; do something with \"$line\"; done\n",
    "\n",
    "Pas obligé d'utilisé read mais usage intéressant pour assigner les différents éléments de chaque \"ligne\" passée à chaque itération à une variable. Doit demander de jouer sur l'IFS. On s'appuie sur le fait que pour read The return code is zero, unless end-of-file is encountered or read times out."
   ]
  },
  {
   "cell_type": "markdown",
   "metadata": {},
   "source": [
    "# `select`\n",
    "\n",
    "https://ss64.com/bash/select.html\n",
    "\n",
    "`select` est aussi une structure itérative comme `for`, `while` et `until` mais est concue pour un usage bien spécique: proposer à l'utilisateur une liste indexée de possibilités (un menu). La syntaxe d'un bloc `select` est la suivante:\n",
    "\n",
    "```bash\n",
    "select name in iterable\n",
    "  do\n",
    "  commands\n",
    "done\n",
    "```\n",
    "\n",
    "En entrant le bloc `select`, le *prompt* va proposer une liste indexée de choix correspondant au contenu de `iterable` à l'utilisateur. Celui-ci entre l'index de son choix, name est assignée la valeur correspondante et le bloc `commands` est exécuté. En l'absence de commande `break` ce cycle est répété à l'infini."
   ]
  },
  {
   "cell_type": "markdown",
   "metadata": {},
   "source": [
    "# `break` et `continue`\n",
    "\n",
    "https://ss64.com/bash/break.html\n",
    "https://ss64.com/bash/continue.html\n",
    "\n",
    "Bash met à disposition deux commandes permettant d'affiner le contrôle l'éxécution dans les boucles `for`, `while`, `until` (et `select`). Comme dans tous les autres langages, `continue` permet de passer directement à la prochaine itération sans exécuter le reste des commandes et `break` nous fait sortir de la boucle. Elles s'insèrent comme n'importe quelle autre commande bash à l'intérieur du bloc `do`/`done` des boucles `for`, `while`, `until` (et `select`):\n",
    "\n",
    "\n",
    "```bash\n",
    "for name in iterable\n",
    "  do\n",
    "  if test-commands\n",
    "    then\n",
    "    commands\n",
    "  else\n",
    "    break\n",
    "done\n",
    "```\n",
    "\n",
    "```bash\n",
    "while test-commands\n",
    "  do\n",
    "  if test-commands\n",
    "    then\n",
    "    continue\n",
    "  else\n",
    "    consequent-commands\n",
    "done\n",
    "```"
   ]
  }
 ],
 "metadata": {
  "kernelspec": {
   "display_name": "Bash",
   "language": "bash",
   "name": "bash"
  },
  "language_info": {
   "codemirror_mode": "shell",
   "file_extension": ".sh",
   "mimetype": "text/x-sh",
   "name": "bash"
  }
 },
 "nbformat": 4,
 "nbformat_minor": 2
}
