{
 "cells": [
  {
   "cell_type": "markdown",
   "metadata": {},
   "source": [
    "General\n",
    "http://www.compciv.org/bash-guide/\n",
    "https://blog.balthazar-rouberol.com/discovering-the-terminal?fbclid=IwAR3zHpCphhULY7Aev2_ERuaI5hpAGMB6Yj0hcq_4quj2tsyAwKJ3QLV9u5w"
   ]
  },
  {
   "cell_type": "markdown",
   "metadata": {},
   "source": [
    "Redirections\n",
    "Attention n'inclut pas les redirections de stdin (<<<) \n",
    "stdin / here hiles / ajouter du contenu à un fichier - cat command\n",
    "https://ss64.com/bash/syntax-redirection.html"
   ]
  },
  {
   "cell_type": "markdown",
   "metadata": {},
   "source": [
    "Compound command ([[  vs [, command availability)\n",
    "https://stackoverflow.com/questions/39199299/what-is-the-essential-difference-between-compound-command-and-normal-command-in"
   ]
  },
  {
   "cell_type": "markdown",
   "metadata": {},
   "source": [
    "Structures de controle\n",
    "http://litux.nl/Reference/books/7213/ddu0071.html#:~:text=The%20BASH%20shell%20has%20three,after%20they%20have%20finished%20executing.\n",
    "\n",
    "case\n",
    "while/until\n",
    "for\n",
    "Certain opérateurs de redirection"
   ]
  },
  {
   "cell_type": "markdown",
   "metadata": {},
   "source": [
    "Liste et catégories d'opérateurs / guide de syntaxe\n",
    "https://devhints.io/bash\n",
    "https://en.wikipedia.org/wiki/List_of_Unix_commands\n",
    "\n",
    "----\n",
    "Le `;`\n",
    "; en bash => si un espace de chaque côté c'est autre chose ? https://ss64.com/bash/syntax-redirection.html (exécution séquentielle - donc bien un séparateur de commandes - synchrone)\n",
    "\n",
    "---\n",
    "Le `-`\n",
    "https://stackoverflow.com/questions/8045479/whats-the-magic-of-a-dash-in-command-line-parameters\n",
    "Exemple avec cat\n",
    "\n",
    "---\n",
    "`(` et `((`\n",
    "Rappeler qu'on peut évidement utiliser {} et (). Les deux ne permettent elle pas de grouper, la seconde se distinguant parce qu'exécution dans subshell ? Si on peut mettre autre chose qu'une test command: elle peut retourner des trucs qui feraient qu'elle est toujours vrai alors que ce qu'on veut c'est son code sortie. Il faut donc pour ces cas de commandes non test ne pas oublier de rediriger leur sorties vers /dev/null ou un fichier si par exemple besoin pour logging.\n",
    "\n",
    "Plus généralement: les différentes brackets et leur rôle dans la command subst. Updater if.ipynb pour l'aspect substitution et pour ((.\n",
    "\n",
    "`( )` vs `$( )` subshells : https://datacadamia.com/lang/bash/subshell"
   ]
  },
  {
   "cell_type": "markdown",
   "metadata": {},
   "source": [
    "Nombres/types de variables\n",
    "Variable scope https://tldp.org/LDP/Bash-Beginners-Guide/html/sect_03_02.html `export`, etc.\n",
    "Variable type https://tldp.org/LDP/Bash-Beginners-Guide/html/chap_10.html"
   ]
  },
  {
   "cell_type": "markdown",
   "metadata": {},
   "source": [
    "Arrays/structures de données | iterables\n",
    "https://www.learnshell.org/en/Arrays"
   ]
  }
 ],
 "metadata": {
  "kernelspec": {
   "display_name": "Bash",
   "language": "bash",
   "name": "bash"
  },
  "language_info": {
   "codemirror_mode": "shell",
   "file_extension": ".sh",
   "mimetype": "text/x-sh",
   "name": "bash"
  }
 },
 "nbformat": 4,
 "nbformat_minor": 2
}
