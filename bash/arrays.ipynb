{
 "cells": [
  {
   "cell_type": "markdown",
   "metadata": {},
   "source": [
    "IFS \n",
    "https://en.wikipedia.org/wiki/Input_Field_Separators\n",
    "\n",
    "https://datacadamia.com/lang/bash/read : IFS non rétabli car bloc en fait exécuté dans un subshell ?\n",
    "Influence de l'IFS sur le comportement de * et @ pour l'indexation d'arrays / $* et $@ pour les arguments passés à un script. Lien avec read -r ? Command break \\ caracter et IFS."
   ]
  },
  {
   "cell_type": "markdown",
   "metadata": {},
   "source": [
    "https://datacadamia.com/lang/bash/parameter_expansion#array_indices"
   ]
  },
  {
   "cell_type": "code",
   "execution_count": 6,
   "metadata": {
    "scrolled": true
   },
   "outputs": [
    {
     "name": "stdout",
     "output_type": "stream",
     "text": [
      "IFS=$' \\t\\n'\n",
      "IFS=$' \\t\\n'\n",
      "0 - element1\n",
      "1 - element2\n",
      "2 - element3\n"
     ]
    }
   ],
   "source": [
    "set | grep ^IFS=\n",
    "\n",
    "## declare an array variable\n",
    "IFS=',' read -r -a array <<< \"element1,element2,element3\"\n",
    " \n",
    "set | grep ^IFS=\n",
    "\n",
    "## Loop\n",
    "for i in \"${!array[@]}\"\n",
    "do\n",
    "  printf \"$i - ${array[$i]}\\n\"\n",
    "done"
   ]
  },
  {
   "cell_type": "code",
   "execution_count": 6,
   "metadata": {},
   "outputs": [
    {
     "name": "stdout",
     "output_type": "stream",
     "text": [
      "[1] 4605\n",
      "[2] 4606\n"
     ]
    },
    {
     "ename": "",
     "evalue": "1",
     "output_type": "error",
     "traceback": []
    }
   ],
   "source": [
    "ls > /dev/null & sleep 1s &"
   ]
  }
 ],
 "metadata": {
  "kernelspec": {
   "display_name": "Bash",
   "language": "bash",
   "name": "bash"
  },
  "language_info": {
   "codemirror_mode": "shell",
   "file_extension": ".sh",
   "mimetype": "text/x-sh",
   "name": "bash"
  }
 },
 "nbformat": 4,
 "nbformat_minor": 2
}
