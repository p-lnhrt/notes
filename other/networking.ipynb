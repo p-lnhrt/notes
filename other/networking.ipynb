{
 "cells": [
  {
   "cell_type": "markdown",
   "metadata": {},
   "source": [
    "IP publique vs privée\n",
    "Network interface\n",
    "(forward) proxy / reverse proxy\n",
    "gateway (passerelle)\n",
    "Routeur, hub, switch, firewall\n",
    "DHCP, URI, URL\n",
    "Qu'est ce qui est harware, software, un service/serveur, etc.\n",
    "\n",
    "https://www.digitalocean.com/community/tutorials/an-introduction-to-networking-terminology-interfaces-and-protocols\n",
    "https://www.globalknowledge.com/us-en/topics/networking-wireless/glossary-of-terms/\n",
    "https://realpython.com/python-ipaddress-module/\n",
    "https://realpython.com/python-https/\n",
    "https://hackernoon.com/the-ssh-black-magic-for-data-science-acd6f65e8528\n",
    "NAT, DNS"
   ]
  }
 ],
 "metadata": {
  "kernelspec": {
   "display_name": "Conda Python 3.6.12",
   "language": "python",
   "name": "py36"
  },
  "language_info": {
   "codemirror_mode": {
    "name": "ipython",
    "version": 3
   },
   "file_extension": ".py",
   "mimetype": "text/x-python",
   "name": "python",
   "nbconvert_exporter": "python",
   "pygments_lexer": "ipython3",
   "version": "3.6.12"
  }
 },
 "nbformat": 4,
 "nbformat_minor": 2
}
