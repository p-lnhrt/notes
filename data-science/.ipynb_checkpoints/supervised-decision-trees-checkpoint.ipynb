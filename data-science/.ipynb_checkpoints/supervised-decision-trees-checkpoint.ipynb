{
 "cells": [
  {
   "cell_type": "markdown",
   "metadata": {},
   "source": [
    "# Arbres de décision\n",
    "\n",
    "## Comment construit-on un arbre de décision ?\n",
    "Le principal algorithme utilisé pour l’apprentissage d’arbres et l’algorithme CART (*Classification And Regression Tree*). Cet algorithme permet d’apprendre aussi bien des arbres de classification que des arbres de régression. \n",
    "1. Pour chaque nœud de l’arbre et si le critère d’arrêt n’y est pas rempli, on cherche la variable et le seuil permettant de séparer le plus efficacement possible la population du nœud courant (gain d’information maximal), le critère d’information étant différent en régression (MSE, MAE) et en classification (Gini, entropie). La *feature* (on utilise le plus souvent qu’une *feature*) utilisée pour le split est celle apportant la plus grande amélioration du critère de split.\n",
    "2. On répète 1. sur les deux nœuds-fils obtenus.\n",
    "\n",
    "Remarque: Le gain sur le critère de split est mesuré par:\n",
    "$$gain=criterion_{current node} - (\\frac{N_{left\\:child}}{N_{current node}}criterion_{left\\:child}+\\frac{N_{right\\:child}}{N_{current node}}criterion_{right\\:child})$$\n",
    "\n",
    "L'ensemble pouvant être remultiplié (comme dans `sklearn`) par $\\frac{N_{current\\:node}}{N_{total}}$ afin de pouvoir être sommé sur différents noeuds pour calculer une *feature importance* par exemple.\n",
    "\n",
    "Lorsqu’une observation est classée dans une feuille donnée :\n",
    "* En régression, la valeur retournée correspondra à la moyenne des valeurs de $y$ pour les observations du *training set* ayant été groupés dans cette feuille à l’entrainement (on montre que c’est pour la moyenne que l’erreur est minimisée au sein de chaque feuille). On remarque qu’autoriser des feuilles à très peu de membre à l’entrainement peut contribuer à une variance élevée en prédiction. Corolaire : imposer une taille minimale de feuille à l’entrainement a un *smoothing effect*.\n",
    "* En classification, le label retourné sera celui le plus représenté parmi ceux des observations du *training set* ayant été groupés dans cette feuille à l’entrainement.\n",
    "\n",
    "## Quels algorithmes de construction d’arbre connaissez-vous ? \n",
    "L’algorithme CART est le plus utilisé et est notamment implémenté dans `sklearn`. Un autre algorithme connu est le C4.5/C5.\n",
    "\n",
    "## Quels sont les principaux inconvénients des arbres de décision ? Que peut-on faire pour palier à ces inconvénients ?\n",
    "Le premier inconvénient des arbres est qu’ils sont assez prompts à *overfitter* les données. Le risque est d’autant plus grand lorsque notre nombre d’observations n’est pas beaucoup plus élevé que le nombre de *features*. Plusieurs méthodes sont disponibles pour contrôler l’apprentissage d’un arbre :\n",
    "* On peut jouer sur le critère d’arrêt. On peut ainsi subordonner le *split* d’un nœud à un ou plusieurs critères : \n",
    "     * Nombre minimal d’observations pour *splitter* le nœud, \n",
    "     * Nombre minimal d’observations pour constituer une feuille terminale, \n",
    "     * Profondeur maximale, \n",
    "     * Nombre maximal de feuilles terminales,\n",
    "     * Amélioration minimale du critère de *split* (A utiliser avec prudence, l'algorithme étant *greedy*, il est de ce fait myope : un *split* relativement médiocre avec une faible amélioration du critère peut être suivi de *splits* très intéressants).\n",
    "* On peut laisser l’arbre croitre au maximum et l’élaguer (*prune*) à postériori. A l’élagage de l’arbre correspond un algorithme dédié. L’élagage va consister à trouver l’arbre réalisant le meilleur compromis entre minimisation d’un critère d’information (MSE, etc.) et complexité de l’arbre (ex : son nombre total de feuilles terminales). Voir *cost-complexity pruning*. Le *pruning* (*minimal cost-complexity pruning*) n’est supporté par `scikit-learn` que depuis sa version 0.22.\n",
    "\n",
    "Dans les deux cas, le choix du ou des meilleurs paramètres de régularisation et de l’arbre associé se fait par *cross-validation* (dans le second cas, il s’agit du paramètre donnant une plus ou moins grande importance à la complexité du modèle). \n",
    "\n",
    "Dans le cas d’un problème de haute dimension, on peut faire précéder l’entrainement d’une étape de réduction de dimension (PCA, *feature sélection*, etc.).\n",
    "\n",
    "Un second inconvénient est que de par (le caractère hiérarchique de) l’algorithme les construisant, les arbres sont très sensibles aux variations des données (une erreur, un changement au niveau d’un nœud se propage à tous les nœuds suivants) et donc instables : de petites différences dans le *training set* peuvent conduire à un ensemble de *splits* / à des arbres très différents. Ce problème peut être atténué par l’utilisation de multiples arbres dans une méthode d’ensemble (le *bagging* moyenne différents arbres et atténue cette source de variance). Cette proprité est même exploité par le *bagging* pour décorréler les différents modèles.\n",
    "\n",
    "Un troisième inconvénient des arbres utilisés seuls est qu’ils sont limités dans la complexité qu’ils peuvent apprendre: ne *splitter* que sur une seule variable à la fois implique qu'on ne fractionne l'espace des *features* que parallèlement aux axes. Certaines fonctions ou concepts leurs sont très difficiles à apprendre. Pour certaines fonctions ils apparaissent largement sous-optimaux (ex : frontière de décision à 45°). Là encore, leur utilisation dans des méthodes d’ensemble mène à de bien meilleurs résultats.\n",
    "\n",
    "Un quatrième inconvénient est qu’en présence d’une classe majoritaire dans le dataset, les arbres de classification sont biaisés en faveur de la classe majoritaire. C’est un problème plus large qui n’affecte pas que les arbres de décision. Dans leur cas cela provient du fait que les critères de Gini / d’entropie sont maximums si un nœud présente une distribution équilibrée. Plusieurs solutions s'offrent à nous:\n",
    "* Pondérer les observations suivant leur classe pour se ramener au cas équilibré.\n",
    "* Rééquilibrer le dataset par *up-* ou *downsampling* de la classe minoritaire ou majoritaire respectivement avant de lancer l’apprentissage.\n",
    "* Adapter ses métriques de performance (*balanced accuracy*, etc.)\n",
    "\n",
    "On peut ajouter que les surfaces de prédiction (régression) / les frontières de décision (classification) sont très irrégulières (*lack of smoothness*), ce qui peut être un problème notamment en régression où on cherche le plus souvent à approcher des fonctions relativement régulières. \n",
    "\n",
    "## Quels sont les principaux avantages des arbres de décision ?\n",
    "Le principal avantage des arbres de décision est qu’ils sont particulièrement transparents, la prédiction est facile à comprendre. C’est le modèle offrant la plus grande explicabilité au métier (d’autant qu’ils peuvent s’interpréter comme un exemple de règle métiers) bien qu’un arbre profond puisse devenir plus difficile à interpréter. On peut nuancer davantage : en cas de multicolinéarité, commenter le choix de features fait à la construction de l’arbre (par exemple pour en dériver des règles métier) est plus délicat puisque pour deux features colinéaires, chacune peut arbitrairement être choisie par l’arbre pour l’information qu’elle apporte. L’application d’une PCA avant entrainement peut répondre à ce problème, toutefois les nouvelles features obtenues souffrent souvent d’être difficilement interprétables.\n",
    "\n",
    "Le second avantage des arbres de décision est qu’ils demandent peu de préprocessing des données d’entrée. En particulier, ils n’exigent pas que les données soient normalisées. \n",
    "\n",
    "Un troisième avantage des arbres de décision est qu’ils supportent les données mixtes. Le *split* se base sur une mesure d’impureté dans les branches qu’il crée et non sur les valeurs de la variable. Le *split* sur une variable catégorielle prendrait la forme de l’appartenance à certaines classes. Le split sur une variable continue prendrait la forme d’un seuil. Tout du moins en théorie : l’implémentation des arbres de décision de `sklearn` ne supporte que les données continues obligeant à encoder nos variables catégorielles.\n",
    "\n",
    "On peut ajouter qu’ils sont également relativement peu sensibles aux outliers. \n",
    "\n",
    "## Quelle est la complexité de la construction d’un arbre ? \n",
    "Soit $n$ le nombre d’observations du *training set* et $p$ le nombre de *features*, le coût de la construction d’un arbre se situe entre $O(p.n.log(n))$ et $O(p².n.log(n))$. \n",
    "\n",
    "Voir par exemple [ce lien](https://scikit-learn.org/stable/modules/tree.html#complexity).\n",
    "\n",
    "## Quels critères de split connaissez-vous ? Pouvez-vous expliquer brièvement chacun d’entre eux ?\n",
    "En régression, les critères de split les plus communément utilisés sont la MSE et la MAE.\n",
    "\n",
    "En classification, les critères de Gini et de (cross-)entropie sont les plus utilisés. \n",
    "\n",
    "Soit $p_k$ la proportion d'observations appartenant à la classe $k$ pour le noeud considéré:\n",
    "* Critère de Gini: $\\sum_{k \\neq k'}p_{k}p_{k'} = \\sum_{k}p_{k}(1-p_{k}) = 1 - \\sum_{k}p_{k}^2$\n",
    "* Cross-entropie: $-\\sum_{k}p_{k}log(p_{k})$\n",
    "\n",
    "On peut montrer que pour $N_c$ le nombre de classes dans le dataset, ces deux critères (j'en suis sûr pour Gini mais n'a pas fait les calculs pour la cross-entropie) sont maximums lorsque les proportions du noeud considéré sont toutes de $1/N_c$. Ces critères font ainsi implicitement l'hypothèse d'un *dataset* équilibré et favorisent tout *split* résultant dont la distribution des différentes classes s'éloigne de cette distribution équilibrée.\n",
    "\n",
    "Remarques: \n",
    "* On peut donner une interprétation du critère de Gini. Imaginons que plutôt d'assigner une observation à la classe majoritaire d'un noeud particulier, on l'assigne à la classe $k$ avec une probabilité $p_k$ (la proportion de membre de la classe $k$ pour ce noeud). Le critère de Gini correspond alors à la *training error* d'une classification suivant cette règle d'association.\n",
    "* On pourrait aussi utiliser le *missclassification rate* qui correspond à la proportion des observations non assignées à la classe majoritaire du noeud courant. Celui-ci a notamment deux désavantages comparées aux deux autres critères: \n",
    "    * Il n'est pas différentiable (problèmes de calcul numérique).\n",
    "    * Il ne favorise pas la pureté: (400, 400) divisé en (100, 300) et (300, 100) d'une part et (200, 400) et (200, 0) ont le même *missclassification rate*.\n",
    "* Le choix du critère de *split* peut être vu comme un hyperparamère du modèle, celui-ci étant toutefois rarement déterminant. \n",
    "\n",
    "### *Datasets* déséquilibrés et pondération des critères de *split*\n",
    "On a vu ci-dessus que les critères de *split* font implicitement l'hypothèse de données équilibrée ce qui appliqué à un *dataset* où ce n'est pas le cas peut finir par biaiser l'apprentissage. \n",
    "\n",
    "Une solution pourrait être de pénaliser différemment une erreur de classification suivant la classe de l'observation à classifier. Le critère de Gini (qui s'interprète d'ailleurs comme une *training error*) prendrait alors la forme $\\sum_{k \\neq k'}L_{kk'}p_{k}p_{k'}$ avec $L_{ii}=0$ et $L_{ij}$ la pénalité associée à l'assignation erronée à la classe $j$ d'une observation de la classe $i$.\n",
    "\n",
    "Dans `sklearn` l'argument dédié à la gestion de *datasets* déséquilibrés est `class_weight`. La logique est de pondérer les observations suivant leur appartenance à une classe: toutes les observations d'une même classe sont pondérées avec le même poids. En particulier, dans `class_weight='balanced'`, les poids sont choisis de façon à ce que les effectifs pondérés de chaque classe soient identiques et égaux à $n/N_c$ avec $N_c$ le nombre de classes et `n` le nombre total d'observations. L'option `class_weight='balanced'` recherche des effectifs pondérés équilibrés. En notant $n_k$ l'effectif de la classe $k$, $w_{i,k}$ le poid de la $i^e$ observation de la classe $k$ et en remarquant que pour tout $i$, $w_{i,k} = w_{k}$ puisque toutes les observations d'une même classe se voient assignées le même poids, on a:\n",
    "\n",
    "$$\\sum_{i=1}^{n_k}w_{i,k} = n_{k}.w_{k} = \\frac{n}{N_c}$$\n",
    "\n",
    "D'où l'expression du poids $w_k$ affecté à chaque observation de la classe $k$:\n",
    "\n",
    "$$w_{k} = \\frac{n}{n_{k}.N_c} = \\frac{p_k}{N_c}$$\n",
    "\n",
    "Avec $p_k=n_{k}/n$ la proportion d'observations de la classe $k$ dans l'effectif global. Cette équation correspond à l'expression `n_samples / (n_classes * np.bincount(y))` disponible dans la documentation.\n",
    "\n",
    "Remarque: L'utilisateur peut aussi librement choisir la pondération qu'il souhaite appliquer à l'aide de l'argument `class_weight` du modèle. \n",
    "\n",
    "Cette méthode a aussi l'avantage de pouvoir ajouter facilement à cette pondération par classe une pondération plus fine s'appliquant à chaque observation individuellement (argument `sample_weight` des méthodes `fit`)."
   ]
  },
  {
   "cell_type": "code",
   "execution_count": 1,
   "metadata": {},
   "outputs": [],
   "source": [
    "import matplotlib.pyplot as plt\n",
    "import numpy as np\n",
    "import pandas as pd\n",
    "import sklearn.tree"
   ]
  },
  {
   "cell_type": "code",
   "execution_count": 2,
   "metadata": {},
   "outputs": [],
   "source": [
    "RANDOM_STATE=42\n",
    "\n",
    "data = pd.DataFrame(data={\n",
    "    'feat1': [1.1, 1.2, 1.1, 1.25, 1.2, 1.9, 2.2, 1.8, 1.9, 1.2],\n",
    "    'feat2': [1.1, 1.3, 0.8, 0.9, 0.9, 0.7, 0.85, 0.9, 1.1, 1.05],\n",
    "    'y': [0, 0, 0, 0, 0, 1, 1, 1, 2, 0]\n",
    "})\n",
    "\n",
    "overall_class_sizes = data.y.value_counts().to_numpy('float')"
   ]
  },
  {
   "cell_type": "code",
   "execution_count": 9,
   "metadata": {},
   "outputs": [],
   "source": [
    "def gini(class_proportions):\n",
    "    criterion = sum(class_proportions*(1-class_proportions))\n",
    "    print('Gini Index: {:.3f}'.format(criterion))\n",
    "    return criterion\n",
    "\n",
    "# We do not include here the possibility to weight each sample individually using a \n",
    "# sample_weight argument\n",
    "def compute_node_impurity(class_sizes, class_weights, criterion):\n",
    "    print('----------------------------')\n",
    "    print('Node sample count: {:.0f}'.format(class_sizes.sum()))\n",
    "    weighted_class_sizes = class_sizes*class_weights\n",
    "    weighted_class_proportions = weighted_class_sizes/ weighted_class_sizes.sum()\n",
    "    print('Node class sizes: {}'.format(class_sizes))\n",
    "    print('Node class weights: {}'.format(class_weights))\n",
    "    print('Node weighted class sizes: {}'.format(weighted_class_sizes))\n",
    "    print('Node weighted class proportions: {}'.format(weighted_class_proportions))\n",
    "    return criterion(weighted_class_proportions)"
   ]
  },
  {
   "cell_type": "code",
   "execution_count": 4,
   "metadata": {},
   "outputs": [
    {
     "name": "stdout",
     "output_type": "stream",
     "text": [
      "Total sample count: 10\n",
      "\n",
      "\n",
      "Class weighting: None\n",
      "----------------------------\n",
      "Node sample count: 10\n",
      "Node class sizes: [6. 3. 1.]\n",
      "Node class weights: [1. 1. 1.]\n",
      "Node weighted class sizes: [6. 3. 1.]\n",
      "Node weighted class proportions: [0.6 0.3 0.1]\n",
      "Gini Index: 0.540\n",
      "----------------------------\n",
      "Node sample count: 4\n",
      "Node class sizes: [0. 3. 1.]\n",
      "Node class weights: [1. 1. 1.]\n",
      "Node weighted class sizes: [0. 3. 1.]\n",
      "Node weighted class proportions: [0.   0.75 0.25]\n",
      "Gini Index: 0.375\n"
     ]
    }
   ],
   "source": [
    "model = sklearn.tree.DecisionTreeClassifier(class_weight=None, random_state=RANDOM_STATE)\n",
    "model.fit(X=data[['feat1', 'feat2']], y=data['y'])\n",
    "\n",
    "print('Total sample count: {:.0f}'.format(overall_class_sizes.sum()))\n",
    "print('\\n')\n",
    "\n",
    "print('Class weighting: None')        \n",
    "class_weights = np.ones(overall_class_sizes.size)\n",
    "\n",
    "node_class_sizes = overall_class_sizes\n",
    "compute_node_impurity(class_sizes=node_class_sizes, criterion=gini, class_weights=class_weights)\n",
    "node_class_sizes = np.array([0.0, 3.0, 1.0])\n",
    "compute_node_impurity(class_sizes=node_class_sizes, criterion=gini, class_weights=class_weights);"
   ]
  },
  {
   "cell_type": "code",
   "execution_count": 5,
   "metadata": {},
   "outputs": [
    {
     "data": {
      "image/png": "[encoded data removed]",
      "text/plain": [
       "<Figure size 432x288 with 1 Axes>"
      ]
     },
     "metadata": {
      "needs_background": "light"
     },
     "output_type": "display_data"
    }
   ],
   "source": [
    "sklearn.tree.plot_tree(model, feature_names=['feat1', 'feat2']);"
   ]
  },
  {
   "cell_type": "code",
   "execution_count": 8,
   "metadata": {},
   "outputs": [
    {
     "name": "stdout",
     "output_type": "stream",
     "text": [
      "Total sample count: 10\n",
      "\n",
      "\n",
      "Class weighting: \"Balanced\"\n",
      "----------------------------\n",
      "Node sample count: 10\n",
      "Node class sizes: [6. 3. 1.]\n",
      "Node class weights: [0.55555556 1.11111111 3.33333333]\n",
      "Node weighted class sizes: [3.33333333 3.33333333 3.33333333]\n",
      "Node weighted class proportions: [0.33333333 0.33333333 0.33333333]\n",
      "Gini Index: 0.667\n",
      "----------------------------\n",
      "Node sample count: 4\n",
      "Node class sizes: [0. 3. 1.]\n",
      "Node class weights: [0.55555556 1.11111111 3.33333333]\n",
      "Node weighted class sizes: [0.         3.33333333 3.33333333]\n",
      "Node weighted class proportions: [0.  0.5 0.5]\n",
      "Gini Index: 0.500\n"
     ]
    }
   ],
   "source": [
    "model = sklearn.tree.DecisionTreeClassifier(class_weight='balanced')\n",
    "model.fit(X=data[['feat1', 'feat2']], y=data['y'])\n",
    "\n",
    "print('Total sample count: {:.0f}'.format(overall_class_sizes.sum()))\n",
    "print('\\n')\n",
    "\n",
    "print('Class weighting: \"Balanced\"')\n",
    "overall_class_count = overall_class_sizes.size\n",
    "overall_class_proportions = overall_class_sizes/overall_class_sizes.sum()\n",
    "# Corresponds to n_samples / (n_classes * np.bincount(y)) in the documentation\n",
    "class_weights = 1/(overall_class_count*overall_class_proportions)\n",
    "\n",
    "node_class_sizes = overall_class_sizes\n",
    "compute_node_impurity(class_sizes=node_class_sizes, criterion=gini, class_weights=class_weights)\n",
    "node_class_sizes = np.array([0.0, 3.0, 1.0])\n",
    "compute_node_impurity(class_sizes=node_class_sizes, criterion=gini, class_weights=class_weights);"
   ]
  },
  {
   "cell_type": "code",
   "execution_count": 10,
   "metadata": {},
   "outputs": [
    {
     "data": {
      "image/png": "[encoded data removed]",
      "text/plain": [
       "<Figure size 432x288 with 1 Axes>"
      ]
     },
     "metadata": {
      "needs_background": "light"
     },
     "output_type": "display_data"
    }
   ],
   "source": [
    "sklearn.tree.plot_tree(model, feature_names=['feat1', 'feat2']);"
   ]
  }
 ],
 "metadata": {
  "kernelspec": {
   "display_name": "Python 3.6.12",
   "language": "python",
   "name": "python3"
  },
  "language_info": {
   "codemirror_mode": {
    "name": "ipython",
    "version": 3
   },
   "file_extension": ".py",
   "mimetype": "text/x-python",
   "name": "python",
   "nbconvert_exporter": "python",
   "pygments_lexer": "ipython3",
   "version": "3.6.12"
  }
 },
 "nbformat": 4,
 "nbformat_minor": 2
}
