{
 "cells": [
  {
   "cell_type": "code",
   "execution_count": null,
   "metadata": {},
   "outputs": [],
   "source": [
    "%matplotlib inline\n",
    "\n",
    "import numpy as np\n",
    "import matplotlib.pyplot as plt\n",
    "import tslearn.generators\n",
    "import tslearn.preprocessing\n",
    "import tslearn.metrics\n",
    "\n",
    "import fastdtw\n",
    "\n",
    "np.random.seed(42)\n",
    "\n",
    "# https://pypi.org/project/dtw-python/"
   ]
  },
  {
   "cell_type": "markdown",
   "metadata": {},
   "source": [
    "* Sensibilité au scaling, au shift, à la présence de trend, voit à la fois les différences de niveau (value) et de différence (behavior) ?\n",
    "* Dès que la mesure de similarité fait intervenir une somme, on perd la notion d'ordre. Ex: DTW, mesure approximant linéairement par morceau et sommant les carrés des coef de chacun des modèles linéaires: on perd l'ordre dans lequel ils sont et des TS très différentes peuvent avoir une même valeur de mesure.\n",
    "* Problème des tailles différentes des TS\n",
    "* DTW+CORRT\n",
    "\n",
    "http://eio.usc.es/pub/mte/descargas/ProyectosFinMaster/Proyecto_769.pdf\n",
    "http://ama.liglab.fr/~douzal/teaching.html\n",
    "http://ama.liglab.fr/~douzal/documents/Basics-TS-Metrics-Oct-2016.pdf\n",
    "https://lig-membres.imag.fr/bisson/cours/M2INFO-AIW-ML/\n",
    "https://books.google.fr/books?id=jej7MnXLA3AC&pg=PA139&lpg=PA139&dq=Douzal+Chouakria+cort&source=bl&ots=5DWydi2wAo&sig=ACfU3U3QVLukRmv99JhsKboXp5I1-akQgA&hl=fr&sa=X&ved=2ahUKEwj9n6Gy8ZbnAhXFAWMBHUGsCPEQ6AEwCnoECAoQAQ#v=onepage&q=Douzal%20Chouakria%20cort&f=false\n",
    "file:///C:/Users/t053351/Downloads/Disertacija.pdf\n",
    "file:///C:/Users/t053351/Downloads/v62i01.pdf\n",
    "\n",
    "Brief correlation\n",
    "https://en.wikipedia.org/wiki/Spearman%27s_rank_correlation_coefficient\n",
    "\n",
    "https://marcocuturi.net/Teaching/KAIST/kaist_2013.pdf\n",
    "https://marcocuturi.net/Teaching/KU/2013/PRA/Lec2.pdf\n",
    "https://cs.nyu.edu/~mohri/aml15/thanos_rodrigo_fast_global_alignment.pdf"
   ]
  },
  {
   "cell_type": "code",
   "execution_count": null,
   "metadata": {},
   "outputs": [],
   "source": [
    "dataset = tslearn.generators.random_walks(n_ts=2, sz=30, d=1, random_state=40)\n",
    "scaler = tslearn.preprocessing.TimeSeriesScalerMeanVariance(mu=0.0, std=1.0)\n",
    "dataset_scaled = scaler.fit_transform(dataset)\n",
    "\n",
    "path, sim = tslearn.metrics.dtw_path(dataset_scaled[0], dataset_scaled[1], global_constraint='sakoe_chiba', sakoe_chiba_radius=3)"
   ]
  },
  {
   "cell_type": "markdown",
   "metadata": {},
   "source": [
    "Scaling nécéssaire car sinon biaise le DTW ? Obligatoire si les différences d'échelles ne rentrent pas dans le critère de différence de forme."
   ]
  },
  {
   "cell_type": "code",
   "execution_count": null,
   "metadata": {},
   "outputs": [],
   "source": [
    "plt.close('all')\n",
    "plt.plot(dataset[0], color='r')\n",
    "plt.plot(dataset[1], color='b')\n",
    "\n",
    "plt.title('Unscaled time series');"
   ]
  },
  {
   "cell_type": "code",
   "execution_count": null,
   "metadata": {},
   "outputs": [],
   "source": [
    "plt.close('all')\n",
    "plt.plot(dataset_scaled[0], color='r')\n",
    "plt.plot(dataset_scaled[1], color='b')\n",
    "plt.title('Scaled time series');"
   ]
  },
  {
   "cell_type": "code",
   "execution_count": null,
   "metadata": {},
   "outputs": [],
   "source": [
    "plt.close('all')\n",
    "plt.plot(dataset_scaled[0], color='r')\n",
    "plt.plot(dataset_scaled[1], color='b')\n",
    "\n",
    "for i in range(len(dataset[0])):\n",
    "    plt.plot((i, i), (dataset_scaled[0][i], dataset_scaled[1][i]), color='k', linewidth=0.5, linestyle='--')\n",
    "\n",
    "plt.title('Scaled time series - Euclidian distance');"
   ]
  },
  {
   "cell_type": "code",
   "execution_count": null,
   "metadata": {},
   "outputs": [],
   "source": [
    "plt.close('all')\n",
    "plt.plot(dataset_scaled[0], color='r')\n",
    "plt.plot(dataset_scaled[1], color='b')\n",
    "\n",
    "for s1_index, s2_index in path:\n",
    "    plt.plot((s1_index, s2_index), (dataset_scaled[0][s1_index], dataset_scaled[1][s2_index]), color='k', linewidth=0.5, linestyle='--')\n",
    "\n",
    "plt.title('Scaled time series - DTW mapping');"
   ]
  },
  {
   "cell_type": "code",
   "execution_count": null,
   "metadata": {},
   "outputs": [],
   "source": [
    "plt.close('all')\n",
    "\n",
    "warped_serie_1 = [dataset_scaled[0][i] for i, _ in path]\n",
    "warped_serie_2 = [dataset_scaled[1][j] for _, j in path]\n",
    "\n",
    "plt.plot(warped_serie_1, color='r')\n",
    "plt.plot(warped_serie_2, color='b')\n",
    "\n",
    "plt.title('Warped (scaled) time series');"
   ]
  },
  {
   "cell_type": "markdown",
   "metadata": {},
   "source": [
    "DTW is the euclidian distance between the two time series warped using the optimal warping path."
   ]
  },
  {
   "cell_type": "code",
   "execution_count": null,
   "metadata": {},
   "outputs": [],
   "source": [
    "plt.close('all')\n",
    "\n",
    "plt.plot(warped_serie_1, color='r')\n",
    "plt.plot(warped_serie_2, color='b')\n",
    "\n",
    "for i in range(len(warped_serie_1)):\n",
    "    plt.plot((i, i), (warped_serie_1[i], warped_serie_2[i]), color='k', linewidth=0.5, linestyle='--')\n",
    "\n",
    "plt.title('Warped (scaled) time series - Euclidian distance');"
   ]
  },
  {
   "cell_type": "code",
   "execution_count": null,
   "metadata": {},
   "outputs": [],
   "source": [
    "sim"
   ]
  },
  {
   "cell_type": "code",
   "execution_count": null,
   "metadata": {},
   "outputs": [],
   "source": [
    "np.sqrt(np.sum([(dataset_scaled[0][s1_index]-dataset_scaled[1][s2_index])**2 for s1_index, s2_index in path]))"
   ]
  },
  {
   "cell_type": "code",
   "execution_count": null,
   "metadata": {},
   "outputs": [],
   "source": [
    "serie_1 = [1,1,1,1,2,3,2,1,1]\n",
    "serie_2 = [0,0,1,2,1,0,1,0,0]"
   ]
  },
  {
   "cell_type": "code",
   "execution_count": null,
   "metadata": {},
   "outputs": [],
   "source": [
    "plt.close('all')\n",
    "plt.plot(serie_1, color='r')\n",
    "plt.plot(serie_2, color='b')\n",
    "plt.title('Unscaled time series');"
   ]
  },
  {
   "cell_type": "code",
   "execution_count": null,
   "metadata": {},
   "outputs": [],
   "source": [
    "serie_1 = (serie_1 - np.mean(serie_1))/np.std(serie_1)\n",
    "serie_2 = (serie_2 - np.mean(serie_2))/np.std(serie_2)\n",
    "\n",
    "path, sim = tslearn.metrics.dtw_path(serie_1, serie_2)"
   ]
  },
  {
   "cell_type": "code",
   "execution_count": null,
   "metadata": {},
   "outputs": [],
   "source": [
    "plt.close('all')\n",
    "plt.plot(serie_1, color='r')\n",
    "plt.plot(serie_2, color='b')\n",
    "plt.title('Scaled time series');"
   ]
  },
  {
   "cell_type": "code",
   "execution_count": null,
   "metadata": {},
   "outputs": [],
   "source": [
    "aligned_serie1 = [serie_1[i] for i, _ in path]\n",
    "aligned_serie2 = [serie_2[j] for _, j in path]"
   ]
  },
  {
   "cell_type": "code",
   "execution_count": null,
   "metadata": {},
   "outputs": [],
   "source": [
    "plt.close('all')\n",
    "plt.plot(aligned_serie1, color='r')\n",
    "plt.plot(aligned_serie2, color='b');"
   ]
  },
  {
   "cell_type": "code",
   "execution_count": null,
   "metadata": {},
   "outputs": [],
   "source": [
    "corrt(serie_1, serie_2)"
   ]
  },
  {
   "cell_type": "code",
   "execution_count": null,
   "metadata": {},
   "outputs": [],
   "source": [
    "corrt(aligned_serie1, aligned_serie2)"
   ]
  },
  {
   "cell_type": "code",
   "execution_count": null,
   "metadata": {},
   "outputs": [],
   "source": [
    "plt.close('all')\n",
    "plt.plot(serie_1, color='r')\n",
    "plt.plot(serie_2, color='b')\n",
    "\n",
    "for s1_index, s2_index in path:\n",
    "    plt.plot((s1_index, s2_index), (serie_1[s1_index], serie_2[s2_index]), color='k', linewidth=0.5, linestyle='--')\n",
    "\n",
    "plt.title('Scaled time series with DTW mapping');"
   ]
  },
  {
   "cell_type": "code",
   "execution_count": null,
   "metadata": {},
   "outputs": [],
   "source": [
    "def corrt(x, y):\n",
    "    diff_x = np.diff(x, n=1)\n",
    "    diff_y = np.diff(y, n=1)\n",
    "    return np.sum(diff_x * diff_y)/(np.sqrt(np.sum(diff_x ** 2))*np.sqrt(np.sum(diff_y ** 2)))"
   ]
  },
  {
   "cell_type": "code",
   "execution_count": null,
   "metadata": {},
   "outputs": [],
   "source": [
    "corrt(arr_a, arr_b)"
   ]
  }
 ],
 "metadata": {
  "kernelspec": {
   "display_name": "Python [conda env:conda]",
   "language": "python",
   "name": "conda-env-conda-py"
  },
  "language_info": {
   "codemirror_mode": {
    "name": "ipython",
    "version": 3
   },
   "file_extension": ".py",
   "mimetype": "text/x-python",
   "name": "python",
   "nbconvert_exporter": "python",
   "pygments_lexer": "ipython3",
   "version": "3.5.6"
  }
 },
 "nbformat": 4,
 "nbformat_minor": 4
}
